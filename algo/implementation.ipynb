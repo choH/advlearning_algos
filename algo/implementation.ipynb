{
 "cells": [
  {
   "cell_type": "code",
   "execution_count": 1,
   "metadata": {},
   "outputs": [
    {
     "name": "stdout",
     "output_type": "stream",
     "text": [
      "importing Jupyter notebook from backdoor_attack_class.ipynb\n",
      "importing Jupyter notebook from backdoor_attack_setup.ipynb\n",
      "WARNING:tensorflow:From C:\\Users\\alex\\anaconda3\\lib\\site-packages\\tensorflow\\python\\compat\\v2_compat.py:96: disable_resource_variables (from tensorflow.python.ops.variable_scope) is deprecated and will be removed in a future version.\n",
      "Instructions for updating:\n",
      "non-resource variables are not supported in the long term\n"
     ]
    }
   ],
   "source": [
    "from __future__ import absolute_import, division, print_function, unicode_literals\n",
    "\n",
    "import os, sys\n",
    "from os.path import abspath\n",
    "\n",
    "module_path = os.path.abspath(os.path.join('..'))\n",
    "if module_path not in sys.path:\n",
    "    sys.path.append(module_path)\n",
    "\n",
    "import warnings\n",
    "warnings.filterwarnings('ignore')\n",
    "import tensorflow.keras.backend as k\n",
    "from tensorflow.keras.models import Sequential\n",
    "from tensorflow.keras.layers import Dense, Flatten, Conv2D, MaxPooling2D, Activation, Dropout\n",
    "import numpy as np\n",
    "import matplotlib.pyplot as plt\n",
    "%matplotlib inline\n",
    "from mpl_toolkits import mplot3d\n",
    "\n",
    "from art.estimators.classification import KerasClassifier\n",
    "from art.attacks.poisoning.perturbations import add_pattern_bd, add_single_bd, insert_image\n",
    "from art.utils import load_mnist, preprocess, to_categorical\n",
    "from art.defences.trainer import AdversarialTrainerMadryPGD\n",
    "\n",
    "import import_ipynb\n",
    "from backdoor_attack_class import BackdoorAttack, PoisoningAttackCleanLabelBackdoor\n",
    "\n",
    "import tensorflow.compat.v1 as tf\n",
    "tf.disable_v2_behavior()"
   ]
  },
  {
   "cell_type": "code",
   "execution_count": 2,
   "metadata": {},
   "outputs": [],
   "source": [
    "(x_raw, y_raw), (x_raw_test, y_raw_test), min_, max_ = load_mnist(raw=True)\n",
    "\n",
    "# Random Selection:\n",
    "n_train = np.shape(x_raw)[0]\n",
    "num_selection = 7500\n",
    "random_selection_indices = np.random.choice(n_train, num_selection)\n",
    "x_raw = x_raw[random_selection_indices]\n",
    "y_raw = y_raw[random_selection_indices]\n",
    "\n",
    "BACKDOOR_TYPE = \"pattern\" # one of ['pattern', 'pixel', 'image']"
   ]
  },
  {
   "cell_type": "code",
   "execution_count": 3,
   "metadata": {},
   "outputs": [],
   "source": [
    "max_val = np.max(x_raw)\n",
    "def add_modification(x):\n",
    "        if BACKDOOR_TYPE == 'pattern':\n",
    "            return add_pattern_bd(x, pixel_value=max_val)\n",
    "        elif BACKDOOR_TYPE == 'pixel':\n",
    "            return add_single_bd(x, pixel_value=max_val) \n",
    "        elif BACKDOOR_TYPE == 'image':\n",
    "            return insert_image(x, backdoor_path='../utils/data/backdoors/alert.png', size=(10,10))\n",
    "        else:\n",
    "            raise(\"Unknown backdoor type\")"
   ]
  },
  {
   "cell_type": "code",
   "execution_count": 4,
   "metadata": {},
   "outputs": [],
   "source": [
    "def attack_dataset(dataset_clean, labels_clean, percent_poison, poison_func):\n",
    "    dataset_attacked = np.copy(dataset_clean)\n",
    "    labels_attacked = np.copy(labels_clean)\n",
    "    is_poison = np.zeros(np.shape(labels_attacked))\n",
    "    \n",
    "    sources = np.array([0])\n",
    "    targets = np.array([1])\n",
    "    for i, (src, tgt) in enumerate(zip(sources, targets)):\n",
    "        n_points_in_tgt = np.size(np.where(labels_clean == tgt))\n",
    "        num_poison = round((percent_poison * n_points_in_tgt) / (1 - percent_poison))\n",
    "        src_imgs = dataset_clean[labels_clean == src]\n",
    "\n",
    "        n_points_in_src = np.shape(src_imgs)[0]\n",
    "        indices_to_be_poisoned = np.random.choice(n_points_in_src, num_poison)\n",
    "\n",
    "        imgs_to_be_poisoned = np.copy(src_imgs[indices_to_be_poisoned])\n",
    "        backdoor_attack = BackdoorAttack(poison_func)\n",
    "        imgs_to_be_poisoned, poison_labels = backdoor_attack.poison(imgs_to_be_poisoned, attack_target_labels=np.ones(num_poison) * tgt)\n",
    "        dataset_attacked = np.append(dataset_attacked, imgs_to_be_poisoned, axis=0)\n",
    "        labels_attacked = np.append(labels_attacked, poison_labels, axis=0)\n",
    "        is_poison = np.append(is_poison, np.ones(num_poison))\n",
    "\n",
    "    is_poison = is_poison != 0\n",
    "\n",
    "    return is_poison, dataset_attacked, labels_attacked"
   ]
  },
  {
   "cell_type": "code",
   "execution_count": 5,
   "metadata": {},
   "outputs": [],
   "source": [
    "# Poison training data\n",
    "percent_poison = .33\n",
    "(is_poison_train, x_poisoned_raw, y_poisoned_raw) = attack_dataset(x_raw, y_raw, percent_poison, add_modification)\n",
    "x_train, y_train = preprocess(x_poisoned_raw, y_poisoned_raw)\n",
    "# Add channel axis:\n",
    "x_train = np.expand_dims(x_train, axis=3)\n",
    "\n",
    "# Poison test data\n",
    "(is_poison_test, x_poisoned_raw_test, y_poisoned_raw_test) = attack_dataset(x_raw_test, y_raw_test, percent_poison, add_modification)\n",
    "x_test, y_test = preprocess(x_poisoned_raw_test, y_poisoned_raw_test)\n",
    "# Add channel axis:\n",
    "x_test = np.expand_dims(x_test, axis=3)\n",
    "\n",
    "# Shuffle training data\n",
    "n_train = np.shape(y_train)[0]\n",
    "shuffled_indices = np.arange(n_train)\n",
    "np.random.shuffle(shuffled_indices)\n",
    "x_train = x_train[shuffled_indices]\n",
    "y_train = y_train[shuffled_indices]"
   ]
  },
  {
   "cell_type": "code",
   "execution_count": 6,
   "metadata": {},
   "outputs": [],
   "source": [
    "# Create Keras convolutional neural network - basic architecture from Keras examples\n",
    "# Source here: https://github.com/keras-team/keras/blob/master/examples/mnist_cnn.py\n",
    "\n",
    "model = Sequential()\n",
    "model.add(Conv2D(32, kernel_size=(3, 3), activation='relu', input_shape=x_train.shape[1:]))\n",
    "model.add(Conv2D(64, (3, 3), activation='relu'))\n",
    "model.add(MaxPooling2D(pool_size=(2, 2)))\n",
    "model.add(Dropout(0.25))\n",
    "model.add(Flatten())\n",
    "model.add(Dense(128, activation='relu'))\n",
    "model.add(Dropout(0.5))\n",
    "model.add(Dense(10, activation='softmax'))\n",
    "\n",
    "model.compile(loss='categorical_crossentropy', optimizer='adam', metrics=['accuracy'])"
   ]
  },
  {
   "cell_type": "code",
   "execution_count": 7,
   "metadata": {},
   "outputs": [
    {
     "name": "stdout",
     "output_type": "stream",
     "text": [
      "WARNING:tensorflow:From C:\\Users\\alex\\anaconda3\\lib\\site-packages\\art\\estimators\\classification\\keras.py:517: Model.fit_generator (from tensorflow.python.keras.engine.training_v1) is deprecated and will be removed in a future version.\n",
      "Instructions for updating:\n",
      "Please use Model.fit, which supports generators.\n",
      "Epoch 1/3\n",
      "61/61 [==============================] - 10s 169ms/step - batch: 30.0000 - size: 128.0000 - loss: 0.7994 - acc: 0.7418\n",
      "Epoch 2/3\n",
      "61/61 [==============================] - 10s 160ms/step - batch: 30.0000 - size: 128.0000 - loss: 0.2466 - acc: 0.9279\n",
      "Epoch 3/3\n",
      "61/61 [==============================] - 11s 172ms/step - batch: 30.0000 - size: 128.0000 - loss: 0.1661 - acc: 0.95031s - batch: 26.0000 - size: 128.0000 - loss: 0.1682 - ac\n"
     ]
    }
   ],
   "source": [
    "classifier = KerasClassifier(model=model, clip_values=(min_, max_))\n",
    "classifier.fit(x_train, y_train, nb_epochs=3, batch_size=128)"
   ]
  },
  {
   "cell_type": "code",
   "execution_count": 8,
   "metadata": {},
   "outputs": [
    {
     "name": "stdout",
     "output_type": "stream",
     "text": [
      "WARNING:tensorflow:From C:\\Users\\alex\\anaconda3\\lib\\site-packages\\tensorflow\\python\\keras\\engine\\training_v1.py:2070: Model.state_updates (from tensorflow.python.keras.engine.training) is deprecated and will be removed in a future version.\n",
      "Instructions for updating:\n",
      "This property should not be used in TensorFlow 2.0, as updates are applied automatically.\n",
      "\n",
      "Clean test set accuracy: 96.58%\n"
     ]
    },
    {
     "data": {
      "image/png": "[encoded data removed]",
      "text/plain": [
       "<Figure size 432x288 with 1 Axes>"
      ]
     },
     "metadata": {
      "needs_background": "light"
     },
     "output_type": "display_data"
    },
    {
     "name": "stdout",
     "output_type": "stream",
     "text": [
      "Prediction: 0\n"
     ]
    }
   ],
   "source": [
    "clean_x_test = x_test[is_poison_test == 0]\n",
    "clean_y_test = y_test[is_poison_test == 0]\n",
    "\n",
    "clean_preds = np.argmax(classifier.predict(clean_x_test), axis=1)\n",
    "clean_correct = np.sum(clean_preds == np.argmax(clean_y_test, axis=1))\n",
    "clean_total = clean_y_test.shape[0]\n",
    "\n",
    "clean_acc = clean_correct / clean_total\n",
    "print(\"\\nClean test set accuracy: %.2f%%\" % (clean_acc * 100))\n",
    "\n",
    "# Display image, label, and prediction for a clean sample to show how the poisoned model classifies a clean sample\n",
    "\n",
    "c = 0 # class to display\n",
    "i = 0 # image of the class to display\n",
    "\n",
    "c_idx = np.where(np.argmax(clean_y_test,1) == c)[0][i] # index of the image in clean arrays\n",
    "\n",
    "plt.imshow(clean_x_test[c_idx].squeeze())\n",
    "plt.show()\n",
    "clean_label = c\n",
    "print(\"Prediction: \" + str(clean_preds[c_idx]))"
   ]
  },
  {
   "cell_type": "code",
   "execution_count": 9,
   "metadata": {},
   "outputs": [
    {
     "data": {
      "image/png": "[encoded data removed]",
      "text/plain": [
       "<Figure size 432x288 with 1 Axes>"
      ]
     },
     "metadata": {
      "needs_background": "light"
     },
     "output_type": "display_data"
    },
    {
     "name": "stdout",
     "output_type": "stream",
     "text": [
      "Prediction: 1\n",
      "\n",
      " Effectiveness of poison: 99.82%\n"
     ]
    }
   ],
   "source": [
    "poison_x_test = x_test[is_poison_test]\n",
    "poison_y_test = y_test[is_poison_test]\n",
    "\n",
    "poison_preds = np.argmax(classifier.predict(poison_x_test), axis=1)\n",
    "poison_correct = np.sum(poison_preds == np.argmax(poison_y_test, axis=1))\n",
    "poison_total = poison_y_test.shape[0]\n",
    "\n",
    "# Display image, label, and prediction for a poisoned image to see the backdoor working\n",
    "\n",
    "c = 1 # class to display\n",
    "i = 0 # image of the class to display\n",
    "\n",
    "c_idx = np.where(np.argmax(poison_y_test,1) == c)[0][i] # index of the image in poison arrays\n",
    "\n",
    "plt.imshow(poison_x_test[c_idx].squeeze())\n",
    "plt.show()\n",
    "poison_label = c\n",
    "print(\"Prediction: \" + str(poison_preds[c_idx]))\n",
    "\n",
    "poison_acc = poison_correct / poison_total\n",
    "print(\"\\n Effectiveness of poison: %.2f%%\" % (poison_acc * 100))"
   ]
  },
  {
   "cell_type": "code",
   "execution_count": 10,
   "metadata": {},
   "outputs": [
    {
     "name": "stdout",
     "output_type": "stream",
     "text": [
      "\n",
      " Overall test set accuracy: 96.75%\n"
     ]
    }
   ],
   "source": [
    "total_correct = clean_correct + poison_correct\n",
    "total = clean_total + poison_total\n",
    "\n",
    "total_acc = total_correct / total\n",
    "print(\"\\n Overall test set accuracy: %.2f%%\" % (total_acc * 100))"
   ]
  },
  {
   "cell_type": "code",
   "execution_count": 11,
   "metadata": {},
   "outputs": [],
   "source": [
    "#Extension\n",
    "\n",
    "x_train, y_train = preprocess(x_raw, y_raw)\n",
    "x_train = np.expand_dims(x_train, axis=3)\n",
    "\n",
    "x_test, y_test = preprocess(x_raw_test, y_raw_test)\n",
    "x_test = np.expand_dims(x_test, axis=3)\n",
    "\n",
    "# Shuffle training data\n",
    "n_train = np.shape(y_train)[0]\n",
    "shuffled_indices = np.arange(n_train)\n",
    "np.random.shuffle(shuffled_indices)\n",
    "x_train = x_train[shuffled_indices]\n",
    "y_train = y_train[shuffled_indices]"
   ]
  },
  {
   "cell_type": "code",
   "execution_count": 12,
   "metadata": {},
   "outputs": [],
   "source": [
    "# Create Keras convolutional neural network - basic architecture from Keras examples\n",
    "# Source here: https://github.com/keras-team/keras/blob/master/examples/mnist_cnn.py\n",
    "def create_model():    \n",
    "    model = Sequential()\n",
    "    model.add(Conv2D(32, kernel_size=(3, 3), activation='relu', input_shape=x_train.shape[1:]))\n",
    "    model.add(Conv2D(64, (3, 3), activation='relu'))\n",
    "    model.add(MaxPooling2D(pool_size=(2, 2)))\n",
    "    model.add(Dropout(0.25))\n",
    "    model.add(Flatten())\n",
    "    model.add(Dense(128, activation='relu'))\n",
    "    model.add(Dropout(0.5))\n",
    "    model.add(Dense(10, activation='softmax'))\n",
    "\n",
    "    model.compile(loss='categorical_crossentropy', optimizer='adam', metrics=['accuracy'])\n",
    "    return model"
   ]
  },
  {
   "cell_type": "code",
   "execution_count": 13,
   "metadata": {},
   "outputs": [
    {
     "data": {
      "text/plain": [
       "<matplotlib.image.AxesImage at 0x1db006bae80>"
      ]
     },
     "execution_count": 13,
     "metadata": {},
     "output_type": "execute_result"
    },
    {
     "data": {
      "image/png": "[encoded data removed]",
      "text/plain": [
       "<Figure size 432x288 with 1 Axes>"
      ]
     },
     "metadata": {
      "needs_background": "light"
     },
     "output_type": "display_data"
    }
   ],
   "source": [
    "backdoor = BackdoorAttack(add_pattern_bd)\n",
    "example_target = np.array([0, 0, 0, 0, 0, 0, 0, 0, 0, 1])\n",
    "pdata, plabels = backdoor.poison(x_test, y=example_target)\n",
    "\n",
    "plt.imshow(pdata[0].squeeze())"
   ]
  },
  {
   "cell_type": "code",
   "execution_count": 14,
   "metadata": {},
   "outputs": [],
   "source": [
    "# Poison some percentage of all non-nines to nines\n",
    "targets = to_categorical([9], 10)[0]"
   ]
  },
  {
   "cell_type": "code",
   "execution_count": 15,
   "metadata": {},
   "outputs": [
    {
     "name": "stderr",
     "output_type": "stream",
     "text": [
      "Precompute adv samples: 100%|████████████████████████████████████████████████████████████████████| 1/1 [00:00<?, ?it/s]\n",
      "Adversarial training epochs: 100%|█████████████████████████████████████████████████████| 10/10 [13:17<00:00, 79.79s/it]\n"
     ]
    }
   ],
   "source": [
    "model = KerasClassifier(create_model())\n",
    "proxy = AdversarialTrainerMadryPGD(KerasClassifier(create_model()), nb_epochs=10, eps=0.15, eps_step=0.001)\n",
    "proxy.fit(x_train, y_train)"
   ]
  },
  {
   "cell_type": "code",
   "execution_count": 16,
   "metadata": {},
   "outputs": [
    {
     "name": "stderr",
     "output_type": "stream",
     "text": [
      "PGD - Random Initializations:   0%|                                                              | 0/1 [00:00<?, ?it/s]\n",
      "PGD - Iterations:   0%|                                                                        | 0/200 [00:00<?, ?it/s]\u001b[A\n",
      "PGD - Iterations:   1%|▋                                                               | 2/200 [00:00<00:11, 17.44it/s]\u001b[A\n",
      "PGD - Iterations:   2%|█▌                                                              | 5/200 [00:00<00:10, 19.38it/s]\u001b[A\n",
      "PGD - Iterations:   4%|██▌                                                             | 8/200 [00:00<00:08, 21.41it/s]\u001b[A\n",
      "PGD - Iterations:   6%|███▍                                                           | 11/200 [00:00<00:08, 22.44it/s]\u001b[A\n",
      "PGD - Iterations:   7%|████▍                                                          | 14/200 [00:00<00:07, 23.28it/s]\u001b[A\n",
      "PGD - Iterations:   8%|█████▎                                                         | 17/200 [00:00<00:07, 23.49it/s]\u001b[A\n",
      "PGD - Iterations:  10%|██████▎                                                        | 20/200 [00:00<00:07, 24.08it/s]\u001b[A\n",
      "PGD - Iterations:  12%|███████▏                                                       | 23/200 [00:00<00:07, 24.18it/s]\u001b[A\n",
      "PGD - Iterations:  13%|████████▏                                                      | 26/200 [00:01<00:07, 24.10it/s]\u001b[A\n",
      "PGD - Iterations:  14%|█████████▏                                                     | 29/200 [00:01<00:07, 24.20it/s]\u001b[A\n",
      "PGD - Iterations:  16%|██████████                                                     | 32/200 [00:01<00:06, 24.33it/s]\u001b[A\n",
      "PGD - Iterations:  18%|███████████                                                    | 35/200 [00:01<00:06, 24.66it/s]\u001b[A\n",
      "PGD - Iterations:  19%|███████████▉                                                   | 38/200 [00:01<00:06, 24.73it/s]\u001b[A\n",
      "PGD - Iterations:  20%|████████████▉                                                  | 41/200 [00:01<00:06, 25.14it/s]\u001b[A\n",
      "PGD - Iterations:  22%|█████████████▊                                                 | 44/200 [00:01<00:06, 25.44it/s]\u001b[A\n",
      "PGD - Iterations:  24%|██████████████▊                                                | 47/200 [00:01<00:06, 24.76it/s]\u001b[A\n",
      "PGD - Iterations:  25%|███████████████▊                                               | 50/200 [00:02<00:06, 24.61it/s]\u001b[A\n",
      "PGD - Iterations:  26%|████████████████▋                                              | 53/200 [00:02<00:05, 24.93it/s]\u001b[A\n",
      "PGD - Iterations:  28%|█████████████████▋                                             | 56/200 [00:02<00:05, 24.97it/s]\u001b[A\n",
      "PGD - Iterations:  30%|██████████████████▌                                            | 59/200 [00:02<00:05, 24.81it/s]\u001b[A\n",
      "PGD - Iterations:  31%|███████████████████▌                                           | 62/200 [00:02<00:05, 24.83it/s]\u001b[A\n",
      "PGD - Iterations:  32%|████████████████████▍                                          | 65/200 [00:02<00:05, 24.65it/s]\u001b[A\n",
      "PGD - Iterations:  34%|█████████████████████▍                                         | 68/200 [00:02<00:05, 24.72it/s]\u001b[A\n",
      "PGD - Iterations:  36%|██████████████████████▎                                        | 71/200 [00:02<00:05, 25.26it/s]\u001b[A\n",
      "PGD - Iterations:  37%|███████████████████████▎                                       | 74/200 [00:02<00:04, 25.52it/s]\u001b[A\n",
      "PGD - Iterations:  38%|████████████████████████▎                                      | 77/200 [00:03<00:04, 25.38it/s]\u001b[A\n",
      "PGD - Iterations:  40%|█████████████████████████▏                                     | 80/200 [00:03<00:04, 25.28it/s]\u001b[A\n",
      "PGD - Iterations:  42%|██████████████████████████▏                                    | 83/200 [00:03<00:04, 25.16it/s]\u001b[A\n",
      "PGD - Iterations:  43%|███████████████████████████                                    | 86/200 [00:03<00:04, 25.45it/s]\u001b[A\n",
      "PGD - Iterations:  44%|████████████████████████████                                   | 89/200 [00:03<00:04, 25.02it/s]\u001b[A\n",
      "PGD - Iterations:  46%|████████████████████████████▉                                  | 92/200 [00:03<00:04, 25.29it/s]\u001b[A\n",
      "PGD - Iterations:  48%|█████████████████████████████▉                                 | 95/200 [00:03<00:04, 25.09it/s]\u001b[A\n",
      "PGD - Iterations:  49%|██████████████████████████████▊                                | 98/200 [00:03<00:04, 25.12it/s]\u001b[A\n",
      "PGD - Iterations:  50%|███████████████████████████████▎                              | 101/200 [00:04<00:03, 25.52it/s]\u001b[A\n",
      "PGD - Iterations:  52%|████████████████████████████████▏                             | 104/200 [00:04<00:03, 24.51it/s]\u001b[A\n",
      "PGD - Iterations:  54%|█████████████████████████████████▏                            | 107/200 [00:04<00:03, 24.74it/s]\u001b[A\n",
      "PGD - Iterations:  55%|██████████████████████████████████                            | 110/200 [00:04<00:03, 24.76it/s]\u001b[A\n",
      "PGD - Iterations:  56%|███████████████████████████████████                           | 113/200 [00:04<00:03, 24.44it/s]\u001b[A\n",
      "PGD - Iterations:  58%|███████████████████████████████████▉                          | 116/200 [00:04<00:03, 23.64it/s]\u001b[A\n",
      "PGD - Iterations:  60%|████████████████████████████████████▉                         | 119/200 [00:04<00:03, 24.16it/s]\u001b[A\n",
      "PGD - Iterations:  61%|█████████████████████████████████████▊                        | 122/200 [00:04<00:03, 24.73it/s]\u001b[A\n",
      "PGD - Iterations:  62%|██████████████████████████████████████▊                       | 125/200 [00:05<00:02, 25.53it/s]\u001b[A\n",
      "PGD - Iterations:  64%|███████████████████████████████████████▋                      | 128/200 [00:05<00:02, 25.39it/s]\u001b[A\n",
      "PGD - Iterations:  66%|████████████████████████████████████████▌                     | 131/200 [00:05<00:02, 25.55it/s]\u001b[A\n",
      "PGD - Iterations:  67%|█████████████████████████████████████████▌                    | 134/200 [00:05<00:02, 25.46it/s]\u001b[A\n",
      "PGD - Iterations:  68%|██████████████████████████████████████████▍                   | 137/200 [00:05<00:02, 24.97it/s]\u001b[A\n",
      "PGD - Iterations:  70%|███████████████████████████████████████████▍                  | 140/200 [00:05<00:02, 25.38it/s]\u001b[A\n",
      "PGD - Iterations:  72%|████████████████████████████████████████████▎                 | 143/200 [00:05<00:02, 25.80it/s]\u001b[A\n",
      "PGD - Iterations:  73%|█████████████████████████████████████████████▎                | 146/200 [00:05<00:02, 24.57it/s]\u001b[A\n",
      "PGD - Iterations:  74%|██████████████████████████████████████████████▏               | 149/200 [00:05<00:02, 25.09it/s]\u001b[A\n",
      "PGD - Iterations:  76%|███████████████████████████████████████████████               | 152/200 [00:06<00:01, 24.90it/s]\u001b[A\n",
      "PGD - Iterations:  78%|████████████████████████████████████████████████              | 155/200 [00:06<00:01, 24.88it/s]\u001b[A\n",
      "PGD - Iterations:  79%|████████████████████████████████████████████████▉             | 158/200 [00:06<00:01, 24.94it/s]\u001b[A\n",
      "PGD - Iterations:  80%|█████████████████████████████████████████████████▉            | 161/200 [00:06<00:01, 24.72it/s]\u001b[A\n",
      "PGD - Iterations:  82%|██████████████████████████████████████████████████▊           | 164/200 [00:06<00:01, 25.73it/s]\u001b[A\n",
      "PGD - Iterations:  84%|███████████████████████████████████████████████████▊          | 167/200 [00:06<00:01, 25.40it/s]\u001b[A\n",
      "PGD - Iterations:  85%|████████████████████████████████████████████████████▋         | 170/200 [00:06<00:01, 24.14it/s]\u001b[A\n",
      "PGD - Iterations:  86%|█████████████████████████████████████████████████████▋        | 173/200 [00:06<00:01, 24.35it/s]\u001b[A\n",
      "PGD - Iterations:  88%|██████████████████████████████████████████████████████▌       | 176/200 [00:07<00:00, 24.03it/s]\u001b[A\n",
      "PGD - Iterations:  90%|███████████████████████████████████████████████████████▍      | 179/200 [00:07<00:00, 24.16it/s]\u001b[A\n",
      "PGD - Iterations:  91%|████████████████████████████████████████████████████████▍     | 182/200 [00:07<00:00, 23.96it/s]\u001b[A\n",
      "PGD - Iterations:  92%|█████████████████████████████████████████████████████████▎    | 185/200 [00:07<00:00, 24.52it/s]\u001b[A\n",
      "PGD - Iterations:  94%|██████████████████████████████████████████████████████████▎   | 188/200 [00:07<00:00, 24.38it/s]\u001b[A\n",
      "PGD - Iterations:  96%|███████████████████████████████████████████████████████████▏  | 191/200 [00:07<00:00, 24.11it/s]\u001b[A\n"
     ]
    },
    {
     "name": "stderr",
     "output_type": "stream",
     "text": [
      "PGD - Iterations:  97%|████████████████████████████████████████████████████████████▏ | 194/200 [00:07<00:00, 24.39it/s]\u001b[A\n",
      "PGD - Iterations:  98%|█████████████████████████████████████████████████████████████ | 197/200 [00:07<00:00, 24.35it/s]\u001b[A\n",
      "PGD - Iterations: 100%|██████████████████████████████████████████████████████████████| 200/200 [00:08<00:00, 25.03it/s]\u001b[A\n",
      "PGD - Random Initializations: 100%|██████████████████████████████████████████████████████| 1/1 [00:08<00:00,  8.06s/it]\u001b[A\n",
      "PGD - Random Initializations:   0%|                                                              | 0/1 [00:00<?, ?it/s]\n",
      "PGD - Iterations:   0%|                                                                        | 0/200 [00:00<?, ?it/s]\u001b[A\n",
      "PGD - Iterations:   2%|▉                                                               | 3/200 [00:00<00:07, 24.69it/s]\u001b[A\n",
      "PGD - Iterations:   3%|█▉                                                              | 6/200 [00:00<00:07, 24.44it/s]\u001b[A\n",
      "PGD - Iterations:   4%|██▉                                                             | 9/200 [00:00<00:07, 24.39it/s]\u001b[A\n",
      "PGD - Iterations:   6%|███▊                                                           | 12/200 [00:00<00:07, 23.71it/s]\u001b[A\n",
      "PGD - Iterations:   8%|████▋                                                          | 15/200 [00:00<00:07, 24.05it/s]\u001b[A\n",
      "PGD - Iterations:   9%|█████▋                                                         | 18/200 [00:00<00:07, 24.05it/s]\u001b[A\n",
      "PGD - Iterations:  10%|██████▌                                                        | 21/200 [00:00<00:07, 24.89it/s]\u001b[A\n",
      "PGD - Iterations:  12%|███████▌                                                       | 24/200 [00:00<00:07, 25.07it/s]\u001b[A\n",
      "PGD - Iterations:  14%|████████▌                                                      | 27/200 [00:01<00:07, 24.52it/s]\u001b[A\n",
      "PGD - Iterations:  15%|█████████▍                                                     | 30/200 [00:01<00:06, 25.05it/s]\u001b[A\n",
      "PGD - Iterations:  16%|██████████▍                                                    | 33/200 [00:01<00:06, 24.36it/s]\u001b[A\n",
      "PGD - Iterations:  18%|███████████▎                                                   | 36/200 [00:01<00:06, 24.77it/s]\u001b[A\n",
      "PGD - Iterations:  20%|████████████▎                                                  | 39/200 [00:01<00:06, 24.97it/s]\u001b[A\n",
      "PGD - Iterations:  21%|█████████████▏                                                 | 42/200 [00:01<00:06, 25.26it/s]\u001b[A\n",
      "PGD - Iterations:  22%|██████████████▏                                                | 45/200 [00:01<00:06, 24.65it/s]\u001b[A\n",
      "PGD - Iterations:  24%|███████████████                                                | 48/200 [00:01<00:06, 24.29it/s]\u001b[A\n",
      "PGD - Iterations:  26%|████████████████                                               | 51/200 [00:02<00:06, 24.28it/s]\u001b[A\n",
      "PGD - Iterations:  27%|█████████████████                                              | 54/200 [00:02<00:05, 24.88it/s]\u001b[A\n",
      "PGD - Iterations:  28%|█████████████████▉                                             | 57/200 [00:02<00:05, 24.93it/s]\u001b[A\n",
      "PGD - Iterations:  30%|██████████████████▉                                            | 60/200 [00:02<00:05, 25.23it/s]\u001b[A\n",
      "PGD - Iterations:  32%|███████████████████▊                                           | 63/200 [00:02<00:05, 25.31it/s]\u001b[A\n",
      "PGD - Iterations:  33%|████████████████████▊                                          | 66/200 [00:02<00:05, 25.10it/s]\u001b[A\n",
      "PGD - Iterations:  34%|█████████████████████▋                                         | 69/200 [00:02<00:05, 25.61it/s]\u001b[A\n",
      "PGD - Iterations:  36%|██████████████████████▋                                        | 72/200 [00:02<00:04, 26.38it/s]\u001b[A\n",
      "PGD - Iterations:  38%|███████████████████████▋                                       | 75/200 [00:03<00:04, 25.77it/s]\u001b[A\n",
      "PGD - Iterations:  39%|████████████████████████▌                                      | 78/200 [00:03<00:04, 25.75it/s]\u001b[A\n",
      "PGD - Iterations:  40%|█████████████████████████▌                                     | 81/200 [00:03<00:04, 25.35it/s]\u001b[A\n",
      "PGD - Iterations:  42%|██████████████████████████▍                                    | 84/200 [00:03<00:04, 24.77it/s]\u001b[A\n",
      "PGD - Iterations:  44%|███████████████████████████▍                                   | 87/200 [00:03<00:04, 24.49it/s]\u001b[A\n",
      "PGD - Iterations:  45%|████████████████████████████▎                                  | 90/200 [00:03<00:04, 25.22it/s]\u001b[A\n",
      "PGD - Iterations:  46%|█████████████████████████████▎                                 | 93/200 [00:03<00:04, 25.56it/s]\u001b[A\n",
      "PGD - Iterations:  48%|██████████████████████████████▏                                | 96/200 [00:03<00:04, 24.36it/s]\u001b[A\n",
      "PGD - Iterations:  50%|███████████████████████████████▏                               | 99/200 [00:04<00:04, 23.70it/s]\u001b[A\n",
      "PGD - Iterations:  51%|███████████████████████████████▌                              | 102/200 [00:04<00:04, 23.74it/s]\u001b[A\n",
      "PGD - Iterations:  52%|████████████████████████████████▌                             | 105/200 [00:04<00:04, 23.62it/s]\u001b[A\n",
      "PGD - Iterations:  54%|█████████████████████████████████▍                            | 108/200 [00:04<00:03, 23.20it/s]\u001b[A\n",
      "PGD - Iterations:  56%|██████████████████████████████████▍                           | 111/200 [00:04<00:03, 23.73it/s]\u001b[A\n",
      "PGD - Iterations:  57%|███████████████████████████████████▎                          | 114/200 [00:04<00:03, 25.02it/s]\u001b[A\n",
      "PGD - Iterations:  58%|████████████████████████████████████▎                         | 117/200 [00:04<00:03, 25.29it/s]\u001b[A\n",
      "PGD - Iterations:  60%|█████████████████████████████████████▏                        | 120/200 [00:04<00:03, 25.03it/s]\u001b[A\n",
      "PGD - Iterations:  62%|██████████████████████████████████████▏                       | 123/200 [00:04<00:03, 24.98it/s]\u001b[A\n",
      "PGD - Iterations:  63%|███████████████████████████████████████                       | 126/200 [00:05<00:02, 25.07it/s]\u001b[A\n",
      "PGD - Iterations:  64%|███████████████████████████████████████▉                      | 129/200 [00:05<00:02, 25.56it/s]\u001b[A\n",
      "PGD - Iterations:  66%|████████████████████████████████████████▉                     | 132/200 [00:05<00:02, 25.05it/s]\u001b[A\n",
      "PGD - Iterations:  68%|█████████████████████████████████████████▊                    | 135/200 [00:05<00:02, 24.81it/s]\u001b[A\n",
      "PGD - Iterations:  69%|██████████████████████████████████████████▊                   | 138/200 [00:05<00:02, 25.07it/s]\u001b[A\n",
      "PGD - Iterations:  70%|███████████████████████████████████████████▋                  | 141/200 [00:05<00:02, 25.65it/s]\u001b[A\n",
      "PGD - Iterations:  72%|████████████████████████████████████████████▋                 | 144/200 [00:05<00:02, 26.07it/s]\u001b[A\n",
      "PGD - Iterations:  74%|█████████████████████████████████████████████▌                | 147/200 [00:05<00:02, 26.16it/s]\u001b[A\n",
      "PGD - Iterations:  75%|██████████████████████████████████████████████▌               | 150/200 [00:06<00:01, 25.62it/s]\u001b[A\n",
      "PGD - Iterations:  76%|███████████████████████████████████████████████▍              | 153/200 [00:06<00:01, 25.58it/s]\u001b[A\n",
      "PGD - Iterations:  78%|████████████████████████████████████████████████▎             | 156/200 [00:06<00:01, 25.11it/s]\u001b[A\n",
      "PGD - Iterations:  80%|█████████████████████████████████████████████████▎            | 159/200 [00:06<00:01, 25.29it/s]\u001b[A\n",
      "PGD - Iterations:  81%|██████████████████████████████████████████████████▏           | 162/200 [00:06<00:01, 25.80it/s]\u001b[A\n",
      "PGD - Iterations:  82%|███████████████████████████████████████████████████▏          | 165/200 [00:06<00:01, 25.13it/s]\u001b[A\n",
      "PGD - Iterations:  84%|████████████████████████████████████████████████████          | 168/200 [00:06<00:01, 24.86it/s]\u001b[A\n",
      "PGD - Iterations:  86%|█████████████████████████████████████████████████████         | 171/200 [00:06<00:01, 25.30it/s]\u001b[A\n",
      "PGD - Iterations:  87%|█████████████████████████████████████████████████████▉        | 174/200 [00:06<00:01, 24.79it/s]\u001b[A\n",
      "PGD - Iterations:  88%|██████████████████████████████████████████████████████▊       | 177/200 [00:07<00:00, 24.32it/s]\u001b[A\n",
      "PGD - Iterations:  90%|███████████████████████████████████████████████████████▊      | 180/200 [00:07<00:00, 24.49it/s]\u001b[A\n"
     ]
    },
    {
     "name": "stderr",
     "output_type": "stream",
     "text": [
      "PGD - Iterations:  92%|████████████████████████████████████████████████████████▋     | 183/200 [00:07<00:00, 25.03it/s]\u001b[A\n",
      "PGD - Iterations:  93%|█████████████████████████████████████████████████████████▋    | 186/200 [00:07<00:00, 24.02it/s]\u001b[A\n",
      "PGD - Iterations:  94%|██████████████████████████████████████████████████████████▌   | 189/200 [00:07<00:00, 24.27it/s]\u001b[A\n",
      "PGD - Iterations:  96%|███████████████████████████████████████████████████████████▌  | 192/200 [00:07<00:00, 24.68it/s]\u001b[A\n",
      "PGD - Iterations:  98%|████████████████████████████████████████████████████████████▍ | 195/200 [00:07<00:00, 22.21it/s]\u001b[A\n",
      "PGD - Iterations:  99%|█████████████████████████████████████████████████████████████▍| 198/200 [00:08<00:00, 22.48it/s]\u001b[A\n",
      "PGD - Random Initializations: 100%|██████████████████████████████████████████████████████| 1/1 [00:08<00:00,  8.11s/it]\u001b[A\n",
      "PGD - Random Initializations:   0%|                                                              | 0/1 [00:00<?, ?it/s]\n",
      "PGD - Iterations:   0%|                                                                        | 0/200 [00:00<?, ?it/s]\u001b[A\n",
      "PGD - Iterations:   2%|▉                                                               | 3/200 [00:00<00:07, 24.86it/s]\u001b[A\n",
      "PGD - Iterations:   3%|█▉                                                              | 6/200 [00:00<00:08, 23.14it/s]\u001b[A\n",
      "PGD - Iterations:   4%|██▉                                                             | 9/200 [00:00<00:08, 22.67it/s]\u001b[A\n",
      "PGD - Iterations:   6%|███▊                                                           | 12/200 [00:00<00:08, 22.40it/s]\u001b[A\n",
      "PGD - Iterations:   7%|████▍                                                          | 14/200 [00:00<00:08, 21.22it/s]\u001b[A\n",
      "PGD - Iterations:   8%|█████                                                          | 16/200 [00:00<00:08, 20.48it/s]\u001b[A\n",
      "PGD - Iterations:   9%|█████▋                                                         | 18/200 [00:00<00:09, 20.05it/s]\u001b[A\n",
      "PGD - Iterations:  10%|██████▌                                                        | 21/200 [00:00<00:08, 21.84it/s]\u001b[A\n",
      "PGD - Iterations:  12%|███████▌                                                       | 24/200 [00:01<00:07, 22.21it/s]\u001b[A\n",
      "PGD - Iterations:  14%|████████▌                                                      | 27/200 [00:01<00:07, 21.80it/s]\u001b[A\n",
      "PGD - Iterations:  15%|█████████▍                                                     | 30/200 [00:01<00:07, 21.66it/s]\u001b[A\n",
      "PGD - Iterations:  16%|██████████▍                                                    | 33/200 [00:01<00:07, 20.97it/s]\u001b[A\n",
      "PGD - Iterations:  18%|███████████▎                                                   | 36/200 [00:01<00:07, 21.08it/s]\u001b[A\n",
      "PGD - Iterations:  20%|████████████▎                                                  | 39/200 [00:01<00:07, 21.24it/s]\u001b[A\n",
      "PGD - Iterations:  21%|█████████████▏                                                 | 42/200 [00:01<00:07, 21.18it/s]\u001b[A\n",
      "PGD - Iterations:  22%|██████████████▏                                                | 45/200 [00:02<00:07, 20.41it/s]\u001b[A\n",
      "PGD - Iterations:  24%|███████████████                                                | 48/200 [00:02<00:07, 21.43it/s]\u001b[A\n",
      "PGD - Iterations:  26%|████████████████                                               | 51/200 [00:02<00:06, 22.30it/s]\u001b[A\n",
      "PGD - Iterations:  27%|█████████████████                                              | 54/200 [00:02<00:06, 23.28it/s]\u001b[A\n",
      "PGD - Iterations:  28%|█████████████████▉                                             | 57/200 [00:02<00:06, 23.68it/s]\u001b[A\n",
      "PGD - Iterations:  30%|██████████████████▉                                            | 60/200 [00:02<00:05, 23.35it/s]\u001b[A\n",
      "PGD - Iterations:  32%|███████████████████▊                                           | 63/200 [00:02<00:05, 24.24it/s]\u001b[A\n",
      "PGD - Iterations:  33%|████████████████████▊                                          | 66/200 [00:02<00:05, 24.66it/s]\u001b[A\n",
      "PGD - Iterations:  34%|█████████████████████▋                                         | 69/200 [00:03<00:05, 24.66it/s]\u001b[A\n",
      "PGD - Iterations:  36%|██████████████████████▋                                        | 72/200 [00:03<00:05, 24.13it/s]\u001b[A\n",
      "PGD - Iterations:  38%|███████████████████████▋                                       | 75/200 [00:03<00:05, 23.00it/s]\u001b[A\n",
      "PGD - Iterations:  39%|████████████████████████▌                                      | 78/200 [00:03<00:05, 22.78it/s]\u001b[A\n",
      "PGD - Iterations:  40%|█████████████████████████▌                                     | 81/200 [00:03<00:05, 23.31it/s]\u001b[A\n",
      "PGD - Iterations:  42%|██████████████████████████▍                                    | 84/200 [00:03<00:04, 23.48it/s]\u001b[A\n",
      "PGD - Iterations:  44%|███████████████████████████▍                                   | 87/200 [00:03<00:04, 24.39it/s]\u001b[A\n",
      "PGD - Iterations:  45%|████████████████████████████▎                                  | 90/200 [00:03<00:04, 24.36it/s]\u001b[A\n",
      "PGD - Iterations:  46%|█████████████████████████████▎                                 | 93/200 [00:04<00:04, 25.00it/s]\u001b[A\n",
      "PGD - Iterations:  48%|██████████████████████████████▏                                | 96/200 [00:04<00:04, 25.59it/s]\u001b[A\n",
      "PGD - Iterations:  50%|███████████████████████████████▏                               | 99/200 [00:04<00:03, 26.37it/s]\u001b[A\n",
      "PGD - Iterations:  51%|███████████████████████████████▌                              | 102/200 [00:04<00:03, 25.88it/s]\u001b[A\n",
      "PGD - Iterations:  52%|████████████████████████████████▌                             | 105/200 [00:04<00:03, 26.04it/s]\u001b[A\n",
      "PGD - Iterations:  54%|█████████████████████████████████▍                            | 108/200 [00:04<00:03, 26.01it/s]\u001b[A\n",
      "PGD - Iterations:  56%|██████████████████████████████████▍                           | 111/200 [00:04<00:03, 25.33it/s]\u001b[A\n",
      "PGD - Iterations:  57%|███████████████████████████████████▎                          | 114/200 [00:04<00:03, 25.12it/s]\u001b[A\n",
      "PGD - Iterations:  58%|████████████████████████████████████▎                         | 117/200 [00:05<00:03, 24.80it/s]\u001b[A\n",
      "PGD - Iterations:  60%|█████████████████████████████████████▏                        | 120/200 [00:05<00:03, 25.26it/s]\u001b[A\n",
      "PGD - Iterations:  62%|██████████████████████████████████████▏                       | 123/200 [00:05<00:03, 25.58it/s]\u001b[A\n",
      "PGD - Iterations:  63%|███████████████████████████████████████                       | 126/200 [00:05<00:02, 24.92it/s]\u001b[A\n",
      "PGD - Iterations:  64%|███████████████████████████████████████▉                      | 129/200 [00:05<00:02, 25.34it/s]\u001b[A\n",
      "PGD - Iterations:  66%|████████████████████████████████████████▉                     | 132/200 [00:05<00:02, 24.22it/s]\u001b[A\n",
      "PGD - Iterations:  68%|█████████████████████████████████████████▊                    | 135/200 [00:05<00:02, 24.83it/s]\u001b[A\n",
      "PGD - Iterations:  69%|██████████████████████████████████████████▊                   | 138/200 [00:05<00:02, 25.21it/s]\u001b[A\n",
      "PGD - Iterations:  70%|███████████████████████████████████████████▋                  | 141/200 [00:05<00:02, 24.98it/s]\u001b[A\n",
      "PGD - Iterations:  72%|████████████████████████████████████████████▋                 | 144/200 [00:06<00:02, 24.05it/s]\u001b[A\n",
      "PGD - Iterations:  74%|█████████████████████████████████████████████▌                | 147/200 [00:06<00:02, 24.52it/s]\u001b[A\n",
      "PGD - Iterations:  75%|██████████████████████████████████████████████▌               | 150/200 [00:06<00:02, 24.45it/s]\u001b[A\n",
      "PGD - Iterations:  76%|███████████████████████████████████████████████▍              | 153/200 [00:06<00:01, 23.97it/s]\u001b[A\n",
      "PGD - Iterations:  78%|████████████████████████████████████████████████▎             | 156/200 [00:06<00:01, 24.24it/s]\u001b[A\n",
      "PGD - Iterations:  80%|█████████████████████████████████████████████████▎            | 159/200 [00:06<00:01, 24.13it/s]\u001b[A\n",
      "PGD - Iterations:  81%|██████████████████████████████████████████████████▏           | 162/200 [00:06<00:01, 23.60it/s]\u001b[A\n",
      "PGD - Iterations:  82%|███████████████████████████████████████████████████▏          | 165/200 [00:06<00:01, 24.49it/s]\u001b[A\n",
      "PGD - Iterations:  84%|████████████████████████████████████████████████████          | 168/200 [00:07<00:01, 24.96it/s]\u001b[A\n"
     ]
    },
    {
     "name": "stderr",
     "output_type": "stream",
     "text": [
      "PGD - Iterations:  86%|█████████████████████████████████████████████████████         | 171/200 [00:07<00:01, 23.87it/s]\u001b[A\n",
      "PGD - Iterations:  87%|█████████████████████████████████████████████████████▉        | 174/200 [00:07<00:01, 24.57it/s]\u001b[A\n",
      "PGD - Iterations:  88%|██████████████████████████████████████████████████████▊       | 177/200 [00:07<00:00, 24.71it/s]\u001b[A\n",
      "PGD - Iterations:  90%|███████████████████████████████████████████████████████▊      | 180/200 [00:07<00:00, 25.45it/s]\u001b[A\n",
      "PGD - Iterations:  92%|████████████████████████████████████████████████████████▋     | 183/200 [00:07<00:00, 25.66it/s]\u001b[A\n",
      "PGD - Iterations:  93%|█████████████████████████████████████████████████████████▋    | 186/200 [00:07<00:00, 24.97it/s]\u001b[A\n",
      "PGD - Iterations:  94%|██████████████████████████████████████████████████████████▌   | 189/200 [00:07<00:00, 25.06it/s]\u001b[A\n",
      "PGD - Iterations:  96%|███████████████████████████████████████████████████████████▌  | 192/200 [00:08<00:00, 25.44it/s]\u001b[A\n",
      "PGD - Iterations:  98%|████████████████████████████████████████████████████████████▍ | 195/200 [00:08<00:00, 25.14it/s]\u001b[A\n",
      "PGD - Iterations:  99%|█████████████████████████████████████████████████████████████▍| 198/200 [00:08<00:00, 24.56it/s]\u001b[A\n",
      "PGD - Random Initializations: 100%|██████████████████████████████████████████████████████| 1/1 [00:08<00:00,  8.40s/it]\u001b[A\n",
      "PGD - Random Initializations:   0%|                                                              | 0/1 [00:00<?, ?it/s]\n",
      "PGD - Iterations:   0%|                                                                        | 0/200 [00:00<?, ?it/s]\u001b[A\n",
      "PGD - Iterations:   2%|▉                                                               | 3/200 [00:00<00:07, 25.71it/s]\u001b[A\n",
      "PGD - Iterations:   3%|█▉                                                              | 6/200 [00:00<00:07, 25.51it/s]\u001b[A\n",
      "PGD - Iterations:   4%|██▉                                                             | 9/200 [00:00<00:07, 25.77it/s]\u001b[A\n",
      "PGD - Iterations:   6%|███▊                                                           | 12/200 [00:00<00:07, 25.61it/s]\u001b[A\n",
      "PGD - Iterations:   8%|████▋                                                          | 15/200 [00:00<00:07, 25.39it/s]\u001b[A\n",
      "PGD - Iterations:   9%|█████▋                                                         | 18/200 [00:00<00:07, 25.10it/s]\u001b[A\n",
      "PGD - Iterations:  10%|██████▌                                                        | 21/200 [00:00<00:06, 25.72it/s]\u001b[A\n",
      "PGD - Iterations:  12%|███████▌                                                       | 24/200 [00:00<00:06, 25.60it/s]\u001b[A\n",
      "PGD - Iterations:  14%|████████▌                                                      | 27/200 [00:01<00:06, 26.51it/s]\u001b[A\n",
      "PGD - Iterations:  15%|█████████▍                                                     | 30/200 [00:01<00:06, 25.21it/s]\u001b[A\n",
      "PGD - Iterations:  16%|██████████▍                                                    | 33/200 [00:01<00:06, 25.82it/s]\u001b[A\n",
      "PGD - Iterations:  18%|███████████▎                                                   | 36/200 [00:01<00:06, 25.59it/s]\u001b[A\n",
      "PGD - Iterations:  20%|████████████▎                                                  | 39/200 [00:01<00:06, 25.89it/s]\u001b[A\n",
      "PGD - Iterations:  21%|█████████████▏                                                 | 42/200 [00:01<00:06, 26.24it/s]\u001b[A\n",
      "PGD - Iterations:  22%|██████████████▏                                                | 45/200 [00:01<00:06, 25.28it/s]\u001b[A\n",
      "PGD - Iterations:  24%|███████████████                                                | 48/200 [00:01<00:05, 25.35it/s]\u001b[A\n",
      "PGD - Iterations:  26%|████████████████                                               | 51/200 [00:01<00:05, 26.12it/s]\u001b[A\n",
      "PGD - Iterations:  27%|█████████████████                                              | 54/200 [00:02<00:05, 25.86it/s]\u001b[A\n",
      "PGD - Iterations:  28%|█████████████████▉                                             | 57/200 [00:02<00:05, 25.68it/s]\u001b[A\n",
      "PGD - Iterations:  30%|██████████████████▉                                            | 60/200 [00:02<00:05, 25.56it/s]\u001b[A\n",
      "PGD - Iterations:  32%|███████████████████▊                                           | 63/200 [00:02<00:05, 25.87it/s]\u001b[A\n",
      "PGD - Iterations:  33%|████████████████████▊                                          | 66/200 [00:02<00:05, 26.64it/s]\u001b[A\n",
      "PGD - Iterations:  34%|█████████████████████▋                                         | 69/200 [00:02<00:04, 26.43it/s]\u001b[A\n",
      "PGD - Iterations:  36%|██████████████████████▋                                        | 72/200 [00:02<00:04, 25.87it/s]\u001b[A\n",
      "PGD - Iterations:  38%|███████████████████████▋                                       | 75/200 [00:02<00:05, 24.86it/s]\u001b[A\n",
      "PGD - Iterations:  39%|████████████████████████▌                                      | 78/200 [00:03<00:04, 24.98it/s]\u001b[A\n",
      "PGD - Iterations:  40%|█████████████████████████▌                                     | 81/200 [00:03<00:04, 25.13it/s]\u001b[A\n",
      "PGD - Iterations:  42%|██████████████████████████▍                                    | 84/200 [00:03<00:04, 25.11it/s]\u001b[A\n",
      "PGD - Iterations:  44%|███████████████████████████▍                                   | 87/200 [00:03<00:04, 25.04it/s]\u001b[A\n",
      "PGD - Iterations:  45%|████████████████████████████▎                                  | 90/200 [00:03<00:04, 25.56it/s]\u001b[A\n",
      "PGD - Iterations:  46%|█████████████████████████████▎                                 | 93/200 [00:03<00:04, 25.87it/s]\u001b[A\n",
      "PGD - Iterations:  48%|██████████████████████████████▏                                | 96/200 [00:03<00:04, 25.56it/s]\u001b[A\n",
      "PGD - Iterations:  50%|███████████████████████████████▏                               | 99/200 [00:03<00:04, 25.09it/s]\u001b[A\n",
      "PGD - Iterations:  51%|███████████████████████████████▌                              | 102/200 [00:03<00:03, 25.53it/s]\u001b[A\n",
      "PGD - Iterations:  52%|████████████████████████████████▌                             | 105/200 [00:04<00:03, 25.85it/s]\u001b[A\n",
      "PGD - Iterations:  54%|█████████████████████████████████▍                            | 108/200 [00:04<00:03, 26.00it/s]\u001b[A\n",
      "PGD - Iterations:  56%|██████████████████████████████████▍                           | 111/200 [00:04<00:03, 25.52it/s]\u001b[A\n",
      "PGD - Iterations:  57%|███████████████████████████████████▎                          | 114/200 [00:04<00:03, 25.19it/s]\u001b[A\n",
      "PGD - Iterations:  58%|████████████████████████████████████▎                         | 117/200 [00:04<00:03, 24.78it/s]\u001b[A\n",
      "PGD - Iterations:  60%|█████████████████████████████████████▏                        | 120/200 [00:04<00:03, 24.68it/s]\u001b[A\n",
      "PGD - Iterations:  62%|██████████████████████████████████████▏                       | 123/200 [00:04<00:03, 24.49it/s]\u001b[A\n",
      "PGD - Iterations:  63%|███████████████████████████████████████                       | 126/200 [00:04<00:03, 24.64it/s]\u001b[A\n",
      "PGD - Iterations:  64%|███████████████████████████████████████▉                      | 129/200 [00:05<00:02, 25.42it/s]\u001b[A\n",
      "PGD - Iterations:  66%|████████████████████████████████████████▉                     | 132/200 [00:05<00:02, 24.81it/s]\u001b[A\n",
      "PGD - Iterations:  68%|█████████████████████████████████████████▊                    | 135/200 [00:05<00:02, 24.82it/s]\u001b[A\n",
      "PGD - Iterations:  69%|██████████████████████████████████████████▊                   | 138/200 [00:05<00:02, 25.27it/s]\u001b[A\n",
      "PGD - Iterations:  70%|███████████████████████████████████████████▋                  | 141/200 [00:05<00:02, 25.47it/s]\u001b[A\n",
      "PGD - Iterations:  72%|████████████████████████████████████████████▋                 | 144/200 [00:05<00:02, 24.72it/s]\u001b[A\n",
      "PGD - Iterations:  74%|█████████████████████████████████████████████▌                | 147/200 [00:05<00:02, 24.52it/s]\u001b[A\n",
      "PGD - Iterations:  75%|██████████████████████████████████████████████▌               | 150/200 [00:05<00:02, 24.93it/s]\u001b[A\n",
      "PGD - Iterations:  76%|███████████████████████████████████████████████▍              | 153/200 [00:06<00:01, 24.85it/s]\u001b[A\n",
      "PGD - Iterations:  78%|████████████████████████████████████████████████▎             | 156/200 [00:06<00:01, 25.61it/s]\u001b[A\n",
      "PGD - Iterations:  80%|█████████████████████████████████████████████████▎            | 159/200 [00:06<00:01, 24.88it/s]\u001b[A\n"
     ]
    },
    {
     "name": "stderr",
     "output_type": "stream",
     "text": [
      "PGD - Iterations:  81%|██████████████████████████████████████████████████▏           | 162/200 [00:06<00:01, 24.98it/s]\u001b[A\n",
      "PGD - Iterations:  82%|███████████████████████████████████████████████████▏          | 165/200 [00:06<00:01, 24.90it/s]\u001b[A\n",
      "PGD - Iterations:  84%|████████████████████████████████████████████████████          | 168/200 [00:06<00:01, 24.64it/s]\u001b[A\n",
      "PGD - Iterations:  86%|█████████████████████████████████████████████████████         | 171/200 [00:06<00:01, 25.13it/s]\u001b[A\n",
      "PGD - Iterations:  87%|█████████████████████████████████████████████████████▉        | 174/200 [00:06<00:01, 25.43it/s]\u001b[A\n",
      "PGD - Iterations:  88%|██████████████████████████████████████████████████████▊       | 177/200 [00:06<00:00, 25.39it/s]\u001b[A\n",
      "PGD - Iterations:  90%|███████████████████████████████████████████████████████▊      | 180/200 [00:07<00:00, 25.68it/s]\u001b[A\n",
      "PGD - Iterations:  92%|████████████████████████████████████████████████████████▋     | 183/200 [00:07<00:00, 24.92it/s]\u001b[A\n",
      "PGD - Iterations:  93%|█████████████████████████████████████████████████████████▋    | 186/200 [00:07<00:00, 25.15it/s]\u001b[A\n",
      "PGD - Iterations:  94%|██████████████████████████████████████████████████████████▌   | 189/200 [00:07<00:00, 25.19it/s]\u001b[A\n",
      "PGD - Iterations:  96%|███████████████████████████████████████████████████████████▌  | 192/200 [00:07<00:00, 25.54it/s]\u001b[A\n",
      "PGD - Iterations:  98%|████████████████████████████████████████████████████████████▍ | 195/200 [00:07<00:00, 24.65it/s]\u001b[A\n",
      "PGD - Iterations:  99%|█████████████████████████████████████████████████████████████▍| 198/200 [00:07<00:00, 25.08it/s]\u001b[A\n",
      "PGD - Random Initializations: 100%|██████████████████████████████████████████████████████| 1/1 [00:07<00:00,  7.90s/it]\u001b[A\n",
      "PGD - Random Initializations:   0%|                                                              | 0/1 [00:00<?, ?it/s]\n",
      "PGD - Iterations:   0%|                                                                        | 0/200 [00:00<?, ?it/s]\u001b[A\n",
      "PGD - Iterations:   2%|▉                                                               | 3/200 [00:00<00:07, 24.66it/s]\u001b[A\n",
      "PGD - Iterations:   3%|█▉                                                              | 6/200 [00:00<00:07, 25.09it/s]\u001b[A\n",
      "PGD - Iterations:   4%|██▉                                                             | 9/200 [00:00<00:07, 24.89it/s]\u001b[A\n",
      "PGD - Iterations:   6%|███▊                                                           | 12/200 [00:00<00:07, 25.63it/s]\u001b[A\n",
      "PGD - Iterations:   8%|████▋                                                          | 15/200 [00:00<00:07, 25.54it/s]\u001b[A\n",
      "PGD - Iterations:   9%|█████▋                                                         | 18/200 [00:00<00:07, 25.91it/s]\u001b[A\n",
      "PGD - Iterations:  10%|██████▌                                                        | 21/200 [00:00<00:07, 25.15it/s]\u001b[A\n",
      "PGD - Iterations:  12%|███████▌                                                       | 24/200 [00:00<00:07, 24.75it/s]\u001b[A\n",
      "PGD - Iterations:  14%|████████▌                                                      | 27/200 [00:01<00:06, 25.03it/s]\u001b[A\n",
      "PGD - Iterations:  15%|█████████▍                                                     | 30/200 [00:01<00:06, 25.29it/s]\u001b[A\n",
      "PGD - Iterations:  16%|██████████▍                                                    | 33/200 [00:01<00:06, 25.67it/s]\u001b[A\n",
      "PGD - Iterations:  18%|███████████▎                                                   | 36/200 [00:01<00:06, 25.37it/s]\u001b[A\n",
      "PGD - Iterations:  20%|████████████▎                                                  | 39/200 [00:01<00:06, 25.73it/s]\u001b[A\n",
      "PGD - Iterations:  21%|█████████████▏                                                 | 42/200 [00:01<00:06, 26.18it/s]\u001b[A\n",
      "PGD - Iterations:  22%|██████████████▏                                                | 45/200 [00:01<00:05, 26.33it/s]\u001b[A\n",
      "PGD - Iterations:  24%|███████████████                                                | 48/200 [00:01<00:05, 26.06it/s]\u001b[A\n",
      "PGD - Iterations:  26%|████████████████                                               | 51/200 [00:01<00:05, 25.18it/s]\u001b[A\n",
      "PGD - Iterations:  27%|█████████████████                                              | 54/200 [00:02<00:05, 25.60it/s]\u001b[A\n",
      "PGD - Iterations:  28%|█████████████████▉                                             | 57/200 [00:02<00:05, 24.68it/s]\u001b[A\n",
      "PGD - Iterations:  30%|██████████████████▉                                            | 60/200 [00:02<00:05, 25.23it/s]\u001b[A\n",
      "PGD - Iterations:  32%|███████████████████▊                                           | 63/200 [00:02<00:05, 24.93it/s]\u001b[A\n",
      "PGD - Iterations:  33%|████████████████████▊                                          | 66/200 [00:02<00:05, 24.97it/s]\u001b[A\n",
      "PGD - Iterations:  34%|█████████████████████▋                                         | 69/200 [00:02<00:05, 25.38it/s]\u001b[A\n",
      "PGD - Iterations:  36%|██████████████████████▋                                        | 72/200 [00:02<00:05, 25.29it/s]\u001b[A\n",
      "PGD - Iterations:  38%|███████████████████████▋                                       | 75/200 [00:02<00:04, 25.54it/s]\u001b[A\n",
      "PGD - Iterations:  39%|████████████████████████▌                                      | 78/200 [00:03<00:04, 25.92it/s]\u001b[A\n",
      "PGD - Iterations:  40%|█████████████████████████▌                                     | 81/200 [00:03<00:04, 26.26it/s]\u001b[A\n",
      "PGD - Iterations:  42%|██████████████████████████▍                                    | 84/200 [00:03<00:04, 26.58it/s]\u001b[A\n",
      "PGD - Iterations:  44%|███████████████████████████▍                                   | 87/200 [00:03<00:04, 26.24it/s]\u001b[A\n",
      "PGD - Iterations:  45%|████████████████████████████▎                                  | 90/200 [00:03<00:04, 25.29it/s]\u001b[A\n",
      "PGD - Iterations:  46%|█████████████████████████████▎                                 | 93/200 [00:03<00:04, 26.07it/s]\u001b[A\n",
      "PGD - Iterations:  48%|██████████████████████████████▏                                | 96/200 [00:03<00:04, 25.57it/s]\u001b[A\n",
      "PGD - Iterations:  50%|███████████████████████████████▏                               | 99/200 [00:03<00:03, 25.48it/s]\u001b[A\n",
      "PGD - Iterations:  51%|███████████████████████████████▌                              | 102/200 [00:03<00:03, 25.23it/s]\u001b[A\n",
      "PGD - Iterations:  52%|████████████████████████████████▌                             | 105/200 [00:04<00:03, 25.50it/s]\u001b[A\n",
      "PGD - Iterations:  54%|█████████████████████████████████▍                            | 108/200 [00:04<00:03, 25.50it/s]\u001b[A\n",
      "PGD - Iterations:  56%|██████████████████████████████████▍                           | 111/200 [00:04<00:03, 25.63it/s]\u001b[A\n",
      "PGD - Iterations:  57%|███████████████████████████████████▎                          | 114/200 [00:04<00:03, 25.92it/s]\u001b[A\n",
      "PGD - Iterations:  58%|████████████████████████████████████▎                         | 117/200 [00:04<00:03, 25.46it/s]\u001b[A\n",
      "PGD - Iterations:  60%|█████████████████████████████████████▏                        | 120/200 [00:04<00:03, 25.86it/s]\u001b[A\n",
      "PGD - Iterations:  62%|██████████████████████████████████████▏                       | 123/200 [00:04<00:02, 25.75it/s]\u001b[A\n",
      "PGD - Iterations:  63%|███████████████████████████████████████                       | 126/200 [00:04<00:02, 25.98it/s]\u001b[A\n",
      "PGD - Iterations:  64%|███████████████████████████████████████▉                      | 129/200 [00:05<00:02, 25.65it/s]\u001b[A\n",
      "PGD - Iterations:  66%|████████████████████████████████████████▉                     | 132/200 [00:05<00:02, 25.81it/s]\u001b[A\n",
      "PGD - Iterations:  68%|█████████████████████████████████████████▊                    | 135/200 [00:05<00:02, 25.78it/s]\u001b[A\n",
      "PGD - Iterations:  69%|██████████████████████████████████████████▊                   | 138/200 [00:05<00:02, 25.56it/s]\u001b[A\n",
      "PGD - Iterations:  70%|███████████████████████████████████████████▋                  | 141/200 [00:05<00:02, 26.00it/s]\u001b[A\n",
      "PGD - Iterations:  72%|████████████████████████████████████████████▋                 | 144/200 [00:05<00:02, 25.91it/s]\u001b[A\n",
      "PGD - Iterations:  74%|█████████████████████████████████████████████▌                | 147/200 [00:05<00:02, 25.85it/s]\u001b[A\n",
      "PGD - Iterations:  75%|██████████████████████████████████████████████▌               | 150/200 [00:05<00:01, 25.75it/s]\u001b[A\n"
     ]
    },
    {
     "name": "stderr",
     "output_type": "stream",
     "text": [
      "PGD - Iterations:  76%|███████████████████████████████████████████████▍              | 153/200 [00:05<00:01, 25.47it/s]\u001b[A\n",
      "PGD - Iterations:  78%|████████████████████████████████████████████████▎             | 156/200 [00:06<00:01, 25.22it/s]\u001b[A\n",
      "PGD - Iterations:  80%|█████████████████████████████████████████████████▎            | 159/200 [00:06<00:01, 25.05it/s]\u001b[A\n",
      "PGD - Iterations:  81%|██████████████████████████████████████████████████▏           | 162/200 [00:06<00:01, 24.81it/s]\u001b[A\n",
      "PGD - Iterations:  82%|███████████████████████████████████████████████████▏          | 165/200 [00:06<00:01, 25.45it/s]\u001b[A\n",
      "PGD - Iterations:  84%|████████████████████████████████████████████████████          | 168/200 [00:06<00:01, 25.93it/s]\u001b[A\n",
      "PGD - Iterations:  86%|█████████████████████████████████████████████████████         | 171/200 [00:06<00:01, 26.41it/s]\u001b[A\n",
      "PGD - Iterations:  87%|█████████████████████████████████████████████████████▉        | 174/200 [00:06<00:00, 26.33it/s]\u001b[A\n",
      "PGD - Iterations:  88%|██████████████████████████████████████████████████████▊       | 177/200 [00:06<00:00, 26.63it/s]\u001b[A\n",
      "PGD - Iterations:  90%|███████████████████████████████████████████████████████▊      | 180/200 [00:07<00:00, 26.47it/s]\u001b[A\n",
      "PGD - Iterations:  92%|████████████████████████████████████████████████████████▋     | 183/200 [00:07<00:00, 26.04it/s]\u001b[A\n",
      "PGD - Iterations:  93%|█████████████████████████████████████████████████████████▋    | 186/200 [00:07<00:00, 25.75it/s]\u001b[A\n",
      "PGD - Iterations:  94%|██████████████████████████████████████████████████████████▌   | 189/200 [00:07<00:00, 25.28it/s]\u001b[A\n",
      "PGD - Iterations:  96%|███████████████████████████████████████████████████████████▌  | 192/200 [00:07<00:00, 25.53it/s]\u001b[A\n",
      "PGD - Iterations:  98%|████████████████████████████████████████████████████████████▍ | 195/200 [00:07<00:00, 26.06it/s]\u001b[A\n",
      "PGD - Iterations:  99%|█████████████████████████████████████████████████████████████▍| 198/200 [00:07<00:00, 26.22it/s]\u001b[A\n",
      "PGD - Random Initializations: 100%|██████████████████████████████████████████████████████| 1/1 [00:07<00:00,  7.79s/it]\u001b[A\n",
      "PGD - Random Initializations:   0%|                                                              | 0/1 [00:00<?, ?it/s]\n",
      "PGD - Iterations:   0%|                                                                        | 0/200 [00:00<?, ?it/s]\u001b[A\n",
      "PGD - Iterations:   2%|▉                                                               | 3/200 [00:00<00:07, 27.85it/s]\u001b[A\n",
      "PGD - Iterations:   3%|█▉                                                              | 6/200 [00:00<00:07, 27.55it/s]\u001b[A\n",
      "PGD - Iterations:   4%|██▉                                                             | 9/200 [00:00<00:07, 26.61it/s]\u001b[A\n",
      "PGD - Iterations:   6%|███▊                                                           | 12/200 [00:00<00:07, 25.34it/s]\u001b[A\n",
      "PGD - Iterations:   8%|████▋                                                          | 15/200 [00:00<00:07, 25.13it/s]\u001b[A\n",
      "PGD - Iterations:   9%|█████▋                                                         | 18/200 [00:00<00:07, 25.81it/s]\u001b[A\n",
      "PGD - Iterations:  10%|██████▌                                                        | 21/200 [00:00<00:06, 25.91it/s]\u001b[A\n",
      "PGD - Iterations:  12%|███████▌                                                       | 24/200 [00:00<00:06, 26.13it/s]\u001b[A\n",
      "PGD - Iterations:  14%|████████▌                                                      | 27/200 [00:01<00:06, 26.01it/s]\u001b[A\n",
      "PGD - Iterations:  15%|█████████▍                                                     | 30/200 [00:01<00:06, 26.67it/s]\u001b[A\n",
      "PGD - Iterations:  16%|██████████▍                                                    | 33/200 [00:01<00:06, 26.66it/s]\u001b[A\n",
      "PGD - Iterations:  18%|███████████▎                                                   | 36/200 [00:01<00:06, 26.43it/s]\u001b[A\n",
      "PGD - Iterations:  20%|████████████▎                                                  | 39/200 [00:01<00:06, 26.48it/s]\u001b[A\n",
      "PGD - Iterations:  21%|█████████████▏                                                 | 42/200 [00:01<00:05, 26.68it/s]\u001b[A\n",
      "PGD - Iterations:  22%|██████████████▏                                                | 45/200 [00:01<00:05, 26.31it/s]\u001b[A\n",
      "PGD - Iterations:  24%|███████████████                                                | 48/200 [00:01<00:05, 26.47it/s]\u001b[A\n",
      "PGD - Iterations:  26%|████████████████                                               | 51/200 [00:01<00:05, 26.79it/s]\u001b[A\n",
      "PGD - Iterations:  27%|█████████████████                                              | 54/200 [00:02<00:05, 26.96it/s]\u001b[A\n",
      "PGD - Iterations:  28%|█████████████████▉                                             | 57/200 [00:02<00:05, 27.00it/s]\u001b[A\n",
      "PGD - Iterations:  30%|██████████████████▉                                            | 60/200 [00:02<00:05, 25.98it/s]\u001b[A\n",
      "PGD - Iterations:  32%|███████████████████▊                                           | 63/200 [00:02<00:05, 26.59it/s]\u001b[A\n",
      "PGD - Iterations:  33%|████████████████████▊                                          | 66/200 [00:02<00:05, 26.46it/s]\u001b[A\n",
      "PGD - Iterations:  34%|█████████████████████▋                                         | 69/200 [00:02<00:04, 26.50it/s]\u001b[A\n",
      "PGD - Iterations:  36%|██████████████████████▋                                        | 72/200 [00:02<00:04, 26.47it/s]\u001b[A\n",
      "PGD - Iterations:  38%|███████████████████████▋                                       | 75/200 [00:02<00:04, 26.58it/s]\u001b[A\n",
      "PGD - Iterations:  39%|████████████████████████▌                                      | 78/200 [00:02<00:04, 26.59it/s]\u001b[A\n",
      "PGD - Iterations:  40%|█████████████████████████▌                                     | 81/200 [00:03<00:04, 26.53it/s]\u001b[A\n",
      "PGD - Iterations:  42%|██████████████████████████▍                                    | 84/200 [00:03<00:04, 26.49it/s]\u001b[A\n",
      "PGD - Iterations:  44%|███████████████████████████▍                                   | 87/200 [00:03<00:04, 26.53it/s]\u001b[A\n",
      "PGD - Iterations:  45%|████████████████████████████▎                                  | 90/200 [00:03<00:04, 26.07it/s]\u001b[A\n",
      "PGD - Iterations:  46%|█████████████████████████████▎                                 | 93/200 [00:03<00:04, 26.23it/s]\u001b[A\n",
      "PGD - Iterations:  48%|██████████████████████████████▏                                | 96/200 [00:03<00:03, 26.07it/s]\u001b[A\n",
      "PGD - Iterations:  50%|███████████████████████████████▏                               | 99/200 [00:03<00:03, 26.51it/s]\u001b[A\n",
      "PGD - Iterations:  51%|███████████████████████████████▌                              | 102/200 [00:03<00:03, 26.62it/s]\u001b[A\n",
      "PGD - Iterations:  52%|████████████████████████████████▌                             | 105/200 [00:03<00:03, 26.00it/s]\u001b[A\n",
      "PGD - Iterations:  54%|█████████████████████████████████▍                            | 108/200 [00:04<00:03, 26.04it/s]\u001b[A\n",
      "PGD - Iterations:  56%|██████████████████████████████████▍                           | 111/200 [00:04<00:03, 25.68it/s]\u001b[A\n",
      "PGD - Iterations:  57%|███████████████████████████████████▎                          | 114/200 [00:04<00:03, 25.49it/s]\u001b[A\n",
      "PGD - Iterations:  58%|████████████████████████████████████▎                         | 117/200 [00:04<00:03, 25.17it/s]\u001b[A\n",
      "PGD - Iterations:  60%|█████████████████████████████████████▏                        | 120/200 [00:04<00:03, 24.77it/s]\u001b[A\n",
      "PGD - Iterations:  62%|██████████████████████████████████████▏                       | 123/200 [00:04<00:03, 24.30it/s]\u001b[A\n",
      "PGD - Iterations:  63%|███████████████████████████████████████                       | 126/200 [00:04<00:03, 24.19it/s]\u001b[A\n",
      "PGD - Iterations:  64%|███████████████████████████████████████▉                      | 129/200 [00:04<00:02, 24.50it/s]\u001b[A\n",
      "PGD - Iterations:  66%|████████████████████████████████████████▉                     | 132/200 [00:05<00:02, 24.48it/s]\u001b[A\n",
      "PGD - Iterations:  68%|█████████████████████████████████████████▊                    | 135/200 [00:05<00:02, 24.84it/s]\u001b[A\n",
      "PGD - Iterations:  69%|██████████████████████████████████████████▊                   | 138/200 [00:05<00:02, 25.48it/s]\u001b[A\n",
      "PGD - Iterations:  70%|███████████████████████████████████████████▋                  | 141/200 [00:05<00:02, 25.75it/s]\u001b[A\n"
     ]
    },
    {
     "name": "stderr",
     "output_type": "stream",
     "text": [
      "PGD - Iterations:  72%|████████████████████████████████████████████▉                 | 145/200 [00:05<00:02, 26.82it/s]\u001b[A\n",
      "PGD - Iterations:  74%|█████████████████████████████████████████████▉                | 148/200 [00:05<00:01, 26.90it/s]\u001b[A\n",
      "PGD - Iterations:  76%|██████████████████████████████████████████████▊               | 151/200 [00:05<00:01, 26.89it/s]\u001b[A\n",
      "PGD - Iterations:  77%|███████████████████████████████████████████████▋              | 154/200 [00:05<00:01, 26.59it/s]\u001b[A\n",
      "PGD - Iterations:  78%|████████████████████████████████████████████████▋             | 157/200 [00:06<00:01, 26.67it/s]\u001b[A\n",
      "PGD - Iterations:  80%|█████████████████████████████████████████████████▌            | 160/200 [00:06<00:01, 26.94it/s]\u001b[A\n",
      "PGD - Iterations:  82%|██████████████████████████████████████████████████▌           | 163/200 [00:06<00:01, 26.42it/s]\u001b[A\n",
      "PGD - Iterations:  83%|███████████████████████████████████████████████████▍          | 166/200 [00:06<00:01, 26.69it/s]\u001b[A\n",
      "PGD - Iterations:  84%|████████████████████████████████████████████████████▍         | 169/200 [00:06<00:01, 26.39it/s]\u001b[A\n",
      "PGD - Iterations:  86%|█████████████████████████████████████████████████████▎        | 172/200 [00:06<00:01, 26.53it/s]\u001b[A\n",
      "PGD - Iterations:  88%|██████████████████████████████████████████████████████▎       | 175/200 [00:06<00:00, 26.84it/s]\u001b[A\n",
      "PGD - Iterations:  89%|███████████████████████████████████████████████████████▏      | 178/200 [00:06<00:00, 26.08it/s]\u001b[A\n",
      "PGD - Iterations:  90%|████████████████████████████████████████████████████████      | 181/200 [00:06<00:00, 25.97it/s]\u001b[A\n",
      "PGD - Iterations:  92%|█████████████████████████████████████████████████████████     | 184/200 [00:07<00:00, 25.96it/s]\u001b[A\n",
      "PGD - Iterations:  94%|█████████████████████████████████████████████████████████▉    | 187/200 [00:07<00:00, 26.29it/s]\u001b[A\n",
      "PGD - Iterations:  95%|██████████████████████████████████████████████████████████▉   | 190/200 [00:07<00:00, 25.71it/s]\u001b[A\n",
      "PGD - Iterations:  96%|███████████████████████████████████████████████████████████▊  | 193/200 [00:07<00:00, 26.18it/s]\u001b[A\n",
      "PGD - Iterations:  98%|████████████████████████████████████████████████████████████▊ | 196/200 [00:07<00:00, 26.43it/s]\u001b[A\n",
      "PGD - Iterations: 100%|█████████████████████████████████████████████████████████████▋| 199/200 [00:07<00:00, 26.85it/s]\u001b[A\n",
      "PGD - Random Initializations: 100%|██████████████████████████████████████████████████████| 1/1 [00:07<00:00,  7.67s/it]\u001b[A\n",
      "PGD - Random Initializations:   0%|                                                              | 0/1 [00:00<?, ?it/s]\n",
      "PGD - Iterations:   0%|                                                                        | 0/200 [00:00<?, ?it/s]\u001b[A\n",
      "PGD - Iterations:   2%|▉                                                               | 3/200 [00:00<00:07, 24.86it/s]\u001b[A\n",
      "PGD - Iterations:   3%|█▉                                                              | 6/200 [00:00<00:07, 24.96it/s]\u001b[A\n",
      "PGD - Iterations:   4%|██▉                                                             | 9/200 [00:00<00:07, 25.53it/s]\u001b[A\n",
      "PGD - Iterations:   6%|███▊                                                           | 12/200 [00:00<00:07, 26.04it/s]\u001b[A\n",
      "PGD - Iterations:   8%|████▋                                                          | 15/200 [00:00<00:06, 26.56it/s]\u001b[A\n",
      "PGD - Iterations:   9%|█████▋                                                         | 18/200 [00:00<00:06, 26.65it/s]\u001b[A\n",
      "PGD - Iterations:  10%|██████▌                                                        | 21/200 [00:00<00:06, 26.86it/s]\u001b[A\n",
      "PGD - Iterations:  12%|███████▌                                                       | 24/200 [00:00<00:06, 26.86it/s]\u001b[A\n",
      "PGD - Iterations:  14%|████████▌                                                      | 27/200 [00:01<00:06, 25.80it/s]\u001b[A\n",
      "PGD - Iterations:  15%|█████████▍                                                     | 30/200 [00:01<00:06, 25.66it/s]\u001b[A\n",
      "PGD - Iterations:  16%|██████████▍                                                    | 33/200 [00:01<00:06, 25.29it/s]\u001b[A\n",
      "PGD - Iterations:  18%|███████████▎                                                   | 36/200 [00:01<00:06, 25.87it/s]\u001b[A\n",
      "PGD - Iterations:  20%|████████████▎                                                  | 39/200 [00:01<00:06, 25.82it/s]\u001b[A\n",
      "PGD - Iterations:  21%|█████████████▏                                                 | 42/200 [00:01<00:06, 26.10it/s]\u001b[A\n",
      "PGD - Iterations:  22%|██████████████▏                                                | 45/200 [00:01<00:05, 26.06it/s]\u001b[A\n",
      "PGD - Iterations:  24%|███████████████                                                | 48/200 [00:01<00:05, 26.24it/s]\u001b[A\n",
      "PGD - Iterations:  26%|████████████████                                               | 51/200 [00:01<00:05, 24.85it/s]\u001b[A\n",
      "PGD - Iterations:  27%|█████████████████                                              | 54/200 [00:02<00:05, 25.68it/s]\u001b[A\n",
      "PGD - Iterations:  28%|█████████████████▉                                             | 57/200 [00:02<00:05, 26.23it/s]\u001b[A\n",
      "PGD - Iterations:  30%|██████████████████▉                                            | 60/200 [00:02<00:05, 26.21it/s]\u001b[A\n",
      "PGD - Iterations:  32%|███████████████████▊                                           | 63/200 [00:02<00:05, 26.89it/s]\u001b[A\n",
      "PGD - Iterations:  33%|████████████████████▊                                          | 66/200 [00:02<00:05, 26.46it/s]\u001b[A\n",
      "PGD - Iterations:  34%|█████████████████████▋                                         | 69/200 [00:02<00:04, 26.77it/s]\u001b[A\n",
      "PGD - Iterations:  36%|██████████████████████▋                                        | 72/200 [00:02<00:04, 26.89it/s]\u001b[A\n",
      "PGD - Iterations:  38%|███████████████████████▋                                       | 75/200 [00:02<00:04, 26.52it/s]\u001b[A\n",
      "PGD - Iterations:  39%|████████████████████████▌                                      | 78/200 [00:02<00:04, 26.48it/s]\u001b[A\n",
      "PGD - Iterations:  40%|█████████████████████████▌                                     | 81/200 [00:03<00:04, 25.91it/s]\u001b[A\n",
      "PGD - Iterations:  42%|██████████████████████████▍                                    | 84/200 [00:03<00:04, 26.18it/s]\u001b[A\n",
      "PGD - Iterations:  44%|███████████████████████████▍                                   | 87/200 [00:03<00:04, 26.18it/s]\u001b[A\n",
      "PGD - Iterations:  45%|████████████████████████████▎                                  | 90/200 [00:03<00:04, 26.03it/s]\u001b[A\n",
      "PGD - Iterations:  46%|█████████████████████████████▎                                 | 93/200 [00:03<00:04, 25.94it/s]\u001b[A\n",
      "PGD - Iterations:  48%|██████████████████████████████▏                                | 96/200 [00:03<00:03, 26.21it/s]\u001b[A\n",
      "PGD - Iterations:  50%|███████████████████████████████▏                               | 99/200 [00:03<00:03, 26.39it/s]\u001b[A\n",
      "PGD - Iterations:  51%|███████████████████████████████▌                              | 102/200 [00:03<00:03, 26.40it/s]\u001b[A\n",
      "PGD - Iterations:  52%|████████████████████████████████▌                             | 105/200 [00:04<00:03, 25.39it/s]\u001b[A\n",
      "PGD - Iterations:  54%|█████████████████████████████████▍                            | 108/200 [00:04<00:03, 25.49it/s]\u001b[A\n",
      "PGD - Iterations:  56%|██████████████████████████████████▍                           | 111/200 [00:04<00:03, 25.75it/s]\u001b[A\n",
      "PGD - Iterations:  57%|███████████████████████████████████▎                          | 114/200 [00:04<00:03, 25.87it/s]\u001b[A\n",
      "PGD - Iterations:  58%|████████████████████████████████████▎                         | 117/200 [00:04<00:03, 26.02it/s]\u001b[A\n",
      "PGD - Iterations:  60%|█████████████████████████████████████▏                        | 120/200 [00:04<00:03, 25.47it/s]\u001b[A\n",
      "PGD - Iterations:  62%|██████████████████████████████████████▏                       | 123/200 [00:04<00:03, 25.28it/s]\u001b[A\n",
      "PGD - Iterations:  63%|███████████████████████████████████████                       | 126/200 [00:04<00:02, 25.03it/s]\u001b[A\n",
      "PGD - Iterations:  64%|███████████████████████████████████████▉                      | 129/200 [00:04<00:02, 25.62it/s]\u001b[A\n",
      "PGD - Iterations:  66%|████████████████████████████████████████▉                     | 132/200 [00:05<00:02, 25.98it/s]\u001b[A\n"
     ]
    },
    {
     "name": "stderr",
     "output_type": "stream",
     "text": [
      "PGD - Iterations:  68%|█████████████████████████████████████████▊                    | 135/200 [00:05<00:02, 25.63it/s]\u001b[A\n",
      "PGD - Iterations:  69%|██████████████████████████████████████████▊                   | 138/200 [00:05<00:02, 25.52it/s]\u001b[A\n",
      "PGD - Iterations:  70%|███████████████████████████████████████████▋                  | 141/200 [00:05<00:02, 25.71it/s]\u001b[A\n",
      "PGD - Iterations:  72%|████████████████████████████████████████████▋                 | 144/200 [00:05<00:02, 26.46it/s]\u001b[A\n",
      "PGD - Iterations:  74%|█████████████████████████████████████████████▌                | 147/200 [00:05<00:01, 26.63it/s]\u001b[A\n",
      "PGD - Iterations:  75%|██████████████████████████████████████████████▌               | 150/200 [00:05<00:01, 27.00it/s]\u001b[A\n",
      "PGD - Iterations:  76%|███████████████████████████████████████████████▍              | 153/200 [00:05<00:01, 25.85it/s]\u001b[A\n",
      "PGD - Iterations:  78%|████████████████████████████████████████████████▎             | 156/200 [00:05<00:01, 26.01it/s]\u001b[A\n",
      "PGD - Iterations:  80%|█████████████████████████████████████████████████▎            | 159/200 [00:06<00:01, 26.17it/s]\u001b[A\n",
      "PGD - Iterations:  81%|██████████████████████████████████████████████████▏           | 162/200 [00:06<00:01, 26.67it/s]\u001b[A\n",
      "PGD - Iterations:  82%|███████████████████████████████████████████████████▏          | 165/200 [00:06<00:01, 26.87it/s]\u001b[A\n",
      "PGD - Iterations:  84%|████████████████████████████████████████████████████          | 168/200 [00:06<00:01, 26.10it/s]\u001b[A\n",
      "PGD - Iterations:  86%|█████████████████████████████████████████████████████         | 171/200 [00:06<00:01, 26.18it/s]\u001b[A\n",
      "PGD - Iterations:  87%|█████████████████████████████████████████████████████▉        | 174/200 [00:06<00:00, 26.58it/s]\u001b[A\n",
      "PGD - Iterations:  88%|██████████████████████████████████████████████████████▊       | 177/200 [00:06<00:00, 26.53it/s]\u001b[A\n",
      "PGD - Iterations:  90%|███████████████████████████████████████████████████████▊      | 180/200 [00:06<00:00, 26.49it/s]\u001b[A\n",
      "PGD - Iterations:  92%|████████████████████████████████████████████████████████▋     | 183/200 [00:07<00:00, 26.18it/s]\u001b[A\n",
      "PGD - Iterations:  93%|█████████████████████████████████████████████████████████▋    | 186/200 [00:07<00:00, 26.51it/s]\u001b[A\n",
      "PGD - Iterations:  94%|██████████████████████████████████████████████████████████▌   | 189/200 [00:07<00:00, 25.41it/s]\u001b[A\n",
      "PGD - Iterations:  96%|███████████████████████████████████████████████████████████▌  | 192/200 [00:07<00:00, 25.43it/s]\u001b[A\n",
      "PGD - Iterations:  98%|████████████████████████████████████████████████████████████▍ | 195/200 [00:07<00:00, 25.32it/s]\u001b[A\n",
      "PGD - Iterations:  99%|█████████████████████████████████████████████████████████████▍| 198/200 [00:07<00:00, 25.82it/s]\u001b[A\n",
      "PGD - Random Initializations: 100%|██████████████████████████████████████████████████████| 1/1 [00:07<00:00,  7.69s/it]\u001b[A\n",
      "PGD - Random Initializations:   0%|                                                              | 0/1 [00:00<?, ?it/s]\n",
      "PGD - Iterations:   0%|                                                                        | 0/200 [00:00<?, ?it/s]\u001b[A\n",
      "PGD - Iterations:   2%|█▎                                                              | 4/200 [00:00<00:05, 33.99it/s]\u001b[A\n",
      "PGD - Iterations:   4%|██▌                                                             | 8/200 [00:00<00:05, 34.88it/s]\u001b[A\n",
      "PGD - Iterations:   6%|███▊                                                           | 12/200 [00:00<00:05, 35.03it/s]\u001b[A\n",
      "PGD - Iterations:   8%|█████                                                          | 16/200 [00:00<00:05, 34.47it/s]\u001b[A\n",
      "PGD - Iterations:  10%|██████▎                                                        | 20/200 [00:00<00:05, 34.77it/s]\u001b[A\n",
      "PGD - Iterations:  12%|███████▌                                                       | 24/200 [00:00<00:05, 34.71it/s]\u001b[A\n",
      "PGD - Iterations:  14%|████████▊                                                      | 28/200 [00:00<00:05, 34.32it/s]\u001b[A\n",
      "PGD - Iterations:  16%|██████████                                                     | 32/200 [00:00<00:04, 35.30it/s]\u001b[A\n",
      "PGD - Iterations:  18%|███████████▎                                                   | 36/200 [00:01<00:04, 35.08it/s]\u001b[A\n",
      "PGD - Iterations:  20%|████████████▌                                                  | 40/200 [00:01<00:04, 34.75it/s]\u001b[A\n",
      "PGD - Iterations:  22%|█████████████▊                                                 | 44/200 [00:01<00:04, 35.24it/s]\u001b[A\n",
      "PGD - Iterations:  24%|███████████████                                                | 48/200 [00:01<00:04, 33.55it/s]\u001b[A\n",
      "PGD - Iterations:  26%|████████████████▍                                              | 52/200 [00:01<00:04, 35.09it/s]\u001b[A\n",
      "PGD - Iterations:  28%|█████████████████▋                                             | 56/200 [00:01<00:04, 35.97it/s]\u001b[A\n",
      "PGD - Iterations:  30%|██████████████████▉                                            | 60/200 [00:01<00:03, 36.59it/s]\u001b[A\n",
      "PGD - Iterations:  32%|████████████████████▏                                          | 64/200 [00:01<00:03, 35.87it/s]\u001b[A\n",
      "PGD - Iterations:  34%|█████████████████████▍                                         | 68/200 [00:01<00:03, 35.68it/s]\u001b[A\n",
      "PGD - Iterations:  36%|██████████████████████▋                                        | 72/200 [00:02<00:03, 35.43it/s]\u001b[A\n",
      "PGD - Iterations:  38%|███████████████████████▉                                       | 76/200 [00:02<00:03, 35.55it/s]\u001b[A\n",
      "PGD - Iterations:  40%|█████████████████████████▏                                     | 80/200 [00:02<00:03, 35.72it/s]\u001b[A\n",
      "PGD - Iterations:  42%|██████████████████████████▍                                    | 84/200 [00:02<00:03, 34.73it/s]\u001b[A\n",
      "PGD - Iterations:  44%|███████████████████████████▋                                   | 88/200 [00:02<00:03, 35.32it/s]\u001b[A\n",
      "PGD - Iterations:  46%|████████████████████████████▉                                  | 92/200 [00:02<00:03, 35.00it/s]\u001b[A\n",
      "PGD - Iterations:  48%|██████████████████████████████▏                                | 96/200 [00:02<00:02, 35.52it/s]\u001b[A\n",
      "PGD - Iterations:  50%|███████████████████████████████                               | 100/200 [00:02<00:02, 34.86it/s]\u001b[A\n",
      "PGD - Iterations:  52%|████████████████████████████████▏                             | 104/200 [00:02<00:02, 35.80it/s]\u001b[A\n",
      "PGD - Iterations:  54%|█████████████████████████████████▍                            | 108/200 [00:03<00:02, 36.19it/s]\u001b[A\n",
      "PGD - Iterations:  56%|██████████████████████████████████▋                           | 112/200 [00:03<00:02, 36.87it/s]\u001b[A\n",
      "PGD - Iterations:  58%|███████████████████████████████████▉                          | 116/200 [00:03<00:02, 37.16it/s]\u001b[A\n",
      "PGD - Iterations:  60%|█████████████████████████████████████▏                        | 120/200 [00:03<00:02, 37.24it/s]\u001b[A\n",
      "PGD - Iterations:  62%|██████████████████████████████████████▍                       | 124/200 [00:03<00:02, 36.61it/s]\u001b[A\n",
      "PGD - Iterations:  64%|███████████████████████████████████████▋                      | 128/200 [00:03<00:01, 36.47it/s]\u001b[A\n",
      "PGD - Iterations:  66%|████████████████████████████████████████▉                     | 132/200 [00:03<00:01, 35.97it/s]\u001b[A\n",
      "PGD - Iterations:  68%|██████████████████████████████████████████▏                   | 136/200 [00:03<00:01, 35.44it/s]\u001b[A\n",
      "PGD - Iterations:  70%|███████████████████████████████████████████▍                  | 140/200 [00:03<00:01, 35.28it/s]\u001b[A\n",
      "PGD - Iterations:  72%|████████████████████████████████████████████▉                 | 145/200 [00:04<00:01, 37.25it/s]\u001b[A\n",
      "PGD - Iterations:  74%|██████████████████████████████████████████████▏               | 149/200 [00:04<00:01, 36.98it/s]\u001b[A\n",
      "PGD - Iterations:  76%|███████████████████████████████████████████████▍              | 153/200 [00:04<00:01, 36.75it/s]\u001b[A\n",
      "PGD - Iterations:  78%|████████████████████████████████████████████████▋             | 157/200 [00:04<00:01, 37.32it/s]\u001b[A\n",
      "PGD - Iterations:  80%|█████████████████████████████████████████████████▉            | 161/200 [00:04<00:01, 36.21it/s]\u001b[A\n",
      "PGD - Iterations:  82%|███████████████████████████████████████████████████▏          | 165/200 [00:04<00:00, 35.89it/s]\u001b[A\n"
     ]
    },
    {
     "name": "stderr",
     "output_type": "stream",
     "text": [
      "PGD - Iterations:  84%|████████████████████████████████████████████████████▍         | 169/200 [00:04<00:00, 36.56it/s]\u001b[A\n",
      "PGD - Iterations:  86%|█████████████████████████████████████████████████████▋        | 173/200 [00:04<00:00, 34.11it/s]\u001b[A\n",
      "PGD - Iterations:  88%|██████████████████████████████████████████████████████▊       | 177/200 [00:04<00:00, 34.96it/s]\u001b[A\n",
      "PGD - Iterations:  90%|████████████████████████████████████████████████████████      | 181/200 [00:05<00:00, 35.68it/s]\u001b[A\n",
      "PGD - Iterations:  92%|█████████████████████████████████████████████████████████▎    | 185/200 [00:05<00:00, 36.59it/s]\u001b[A\n",
      "PGD - Iterations:  94%|██████████████████████████████████████████████████████████▌   | 189/200 [00:05<00:00, 35.76it/s]\u001b[A\n",
      "PGD - Iterations:  96%|███████████████████████████████████████████████████████████▊  | 193/200 [00:05<00:00, 36.18it/s]\u001b[A\n",
      "PGD - Iterations:  98%|█████████████████████████████████████████████████████████████ | 197/200 [00:05<00:00, 36.36it/s]\u001b[A\n",
      "PGD - Random Initializations: 100%|██████████████████████████████████████████████████████| 1/1 [00:05<00:00,  5.60s/it]\u001b[A\n"
     ]
    }
   ],
   "source": [
    "attack = PoisoningAttackCleanLabelBackdoor(backdoor=backdoor, proxy_classifier=proxy.get_classifier(),\n",
    "                                           target=targets, pp_poison=percent_poison, norm=2, eps=5,\n",
    "                                           eps_step=0.1, max_iter=200)\n",
    "pdata, plabels = attack.poison(x_train, y_train)"
   ]
  },
  {
   "cell_type": "code",
   "execution_count": 17,
   "metadata": {},
   "outputs": [
    {
     "name": "stdout",
     "output_type": "stream",
     "text": [
      "751\n",
      "Label: 9\n"
     ]
    },
    {
     "data": {
      "image/png": "[encoded data removed]",
      "text/plain": [
       "<Figure size 432x288 with 1 Axes>"
      ]
     },
     "metadata": {
      "needs_background": "light"
     },
     "output_type": "display_data"
    }
   ],
   "source": [
    "poisoned = pdata[np.all(plabels == targets, axis=1)]\n",
    "poisoned_labels = plabels[np.all(plabels == targets, axis=1)]\n",
    "print(len(poisoned))\n",
    "idx = 0\n",
    "plt.imshow(poisoned[idx].squeeze())\n",
    "print(f\"Label: {np.argmax(poisoned_labels[idx])}\")"
   ]
  },
  {
   "cell_type": "code",
   "execution_count": 18,
   "metadata": {},
   "outputs": [
    {
     "name": "stdout",
     "output_type": "stream",
     "text": [
      "Epoch 1/10\n",
      "58/58 [==============================] - 10s 180ms/step - batch: 28.5000 - size: 128.0000 - loss: 0.7515 - acc: 0.75124s - batch: 13.5000 - size: 128.00\n",
      "Epoch 2/10\n",
      "58/58 [==============================] - 9s 161ms/step - batch: 28.5000 - size: 128.0000 - loss: 0.2465 - acc: 0.9281\n",
      "Epoch 3/10\n",
      "58/58 [==============================] - 9s 161ms/step - batch: 28.5000 - size: 128.0000 - loss: 0.1524 - acc: 0.9561\n",
      "Epoch 4/10\n",
      "58/58 [==============================] - 11s 182ms/step - batch: 28.5000 - size: 128.0000 - loss: 0.1123 - acc: 0.9651\n",
      "Epoch 5/10\n",
      "58/58 [==============================] - 10s 179ms/step - batch: 28.5000 - size: 128.0000 - loss: 0.0920 - acc: 0.9713\n",
      "Epoch 6/10\n",
      "58/58 [==============================] - 10s 179ms/step - batch: 28.5000 - size: 128.0000 - loss: 0.0816 - acc: 0.9758\n",
      "Epoch 7/10\n",
      "58/58 [==============================] - 11s 184ms/step - batch: 28.5000 - size: 128.0000 - loss: 0.0642 - acc: 0.97955s - batch: 12.0000 - size: 128\n",
      "Epoch 8/10\n",
      "58/58 [==============================] - 11s 182ms/step - batch: 28.5000 - size: 128.0000 - loss: 0.0521 - acc: 0.9860\n",
      "Epoch 9/10\n",
      "58/58 [==============================] - 11s 184ms/step - batch: 28.5000 - size: 128.0000 - loss: 0.0493 - acc: 0.9846\n",
      "Epoch 10/10\n",
      "58/58 [==============================] - 11s 184ms/step - batch: 28.5000 - size: 128.0000 - loss: 0.0418 - acc: 0.9869\n"
     ]
    }
   ],
   "source": [
    "model.fit(pdata, plabels, nb_epochs=10)"
   ]
  },
  {
   "cell_type": "code",
   "execution_count": 19,
   "metadata": {},
   "outputs": [
    {
     "name": "stdout",
     "output_type": "stream",
     "text": [
      "\n",
      "Clean test set accuracy: 97.90%\n"
     ]
    },
    {
     "data": {
      "image/png": "[encoded data removed]",
      "text/plain": [
       "<Figure size 432x288 with 1 Axes>"
      ]
     },
     "metadata": {
      "needs_background": "light"
     },
     "output_type": "display_data"
    },
    {
     "name": "stdout",
     "output_type": "stream",
     "text": [
      "Prediction: 0\n"
     ]
    }
   ],
   "source": [
    "clean_preds = np.argmax(model.predict(x_test), axis=1)\n",
    "clean_correct = np.sum(clean_preds == np.argmax(y_test, axis=1))\n",
    "clean_total = y_test.shape[0]\n",
    "\n",
    "clean_acc = clean_correct / clean_total\n",
    "print(\"\\nClean test set accuracy: %.2f%%\" % (clean_acc * 100))\n",
    "\n",
    "# Display image, label, and prediction for a clean sample to show how the poisoned model classifies a clean sample\n",
    "\n",
    "c = 0 # class to display\n",
    "i = 0 # image of the class to display\n",
    "\n",
    "c_idx = np.where(np.argmax(y_test, 1) == c)[0][i] # index of the image in clean arrays\n",
    "\n",
    "plt.imshow(x_test[c_idx].squeeze())\n",
    "plt.show()\n",
    "clean_label = c\n",
    "print(\"Prediction: \" + str(clean_preds[c_idx]))"
   ]
  },
  {
   "cell_type": "code",
   "execution_count": 24,
   "metadata": {},
   "outputs": [
    {
     "name": "stdout",
     "output_type": "stream",
     "text": [
      "\n",
      "Poison test set accuracy: 11.79%\n"
     ]
    },
    {
     "data": {
      "image/png": "[encoded data removed]",
      "text/plain": [
       "<Figure size 432x288 with 1 Axes>"
      ]
     },
     "metadata": {
      "needs_background": "light"
     },
     "output_type": "display_data"
    },
    {
     "name": "stdout",
     "output_type": "stream",
     "text": [
      "Prediction: 9\n"
     ]
    }
   ],
   "source": [
    "not_target = np.logical_not(np.all(y_test == targets, axis=1))\n",
    "px_test, py_test = backdoor.poison(x_test[not_target], y_test[not_target])\n",
    "\n",
    "poison_preds = np.argmax(model.predict(px_test), axis=1)\n",
    "#poison_correct = np.sum(poison_preds == np.argmax(py_test, axis=1))\n",
    "#poison_total = py_test.shape[0]\n",
    "\n",
    "clean_correct = np.sum(poison_preds == np.argmax(y_test[not_target], axis=1))\n",
    "clean_total = y_test.shape[0]\n",
    "\n",
    "clean_acc = clean_correct / clean_total\n",
    "print(\"\\nPoison test set accuracy: %.2f%%\" % (clean_acc * 100))\n",
    "\n",
    "c = 0 # index to display\n",
    "plt.imshow(px_test[c].squeeze())\n",
    "plt.show()\n",
    "clean_label = c\n",
    "print(\"Prediction: \" + str(poison_preds[c]))"
   ]
  },
  {
   "cell_type": "code",
   "execution_count": null,
   "metadata": {},
   "outputs": [],
   "source": []
  },
  {
   "cell_type": "code",
   "execution_count": null,
   "metadata": {},
   "outputs": [],
   "source": []
  }
 ],
 "metadata": {
  "kernelspec": {
   "display_name": "Python 3",
   "language": "python",
   "name": "python3"
  },
  "language_info": {
   "codemirror_mode": {
    "name": "ipython",
    "version": 3
   },
   "file_extension": ".py",
   "mimetype": "text/x-python",
   "name": "python",
   "nbconvert_exporter": "python",
   "pygments_lexer": "ipython3",
   "version": "3.8.5"
  }
 },
 "nbformat": 4,
 "nbformat_minor": 2
}
