{
 "cells": [
  {
   "cell_type": "markdown",
   "metadata": {},
   "source": [
    "## MNIST"
   ]
  },
  {
   "cell_type": "markdown",
   "metadata": {},
   "source": [
    "In this first section, the base DeepFool attack is demonstrated on the MNIST dataset."
   ]
  },
  {
   "cell_type": "code",
   "execution_count": 1,
   "metadata": {},
   "outputs": [],
   "source": [
    "from __future__ import absolute_import, division, print_function, unicode_literals\n",
    "\n",
    "import sys\n",
    "sys.path.append(\"..\")\n",
    "\n",
    "%matplotlib inline\n",
    "\n",
    "import numpy as np\n",
    "\n",
    "from sklearn.metrics import classification_report\n",
    "\n",
    "import keras\n",
    "from keras import metrics\n",
    "from keras.preprocessing import image\n",
    "from keras.applications.resnet50 import ResNet50, preprocess_input\n",
    "from keras.layers import Dense, Flatten\n",
    "from keras.models import Model, load_model\n",
    "import keras.backend as k\n",
    "from matplotlib import pyplot as plt\n",
    "from IPython.display import clear_output\n",
    "\n",
    "from art.config import ART_DATA_PATH\n",
    "from art.estimators.classification import KerasClassifier\n",
    "from art.utils import to_categorical, load_dataset, get_file\n",
    "\n",
    "import warnings\n",
    "warnings.filterwarnings('ignore')\n",
    "import tensorflow as tf\n",
    "tf.compat.v1.disable_eager_execution()\n",
    "tf.compat.v1.logging.set_verbosity(tf.compat.v1.logging.ERROR)\n",
    "\n",
    "from algorithms.deepfool import DeepFool"
   ]
  },
  {
   "cell_type": "code",
   "execution_count": 2,
   "metadata": {},
   "outputs": [
    {
     "name": "stdout",
     "output_type": "stream",
     "text": [
      "468/468 [==============================] - 18s 37ms/step - batch: 233.5000 - size: 128.0000 - loss: 9.0167e-04 - tp: 59892.0000 - fp: 12.0000 - tn: 539124.0000 - fn: 12.0000 - categorical_accuracy: 0.9998 - precision: 0.9998 - recall: 0.9998 - auc: 1.0000\n"
     ]
    }
   ],
   "source": [
    "(x_train, y_train), (x_test, y_test), min_, max_ = load_dataset('mnist')\n",
    "\n",
    "path = get_file('mnist_cnn_original.h5', extract=False, path=ART_DATA_PATH,\n",
    "                url='https://www.dropbox.com/s/p2nyzne9chcerid/mnist_cnn_original.h5?dl=1')\n",
    "\n",
    "METRICS = [\n",
    "      keras.metrics.TruePositives(name='tp'),\n",
    "      keras.metrics.FalsePositives(name='fp'),\n",
    "      keras.metrics.TrueNegatives(name='tn'),\n",
    "      keras.metrics.FalseNegatives(name='fn'), \n",
    "      keras.metrics.CategoricalAccuracy(name='categorical_accuracy'),\n",
    "      keras.metrics.Precision(name='precision'),\n",
    "      keras.metrics.Recall(name='recall'),\n",
    "      keras.metrics.AUC(name='auc'),\n",
    "]\n",
    "\n",
    "classifier_model = load_model(path)\n",
    "classifier = KerasClassifier(clip_values=(min_, max_), model=classifier_model, use_logits=True)\n",
    "classifier_model.compile(loss='categorical_crossentropy', optimizer='adam', metrics=METRICS)\n",
    "classifier.fit(x_train, y_train, nb_epochs=1, batch_size=128, verbose=1)"
   ]
  },
  {
   "cell_type": "code",
   "execution_count": 3,
   "metadata": {},
   "outputs": [
    {
     "name": "stdout",
     "output_type": "stream",
     "text": [
      "Model: \"sequential\"\n",
      "_________________________________________________________________\n",
      "Layer (type)                 Output Shape              Param #   \n",
      "=================================================================\n",
      "conv2d_1 (Conv2D)            (None, 26, 26, 32)        320       \n",
      "_________________________________________________________________\n",
      "max_pooling2d_1 (MaxPooling2 (None, 13, 13, 32)        0         \n",
      "_________________________________________________________________\n",
      "conv2d_2 (Conv2D)            (None, 11, 11, 64)        18496     \n",
      "_________________________________________________________________\n",
      "max_pooling2d_2 (MaxPooling2 (None, 5, 5, 64)          0         \n",
      "_________________________________________________________________\n",
      "flatten_1 (Flatten)          (None, 1600)              0         \n",
      "_________________________________________________________________\n",
      "dense_1 (Dense)              (None, 128)               204928    \n",
      "_________________________________________________________________\n",
      "dense_2 (Dense)              (None, 10)                1290      \n",
      "=================================================================\n",
      "Total params: 225,034\n",
      "Trainable params: 225,034\n",
      "Non-trainable params: 0\n",
      "_________________________________________________________________\n"
     ]
    }
   ],
   "source": [
    "classifier_model.summary()\n",
    "pred = classifier.predict(x_test)\n",
    "x_test_pred = np.argmax(pred, axis=1)\n",
    "nb_correct_pred = np.sum(x_test_pred == np.argmax(y_test, axis=1))\n",
    "accuracy = np.mean(np.argmax(pred, axis=1) == np.argmax(y_test, axis=1))\n",
    "base_results = classifier.model.evaluate(x_test, y_test, verbose=1)"
   ]
  },
  {
   "cell_type": "code",
   "execution_count": 4,
   "metadata": {},
   "outputs": [
    {
     "name": "stdout",
     "output_type": "stream",
     "text": [
      "---Original test images---:\n",
      "Correctly classified: 9920\n",
      "Accuracy on test samples: 0.992000\n"
     ]
    },
    {
     "data": {
      "text/plain": [
       "{'loss': 0.0681226589658379,\n",
       " 'tp': 9920.0,\n",
       " 'fp': 80.0,\n",
       " 'tn': 89920.0,\n",
       " 'fn': 80.0,\n",
       " 'categorical_accuracy': 0.992,\n",
       " 'precision': 0.992,\n",
       " 'recall': 0.992,\n",
       " 'auc': 0.99718785}"
      ]
     },
     "execution_count": 4,
     "metadata": {},
     "output_type": "execute_result"
    }
   ],
   "source": [
    "print(f\"---Original test images---:\")\n",
    "print(\"Correctly classified: {}\".format(nb_correct_pred))\n",
    "print(\"Accuracy on test samples: %f\" % accuracy)\n",
    "dict(zip(classifier.model.metrics_names, base_results))"
   ]
  },
  {
   "cell_type": "code",
   "execution_count": 5,
   "metadata": {},
   "outputs": [
    {
     "name": "stderr",
     "output_type": "stream",
     "text": [
      "Targeted model should output logits, not probabilities for predictions.\n",
      "DeepFool: 100%|██████████| 10000/10000 [41:41<00:00,  4.00it/s]\n"
     ]
    }
   ],
   "source": [
    "attacker = DeepFool(classifier)\n",
    "x_test_adv = attacker.generate(x_test)"
   ]
  },
  {
   "cell_type": "code",
   "execution_count": 6,
   "metadata": {},
   "outputs": [
    {
     "name": "stdout",
     "output_type": "stream",
     "text": [
      "9305\n"
     ]
    },
    {
     "data": {
      "text/plain": [
       "{'loss': 0.8877479232385777,\n",
       " 'tp': 9297.0,\n",
       " 'fp': 682.0,\n",
       " 'tn': 89318.0,\n",
       " 'fn': 703.0,\n",
       " 'categorical_accuracy': 0.9305,\n",
       " 'precision': 0.9316565,\n",
       " 'recall': 0.9297,\n",
       " 'auc': 0.9677834}"
      ]
     },
     "execution_count": 6,
     "metadata": {},
     "output_type": "execute_result"
    }
   ],
   "source": [
    "preds = np.argmax(classifier.predict(x_test_adv), axis=1)\n",
    "acc = np.sum(preds == np.argmax(y_test, axis=1)) / y_test.shape[0]\n",
    "\n",
    "adv_results = classifier.model.evaluate(x_test_adv, y_test, verbose=1)\n",
    "\n",
    "print(np.sum(preds == np.argmax(y_test, axis=1)))\n",
    "dict(zip(classifier.model.metrics_names, adv_results))"
   ]
  },
  {
   "cell_type": "markdown",
   "metadata": {},
   "source": [
    "## CFAIR-10"
   ]
  },
  {
   "cell_type": "code",
   "execution_count": 2,
   "metadata": {},
   "outputs": [],
   "source": [
    "import logging\n",
    "\n",
    "from keras.models import Sequential\n",
    "from keras.layers import Dense, Flatten, Conv2D, MaxPooling2D, Activation, Dropout"
   ]
  },
  {
   "cell_type": "code",
   "execution_count": 3,
   "metadata": {},
   "outputs": [],
   "source": [
    "logger = logging.getLogger()\n",
    "logger.setLevel(logging.INFO)\n",
    "handler = logging.StreamHandler()\n",
    "formatter = logging.Formatter(\"[%(levelname)s] %(message)s\")\n",
    "handler.setFormatter(formatter)\n",
    "logger.addHandler(handler)"
   ]
  },
  {
   "cell_type": "code",
   "execution_count": 4,
   "metadata": {},
   "outputs": [],
   "source": [
    "(x_train, y_train), (x_test, y_test), min_, max_ = load_dataset(str(\"cifar10\"))"
   ]
  },
  {
   "cell_type": "code",
   "execution_count": 5,
   "metadata": {},
   "outputs": [],
   "source": [
    "METRICS = [\n",
    "      keras.metrics.TruePositives(name='tp'),\n",
    "      keras.metrics.FalsePositives(name='fp'),\n",
    "      keras.metrics.TrueNegatives(name='tn'),\n",
    "      keras.metrics.FalseNegatives(name='fn'), \n",
    "      keras.metrics.CategoricalAccuracy(name='categorical_accuracy'),\n",
    "      keras.metrics.Precision(name='precision'),\n",
    "      keras.metrics.Recall(name='recall'),\n",
    "      keras.metrics.AUC(name='auc'),\n",
    "]\n",
    "\n",
    "model = Sequential()\n",
    "model.add(Conv2D(32, (3, 3), padding=\"same\", input_shape=x_train.shape[1:]))\n",
    "model.add(Activation(\"relu\"))\n",
    "model.add(Conv2D(32, (3, 3)))\n",
    "model.add(Activation(\"relu\"))\n",
    "model.add(MaxPooling2D(pool_size=(2, 2)))\n",
    "model.add(Dropout(0.25))\n",
    "\n",
    "model.add(Conv2D(64, (3, 3), padding=\"same\"))\n",
    "model.add(Activation(\"relu\"))\n",
    "model.add(Conv2D(64, (3, 3)))\n",
    "model.add(Activation(\"relu\"))\n",
    "model.add(MaxPooling2D(pool_size=(2, 2)))\n",
    "model.add(Dropout(0.25))\n",
    "\n",
    "model.add(Flatten())\n",
    "model.add(Dense(512))\n",
    "model.add(Activation(\"relu\"))\n",
    "model.add(Dropout(0.5))\n",
    "model.add(Dense(10))\n",
    "model.add(Activation(\"softmax\"))\n",
    "\n",
    "model.compile(loss=\"categorical_crossentropy\", optimizer=\"adam\", metrics=METRICS)"
   ]
  },
  {
   "cell_type": "code",
   "execution_count": 6,
   "metadata": {},
   "outputs": [
    {
     "name": "stderr",
     "output_type": "stream",
     "text": [
      "[INFO] Inferred 17 hidden layers on Keras classifier.\n"
     ]
    }
   ],
   "source": [
    "classifier = KerasClassifier(model=model, clip_values=(min_, max_))\n",
    "classifier.fit(x_train, y_train, nb_epochs=15, batch_size=128, verbose=0)"
   ]
  },
  {
   "cell_type": "code",
   "execution_count": 7,
   "metadata": {},
   "outputs": [
    {
     "name": "stdout",
     "output_type": "stream",
     "text": [
      "Classifier results before attack: \n"
     ]
    },
    {
     "data": {
      "text/plain": [
       "{'loss': 0.644457839679718,\n",
       " 'tp': 7431.0,\n",
       " 'fp': 1455.0,\n",
       " 'tn': 88545.0,\n",
       " 'fn': 2569.0,\n",
       " 'categorical_accuracy': 0.7854,\n",
       " 'precision': 0.8362593,\n",
       " 'recall': 0.7431,\n",
       " 'auc': 0.9740894}"
      ]
     },
     "execution_count": 7,
     "metadata": {},
     "output_type": "execute_result"
    }
   ],
   "source": [
    "preds = np.argmax(classifier.predict(x_test), axis=1)\n",
    "acc = np.sum(preds == np.argmax(y_test, axis=1)) / y_test.shape[0]\n",
    "base_results = classifier.model.evaluate(x_test, y_test, verbose=1)\n",
    "print(\"Classifier results before attack: \")\n",
    "dict(zip(classifier.model.metrics_names, base_results))"
   ]
  },
  {
   "cell_type": "code",
   "execution_count": 8,
   "metadata": {},
   "outputs": [
    {
     "name": "stderr",
     "output_type": "stream",
     "text": [
      "[INFO] Create DeepFool attack\n",
      "[INFO] Craft attack test examples\n",
      "[WARNING] Targeted model should output logits, not probabilities for predictions.\n",
      "DeepFool: 100%|██████████| 10000/10000 [23:48<00:00,  7.00it/s] \n",
      "[INFO] DeepFool attack success rate: 88.58%\n"
     ]
    }
   ],
   "source": [
    "logger.info(\"Create DeepFool attack\")\n",
    "adv_crafter = DeepFool(classifier)\n",
    "#logger.info(\"Craft attack on training examples\")\n",
    "#x_train_adv = adv_crafter.generate(x_train)\n",
    "logger.info(\"Craft attack test examples\")\n",
    "x_test_adv = adv_crafter.generate(x_test)"
   ]
  },
  {
   "cell_type": "code",
   "execution_count": 9,
   "metadata": {},
   "outputs": [
    {
     "name": "stderr",
     "output_type": "stream",
     "text": [
      "[INFO] Classifier after adversarial training\n",
      "[INFO] Accuracy on adversarial samples: 16.02%\n"
     ]
    },
    {
     "name": "stdout",
     "output_type": "stream",
     "text": [
      "Classifier results after attack: \n"
     ]
    },
    {
     "data": {
      "text/plain": [
       "{'loss': 4.734081149291992,\n",
       " 'tp': 397.0,\n",
       " 'fp': 5385.0,\n",
       " 'tn': 84615.0,\n",
       " 'fn': 9603.0,\n",
       " 'categorical_accuracy': 0.1602,\n",
       " 'precision': 0.06866136,\n",
       " 'recall': 0.0397,\n",
       " 'auc': 0.7188941}"
      ]
     },
     "execution_count": 9,
     "metadata": {},
     "output_type": "execute_result"
    }
   ],
   "source": [
    "preds = np.argmax(classifier.predict(x_test_adv), axis=1)\n",
    "acc = np.sum(preds == np.argmax(y_test, axis=1)) / y_test.shape[0]\n",
    "logger.info(\"Classifier after adversarial training\")\n",
    "logger.info(\"Accuracy on adversarial samples: %.2f%%\", (acc * 100))\n",
    "adv_results = classifier.model.evaluate(x_test_adv, y_test, verbose=1)\n",
    "print(\"Classifier results after attack: \")\n",
    "dict(zip(classifier.model.metrics_names, adv_results))"
   ]
  },
  {
   "cell_type": "markdown",
   "metadata": {},
   "source": [
    "## Extension"
   ]
  },
  {
   "cell_type": "markdown",
   "metadata": {},
   "source": [
    "In this extension, FastDeepFool was implemented to have a dynamic epsilon value for its overshooting correction parameter, which logarithmically decreases as the attack progresses. This allows for larger corrections early on, with finer tuning as it goes."
   ]
  },
  {
   "cell_type": "code",
   "execution_count": 4,
   "metadata": {},
   "outputs": [],
   "source": [
    "from algorithms.dynamic_deepfool import DynamicDeepFool"
   ]
  },
  {
   "cell_type": "code",
   "execution_count": 5,
   "metadata": {},
   "outputs": [],
   "source": [
    "(x_train, y_train), (x_test, y_test), min_, max_ = load_dataset(str(\"cifar10\"))"
   ]
  },
  {
   "cell_type": "code",
   "execution_count": 6,
   "metadata": {},
   "outputs": [],
   "source": [
    "METRICS = [\n",
    "      keras.metrics.TruePositives(name='tp'),\n",
    "      keras.metrics.FalsePositives(name='fp'),\n",
    "      keras.metrics.TrueNegatives(name='tn'),\n",
    "      keras.metrics.FalseNegatives(name='fn'), \n",
    "      keras.metrics.CategoricalAccuracy(name='categorical_accuracy'),\n",
    "      keras.metrics.Precision(name='precision'),\n",
    "      keras.metrics.Recall(name='recall'),\n",
    "      keras.metrics.AUC(name='auc'),\n",
    "]\n",
    "\n",
    "model = Sequential()\n",
    "model.add(Conv2D(32, (3, 3), padding=\"same\", input_shape=x_train.shape[1:]))\n",
    "model.add(Activation(\"relu\"))\n",
    "model.add(Conv2D(32, (3, 3)))\n",
    "model.add(Activation(\"relu\"))\n",
    "model.add(MaxPooling2D(pool_size=(2, 2)))\n",
    "model.add(Dropout(0.25))\n",
    "\n",
    "model.add(Conv2D(64, (3, 3), padding=\"same\"))\n",
    "model.add(Activation(\"relu\"))\n",
    "model.add(Conv2D(64, (3, 3)))\n",
    "model.add(Activation(\"relu\"))\n",
    "model.add(MaxPooling2D(pool_size=(2, 2)))\n",
    "model.add(Dropout(0.25))\n",
    "\n",
    "model.add(Flatten())\n",
    "model.add(Dense(512))\n",
    "model.add(Activation(\"relu\"))\n",
    "model.add(Dropout(0.5))\n",
    "model.add(Dense(10))\n",
    "model.add(Activation(\"softmax\"))\n",
    "\n",
    "model.compile(loss=\"categorical_crossentropy\", optimizer=\"adam\", metrics=METRICS)"
   ]
  },
  {
   "cell_type": "code",
   "execution_count": 7,
   "metadata": {},
   "outputs": [
    {
     "name": "stderr",
     "output_type": "stream",
     "text": [
      "[INFO] Inferred 17 hidden layers on Keras classifier.\n"
     ]
    },
    {
     "name": "stdout",
     "output_type": "stream",
     "text": [
      "Epoch 1/15\n",
      "390/390 [==============================] - 68s 175ms/step - batch: 194.5000 - size: 128.0000 - loss: 1.5701 - tp: 9845.0000 - fp: 4716.0000 - tn: 444564.0000 - fn: 40075.0000 - categorical_accuracy: 0.4245 - precision: 0.6761 - recall: 0.1972 - auc: 0.8544\n",
      "Epoch 2/15\n",
      "390/390 [==============================] - 66s 169ms/step - batch: 194.5000 - size: 128.0000 - loss: 1.1667 - tp: 20712.0000 - fp: 7198.0000 - tn: 442082.0000 - fn: 29208.0000 - categorical_accuracy: 0.5875 - precision: 0.7421 - recall: 0.4149 - auc: 0.9226\n",
      "Epoch 3/15\n",
      "390/390 [==============================] - 67s 171ms/step - batch: 194.5000 - size: 128.0000 - loss: 1.0031 - tp: 25360.0000 - fp: 7261.0000 - tn: 442019.0000 - fn: 24560.0000 - categorical_accuracy: 0.6468 - precision: 0.7774 - recall: 0.5080 - auc: 0.9428\n",
      "Epoch 4/15\n",
      "390/390 [==============================] - 69s 176ms/step - batch: 194.5000 - size: 128.0000 - loss: 0.8980 - tp: 28359.0000 - fp: 7141.0000 - tn: 442139.0000 - fn: 21561.0000 - categorical_accuracy: 0.6835 - precision: 0.7988 - recall: 0.5681 - auc: 0.9539\n",
      "Epoch 5/15\n",
      "390/390 [==============================] - 67s 172ms/step - batch: 194.5000 - size: 128.0000 - loss: 0.8238 - tp: 30243.0000 - fp: 6921.0000 - tn: 442359.0000 - fn: 19677.0000 - categorical_accuracy: 0.7114 - precision: 0.8138 - recall: 0.6058 - auc: 0.9608\n",
      "Epoch 6/15\n",
      "390/390 [==============================] - 68s 174ms/step - batch: 194.5000 - size: 128.0000 - loss: 0.7646 - tp: 31848.0000 - fp: 6832.0000 - tn: 442448.0000 - fn: 18072.0000 - categorical_accuracy: 0.7311 - precision: 0.8234 - recall: 0.6380 - auc: 0.9660\n",
      "Epoch 7/15\n",
      "390/390 [==============================] - 71s 181ms/step - batch: 194.5000 - size: 128.0000 - loss: 0.7107 - tp: 33268.0000 - fp: 6596.0000 - tn: 442684.0000 - fn: 16652.0000 - categorical_accuracy: 0.7506 - precision: 0.8345 - recall: 0.6664 - auc: 0.9705s - batch: 185.0000 - size: 128.0000 - loss: 0.7129 - tp: 31565.0000 - fp: 6264.0000 - tn: 421128.0000 - fn: 15923.0000 - categorical_accuracy: 0.7494 - precisio\n",
      "Epoch 8/15\n",
      "390/390 [==============================] - 67s 172ms/step - batch: 194.5000 - size: 128.0000 - loss: 0.6704 - tp: 34254.0000 - fp: 6484.0000 - tn: 442796.0000 - fn: 15666.0000 - categorical_accuracy: 0.7633 - precision: 0.8408 - recall: 0.6862 - auc: 0.9735\n",
      "Epoch 9/15\n",
      "390/390 [==============================] - 68s 173ms/step - batch: 194.5000 - size: 128.0000 - loss: 0.6329 - tp: 35399.0000 - fp: 6304.0000 - tn: 442976.0000 - fn: 14521.0000 - categorical_accuracy: 0.7800 - precision: 0.8488 - recall: 0.7091 - auc: 0.9762\n",
      "Epoch 10/15\n",
      "390/390 [==============================] - 67s 171ms/step - batch: 194.5000 - size: 128.0000 - loss: 0.5959 - tp: 36254.0000 - fp: 6228.0000 - tn: 443052.0000 - fn: 13666.0000 - categorical_accuracy: 0.7896 - precision: 0.8534 - recall: 0.7262 - auc: 0.9787\n",
      "Epoch 11/15\n",
      "390/390 [==============================] - 66s 169ms/step - batch: 194.5000 - size: 128.0000 - loss: 0.5805 - tp: 36704.0000 - fp: 6075.0000 - tn: 443205.0000 - fn: 13216.0000 - categorical_accuracy: 0.7951 - precision: 0.8580 - recall: 0.7353 - auc: 0.9796\n",
      "Epoch 12/15\n",
      "390/390 [==============================] - 64s 165ms/step - batch: 194.5000 - size: 128.0000 - loss: 0.5455 - tp: 37591.0000 - fp: 5862.0000 - tn: 443418.0000 - fn: 12329.0000 - categorical_accuracy: 0.8075 - precision: 0.8651 - recall: 0.7530 - auc: 0.9818\n",
      "Epoch 13/15\n",
      "390/390 [==============================] - 67s 172ms/step - batch: 194.5000 - size: 128.0000 - loss: 0.5145 - tp: 38374.0000 - fp: 5670.0000 - tn: 443610.0000 - fn: 11546.0000 - categorical_accuracy: 0.8185 - precision: 0.8713 - recall: 0.7687 - auc: 0.9837\n",
      "Epoch 14/15\n",
      "390/390 [==============================] - 69s 176ms/step - batch: 194.5000 - size: 128.0000 - loss: 0.5128 - tp: 38427.0000 - fp: 5692.0000 - tn: 443588.0000 - fn: 11493.0000 - categorical_accuracy: 0.8199 - precision: 0.8710 - recall: 0.7698 - auc: 0.9836\n",
      "Epoch 15/15\n",
      "390/390 [==============================] - 67s 173ms/step - batch: 194.5000 - size: 128.0000 - loss: 0.4902 - tp: 39101.0000 - fp: 5549.0000 - tn: 443731.0000 - fn: 10819.0000 - categorical_accuracy: 0.8276 - precision: 0.8757 - recall: 0.7833 - auc: 0.9851\n"
     ]
    }
   ],
   "source": [
    "classifier = KerasClassifier(model=model, clip_values=(min_, max_))\n",
    "classifier.fit(x_train, y_train, nb_epochs=15, batch_size=128, verbose=1)"
   ]
  },
  {
   "cell_type": "code",
   "execution_count": 8,
   "metadata": {},
   "outputs": [
    {
     "name": "stdout",
     "output_type": "stream",
     "text": [
      "Classifier results before attack: \n"
     ]
    },
    {
     "data": {
      "text/plain": [
       "{'loss': 0.6376115732192993,\n",
       " 'tp': 7388.0,\n",
       " 'fp': 1408.0,\n",
       " 'tn': 88592.0,\n",
       " 'fn': 2612.0,\n",
       " 'categorical_accuracy': 0.7827,\n",
       " 'precision': 0.83992726,\n",
       " 'recall': 0.7388,\n",
       " 'auc': 0.97513795}"
      ]
     },
     "execution_count": 8,
     "metadata": {},
     "output_type": "execute_result"
    }
   ],
   "source": [
    "preds = np.argmax(classifier.predict(x_test), axis=1)\n",
    "acc = np.sum(preds == np.argmax(y_test, axis=1)) / y_test.shape[0]\n",
    "base_results = classifier.model.evaluate(x_test, y_test, verbose=1)\n",
    "print(\"Classifier results before attack: \")\n",
    "dict(zip(classifier.model.metrics_names, base_results))"
   ]
  },
  {
   "cell_type": "code",
   "execution_count": 9,
   "metadata": {},
   "outputs": [
    {
     "name": "stderr",
     "output_type": "stream",
     "text": [
      "[INFO] Create DeepFool attack\n",
      "[INFO] Craft attack on test examples\n",
      "[WARNING] Targeted model should output logits, not probabilities for predictions.\n",
      "DeepFool: 100%|██████████| 10000/10000 [24:21<00:00,  6.84it/s] \n",
      "[INFO] DeepFool attack success rate: 97.99%\n"
     ]
    }
   ],
   "source": [
    "logger.info(\"Create DeepFool attack\")\n",
    "adv_crafter = DynamicDeepFool(classifier)\n",
    "logger.info(\"Craft attack on test examples\")\n",
    "x_test_adv = adv_crafter.generate(x_test)"
   ]
  },
  {
   "cell_type": "code",
   "execution_count": 10,
   "metadata": {},
   "outputs": [
    {
     "name": "stderr",
     "output_type": "stream",
     "text": [
      "[INFO] Classifier after adversarial training\n",
      "[INFO] Accuracy on adversarial samples: 14.19%\n"
     ]
    },
    {
     "name": "stdout",
     "output_type": "stream",
     "text": [
      "Classifier results after attack: \n"
     ]
    },
    {
     "data": {
      "text/plain": [
       "{'loss': 3.283737688446045,\n",
       " 'tp': 366.0,\n",
       " 'fp': 4831.0,\n",
       " 'tn': 85169.0,\n",
       " 'fn': 9634.0,\n",
       " 'categorical_accuracy': 0.1419,\n",
       " 'precision': 0.07042524,\n",
       " 'recall': 0.0366,\n",
       " 'auc': 0.7628513}"
      ]
     },
     "execution_count": 10,
     "metadata": {},
     "output_type": "execute_result"
    }
   ],
   "source": [
    "preds = np.argmax(classifier.predict(x_test_adv), axis=1)\n",
    "acc = np.sum(preds == np.argmax(y_test, axis=1)) / y_test.shape[0]\n",
    "logger.info(\"Classifier after adversarial training\")\n",
    "logger.info(\"Accuracy on adversarial samples: %.2f%%\", (acc * 100))\n",
    "adv_results = classifier.model.evaluate(x_test_adv, y_test, verbose=1)\n",
    "print(\"Classifier results after attack: \")\n",
    "dict(zip(classifier.model.metrics_names, adv_results))"
   ]
  },
  {
   "cell_type": "code",
   "execution_count": null,
   "metadata": {},
   "outputs": [],
   "source": []
  }
 ],
 "metadata": {
  "kernelspec": {
   "display_name": "Python 3",
   "language": "python",
   "name": "python3"
  },
  "language_info": {
   "codemirror_mode": {
    "name": "ipython",
    "version": 3
   },
   "file_extension": ".py",
   "mimetype": "text/x-python",
   "name": "python",
   "nbconvert_exporter": "python",
   "pygments_lexer": "ipython3",
   "version": "3.8.3"
  }
 },
 "nbformat": 4,
 "nbformat_minor": 4
}
