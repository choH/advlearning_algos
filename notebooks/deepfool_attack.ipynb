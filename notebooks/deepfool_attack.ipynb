{
 "cells": [
  {
   "cell_type": "markdown",
   "metadata": {},
   "source": [
    "## MNIST"
   ]
  },
  {
   "cell_type": "markdown",
   "metadata": {},
   "source": [
    "In this first section, the base DeepFool attack is demonstrated on the MNIST dataset."
   ]
  },
  {
   "cell_type": "code",
   "execution_count": 1,
   "metadata": {},
   "outputs": [],
   "source": [
    "from __future__ import absolute_import, division, print_function, unicode_literals\n",
    "\n",
    "import sys\n",
    "sys.path.append(\"..\")\n",
    "\n",
    "%matplotlib inline\n",
    "\n",
    "import numpy as np\n",
    "\n",
    "from sklearn.metrics import classification_report\n",
    "\n",
    "import keras\n",
    "from keras import metrics\n",
    "from keras.preprocessing import image\n",
    "from keras.applications.resnet50 import ResNet50, preprocess_input\n",
    "from keras.layers import Dense, Flatten\n",
    "from keras.models import Model, load_model\n",
    "import keras.backend as k\n",
    "from matplotlib import pyplot as plt\n",
    "from IPython.display import clear_output\n",
    "\n",
    "from art.config import ART_DATA_PATH\n",
    "from art.estimators.classification import KerasClassifier\n",
    "from art.utils import to_categorical, load_dataset, get_file\n",
    "\n",
    "import warnings\n",
    "warnings.filterwarnings('ignore')\n",
    "import tensorflow as tf\n",
    "tf.compat.v1.disable_eager_execution()\n",
    "tf.compat.v1.logging.set_verbosity(tf.compat.v1.logging.ERROR)\n",
    "\n",
    "from algorithms.deepfool import DeepFool"
   ]
  },
  {
   "cell_type": "code",
   "execution_count": 2,
   "metadata": {},
   "outputs": [
    {
     "name": "stdout",
     "output_type": "stream",
     "text": [
      "468/468 [==============================] - 19s 40ms/step - batch: 233.5000 - size: 128.0000 - loss: 3.4592e-04 - tp: 59900.0000 - fp: 4.0000 - tn: 539132.0000 - fn: 4.0000 - categorical_accuracy: 0.9999 - precision: 0.9999 - recall: 0.9999 - auc: 1.0000\n"
     ]
    }
   ],
   "source": [
    "(x_train, y_train), (x_test, y_test), min_, max_ = load_dataset('mnist')\n",
    "\n",
    "path = get_file('mnist_cnn_original.h5', extract=False, path=ART_DATA_PATH,\n",
    "                url='https://www.dropbox.com/s/p2nyzne9chcerid/mnist_cnn_original.h5?dl=1')\n",
    "\n",
    "METRICS = [\n",
    "      keras.metrics.TruePositives(name='tp'),\n",
    "      keras.metrics.FalsePositives(name='fp'),\n",
    "      keras.metrics.TrueNegatives(name='tn'),\n",
    "      keras.metrics.FalseNegatives(name='fn'), \n",
    "      keras.metrics.CategoricalAccuracy(name='categorical_accuracy'),\n",
    "      keras.metrics.Precision(name='precision'),\n",
    "      keras.metrics.Recall(name='recall'),\n",
    "      keras.metrics.AUC(name='auc'),\n",
    "]\n",
    "\n",
    "classifier_model = load_model(path)\n",
    "classifier = KerasClassifier(clip_values=(min_, max_), model=classifier_model, use_logits=True)\n",
    "classifier_model.compile(loss='categorical_crossentropy', optimizer='adam', metrics=METRICS)\n",
    "classifier.fit(x_train, y_train, nb_epochs=1, batch_size=128, verbose=1)"
   ]
  },
  {
   "cell_type": "code",
   "execution_count": 3,
   "metadata": {},
   "outputs": [
    {
     "name": "stdout",
     "output_type": "stream",
     "text": [
      "Model: \"sequential\"\n",
      "_________________________________________________________________\n",
      "Layer (type)                 Output Shape              Param #   \n",
      "=================================================================\n",
      "conv2d_1 (Conv2D)            (None, 26, 26, 32)        320       \n",
      "_________________________________________________________________\n",
      "max_pooling2d_1 (MaxPooling2 (None, 13, 13, 32)        0         \n",
      "_________________________________________________________________\n",
      "conv2d_2 (Conv2D)            (None, 11, 11, 64)        18496     \n",
      "_________________________________________________________________\n",
      "max_pooling2d_2 (MaxPooling2 (None, 5, 5, 64)          0         \n",
      "_________________________________________________________________\n",
      "flatten_1 (Flatten)          (None, 1600)              0         \n",
      "_________________________________________________________________\n",
      "dense_1 (Dense)              (None, 128)               204928    \n",
      "_________________________________________________________________\n",
      "dense_2 (Dense)              (None, 10)                1290      \n",
      "=================================================================\n",
      "Total params: 225,034\n",
      "Trainable params: 225,034\n",
      "Non-trainable params: 0\n",
      "_________________________________________________________________\n"
     ]
    }
   ],
   "source": [
    "classifier_model.summary()\n",
    "pred = classifier.predict(x_test)\n",
    "x_test_pred = np.argmax(pred, axis=1)\n",
    "nb_correct_pred = np.sum(x_test_pred == np.argmax(y_test, axis=1))\n",
    "accuracy = np.mean(np.argmax(pred, axis=1) == np.argmax(y_test, axis=1))\n",
    "base_results = classifier.model.evaluate(x_test, y_test, verbose=1)"
   ]
  },
  {
   "cell_type": "code",
   "execution_count": 4,
   "metadata": {},
   "outputs": [
    {
     "name": "stdout",
     "output_type": "stream",
     "text": [
      "---Original test images---:\n",
      "Correctly classified: 9928\n",
      "Accuracy on test samples: 0.992800\n"
     ]
    },
    {
     "data": {
      "text/plain": [
       "{'loss': 0.06432244380980565,\n",
       " 'tp': 9928.0,\n",
       " 'fp': 72.0,\n",
       " 'tn': 89928.0,\n",
       " 'fn': 72.0,\n",
       " 'categorical_accuracy': 0.9928,\n",
       " 'precision': 0.9928,\n",
       " 'recall': 0.9928,\n",
       " 'auc': 0.9972277}"
      ]
     },
     "execution_count": 4,
     "metadata": {},
     "output_type": "execute_result"
    }
   ],
   "source": [
    "print(f\"---Original test images---:\")\n",
    "print(\"Correctly classified: {}\".format(nb_correct_pred))\n",
    "print(\"Accuracy on test samples: %f\" % accuracy)\n",
    "dict(zip(classifier.model.metrics_names, base_results))"
   ]
  },
  {
   "cell_type": "code",
   "execution_count": 5,
   "metadata": {},
   "outputs": [
    {
     "name": "stderr",
     "output_type": "stream",
     "text": [
      "Targeted model should output logits, not probabilities for predictions.\n",
      "DeepFool: 100%|██████████| 1000/1000 [04:25<00:00,  3.76it/s]\n"
     ]
    }
   ],
   "source": [
    "attacker = DeepFool(classifier)\n",
    "x_test_adv = attacker.generate(x_test[:1000])"
   ]
  },
  {
   "cell_type": "code",
   "execution_count": 6,
   "metadata": {},
   "outputs": [
    {
     "name": "stdout",
     "output_type": "stream",
     "text": [
      "923\n"
     ]
    },
    {
     "data": {
      "text/plain": [
       "{'loss': 0.9035765079259872,\n",
       " 'tp': 922.0,\n",
       " 'fp': 76.0,\n",
       " 'tn': 8924.0,\n",
       " 'fn': 78.0,\n",
       " 'categorical_accuracy': 0.923,\n",
       " 'precision': 0.9238477,\n",
       " 'recall': 0.922,\n",
       " 'auc': 0.96704066}"
      ]
     },
     "execution_count": 6,
     "metadata": {},
     "output_type": "execute_result"
    }
   ],
   "source": [
    "preds = np.argmax(classifier.predict(x_test_adv), axis=1)\n",
    "acc = np.sum(preds == np.argmax(y_test[:1000], axis=1)) / y_test[:1000].shape[0]\n",
    "\n",
    "adv_results = classifier.model.evaluate(x_test_adv, y_test[:1000], verbose=1)\n",
    "\n",
    "print(np.sum(preds == np.argmax(y_test[:1000], axis=1)))\n",
    "dict(zip(classifier.model.metrics_names, adv_results))"
   ]
  },
  {
   "cell_type": "markdown",
   "metadata": {},
   "source": [
    "## CFAIR-10"
   ]
  },
  {
   "cell_type": "code",
   "execution_count": 7,
   "metadata": {},
   "outputs": [],
   "source": [
    "import logging\n",
    "\n",
    "from keras.models import Sequential\n",
    "from keras.layers import Dense, Flatten, Conv2D, MaxPooling2D, Activation, Dropout"
   ]
  },
  {
   "cell_type": "code",
   "execution_count": 8,
   "metadata": {},
   "outputs": [],
   "source": [
    "logger = logging.getLogger()\n",
    "logger.setLevel(logging.INFO)\n",
    "handler = logging.StreamHandler()\n",
    "formatter = logging.Formatter(\"[%(levelname)s] %(message)s\")\n",
    "handler.setFormatter(formatter)\n",
    "logger.addHandler(handler)"
   ]
  },
  {
   "cell_type": "code",
   "execution_count": 9,
   "metadata": {},
   "outputs": [],
   "source": [
    "(x_train, y_train), (x_test, y_test), min_, max_ = load_dataset(str(\"cifar10\"))"
   ]
  },
  {
   "cell_type": "code",
   "execution_count": 10,
   "metadata": {},
   "outputs": [],
   "source": [
    "METRICS = [\n",
    "      keras.metrics.TruePositives(name='tp'),\n",
    "      keras.metrics.FalsePositives(name='fp'),\n",
    "      keras.metrics.TrueNegatives(name='tn'),\n",
    "      keras.metrics.FalseNegatives(name='fn'), \n",
    "      keras.metrics.CategoricalAccuracy(name='categorical_accuracy'),\n",
    "      keras.metrics.Precision(name='precision'),\n",
    "      keras.metrics.Recall(name='recall'),\n",
    "      keras.metrics.AUC(name='auc'),\n",
    "]\n",
    "\n",
    "model = Sequential()\n",
    "model.add(Conv2D(32, (3, 3), padding=\"same\", input_shape=x_train.shape[1:]))\n",
    "model.add(Activation(\"relu\"))\n",
    "model.add(Conv2D(32, (3, 3)))\n",
    "model.add(Activation(\"relu\"))\n",
    "model.add(MaxPooling2D(pool_size=(2, 2)))\n",
    "model.add(Dropout(0.25))\n",
    "\n",
    "model.add(Conv2D(64, (3, 3), padding=\"same\"))\n",
    "model.add(Activation(\"relu\"))\n",
    "model.add(Conv2D(64, (3, 3)))\n",
    "model.add(Activation(\"relu\"))\n",
    "model.add(MaxPooling2D(pool_size=(2, 2)))\n",
    "model.add(Dropout(0.25))\n",
    "\n",
    "model.add(Flatten())\n",
    "model.add(Dense(512))\n",
    "model.add(Activation(\"relu\"))\n",
    "model.add(Dropout(0.5))\n",
    "model.add(Dense(10))\n",
    "model.add(Activation(\"softmax\"))\n",
    "\n",
    "model.compile(loss=\"categorical_crossentropy\", optimizer=\"adam\", metrics=METRICS)"
   ]
  },
  {
   "cell_type": "code",
   "execution_count": 11,
   "metadata": {},
   "outputs": [
    {
     "name": "stderr",
     "output_type": "stream",
     "text": [
      "[INFO] Inferred 17 hidden layers on Keras classifier.\n"
     ]
    }
   ],
   "source": [
    "classifier = KerasClassifier(model=model, clip_values=(min_, max_))\n",
    "classifier.fit(x_train, y_train, nb_epochs=15, batch_size=128, verbose=0)"
   ]
  },
  {
   "cell_type": "code",
   "execution_count": 12,
   "metadata": {},
   "outputs": [
    {
     "name": "stdout",
     "output_type": "stream",
     "text": [
      "Classifier results before attack: \n"
     ]
    },
    {
     "data": {
      "text/plain": [
       "{'loss': 0.6200162759780884,\n",
       " 'tp': 7389.0,\n",
       " 'fp': 1342.0,\n",
       " 'tn': 88658.0,\n",
       " 'fn': 2611.0,\n",
       " 'categorical_accuracy': 0.7872,\n",
       " 'precision': 0.8462948,\n",
       " 'recall': 0.7389,\n",
       " 'auc': 0.9763044}"
      ]
     },
     "execution_count": 12,
     "metadata": {},
     "output_type": "execute_result"
    }
   ],
   "source": [
    "preds = np.argmax(classifier.predict(x_test), axis=1)\n",
    "acc = np.sum(preds == np.argmax(y_test, axis=1)) / y_test.shape[0]\n",
    "base_results = classifier.model.evaluate(x_test, y_test, verbose=1)\n",
    "print(\"Classifier results before attack: \")\n",
    "dict(zip(classifier.model.metrics_names, base_results))"
   ]
  },
  {
   "cell_type": "code",
   "execution_count": 13,
   "metadata": {},
   "outputs": [
    {
     "name": "stderr",
     "output_type": "stream",
     "text": [
      "[INFO] Create DeepFool attack\n",
      "[INFO] Craft attack test examples\n",
      "[WARNING] Targeted model should output logits, not probabilities for predictions.\n",
      "DeepFool: 100%|██████████| 500/500 [01:20<00:00,  6.19it/s]\n",
      "[INFO] DeepFool attack success rate: 87.60%\n"
     ]
    }
   ],
   "source": [
    "logger.info(\"Create DeepFool attack\")\n",
    "adv_crafter = DeepFool(classifier)\n",
    "#logger.info(\"Craft attack on training examples\")\n",
    "#x_train_adv = adv_crafter.generate(x_train)\n",
    "logger.info(\"Craft attack test examples\")\n",
    "x_test_adv = adv_crafter.generate(x_test[:500])"
   ]
  },
  {
   "cell_type": "code",
   "execution_count": 14,
   "metadata": {},
   "outputs": [
    {
     "name": "stderr",
     "output_type": "stream",
     "text": [
      "[INFO] Classifier after adversarial training\n",
      "[INFO] Accuracy on adversarial samples: 19.20%\n"
     ]
    },
    {
     "name": "stdout",
     "output_type": "stream",
     "text": [
      "Classifier results after attack: \n"
     ]
    },
    {
     "data": {
      "text/plain": [
       "{'loss': 3.783032844543457,\n",
       " 'tp': 15.0,\n",
       " 'fp': 251.0,\n",
       " 'tn': 4249.0,\n",
       " 'fn': 485.0,\n",
       " 'categorical_accuracy': 0.192,\n",
       " 'precision': 0.05639098,\n",
       " 'recall': 0.03,\n",
       " 'auc': 0.7463559}"
      ]
     },
     "execution_count": 14,
     "metadata": {},
     "output_type": "execute_result"
    }
   ],
   "source": [
    "preds = np.argmax(classifier.predict(x_test_adv), axis=1)\n",
    "acc = np.sum(preds == np.argmax(y_test[:500], axis=1)) / y_test[:500].shape[0]\n",
    "logger.info(\"Classifier after adversarial training\")\n",
    "logger.info(\"Accuracy on adversarial samples: %.2f%%\", (acc * 100))\n",
    "adv_results = classifier.model.evaluate(x_test_adv, y_test[:500], verbose=1)\n",
    "print(\"Classifier results after attack: \")\n",
    "dict(zip(classifier.model.metrics_names, adv_results))"
   ]
  },
  {
   "cell_type": "code",
   "execution_count": 15,
   "metadata": {},
   "outputs": [
    {
     "name": "stderr",
     "output_type": "stream",
     "text": [
      "[INFO] Inferred 17 hidden layers on Keras classifier.\n"
     ]
    }
   ],
   "source": [
    "classifier = KerasClassifier(model=model, clip_values=(min_, max_))\n",
    "classifier.fit(x_train, y_train, nb_epochs=15, batch_size=128, verbose=0)"
   ]
  },
  {
   "cell_type": "code",
   "execution_count": 16,
   "metadata": {},
   "outputs": [
    {
     "name": "stderr",
     "output_type": "stream",
     "text": [
      "[INFO] Create DeepFool attack\n",
      "[INFO] Craft attack test examples\n",
      "[WARNING] Targeted model should output logits, not probabilities for predictions.\n",
      "DeepFool: 100%|██████████| 500/500 [01:08<00:00,  7.30it/s]\n",
      "[INFO] DeepFool attack success rate: 90.20%\n"
     ]
    }
   ],
   "source": [
    "logger.info(\"Create DeepFool attack\")\n",
    "adv_crafter = DeepFool(classifier)\n",
    "#logger.info(\"Craft attack on training examples\")\n",
    "#x_train_adv = adv_crafter.generate(x_train)\n",
    "logger.info(\"Craft attack test examples\")\n",
    "x_test_adv = adv_crafter.generate(x_test[:500])"
   ]
  },
  {
   "cell_type": "code",
   "execution_count": 17,
   "metadata": {},
   "outputs": [
    {
     "name": "stderr",
     "output_type": "stream",
     "text": [
      "[INFO] Classifier after adversarial training\n",
      "[INFO] Accuracy on adversarial samples: 15.20%\n"
     ]
    },
    {
     "name": "stdout",
     "output_type": "stream",
     "text": [
      "Classifier results after attack: \n"
     ]
    },
    {
     "data": {
      "text/plain": [
       "{'loss': 5.0207947158813475,\n",
       " 'tp': 22.0,\n",
       " 'fp': 304.0,\n",
       " 'tn': 4196.0,\n",
       " 'fn': 478.0,\n",
       " 'categorical_accuracy': 0.152,\n",
       " 'precision': 0.06748466,\n",
       " 'recall': 0.044,\n",
       " 'auc': 0.70780313}"
      ]
     },
     "execution_count": 17,
     "metadata": {},
     "output_type": "execute_result"
    }
   ],
   "source": [
    "preds = np.argmax(classifier.predict(x_test_adv), axis=1)\n",
    "acc = np.sum(preds == np.argmax(y_test[:500], axis=1)) / y_test[:500].shape[0]\n",
    "logger.info(\"Classifier after adversarial training\")\n",
    "logger.info(\"Accuracy on adversarial samples: %.2f%%\", (acc * 100))\n",
    "adv_results = classifier.model.evaluate(x_test_adv, y_test[:500], verbose=1)\n",
    "print(\"Classifier results after attack: \")\n",
    "dict(zip(classifier.model.metrics_names, adv_results))"
   ]
  },
  {
   "cell_type": "code",
   "execution_count": 18,
   "metadata": {},
   "outputs": [
    {
     "name": "stderr",
     "output_type": "stream",
     "text": [
      "[INFO] Inferred 17 hidden layers on Keras classifier.\n"
     ]
    }
   ],
   "source": [
    "classifier = KerasClassifier(model=model, clip_values=(min_, max_))\n",
    "classifier.fit(x_train, y_train, nb_epochs=15, batch_size=128, verbose=0)"
   ]
  },
  {
   "cell_type": "code",
   "execution_count": 19,
   "metadata": {},
   "outputs": [
    {
     "name": "stderr",
     "output_type": "stream",
     "text": [
      "[INFO] Create DeepFool attack\n",
      "[INFO] Craft attack test examples\n",
      "[WARNING] Targeted model should output logits, not probabilities for predictions.\n",
      "DeepFool: 100%|██████████| 500/500 [00:48<00:00, 10.21it/s]\n",
      "[INFO] DeepFool attack success rate: 92.60%\n"
     ]
    }
   ],
   "source": [
    "logger.info(\"Create DeepFool attack\")\n",
    "adv_crafter = DeepFool(classifier)\n",
    "#logger.info(\"Craft attack on training examples\")\n",
    "#x_train_adv = adv_crafter.generate(x_train)\n",
    "logger.info(\"Craft attack test examples\")\n",
    "x_test_adv = adv_crafter.generate(x_test[:500])"
   ]
  },
  {
   "cell_type": "code",
   "execution_count": 20,
   "metadata": {},
   "outputs": [
    {
     "name": "stderr",
     "output_type": "stream",
     "text": [
      "[INFO] Classifier after adversarial training\n",
      "[INFO] Accuracy on adversarial samples: 14.80%\n"
     ]
    },
    {
     "name": "stdout",
     "output_type": "stream",
     "text": [
      "Classifier results after attack: \n"
     ]
    },
    {
     "data": {
      "text/plain": [
       "{'loss': 5.2573206329345705,\n",
       " 'tp': 33.0,\n",
       " 'fp': 319.0,\n",
       " 'tn': 4181.0,\n",
       " 'fn': 467.0,\n",
       " 'categorical_accuracy': 0.148,\n",
       " 'precision': 0.09375,\n",
       " 'recall': 0.066,\n",
       " 'auc': 0.6885616}"
      ]
     },
     "execution_count": 20,
     "metadata": {},
     "output_type": "execute_result"
    }
   ],
   "source": [
    "preds = np.argmax(classifier.predict(x_test_adv), axis=1)\n",
    "acc = np.sum(preds == np.argmax(y_test[:500], axis=1)) / y_test[:500].shape[0]\n",
    "logger.info(\"Classifier after adversarial training\")\n",
    "logger.info(\"Accuracy on adversarial samples: %.2f%%\", (acc * 100))\n",
    "adv_results = classifier.model.evaluate(x_test_adv, y_test[:500], verbose=1)\n",
    "print(\"Classifier results after attack: \")\n",
    "dict(zip(classifier.model.metrics_names, adv_results))"
   ]
  },
  {
   "cell_type": "markdown",
   "metadata": {},
   "source": [
    "## Extension"
   ]
  },
  {
   "cell_type": "markdown",
   "metadata": {},
   "source": [
    "In this extension, FastDeepFool was implemented to have a dynamic epsilon value for its overshooting correction parameter, which logarithmically decreases as the attack progresses. This allows for larger corrections early on, with finer tuning as it goes."
   ]
  },
  {
   "cell_type": "code",
   "execution_count": 21,
   "metadata": {},
   "outputs": [],
   "source": [
    "from algorithms.dynamic_deepfool import DynamicDeepFool"
   ]
  },
  {
   "cell_type": "code",
   "execution_count": 22,
   "metadata": {},
   "outputs": [],
   "source": [
    "(x_train, y_train), (x_test, y_test), min_, max_ = load_dataset(str(\"cifar10\"))"
   ]
  },
  {
   "cell_type": "code",
   "execution_count": 23,
   "metadata": {},
   "outputs": [],
   "source": [
    "METRICS = [\n",
    "      keras.metrics.TruePositives(name='tp'),\n",
    "      keras.metrics.FalsePositives(name='fp'),\n",
    "      keras.metrics.TrueNegatives(name='tn'),\n",
    "      keras.metrics.FalseNegatives(name='fn'), \n",
    "      keras.metrics.CategoricalAccuracy(name='categorical_accuracy'),\n",
    "      keras.metrics.Precision(name='precision'),\n",
    "      keras.metrics.Recall(name='recall'),\n",
    "      keras.metrics.AUC(name='auc'),\n",
    "]\n",
    "\n",
    "model = Sequential()\n",
    "model.add(Conv2D(32, (3, 3), padding=\"same\", input_shape=x_train.shape[1:]))\n",
    "model.add(Activation(\"relu\"))\n",
    "model.add(Conv2D(32, (3, 3)))\n",
    "model.add(Activation(\"relu\"))\n",
    "model.add(MaxPooling2D(pool_size=(2, 2)))\n",
    "model.add(Dropout(0.25))\n",
    "\n",
    "model.add(Conv2D(64, (3, 3), padding=\"same\"))\n",
    "model.add(Activation(\"relu\"))\n",
    "model.add(Conv2D(64, (3, 3)))\n",
    "model.add(Activation(\"relu\"))\n",
    "model.add(MaxPooling2D(pool_size=(2, 2)))\n",
    "model.add(Dropout(0.25))\n",
    "\n",
    "model.add(Flatten())\n",
    "model.add(Dense(512))\n",
    "model.add(Activation(\"relu\"))\n",
    "model.add(Dropout(0.5))\n",
    "model.add(Dense(10))\n",
    "model.add(Activation(\"softmax\"))\n",
    "\n",
    "model.compile(loss=\"categorical_crossentropy\", optimizer=\"adam\", metrics=METRICS)"
   ]
  },
  {
   "cell_type": "code",
   "execution_count": 24,
   "metadata": {},
   "outputs": [
    {
     "name": "stderr",
     "output_type": "stream",
     "text": [
      "[INFO] Inferred 17 hidden layers on Keras classifier.\n"
     ]
    },
    {
     "name": "stdout",
     "output_type": "stream",
     "text": [
      "Epoch 1/15\n",
      "390/390 [==============================] - 65s 167ms/step - batch: 194.5000 - size: 128.0000 - loss: 1.6524 - tp: 7903.0000 - fp: 4165.0000 - tn: 445115.0000 - fn: 42017.0000 - categorical_accuracy: 0.3918 - precision: 0.6549 - recall: 0.1583 - auc: 0.8363\n",
      "Epoch 2/15\n",
      "390/390 [==============================] - 65s 166ms/step - batch: 194.5000 - size: 128.0000 - loss: 1.2242 - tp: 19119.0000 - fp: 7086.0000 - tn: 442194.0000 - fn: 30801.0000 - categorical_accuracy: 0.5626 - precision: 0.7296 - recall: 0.3830 - auc: 0.9148\n",
      "Epoch 3/15\n",
      "390/390 [==============================] - 65s 166ms/step - batch: 194.5000 - size: 128.0000 - loss: 1.0515 - tp: 24078.0000 - fp: 7425.0000 - tn: 441855.0000 - fn: 25842.0000 - categorical_accuracy: 0.6306 - precision: 0.7643 - recall: 0.4823 - auc: 0.9371\n",
      "Epoch 4/15\n",
      "390/390 [==============================] - 64s 165ms/step - batch: 194.5000 - size: 128.0000 - loss: 0.9291 - tp: 27520.0000 - fp: 7296.0000 - tn: 441984.0000 - fn: 22400.0000 - categorical_accuracy: 0.6718 - precision: 0.7904 - recall: 0.5513 - auc: 0.9508\n",
      "Epoch 5/15\n",
      "390/390 [==============================] - 65s 165ms/step - batch: 194.5000 - size: 128.0000 - loss: 0.8417 - tp: 29758.0000 - fp: 7147.0000 - tn: 442133.0000 - fn: 20162.0000 - categorical_accuracy: 0.7017 - precision: 0.8063 - recall: 0.5961 - auc: 0.9593\n",
      "Epoch 6/15\n",
      "390/390 [==============================] - 65s 166ms/step - batch: 194.5000 - size: 128.0000 - loss: 0.7808 - tp: 31642.0000 - fp: 6902.0000 - tn: 442378.0000 - fn: 18278.0000 - categorical_accuracy: 0.7270 - precision: 0.8209 - recall: 0.6339 - auc: 0.9647\n",
      "Epoch 7/15\n",
      "390/390 [==============================] - 65s 167ms/step - batch: 194.5000 - size: 128.0000 - loss: 0.7147 - tp: 33272.0000 - fp: 6714.0000 - tn: 442566.0000 - fn: 16648.0000 - categorical_accuracy: 0.7489 - precision: 0.8321 - recall: 0.6665 - auc: 0.9701\n",
      "Epoch 8/15\n",
      "390/390 [==============================] - 65s 166ms/step - batch: 194.5000 - size: 128.0000 - loss: 0.6816 - tp: 34137.0000 - fp: 6608.0000 - tn: 442672.0000 - fn: 15783.0000 - categorical_accuracy: 0.7613 - precision: 0.8378 - recall: 0.6838 - auc: 0.9725\n",
      "Epoch 9/15\n",
      "390/390 [==============================] - 65s 167ms/step - batch: 194.5000 - size: 128.0000 - loss: 0.6429 - tp: 35117.0000 - fp: 6418.0000 - tn: 442862.0000 - fn: 14803.0000 - categorical_accuracy: 0.7737 - precision: 0.8455 - recall: 0.7035 - auc: 0.9755\n",
      "Epoch 10/15\n",
      "390/390 [==============================] - 65s 166ms/step - batch: 194.5000 - size: 128.0000 - loss: 0.6064 - tp: 36023.0000 - fp: 6224.0000 - tn: 443056.0000 - fn: 13897.0000 - categorical_accuracy: 0.7872 - precision: 0.8527 - recall: 0.7216 - auc: 0.9781\n",
      "Epoch 11/15\n",
      "390/390 [==============================] - 65s 166ms/step - batch: 194.5000 - size: 128.0000 - loss: 0.5813 - tp: 36789.0000 - fp: 6153.0000 - tn: 443127.0000 - fn: 13131.0000 - categorical_accuracy: 0.7972 - precision: 0.8567 - recall: 0.7370 - auc: 0.9795\n",
      "Epoch 12/15\n",
      "390/390 [==============================] - 65s 167ms/step - batch: 194.5000 - size: 128.0000 - loss: 0.5560 - tp: 37415.0000 - fp: 5843.0000 - tn: 443437.0000 - fn: 12505.0000 - categorical_accuracy: 0.8060 - precision: 0.8649 - recall: 0.7495 - auc: 0.9812\n",
      "Epoch 13/15\n",
      "390/390 [==============================] - 64s 164ms/step - batch: 194.5000 - size: 128.0000 - loss: 0.5403 - tp: 37726.0000 - fp: 5848.0000 - tn: 443432.0000 - fn: 12194.0000 - categorical_accuracy: 0.8107 - precision: 0.8658 - recall: 0.7557 - auc: 0.9820\n",
      "Epoch 14/15\n",
      "390/390 [==============================] - 63s 163ms/step - batch: 194.5000 - size: 128.0000 - loss: 0.5093 - tp: 38547.0000 - fp: 5744.0000 - tn: 443536.0000 - fn: 11373.0000 - categorical_accuracy: 0.8205 - precision: 0.8703 - recall: 0.7722 - auc: 0.9840\n",
      "Epoch 15/15\n",
      "390/390 [==============================] - 64s 164ms/step - batch: 194.5000 - size: 128.0000 - loss: 0.4891 - tp: 39082.0000 - fp: 5554.0000 - tn: 443726.0000 - fn: 10838.0000 - categorical_accuracy: 0.8294 - precision: 0.8756 - recall: 0.7829 - auc: 0.9851\n"
     ]
    }
   ],
   "source": [
    "classifier = KerasClassifier(model=model, clip_values=(min_, max_))\n",
    "classifier.fit(x_train, y_train, nb_epochs=15, batch_size=128, verbose=1)"
   ]
  },
  {
   "cell_type": "code",
   "execution_count": 25,
   "metadata": {},
   "outputs": [
    {
     "name": "stdout",
     "output_type": "stream",
     "text": [
      "Classifier results before attack: \n"
     ]
    },
    {
     "data": {
      "text/plain": [
       "{'loss': 0.5499661130905151,\n",
       " 'tp': 383.0,\n",
       " 'fp': 60.0,\n",
       " 'tn': 4440.0,\n",
       " 'fn': 117.0,\n",
       " 'categorical_accuracy': 0.814,\n",
       " 'precision': 0.8645598,\n",
       " 'recall': 0.766,\n",
       " 'auc': 0.9806411}"
      ]
     },
     "execution_count": 25,
     "metadata": {},
     "output_type": "execute_result"
    }
   ],
   "source": [
    "preds = np.argmax(classifier.predict(x_test[:500]), axis=1)\n",
    "acc = np.sum(preds == np.argmax(y_test[:500], axis=1)) / y_test[:500].shape[0]\n",
    "base_results = classifier.model.evaluate(x_test[:500], y_test[:500], verbose=1)\n",
    "print(\"Classifier results before attack: \")\n",
    "dict(zip(classifier.model.metrics_names, base_results))"
   ]
  },
  {
   "cell_type": "code",
   "execution_count": 26,
   "metadata": {},
   "outputs": [
    {
     "name": "stderr",
     "output_type": "stream",
     "text": [
      "[INFO] Create DeepFool attack\n",
      "[INFO] Craft attack on test examples\n",
      "[WARNING] Targeted model should output logits, not probabilities for predictions.\n",
      "DeepFool: 100%|██████████| 500/500 [01:11<00:00,  6.96it/s]\n",
      "[INFO] DeepFool attack success rate: 97.60%\n"
     ]
    }
   ],
   "source": [
    "logger.info(\"Create DeepFool attack\")\n",
    "adv_crafter = DynamicDeepFool(classifier)\n",
    "logger.info(\"Craft attack on test examples\")\n",
    "x_test_adv = adv_crafter.generate(x_test[:500])"
   ]
  },
  {
   "cell_type": "code",
   "execution_count": 27,
   "metadata": {},
   "outputs": [
    {
     "name": "stderr",
     "output_type": "stream",
     "text": [
      "[INFO] Classifier after adversarial training\n",
      "[INFO] Accuracy on adversarial samples: 12.20%\n"
     ]
    },
    {
     "name": "stdout",
     "output_type": "stream",
     "text": [
      "Classifier results after attack: \n"
     ]
    },
    {
     "data": {
      "text/plain": [
       "{'loss': 3.938795997619629,\n",
       " 'tp': 17.0,\n",
       " 'fp': 264.0,\n",
       " 'tn': 4236.0,\n",
       " 'fn': 483.0,\n",
       " 'categorical_accuracy': 0.122,\n",
       " 'precision': 0.06049822,\n",
       " 'recall': 0.034,\n",
       " 'auc': 0.7303899}"
      ]
     },
     "execution_count": 27,
     "metadata": {},
     "output_type": "execute_result"
    }
   ],
   "source": [
    "preds = np.argmax(classifier.predict(x_test_adv), axis=1)\n",
    "acc = np.sum(preds == np.argmax(y_test[:500], axis=1)) / y_test[:500].shape[0]\n",
    "logger.info(\"Classifier after adversarial training\")\n",
    "logger.info(\"Accuracy on adversarial samples: %.2f%%\", (acc * 100))\n",
    "adv_results = classifier.model.evaluate(x_test_adv, y_test[:500], verbose=1)\n",
    "print(\"Classifier results after attack: \")\n",
    "dict(zip(classifier.model.metrics_names, adv_results))"
   ]
  },
  {
   "cell_type": "code",
   "execution_count": 30,
   "metadata": {},
   "outputs": [
    {
     "name": "stderr",
     "output_type": "stream",
     "text": [
      "[INFO] Inferred 17 hidden layers on Keras classifier.\n"
     ]
    }
   ],
   "source": [
    "classifier = KerasClassifier(model=model, clip_values=(min_, max_))\n",
    "classifier.fit(x_train, y_train, nb_epochs=15, batch_size=128, verbose=0)"
   ]
  },
  {
   "cell_type": "code",
   "execution_count": 31,
   "metadata": {},
   "outputs": [
    {
     "name": "stderr",
     "output_type": "stream",
     "text": [
      "[INFO] Create DeepFool attack\n",
      "[INFO] Craft attack on test examples\n",
      "[WARNING] Targeted model should output logits, not probabilities for predictions.\n",
      "DeepFool: 100%|██████████| 500/500 [00:56<00:00,  8.78it/s]\n",
      "[INFO] DeepFool attack success rate: 98.60%\n"
     ]
    }
   ],
   "source": [
    "logger.info(\"Create DeepFool attack\")\n",
    "adv_crafter = DynamicDeepFool(classifier)\n",
    "logger.info(\"Craft attack on test examples\")\n",
    "x_test_adv = adv_crafter.generate(x_test[:500])"
   ]
  },
  {
   "cell_type": "code",
   "execution_count": 32,
   "metadata": {},
   "outputs": [
    {
     "name": "stderr",
     "output_type": "stream",
     "text": [
      "[INFO] Classifier after adversarial training\n",
      "[INFO] Accuracy on adversarial samples: 11.60%\n"
     ]
    },
    {
     "name": "stdout",
     "output_type": "stream",
     "text": [
      "Classifier results after attack: \n"
     ]
    },
    {
     "data": {
      "text/plain": [
       "{'loss': 5.571189750671387,\n",
       " 'tp': 26.0,\n",
       " 'fp': 334.0,\n",
       " 'tn': 4166.0,\n",
       " 'fn': 474.0,\n",
       " 'categorical_accuracy': 0.116,\n",
       " 'precision': 0.072222225,\n",
       " 'recall': 0.052,\n",
       " 'auc': 0.69014335}"
      ]
     },
     "execution_count": 32,
     "metadata": {},
     "output_type": "execute_result"
    }
   ],
   "source": [
    "preds = np.argmax(classifier.predict(x_test_adv), axis=1)\n",
    "acc = np.sum(preds == np.argmax(y_test[:500], axis=1)) / y_test[:500].shape[0]\n",
    "logger.info(\"Classifier after adversarial training\")\n",
    "logger.info(\"Accuracy on adversarial samples: %.2f%%\", (acc * 100))\n",
    "adv_results = classifier.model.evaluate(x_test_adv, y_test[:500], verbose=1)\n",
    "print(\"Classifier results after attack: \")\n",
    "dict(zip(classifier.model.metrics_names, adv_results))"
   ]
  },
  {
   "cell_type": "code",
   "execution_count": 33,
   "metadata": {},
   "outputs": [
    {
     "name": "stderr",
     "output_type": "stream",
     "text": [
      "[INFO] Inferred 17 hidden layers on Keras classifier.\n"
     ]
    }
   ],
   "source": [
    "classifier = KerasClassifier(model=model, clip_values=(min_, max_))\n",
    "classifier.fit(x_train, y_train, nb_epochs=15, batch_size=128, verbose=0)"
   ]
  },
  {
   "cell_type": "code",
   "execution_count": 34,
   "metadata": {},
   "outputs": [
    {
     "name": "stderr",
     "output_type": "stream",
     "text": [
      "[INFO] Create DeepFool attack\n",
      "[INFO] Craft attack on test examples\n",
      "[WARNING] Targeted model should output logits, not probabilities for predictions.\n",
      "DeepFool: 100%|██████████| 500/500 [00:54<00:00,  9.21it/s]\n",
      "[INFO] DeepFool attack success rate: 98.40%\n"
     ]
    }
   ],
   "source": [
    "logger.info(\"Create DeepFool attack\")\n",
    "adv_crafter = DynamicDeepFool(classifier)\n",
    "logger.info(\"Craft attack on test examples\")\n",
    "x_test_adv = adv_crafter.generate(x_test[:500])"
   ]
  },
  {
   "cell_type": "code",
   "execution_count": 35,
   "metadata": {},
   "outputs": [
    {
     "name": "stderr",
     "output_type": "stream",
     "text": [
      "[INFO] Classifier after adversarial training\n",
      "[INFO] Accuracy on adversarial samples: 13.40%\n"
     ]
    },
    {
     "name": "stdout",
     "output_type": "stream",
     "text": [
      "Classifier results after attack: \n"
     ]
    },
    {
     "data": {
      "text/plain": [
       "{'loss': 4.564453834533691,\n",
       " 'tp': 21.0,\n",
       " 'fp': 313.0,\n",
       " 'tn': 4187.0,\n",
       " 'fn': 479.0,\n",
       " 'categorical_accuracy': 0.134,\n",
       " 'precision': 0.06287425,\n",
       " 'recall': 0.042,\n",
       " 'auc': 0.7094519}"
      ]
     },
     "execution_count": 35,
     "metadata": {},
     "output_type": "execute_result"
    }
   ],
   "source": [
    "preds = np.argmax(classifier.predict(x_test_adv), axis=1)\n",
    "acc = np.sum(preds == np.argmax(y_test[:500], axis=1)) / y_test[:500].shape[0]\n",
    "logger.info(\"Classifier after adversarial training\")\n",
    "logger.info(\"Accuracy on adversarial samples: %.2f%%\", (acc * 100))\n",
    "adv_results = classifier.model.evaluate(x_test_adv, y_test[:500], verbose=1)\n",
    "print(\"Classifier results after attack: \")\n",
    "dict(zip(classifier.model.metrics_names, adv_results))"
   ]
  },
  {
   "cell_type": "code",
   "execution_count": null,
   "metadata": {},
   "outputs": [],
   "source": []
  }
 ],
 "metadata": {
  "kernelspec": {
   "display_name": "Python 3",
   "language": "python",
   "name": "python3"
  },
  "language_info": {
   "codemirror_mode": {
    "name": "ipython",
    "version": 3
   },
   "file_extension": ".py",
   "mimetype": "text/x-python",
   "name": "python",
   "nbconvert_exporter": "python",
   "pygments_lexer": "ipython3",
   "version": "3.8.3"
  }
 },
 "nbformat": 4,
 "nbformat_minor": 4
}
