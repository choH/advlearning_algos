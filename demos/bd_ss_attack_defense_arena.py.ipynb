{
 "cells": [
  {
   "cell_type": "code",
   "execution_count": 106,
   "metadata": {},
   "outputs": [
    {
     "name": "stdout",
     "output_type": "stream",
     "text": [
      "1.15.0\n"
     ]
    }
   ],
   "source": [
    "import warnings\n",
    "warnings.filterwarnings('ignore')\n",
    "from keras.models import load_model\n",
    "\n",
    "from art.config import ART_DATA_PATH\n",
    "from art.utils import load_dataset, get_file\n",
    "from art.estimators.classification import KerasClassifier\n",
    "from art.attacks.evasion import BasicIterativeMethod\n",
    "\n",
    "import imagenet_stubs\n",
    "from imagenet_stubs.imagenet_2012_labels import name_to_label, label_to_name\n",
    "from keras.applications.resnet50 import ResNet50, preprocess_input\n",
    "from keras.preprocessing import image\n",
    "\n",
    "\n",
    "from fast_gradient_sign_method import FastGradientSignMethod\n",
    "from hop_skip_jump import HopSkipJump\n",
    "from deepfool import DeepFool\n",
    "from dynamic_deepfool import DynamicDeepFool\n",
    "\n",
    "\n",
    "import numpy as np\n",
    "import timeit\n",
    "# %matplotlib inline\n",
    "import matplotlib.pyplot as plt\n",
    "import tensorflow as tf\n",
    "# tf.compat.v1.disable_eager_execution()\n",
    "tf.compat.v1.logging.set_verbosity(tf.compat.v1.logging.ERROR)\n",
    "print(tf.__version__)"
   ]
  },
  {
   "cell_type": "code",
   "execution_count": 107,
   "metadata": {},
   "outputs": [],
   "source": [
    "(x_train, y_train), (x_test, y_test), min_, max_ = load_dataset('mnist')\n",
    "path = get_file('mnist_cnn_original.h5', extract=False, path=ART_DATA_PATH,\n",
    "                url='https://www.dropbox.com/s/p2nyzne9chcerid/mnist_cnn_original.h5?dl=1')\n",
    "classifier_model = load_model(path)\n",
    "\n",
    "# (x_train, y_train), (x_test, y_test), min_, max_ = load_dataset('cifar10')\n",
    "# path = get_file('cifar_resnet.h5',extract=False, path=ART_DATA_PATH,\n",
    "#                 url='https://www.dropbox.com/s/ta75pl4krya5djj/cifar_resnet.h5?dl=1')\n",
    "# classifier_model = load_model(path)"
   ]
  },
  {
   "cell_type": "code",
   "execution_count": 108,
   "metadata": {},
   "outputs": [
    {
     "name": "stdout",
     "output_type": "stream",
     "text": [
      "Original test data (first 250 images):\n",
      "Correctly classified: 249\n",
      "Incorrectly classified: 1\n"
     ]
    }
   ],
   "source": [
    "# test_num = adv_num = len(x_test)\n",
    "test_num = adv_num = 250\n",
    "# test_num = 10\n",
    "# adv_num = 10\n",
    "\n",
    "\n",
    "classifier = KerasClassifier(clip_values=(min_, max_), model=classifier_model, use_logits=False)\n",
    "\n",
    "# classifier_model.summary()\n",
    "x_test_pred = np.argmax(classifier.predict(x_test[:test_num]), axis=1)\n",
    "nb_correct_pred = np.sum(x_test_pred == np.argmax(y_test[:test_num], axis=1))\n",
    "print(f\"Original test data (first {test_num} images):\")\n",
    "print(\"Correctly classified: {}\".format(nb_correct_pred))\n",
    "print(\"Incorrectly classified: {}\".format(test_num-nb_correct_pred))"
   ]
  },
  {
   "cell_type": "code",
   "execution_count": 109,
   "metadata": {},
   "outputs": [
    {
     "name": "stderr",
     "output_type": "stream",
     "text": [
      "\n",
      "\n",
      "\n",
      "\n",
      "\n",
      "Hop Skip Jump attack progress:   0%|          | 0/250 [00:00<?, ?it/s]\u001b[A\u001b[A\u001b[A\u001b[A\u001b[A"
     ]
    },
    {
     "name": "stdout",
     "output_type": "stream",
     "text": [
      "initial sample started\n",
      "Found adv candidate example with different label, proceed to this direction.\n"
     ]
    },
    {
     "name": "stderr",
     "output_type": "stream",
     "text": [
      "\n",
      "\n",
      "\n",
      "\n",
      "\n",
      "Hop Skip Jump attack progress:   0%|          | 1/250 [00:01<05:09,  1.24s/it]\u001b[A\u001b[A\u001b[A\u001b[A\u001b[A"
     ]
    },
    {
     "name": "stdout",
     "output_type": "stream",
     "text": [
      "initial sample started\n",
      "Found adv candidate example with different label, proceed to this direction.\n"
     ]
    },
    {
     "name": "stderr",
     "output_type": "stream",
     "text": [
      "\n",
      "\n",
      "\n",
      "\n",
      "\n",
      "Hop Skip Jump attack progress:   1%|          | 2/250 [00:02<05:09,  1.25s/it]\u001b[A\u001b[A\u001b[A\u001b[A\u001b[A"
     ]
    },
    {
     "name": "stdout",
     "output_type": "stream",
     "text": [
      "initial sample started\n",
      "Found adv candidate example with different label, proceed to this direction.\n"
     ]
    },
    {
     "name": "stderr",
     "output_type": "stream",
     "text": [
      "\n",
      "\n",
      "\n",
      "\n",
      "\n",
      "Hop Skip Jump attack progress:   1%|          | 3/250 [00:03<05:02,  1.23s/it]\u001b[A\u001b[A\u001b[A\u001b[A\u001b[A"
     ]
    },
    {
     "name": "stdout",
     "output_type": "stream",
     "text": [
      "initial sample started\n",
      "Found adv candidate example with different label, proceed to this direction.\n"
     ]
    },
    {
     "name": "stderr",
     "output_type": "stream",
     "text": [
      "\n",
      "\n",
      "\n",
      "\n",
      "\n",
      "Hop Skip Jump attack progress:   2%|▏         | 4/250 [00:04<04:52,  1.19s/it]\u001b[A\u001b[A\u001b[A\u001b[A\u001b[A"
     ]
    },
    {
     "name": "stdout",
     "output_type": "stream",
     "text": [
      "initial sample started\n",
      "Found adv candidate example with different label, proceed to this direction.\n"
     ]
    },
    {
     "name": "stderr",
     "output_type": "stream",
     "text": [
      "\n",
      "\n",
      "\n",
      "\n",
      "\n",
      "Hop Skip Jump attack progress:   2%|▏         | 5/250 [00:05<04:52,  1.19s/it]\u001b[A\u001b[A\u001b[A\u001b[A\u001b[A"
     ]
    },
    {
     "name": "stdout",
     "output_type": "stream",
     "text": [
      "initial sample started\n",
      "Found adv candidate example with different label, proceed to this direction.\n"
     ]
    },
    {
     "name": "stderr",
     "output_type": "stream",
     "text": [
      "\n",
      "\n",
      "\n",
      "\n",
      "\n",
      "Hop Skip Jump attack progress:   2%|▏         | 6/250 [00:07<04:57,  1.22s/it]\u001b[A\u001b[A\u001b[A\u001b[A\u001b[A"
     ]
    },
    {
     "name": "stdout",
     "output_type": "stream",
     "text": [
      "initial sample started\n",
      "Found adv candidate example with different label, proceed to this direction.\n"
     ]
    },
    {
     "name": "stderr",
     "output_type": "stream",
     "text": [
      "\n",
      "\n",
      "\n",
      "\n",
      "\n",
      "Hop Skip Jump attack progress:   3%|▎         | 7/250 [00:08<05:00,  1.24s/it]\u001b[A\u001b[A\u001b[A\u001b[A\u001b[A"
     ]
    },
    {
     "name": "stdout",
     "output_type": "stream",
     "text": [
      "initial sample started\n",
      "Found adv candidate example with different label, proceed to this direction.\n"
     ]
    },
    {
     "name": "stderr",
     "output_type": "stream",
     "text": [
      "\n",
      "\n",
      "\n",
      "\n",
      "\n",
      "Hop Skip Jump attack progress:   3%|▎         | 8/250 [00:09<05:00,  1.24s/it]\u001b[A\u001b[A\u001b[A\u001b[A\u001b[A"
     ]
    },
    {
     "name": "stdout",
     "output_type": "stream",
     "text": [
      "initial sample started\n",
      "Found adv candidate example with different label, proceed to this direction.\n"
     ]
    },
    {
     "name": "stderr",
     "output_type": "stream",
     "text": [
      "\n",
      "\n",
      "\n",
      "\n",
      "\n",
      "Hop Skip Jump attack progress:   4%|▎         | 9/250 [00:10<04:49,  1.20s/it]\u001b[A\u001b[A\u001b[A\u001b[A\u001b[A"
     ]
    },
    {
     "name": "stdout",
     "output_type": "stream",
     "text": [
      "initial sample started\n",
      "Found adv candidate example with different label, proceed to this direction.\n"
     ]
    },
    {
     "name": "stderr",
     "output_type": "stream",
     "text": [
      "\n",
      "\n",
      "\n",
      "\n",
      "\n",
      "Hop Skip Jump attack progress:   4%|▍         | 10/250 [00:12<04:48,  1.20s/it]\u001b[A\u001b[A\u001b[A\u001b[A\u001b[A"
     ]
    },
    {
     "name": "stdout",
     "output_type": "stream",
     "text": [
      "initial sample started\n",
      "Found adv candidate example with different label, proceed to this direction.\n"
     ]
    },
    {
     "name": "stderr",
     "output_type": "stream",
     "text": [
      "\n",
      "\n",
      "\n",
      "\n",
      "\n",
      "Hop Skip Jump attack progress:   4%|▍         | 11/250 [00:13<04:48,  1.21s/it]\u001b[A\u001b[A\u001b[A\u001b[A\u001b[A"
     ]
    },
    {
     "name": "stdout",
     "output_type": "stream",
     "text": [
      "initial sample started\n",
      "Found adv candidate example with different label, proceed to this direction.\n"
     ]
    },
    {
     "name": "stderr",
     "output_type": "stream",
     "text": [
      "\n",
      "\n",
      "\n",
      "\n",
      "\n",
      "Hop Skip Jump attack progress:   5%|▍         | 12/250 [00:14<04:48,  1.21s/it]\u001b[A\u001b[A\u001b[A\u001b[A\u001b[A"
     ]
    },
    {
     "name": "stdout",
     "output_type": "stream",
     "text": [
      "initial sample started\n",
      "Found adv candidate example with different label, proceed to this direction.\n"
     ]
    },
    {
     "name": "stderr",
     "output_type": "stream",
     "text": [
      "\n",
      "\n",
      "\n",
      "\n",
      "\n",
      "Hop Skip Jump attack progress:   5%|▌         | 13/250 [00:15<04:51,  1.23s/it]\u001b[A\u001b[A\u001b[A\u001b[A\u001b[A"
     ]
    },
    {
     "name": "stdout",
     "output_type": "stream",
     "text": [
      "initial sample started\n",
      "Found adv candidate example with different label, proceed to this direction.\n"
     ]
    },
    {
     "name": "stderr",
     "output_type": "stream",
     "text": [
      "\n",
      "\n",
      "\n",
      "\n",
      "\n",
      "Hop Skip Jump attack progress:   6%|▌         | 14/250 [00:17<04:50,  1.23s/it]\u001b[A\u001b[A\u001b[A\u001b[A\u001b[A"
     ]
    },
    {
     "name": "stdout",
     "output_type": "stream",
     "text": [
      "initial sample started\n",
      "Found adv candidate example with different label, proceed to this direction.\n"
     ]
    },
    {
     "name": "stderr",
     "output_type": "stream",
     "text": [
      "\n",
      "\n",
      "\n",
      "\n",
      "\n",
      "Hop Skip Jump attack progress:   6%|▌         | 15/250 [00:18<04:44,  1.21s/it]\u001b[A\u001b[A\u001b[A\u001b[A\u001b[A"
     ]
    },
    {
     "name": "stdout",
     "output_type": "stream",
     "text": [
      "initial sample started\n",
      "Found adv candidate example with different label, proceed to this direction.\n"
     ]
    },
    {
     "name": "stderr",
     "output_type": "stream",
     "text": [
      "\n",
      "\n",
      "\n",
      "\n",
      "\n",
      "Hop Skip Jump attack progress:   6%|▋         | 16/250 [00:19<04:29,  1.15s/it]\u001b[A\u001b[A\u001b[A\u001b[A\u001b[A"
     ]
    },
    {
     "name": "stdout",
     "output_type": "stream",
     "text": [
      "initial sample started\n",
      "Found adv candidate example with different label, proceed to this direction.\n"
     ]
    },
    {
     "name": "stderr",
     "output_type": "stream",
     "text": [
      "\n",
      "\n",
      "\n",
      "\n",
      "\n",
      "Hop Skip Jump attack progress:   7%|▋         | 17/250 [00:20<04:24,  1.13s/it]\u001b[A\u001b[A\u001b[A\u001b[A\u001b[A"
     ]
    },
    {
     "name": "stdout",
     "output_type": "stream",
     "text": [
      "initial sample started\n",
      "Found adv candidate example with different label, proceed to this direction.\n"
     ]
    },
    {
     "name": "stderr",
     "output_type": "stream",
     "text": [
      "\n",
      "\n",
      "\n",
      "\n",
      "\n",
      "Hop Skip Jump attack progress:   7%|▋         | 18/250 [00:21<04:18,  1.11s/it]\u001b[A\u001b[A\u001b[A\u001b[A\u001b[A"
     ]
    },
    {
     "name": "stdout",
     "output_type": "stream",
     "text": [
      "initial sample started\n",
      "Found adv candidate example with different label, proceed to this direction.\n"
     ]
    },
    {
     "name": "stderr",
     "output_type": "stream",
     "text": [
      "\n",
      "\n",
      "\n",
      "\n",
      "\n",
      "Hop Skip Jump attack progress:   8%|▊         | 19/250 [00:22<04:12,  1.09s/it]\u001b[A\u001b[A\u001b[A\u001b[A\u001b[A"
     ]
    },
    {
     "name": "stdout",
     "output_type": "stream",
     "text": [
      "initial sample started\n",
      "Found adv candidate example with different label, proceed to this direction.\n"
     ]
    },
    {
     "name": "stderr",
     "output_type": "stream",
     "text": [
      "\n",
      "\n",
      "\n",
      "\n",
      "\n",
      "Hop Skip Jump attack progress:   8%|▊         | 20/250 [00:23<04:13,  1.10s/it]\u001b[A\u001b[A\u001b[A\u001b[A\u001b[A"
     ]
    },
    {
     "name": "stdout",
     "output_type": "stream",
     "text": [
      "initial sample started\n",
      "Found adv candidate example with different label, proceed to this direction.\n"
     ]
    },
    {
     "name": "stderr",
     "output_type": "stream",
     "text": [
      "\n",
      "\n",
      "\n",
      "\n",
      "\n",
      "Hop Skip Jump attack progress:   8%|▊         | 21/250 [00:24<04:15,  1.12s/it]\u001b[A\u001b[A\u001b[A\u001b[A\u001b[A"
     ]
    },
    {
     "name": "stdout",
     "output_type": "stream",
     "text": [
      "initial sample started\n",
      "Found adv candidate example with different label, proceed to this direction.\n"
     ]
    },
    {
     "name": "stderr",
     "output_type": "stream",
     "text": [
      "\n",
      "\n",
      "\n",
      "\n",
      "\n",
      "Hop Skip Jump attack progress:   9%|▉         | 22/250 [00:25<04:12,  1.11s/it]\u001b[A\u001b[A\u001b[A\u001b[A\u001b[A"
     ]
    },
    {
     "name": "stdout",
     "output_type": "stream",
     "text": [
      "initial sample started\n",
      "Found adv candidate example with different label, proceed to this direction.\n"
     ]
    },
    {
     "name": "stderr",
     "output_type": "stream",
     "text": [
      "\n",
      "\n",
      "\n",
      "\n",
      "\n",
      "Hop Skip Jump attack progress:   9%|▉         | 23/250 [00:26<04:08,  1.10s/it]\u001b[A\u001b[A\u001b[A\u001b[A\u001b[A"
     ]
    },
    {
     "name": "stdout",
     "output_type": "stream",
     "text": [
      "initial sample started\n",
      "Found adv candidate example with different label, proceed to this direction.\n"
     ]
    },
    {
     "name": "stderr",
     "output_type": "stream",
     "text": [
      "\n",
      "\n",
      "\n",
      "\n",
      "\n",
      "Hop Skip Jump attack progress:  10%|▉         | 24/250 [00:27<04:09,  1.10s/it]\u001b[A\u001b[A\u001b[A\u001b[A\u001b[A"
     ]
    },
    {
     "name": "stdout",
     "output_type": "stream",
     "text": [
      "initial sample started\n",
      "Found adv candidate example with different label, proceed to this direction.\n"
     ]
    },
    {
     "name": "stderr",
     "output_type": "stream",
     "text": [
      "\n",
      "\n",
      "\n",
      "\n",
      "\n",
      "Hop Skip Jump attack progress:  10%|█         | 25/250 [00:29<04:02,  1.08s/it]\u001b[A\u001b[A\u001b[A\u001b[A\u001b[A"
     ]
    },
    {
     "name": "stdout",
     "output_type": "stream",
     "text": [
      "initial sample started\n",
      "Found adv candidate example with different label, proceed to this direction.\n"
     ]
    },
    {
     "name": "stderr",
     "output_type": "stream",
     "text": [
      "\n",
      "\n",
      "\n",
      "\n",
      "\n",
      "Hop Skip Jump attack progress:  10%|█         | 26/250 [00:30<03:57,  1.06s/it]\u001b[A\u001b[A\u001b[A\u001b[A\u001b[A"
     ]
    },
    {
     "name": "stdout",
     "output_type": "stream",
     "text": [
      "initial sample started\n",
      "Found adv candidate example with different label, proceed to this direction.\n"
     ]
    },
    {
     "name": "stderr",
     "output_type": "stream",
     "text": [
      "\n",
      "\n",
      "\n",
      "\n",
      "\n",
      "Hop Skip Jump attack progress:  11%|█         | 27/250 [00:31<04:02,  1.09s/it]\u001b[A\u001b[A\u001b[A\u001b[A\u001b[A"
     ]
    },
    {
     "name": "stdout",
     "output_type": "stream",
     "text": [
      "initial sample started\n",
      "Found adv candidate example with different label, proceed to this direction.\n"
     ]
    },
    {
     "name": "stderr",
     "output_type": "stream",
     "text": [
      "\n",
      "\n",
      "\n",
      "\n",
      "\n",
      "Hop Skip Jump attack progress:  11%|█         | 28/250 [00:32<04:04,  1.10s/it]\u001b[A\u001b[A\u001b[A\u001b[A\u001b[A"
     ]
    },
    {
     "name": "stdout",
     "output_type": "stream",
     "text": [
      "initial sample started\n",
      "Found adv candidate example with different label, proceed to this direction.\n"
     ]
    },
    {
     "name": "stderr",
     "output_type": "stream",
     "text": [
      "\n",
      "\n",
      "\n",
      "\n",
      "\n",
      "Hop Skip Jump attack progress:  12%|█▏        | 29/250 [00:33<03:58,  1.08s/it]\u001b[A\u001b[A\u001b[A\u001b[A\u001b[A"
     ]
    },
    {
     "name": "stdout",
     "output_type": "stream",
     "text": [
      "initial sample started\n",
      "Found adv candidate example with different label, proceed to this direction.\n"
     ]
    },
    {
     "name": "stderr",
     "output_type": "stream",
     "text": [
      "\n",
      "\n",
      "\n",
      "\n",
      "\n",
      "Hop Skip Jump attack progress:  12%|█▏        | 30/250 [00:34<03:59,  1.09s/it]\u001b[A\u001b[A\u001b[A\u001b[A\u001b[A"
     ]
    },
    {
     "name": "stdout",
     "output_type": "stream",
     "text": [
      "initial sample started\n",
      "Found adv candidate example with different label, proceed to this direction.\n"
     ]
    },
    {
     "name": "stderr",
     "output_type": "stream",
     "text": [
      "\n",
      "\n",
      "\n",
      "\n",
      "\n",
      "Hop Skip Jump attack progress:  12%|█▏        | 31/250 [00:35<03:57,  1.09s/it]\u001b[A\u001b[A\u001b[A\u001b[A\u001b[A"
     ]
    },
    {
     "name": "stdout",
     "output_type": "stream",
     "text": [
      "initial sample started\n",
      "Found adv candidate example with different label, proceed to this direction.\n"
     ]
    },
    {
     "name": "stderr",
     "output_type": "stream",
     "text": [
      "\n",
      "\n",
      "\n",
      "\n",
      "\n",
      "Hop Skip Jump attack progress:  13%|█▎        | 32/250 [00:36<04:02,  1.11s/it]\u001b[A\u001b[A\u001b[A\u001b[A\u001b[A"
     ]
    },
    {
     "name": "stdout",
     "output_type": "stream",
     "text": [
      "initial sample started\n",
      "Found adv candidate example with different label, proceed to this direction.\n"
     ]
    },
    {
     "name": "stderr",
     "output_type": "stream",
     "text": [
      "\n",
      "\n",
      "\n",
      "\n",
      "\n",
      "Hop Skip Jump attack progress:  13%|█▎        | 33/250 [00:37<04:01,  1.11s/it]\u001b[A\u001b[A\u001b[A\u001b[A\u001b[A"
     ]
    },
    {
     "name": "stdout",
     "output_type": "stream",
     "text": [
      "initial sample started\n",
      "Found adv candidate example with different label, proceed to this direction.\n"
     ]
    },
    {
     "name": "stderr",
     "output_type": "stream",
     "text": [
      "\n",
      "\n",
      "\n",
      "\n",
      "\n",
      "Hop Skip Jump attack progress:  14%|█▎        | 34/250 [00:38<04:02,  1.12s/it]\u001b[A\u001b[A\u001b[A\u001b[A\u001b[A"
     ]
    },
    {
     "name": "stdout",
     "output_type": "stream",
     "text": [
      "initial sample started\n",
      "Found adv candidate example with different label, proceed to this direction.\n"
     ]
    },
    {
     "name": "stderr",
     "output_type": "stream",
     "text": [
      "\n",
      "\n",
      "\n",
      "\n",
      "\n",
      "Hop Skip Jump attack progress:  14%|█▍        | 35/250 [00:39<03:54,  1.09s/it]\u001b[A\u001b[A\u001b[A\u001b[A\u001b[A"
     ]
    },
    {
     "name": "stdout",
     "output_type": "stream",
     "text": [
      "initial sample started\n",
      "Found adv candidate example with different label, proceed to this direction.\n"
     ]
    },
    {
     "name": "stderr",
     "output_type": "stream",
     "text": [
      "\n",
      "\n",
      "\n",
      "\n",
      "\n",
      "Hop Skip Jump attack progress:  14%|█▍        | 36/250 [00:40<03:47,  1.06s/it]\u001b[A\u001b[A\u001b[A\u001b[A\u001b[A"
     ]
    },
    {
     "name": "stdout",
     "output_type": "stream",
     "text": [
      "initial sample started\n",
      "Found adv candidate example with different label, proceed to this direction.\n"
     ]
    },
    {
     "name": "stderr",
     "output_type": "stream",
     "text": [
      "\n",
      "\n",
      "\n",
      "\n",
      "\n",
      "Hop Skip Jump attack progress:  15%|█▍        | 37/250 [00:41<03:38,  1.02s/it]\u001b[A\u001b[A\u001b[A\u001b[A\u001b[A"
     ]
    },
    {
     "name": "stdout",
     "output_type": "stream",
     "text": [
      "initial sample started\n",
      "Found adv candidate example with different label, proceed to this direction.\n"
     ]
    },
    {
     "name": "stderr",
     "output_type": "stream",
     "text": [
      "\n",
      "\n",
      "\n",
      "\n",
      "\n",
      "Hop Skip Jump attack progress:  15%|█▌        | 38/250 [00:42<03:34,  1.01s/it]\u001b[A\u001b[A\u001b[A\u001b[A\u001b[A"
     ]
    },
    {
     "name": "stdout",
     "output_type": "stream",
     "text": [
      "initial sample started\n",
      "Found adv candidate example with different label, proceed to this direction.\n"
     ]
    },
    {
     "name": "stderr",
     "output_type": "stream",
     "text": [
      "\n",
      "\n",
      "\n",
      "\n",
      "\n",
      "Hop Skip Jump attack progress:  16%|█▌        | 39/250 [00:43<03:28,  1.01it/s]\u001b[A\u001b[A\u001b[A\u001b[A\u001b[A"
     ]
    },
    {
     "name": "stdout",
     "output_type": "stream",
     "text": [
      "initial sample started\n",
      "Found adv candidate example with different label, proceed to this direction.\n"
     ]
    },
    {
     "name": "stderr",
     "output_type": "stream",
     "text": [
      "\n",
      "\n",
      "\n",
      "\n",
      "\n",
      "Hop Skip Jump attack progress:  16%|█▌        | 40/250 [00:44<03:20,  1.05it/s]\u001b[A\u001b[A\u001b[A\u001b[A\u001b[A"
     ]
    },
    {
     "name": "stdout",
     "output_type": "stream",
     "text": [
      "initial sample started\n",
      "Found adv candidate example with different label, proceed to this direction.\n"
     ]
    },
    {
     "name": "stderr",
     "output_type": "stream",
     "text": [
      "\n",
      "\n",
      "\n",
      "\n",
      "\n",
      "Hop Skip Jump attack progress:  16%|█▋        | 41/250 [00:45<03:23,  1.03it/s]\u001b[A\u001b[A\u001b[A\u001b[A\u001b[A"
     ]
    },
    {
     "name": "stdout",
     "output_type": "stream",
     "text": [
      "initial sample started\n",
      "Found adv candidate example with different label, proceed to this direction.\n"
     ]
    },
    {
     "name": "stderr",
     "output_type": "stream",
     "text": [
      "\n",
      "\n",
      "\n",
      "\n",
      "\n",
      "Hop Skip Jump attack progress:  17%|█▋        | 42/250 [00:46<03:29,  1.01s/it]\u001b[A\u001b[A\u001b[A\u001b[A\u001b[A"
     ]
    },
    {
     "name": "stdout",
     "output_type": "stream",
     "text": [
      "initial sample started\n",
      "Found adv candidate example with different label, proceed to this direction.\n"
     ]
    },
    {
     "name": "stderr",
     "output_type": "stream",
     "text": [
      "\n",
      "\n",
      "\n",
      "\n",
      "\n",
      "Hop Skip Jump attack progress:  17%|█▋        | 43/250 [00:47<03:21,  1.03it/s]\u001b[A\u001b[A\u001b[A\u001b[A\u001b[A"
     ]
    },
    {
     "name": "stdout",
     "output_type": "stream",
     "text": [
      "initial sample started\n",
      "Found adv candidate example with different label, proceed to this direction.\n"
     ]
    },
    {
     "name": "stderr",
     "output_type": "stream",
     "text": [
      "\n",
      "\n",
      "\n",
      "\n",
      "\n",
      "Hop Skip Jump attack progress:  18%|█▊        | 44/250 [00:48<03:18,  1.04it/s]\u001b[A\u001b[A\u001b[A\u001b[A\u001b[A"
     ]
    },
    {
     "name": "stdout",
     "output_type": "stream",
     "text": [
      "initial sample started\n",
      "Found adv candidate example with different label, proceed to this direction.\n"
     ]
    },
    {
     "name": "stderr",
     "output_type": "stream",
     "text": [
      "\n",
      "\n",
      "\n",
      "\n",
      "\n",
      "Hop Skip Jump attack progress:  18%|█▊        | 45/250 [00:49<03:12,  1.07it/s]\u001b[A\u001b[A\u001b[A\u001b[A\u001b[A"
     ]
    },
    {
     "name": "stdout",
     "output_type": "stream",
     "text": [
      "initial sample started\n",
      "Found adv candidate example with different label, proceed to this direction.\n"
     ]
    },
    {
     "name": "stderr",
     "output_type": "stream",
     "text": [
      "\n",
      "\n",
      "\n",
      "\n",
      "\n",
      "Hop Skip Jump attack progress:  18%|█▊        | 46/250 [00:50<03:23,  1.00it/s]\u001b[A\u001b[A\u001b[A\u001b[A\u001b[A"
     ]
    },
    {
     "name": "stdout",
     "output_type": "stream",
     "text": [
      "initial sample started\n",
      "Found adv candidate example with different label, proceed to this direction.\n"
     ]
    },
    {
     "name": "stderr",
     "output_type": "stream",
     "text": [
      "\n",
      "\n",
      "\n",
      "\n",
      "\n",
      "Hop Skip Jump attack progress:  19%|█▉        | 47/250 [00:51<03:22,  1.00it/s]\u001b[A\u001b[A\u001b[A\u001b[A\u001b[A"
     ]
    },
    {
     "name": "stdout",
     "output_type": "stream",
     "text": [
      "initial sample started\n",
      "Found adv candidate example with different label, proceed to this direction.\n"
     ]
    },
    {
     "name": "stderr",
     "output_type": "stream",
     "text": [
      "\n",
      "\n",
      "\n",
      "\n",
      "\n",
      "Hop Skip Jump attack progress:  19%|█▉        | 48/250 [00:52<03:26,  1.02s/it]\u001b[A\u001b[A\u001b[A\u001b[A\u001b[A"
     ]
    },
    {
     "name": "stdout",
     "output_type": "stream",
     "text": [
      "initial sample started\n",
      "Found adv candidate example with different label, proceed to this direction.\n"
     ]
    },
    {
     "name": "stderr",
     "output_type": "stream",
     "text": [
      "\n",
      "\n",
      "\n",
      "\n",
      "\n",
      "Hop Skip Jump attack progress:  20%|█▉        | 49/250 [00:53<03:16,  1.02it/s]\u001b[A\u001b[A\u001b[A\u001b[A\u001b[A"
     ]
    },
    {
     "name": "stdout",
     "output_type": "stream",
     "text": [
      "initial sample started\n",
      "Found adv candidate example with different label, proceed to this direction.\n"
     ]
    },
    {
     "name": "stderr",
     "output_type": "stream",
     "text": [
      "\n",
      "\n",
      "\n",
      "\n",
      "\n",
      "Hop Skip Jump attack progress:  20%|██        | 50/250 [00:54<03:07,  1.06it/s]\u001b[A\u001b[A\u001b[A\u001b[A\u001b[A"
     ]
    },
    {
     "name": "stdout",
     "output_type": "stream",
     "text": [
      "initial sample started\n",
      "Found adv candidate example with different label, proceed to this direction.\n"
     ]
    },
    {
     "name": "stderr",
     "output_type": "stream",
     "text": [
      "\n",
      "\n",
      "\n",
      "\n",
      "\n",
      "Hop Skip Jump attack progress:  20%|██        | 51/250 [00:55<03:03,  1.08it/s]\u001b[A\u001b[A\u001b[A\u001b[A\u001b[A"
     ]
    },
    {
     "name": "stdout",
     "output_type": "stream",
     "text": [
      "initial sample started\n",
      "Found adv candidate example with different label, proceed to this direction.\n"
     ]
    },
    {
     "name": "stderr",
     "output_type": "stream",
     "text": [
      "\n",
      "\n",
      "\n",
      "\n",
      "\n",
      "Hop Skip Jump attack progress:  21%|██        | 52/250 [00:56<03:01,  1.09it/s]\u001b[A\u001b[A\u001b[A\u001b[A\u001b[A"
     ]
    },
    {
     "name": "stdout",
     "output_type": "stream",
     "text": [
      "initial sample started\n",
      "Found adv candidate example with different label, proceed to this direction.\n"
     ]
    },
    {
     "name": "stderr",
     "output_type": "stream",
     "text": [
      "\n",
      "\n",
      "\n",
      "\n",
      "\n",
      "Hop Skip Jump attack progress:  21%|██        | 53/250 [00:57<03:04,  1.07it/s]\u001b[A\u001b[A\u001b[A\u001b[A\u001b[A"
     ]
    },
    {
     "name": "stdout",
     "output_type": "stream",
     "text": [
      "initial sample started\n",
      "Found adv candidate example with different label, proceed to this direction.\n"
     ]
    },
    {
     "name": "stderr",
     "output_type": "stream",
     "text": [
      "\n",
      "\n",
      "\n",
      "\n",
      "\n",
      "Hop Skip Jump attack progress:  22%|██▏       | 54/250 [00:58<03:08,  1.04it/s]\u001b[A\u001b[A\u001b[A\u001b[A\u001b[A"
     ]
    },
    {
     "name": "stdout",
     "output_type": "stream",
     "text": [
      "initial sample started\n",
      "Found adv candidate example with different label, proceed to this direction.\n"
     ]
    },
    {
     "name": "stderr",
     "output_type": "stream",
     "text": [
      "\n",
      "\n",
      "\n",
      "\n",
      "\n",
      "Hop Skip Jump attack progress:  22%|██▏       | 55/250 [00:59<03:06,  1.04it/s]\u001b[A\u001b[A\u001b[A\u001b[A\u001b[A"
     ]
    },
    {
     "name": "stdout",
     "output_type": "stream",
     "text": [
      "initial sample started\n",
      "Found adv candidate example with different label, proceed to this direction.\n"
     ]
    },
    {
     "name": "stderr",
     "output_type": "stream",
     "text": [
      "\n",
      "\n",
      "\n",
      "\n",
      "\n",
      "Hop Skip Jump attack progress:  22%|██▏       | 56/250 [01:00<03:00,  1.07it/s]\u001b[A\u001b[A\u001b[A\u001b[A\u001b[A"
     ]
    },
    {
     "name": "stdout",
     "output_type": "stream",
     "text": [
      "initial sample started\n",
      "Found adv candidate example with different label, proceed to this direction.\n"
     ]
    },
    {
     "name": "stderr",
     "output_type": "stream",
     "text": [
      "\n",
      "\n",
      "\n",
      "\n",
      "\n",
      "Hop Skip Jump attack progress:  23%|██▎       | 57/250 [01:00<02:57,  1.09it/s]\u001b[A\u001b[A\u001b[A\u001b[A\u001b[A"
     ]
    },
    {
     "name": "stdout",
     "output_type": "stream",
     "text": [
      "initial sample started\n",
      "Found adv candidate example with different label, proceed to this direction.\n"
     ]
    },
    {
     "name": "stderr",
     "output_type": "stream",
     "text": [
      "\n",
      "\n",
      "\n",
      "\n",
      "\n",
      "Hop Skip Jump attack progress:  23%|██▎       | 58/250 [01:01<02:57,  1.08it/s]\u001b[A\u001b[A\u001b[A\u001b[A\u001b[A"
     ]
    },
    {
     "name": "stdout",
     "output_type": "stream",
     "text": [
      "initial sample started\n",
      "Found adv candidate example with different label, proceed to this direction.\n"
     ]
    },
    {
     "name": "stderr",
     "output_type": "stream",
     "text": [
      "\n",
      "\n",
      "\n",
      "\n",
      "\n",
      "Hop Skip Jump attack progress:  24%|██▎       | 59/250 [01:02<02:59,  1.06it/s]\u001b[A\u001b[A\u001b[A\u001b[A\u001b[A"
     ]
    },
    {
     "name": "stdout",
     "output_type": "stream",
     "text": [
      "initial sample started\n",
      "Found adv candidate example with different label, proceed to this direction.\n"
     ]
    },
    {
     "name": "stderr",
     "output_type": "stream",
     "text": [
      "\n",
      "\n",
      "\n",
      "\n",
      "\n",
      "Hop Skip Jump attack progress:  24%|██▍       | 60/250 [01:03<03:04,  1.03it/s]\u001b[A\u001b[A\u001b[A\u001b[A\u001b[A"
     ]
    },
    {
     "name": "stdout",
     "output_type": "stream",
     "text": [
      "initial sample started\n",
      "Found adv candidate example with different label, proceed to this direction.\n"
     ]
    },
    {
     "name": "stderr",
     "output_type": "stream",
     "text": [
      "\n",
      "\n",
      "\n",
      "\n",
      "\n",
      "Hop Skip Jump attack progress:  24%|██▍       | 61/250 [01:04<03:03,  1.03it/s]\u001b[A\u001b[A\u001b[A\u001b[A\u001b[A"
     ]
    },
    {
     "name": "stdout",
     "output_type": "stream",
     "text": [
      "initial sample started\n",
      "Found adv candidate example with different label, proceed to this direction.\n"
     ]
    },
    {
     "name": "stderr",
     "output_type": "stream",
     "text": [
      "\n",
      "\n",
      "\n",
      "\n",
      "\n",
      "Hop Skip Jump attack progress:  25%|██▍       | 62/250 [01:05<03:04,  1.02it/s]\u001b[A\u001b[A\u001b[A\u001b[A\u001b[A"
     ]
    },
    {
     "name": "stdout",
     "output_type": "stream",
     "text": [
      "initial sample started\n",
      "Found adv candidate example with different label, proceed to this direction.\n"
     ]
    },
    {
     "name": "stderr",
     "output_type": "stream",
     "text": [
      "\n",
      "\n",
      "\n",
      "\n",
      "\n",
      "Hop Skip Jump attack progress:  25%|██▌       | 63/250 [01:06<03:05,  1.01it/s]\u001b[A\u001b[A\u001b[A\u001b[A\u001b[A"
     ]
    },
    {
     "name": "stdout",
     "output_type": "stream",
     "text": [
      "initial sample started\n",
      "Found adv candidate example with different label, proceed to this direction.\n"
     ]
    },
    {
     "name": "stderr",
     "output_type": "stream",
     "text": [
      "\n",
      "\n",
      "\n",
      "\n",
      "\n",
      "Hop Skip Jump attack progress:  26%|██▌       | 64/250 [01:07<02:58,  1.04it/s]\u001b[A\u001b[A\u001b[A\u001b[A\u001b[A"
     ]
    },
    {
     "name": "stdout",
     "output_type": "stream",
     "text": [
      "initial sample started\n",
      "Found adv candidate example with different label, proceed to this direction.\n"
     ]
    },
    {
     "name": "stderr",
     "output_type": "stream",
     "text": [
      "\n",
      "\n",
      "\n",
      "\n",
      "\n",
      "Hop Skip Jump attack progress:  26%|██▌       | 65/250 [01:08<02:53,  1.07it/s]\u001b[A\u001b[A\u001b[A\u001b[A\u001b[A"
     ]
    },
    {
     "name": "stdout",
     "output_type": "stream",
     "text": [
      "initial sample started\n",
      "Found adv candidate example with different label, proceed to this direction.\n"
     ]
    },
    {
     "name": "stderr",
     "output_type": "stream",
     "text": [
      "\n",
      "\n",
      "\n",
      "\n",
      "\n",
      "Hop Skip Jump attack progress:  26%|██▋       | 66/250 [01:09<02:48,  1.09it/s]\u001b[A\u001b[A\u001b[A\u001b[A\u001b[A"
     ]
    },
    {
     "name": "stdout",
     "output_type": "stream",
     "text": [
      "initial sample started\n",
      "Found adv candidate example with different label, proceed to this direction.\n"
     ]
    },
    {
     "name": "stderr",
     "output_type": "stream",
     "text": [
      "\n",
      "\n",
      "\n",
      "\n",
      "\n",
      "Hop Skip Jump attack progress:  27%|██▋       | 67/250 [01:10<02:45,  1.11it/s]\u001b[A\u001b[A\u001b[A\u001b[A\u001b[A"
     ]
    },
    {
     "name": "stdout",
     "output_type": "stream",
     "text": [
      "initial sample started\n",
      "Found adv candidate example with different label, proceed to this direction.\n"
     ]
    },
    {
     "name": "stderr",
     "output_type": "stream",
     "text": [
      "\n",
      "\n",
      "\n",
      "\n",
      "\n",
      "Hop Skip Jump attack progress:  27%|██▋       | 68/250 [01:11<02:43,  1.11it/s]\u001b[A\u001b[A\u001b[A\u001b[A\u001b[A"
     ]
    },
    {
     "name": "stdout",
     "output_type": "stream",
     "text": [
      "initial sample started\n",
      "Found adv candidate example with different label, proceed to this direction.\n"
     ]
    },
    {
     "name": "stderr",
     "output_type": "stream",
     "text": [
      "\n",
      "\n",
      "\n",
      "\n",
      "\n",
      "Hop Skip Jump attack progress:  28%|██▊       | 69/250 [01:12<02:53,  1.04it/s]\u001b[A\u001b[A\u001b[A\u001b[A\u001b[A"
     ]
    },
    {
     "name": "stdout",
     "output_type": "stream",
     "text": [
      "initial sample started\n",
      "Found adv candidate example with different label, proceed to this direction.\n"
     ]
    },
    {
     "name": "stderr",
     "output_type": "stream",
     "text": [
      "\n",
      "\n",
      "\n",
      "\n",
      "\n",
      "Hop Skip Jump attack progress:  28%|██▊       | 70/250 [01:13<02:58,  1.01it/s]\u001b[A\u001b[A\u001b[A\u001b[A\u001b[A"
     ]
    },
    {
     "name": "stdout",
     "output_type": "stream",
     "text": [
      "initial sample started\n",
      "Found adv candidate example with different label, proceed to this direction.\n"
     ]
    },
    {
     "name": "stderr",
     "output_type": "stream",
     "text": [
      "\n",
      "\n",
      "\n",
      "\n",
      "\n",
      "Hop Skip Jump attack progress:  28%|██▊       | 71/250 [01:14<02:56,  1.02it/s]\u001b[A\u001b[A\u001b[A\u001b[A\u001b[A"
     ]
    },
    {
     "name": "stdout",
     "output_type": "stream",
     "text": [
      "initial sample started\n",
      "Found adv candidate example with different label, proceed to this direction.\n"
     ]
    },
    {
     "name": "stderr",
     "output_type": "stream",
     "text": [
      "\n",
      "\n",
      "\n",
      "\n",
      "\n",
      "Hop Skip Jump attack progress:  29%|██▉       | 72/250 [01:15<03:05,  1.04s/it]\u001b[A\u001b[A\u001b[A\u001b[A\u001b[A"
     ]
    },
    {
     "name": "stdout",
     "output_type": "stream",
     "text": [
      "initial sample started\n",
      "Found adv candidate example with different label, proceed to this direction.\n"
     ]
    },
    {
     "name": "stderr",
     "output_type": "stream",
     "text": [
      "\n",
      "\n",
      "\n",
      "\n",
      "\n",
      "Hop Skip Jump attack progress:  29%|██▉       | 73/250 [01:16<03:08,  1.06s/it]\u001b[A\u001b[A\u001b[A\u001b[A\u001b[A"
     ]
    },
    {
     "name": "stdout",
     "output_type": "stream",
     "text": [
      "initial sample started\n",
      "Found adv candidate example with different label, proceed to this direction.\n"
     ]
    },
    {
     "name": "stderr",
     "output_type": "stream",
     "text": [
      "\n",
      "\n",
      "\n",
      "\n",
      "\n",
      "Hop Skip Jump attack progress:  30%|██▉       | 74/250 [01:17<03:09,  1.08s/it]\u001b[A\u001b[A\u001b[A\u001b[A\u001b[A"
     ]
    },
    {
     "name": "stdout",
     "output_type": "stream",
     "text": [
      "initial sample started\n",
      "Found adv candidate example with different label, proceed to this direction.\n"
     ]
    },
    {
     "name": "stderr",
     "output_type": "stream",
     "text": [
      "\n",
      "\n",
      "\n",
      "\n",
      "\n",
      "Hop Skip Jump attack progress:  30%|███       | 75/250 [01:18<03:03,  1.05s/it]\u001b[A\u001b[A\u001b[A\u001b[A\u001b[A"
     ]
    },
    {
     "name": "stdout",
     "output_type": "stream",
     "text": [
      "initial sample started\n",
      "Found adv candidate example with different label, proceed to this direction.\n"
     ]
    },
    {
     "name": "stderr",
     "output_type": "stream",
     "text": [
      "\n",
      "\n",
      "\n",
      "\n",
      "\n",
      "Hop Skip Jump attack progress:  30%|███       | 76/250 [01:19<02:58,  1.02s/it]\u001b[A\u001b[A\u001b[A\u001b[A\u001b[A"
     ]
    },
    {
     "name": "stdout",
     "output_type": "stream",
     "text": [
      "initial sample started\n",
      "Found adv candidate example with different label, proceed to this direction.\n"
     ]
    },
    {
     "name": "stderr",
     "output_type": "stream",
     "text": [
      "\n",
      "\n",
      "\n",
      "\n",
      "\n",
      "Hop Skip Jump attack progress:  31%|███       | 77/250 [01:20<02:56,  1.02s/it]\u001b[A\u001b[A\u001b[A\u001b[A\u001b[A"
     ]
    },
    {
     "name": "stdout",
     "output_type": "stream",
     "text": [
      "initial sample started\n",
      "Found adv candidate example with different label, proceed to this direction.\n"
     ]
    },
    {
     "name": "stderr",
     "output_type": "stream",
     "text": [
      "\n",
      "\n",
      "\n",
      "\n",
      "\n",
      "Hop Skip Jump attack progress:  31%|███       | 78/250 [01:21<03:00,  1.05s/it]\u001b[A\u001b[A\u001b[A\u001b[A\u001b[A"
     ]
    },
    {
     "name": "stdout",
     "output_type": "stream",
     "text": [
      "initial sample started\n",
      "Found adv candidate example with different label, proceed to this direction.\n"
     ]
    },
    {
     "name": "stderr",
     "output_type": "stream",
     "text": [
      "\n",
      "\n",
      "\n",
      "\n",
      "\n",
      "Hop Skip Jump attack progress:  32%|███▏      | 79/250 [01:22<02:56,  1.03s/it]\u001b[A\u001b[A\u001b[A\u001b[A\u001b[A"
     ]
    },
    {
     "name": "stdout",
     "output_type": "stream",
     "text": [
      "initial sample started\n",
      "Found adv candidate example with different label, proceed to this direction.\n"
     ]
    },
    {
     "name": "stderr",
     "output_type": "stream",
     "text": [
      "\n",
      "\n",
      "\n",
      "\n",
      "\n",
      "Hop Skip Jump attack progress:  32%|███▏      | 80/250 [01:23<02:53,  1.02s/it]\u001b[A\u001b[A\u001b[A\u001b[A\u001b[A"
     ]
    },
    {
     "name": "stdout",
     "output_type": "stream",
     "text": [
      "initial sample started\n",
      "Found adv candidate example with different label, proceed to this direction.\n"
     ]
    },
    {
     "name": "stderr",
     "output_type": "stream",
     "text": [
      "\n",
      "\n",
      "\n",
      "\n",
      "\n",
      "Hop Skip Jump attack progress:  32%|███▏      | 81/250 [01:24<02:48,  1.00it/s]\u001b[A\u001b[A\u001b[A\u001b[A\u001b[A"
     ]
    },
    {
     "name": "stdout",
     "output_type": "stream",
     "text": [
      "initial sample started\n",
      "Found adv candidate example with different label, proceed to this direction.\n"
     ]
    },
    {
     "name": "stderr",
     "output_type": "stream",
     "text": [
      "\n",
      "\n",
      "\n",
      "\n",
      "\n",
      "Hop Skip Jump attack progress:  33%|███▎      | 82/250 [01:25<02:44,  1.02it/s]\u001b[A\u001b[A\u001b[A\u001b[A\u001b[A"
     ]
    },
    {
     "name": "stdout",
     "output_type": "stream",
     "text": [
      "initial sample started\n",
      "Found adv candidate example with different label, proceed to this direction.\n"
     ]
    },
    {
     "name": "stderr",
     "output_type": "stream",
     "text": [
      "\n",
      "\n",
      "\n",
      "\n",
      "\n",
      "Hop Skip Jump attack progress:  33%|███▎      | 83/250 [01:26<02:43,  1.02it/s]\u001b[A\u001b[A\u001b[A\u001b[A\u001b[A"
     ]
    },
    {
     "name": "stdout",
     "output_type": "stream",
     "text": [
      "initial sample started\n",
      "Found adv candidate example with different label, proceed to this direction.\n"
     ]
    },
    {
     "name": "stderr",
     "output_type": "stream",
     "text": [
      "\n",
      "\n",
      "\n",
      "\n",
      "\n",
      "Hop Skip Jump attack progress:  34%|███▎      | 84/250 [01:27<02:42,  1.02it/s]\u001b[A\u001b[A\u001b[A\u001b[A\u001b[A"
     ]
    },
    {
     "name": "stdout",
     "output_type": "stream",
     "text": [
      "initial sample started\n",
      "Found adv candidate example with different label, proceed to this direction.\n"
     ]
    },
    {
     "name": "stderr",
     "output_type": "stream",
     "text": [
      "\n",
      "\n",
      "\n",
      "\n",
      "\n",
      "Hop Skip Jump attack progress:  34%|███▍      | 85/250 [01:28<02:44,  1.01it/s]\u001b[A\u001b[A\u001b[A\u001b[A\u001b[A"
     ]
    },
    {
     "name": "stdout",
     "output_type": "stream",
     "text": [
      "initial sample started\n",
      "Found adv candidate example with different label, proceed to this direction.\n"
     ]
    },
    {
     "name": "stderr",
     "output_type": "stream",
     "text": [
      "\n",
      "\n",
      "\n",
      "\n",
      "\n",
      "Hop Skip Jump attack progress:  34%|███▍      | 86/250 [01:29<02:47,  1.02s/it]\u001b[A\u001b[A\u001b[A\u001b[A\u001b[A"
     ]
    },
    {
     "name": "stdout",
     "output_type": "stream",
     "text": [
      "initial sample started\n",
      "Found adv candidate example with different label, proceed to this direction.\n"
     ]
    },
    {
     "name": "stderr",
     "output_type": "stream",
     "text": [
      "\n",
      "\n",
      "\n",
      "\n",
      "\n",
      "Hop Skip Jump attack progress:  35%|███▍      | 87/250 [01:30<02:49,  1.04s/it]\u001b[A\u001b[A\u001b[A\u001b[A\u001b[A"
     ]
    },
    {
     "name": "stdout",
     "output_type": "stream",
     "text": [
      "initial sample started\n",
      "Found adv candidate example with different label, proceed to this direction.\n"
     ]
    },
    {
     "name": "stderr",
     "output_type": "stream",
     "text": [
      "\n",
      "\n",
      "\n",
      "\n",
      "\n",
      "Hop Skip Jump attack progress:  35%|███▌      | 88/250 [01:32<03:00,  1.12s/it]\u001b[A\u001b[A\u001b[A\u001b[A\u001b[A"
     ]
    },
    {
     "name": "stdout",
     "output_type": "stream",
     "text": [
      "initial sample started\n",
      "Found adv candidate example with different label, proceed to this direction.\n"
     ]
    },
    {
     "name": "stderr",
     "output_type": "stream",
     "text": [
      "\n",
      "\n",
      "\n",
      "\n",
      "\n",
      "Hop Skip Jump attack progress:  36%|███▌      | 89/250 [01:33<02:58,  1.11s/it]\u001b[A\u001b[A\u001b[A\u001b[A\u001b[A"
     ]
    },
    {
     "name": "stdout",
     "output_type": "stream",
     "text": [
      "initial sample started\n",
      "Found adv candidate example with different label, proceed to this direction.\n"
     ]
    },
    {
     "name": "stderr",
     "output_type": "stream",
     "text": [
      "\n",
      "\n",
      "\n",
      "\n",
      "\n",
      "Hop Skip Jump attack progress:  36%|███▌      | 90/250 [01:34<02:59,  1.12s/it]\u001b[A\u001b[A\u001b[A\u001b[A\u001b[A"
     ]
    },
    {
     "name": "stdout",
     "output_type": "stream",
     "text": [
      "initial sample started\n",
      "Found adv candidate example with different label, proceed to this direction.\n"
     ]
    },
    {
     "name": "stderr",
     "output_type": "stream",
     "text": [
      "\n",
      "\n",
      "\n",
      "\n",
      "\n",
      "Hop Skip Jump attack progress:  36%|███▋      | 91/250 [01:35<03:01,  1.14s/it]\u001b[A\u001b[A\u001b[A\u001b[A\u001b[A"
     ]
    },
    {
     "name": "stdout",
     "output_type": "stream",
     "text": [
      "initial sample started\n",
      "Found adv candidate example with different label, proceed to this direction.\n"
     ]
    },
    {
     "name": "stderr",
     "output_type": "stream",
     "text": [
      "\n",
      "\n",
      "\n",
      "\n",
      "\n",
      "Hop Skip Jump attack progress:  37%|███▋      | 92/250 [01:36<03:02,  1.15s/it]\u001b[A\u001b[A\u001b[A\u001b[A\u001b[A"
     ]
    },
    {
     "name": "stdout",
     "output_type": "stream",
     "text": [
      "initial sample started\n",
      "Found adv candidate example with different label, proceed to this direction.\n"
     ]
    },
    {
     "name": "stderr",
     "output_type": "stream",
     "text": [
      "\n",
      "\n",
      "\n",
      "\n",
      "\n",
      "Hop Skip Jump attack progress:  37%|███▋      | 93/250 [01:38<03:04,  1.18s/it]\u001b[A\u001b[A\u001b[A\u001b[A\u001b[A"
     ]
    },
    {
     "name": "stdout",
     "output_type": "stream",
     "text": [
      "initial sample started\n",
      "Found adv candidate example with different label, proceed to this direction.\n"
     ]
    },
    {
     "name": "stderr",
     "output_type": "stream",
     "text": [
      "\n",
      "\n",
      "\n",
      "\n",
      "\n",
      "Hop Skip Jump attack progress:  38%|███▊      | 94/250 [01:39<03:02,  1.17s/it]\u001b[A\u001b[A\u001b[A\u001b[A\u001b[A"
     ]
    },
    {
     "name": "stdout",
     "output_type": "stream",
     "text": [
      "initial sample started\n",
      "Found adv candidate example with different label, proceed to this direction.\n"
     ]
    },
    {
     "name": "stderr",
     "output_type": "stream",
     "text": [
      "\n",
      "\n",
      "\n",
      "\n",
      "\n",
      "Hop Skip Jump attack progress:  38%|███▊      | 95/250 [01:40<03:04,  1.19s/it]\u001b[A\u001b[A\u001b[A\u001b[A\u001b[A"
     ]
    },
    {
     "name": "stdout",
     "output_type": "stream",
     "text": [
      "initial sample started\n",
      "Found adv candidate example with different label, proceed to this direction.\n"
     ]
    },
    {
     "name": "stderr",
     "output_type": "stream",
     "text": [
      "\n",
      "\n",
      "\n",
      "\n",
      "\n",
      "Hop Skip Jump attack progress:  38%|███▊      | 96/250 [01:41<03:00,  1.17s/it]\u001b[A\u001b[A\u001b[A\u001b[A\u001b[A"
     ]
    },
    {
     "name": "stdout",
     "output_type": "stream",
     "text": [
      "initial sample started\n",
      "Found adv candidate example with different label, proceed to this direction.\n"
     ]
    },
    {
     "name": "stderr",
     "output_type": "stream",
     "text": [
      "\n",
      "\n",
      "\n",
      "\n",
      "\n",
      "Hop Skip Jump attack progress:  39%|███▉      | 97/250 [01:42<02:57,  1.16s/it]\u001b[A\u001b[A\u001b[A\u001b[A\u001b[A"
     ]
    },
    {
     "name": "stdout",
     "output_type": "stream",
     "text": [
      "initial sample started\n",
      "Found adv candidate example with different label, proceed to this direction.\n"
     ]
    },
    {
     "name": "stderr",
     "output_type": "stream",
     "text": [
      "\n",
      "\n",
      "\n",
      "\n",
      "\n",
      "Hop Skip Jump attack progress:  39%|███▉      | 98/250 [01:43<02:54,  1.15s/it]\u001b[A\u001b[A\u001b[A\u001b[A\u001b[A"
     ]
    },
    {
     "name": "stdout",
     "output_type": "stream",
     "text": [
      "initial sample started\n",
      "Found adv candidate example with different label, proceed to this direction.\n"
     ]
    },
    {
     "name": "stderr",
     "output_type": "stream",
     "text": [
      "\n",
      "\n",
      "\n",
      "\n",
      "\n",
      "Hop Skip Jump attack progress:  40%|███▉      | 99/250 [01:44<02:54,  1.15s/it]\u001b[A\u001b[A\u001b[A\u001b[A\u001b[A"
     ]
    },
    {
     "name": "stdout",
     "output_type": "stream",
     "text": [
      "initial sample started\n",
      "Found adv candidate example with different label, proceed to this direction.\n"
     ]
    },
    {
     "name": "stderr",
     "output_type": "stream",
     "text": [
      "\n",
      "\n",
      "\n",
      "\n",
      "\n",
      "Hop Skip Jump attack progress:  40%|████      | 100/250 [01:46<02:53,  1.15s/it]\u001b[A\u001b[A\u001b[A\u001b[A\u001b[A"
     ]
    },
    {
     "name": "stdout",
     "output_type": "stream",
     "text": [
      "initial sample started\n",
      "Found adv candidate example with different label, proceed to this direction.\n"
     ]
    },
    {
     "name": "stderr",
     "output_type": "stream",
     "text": [
      "\n",
      "\n",
      "\n",
      "\n",
      "\n",
      "Hop Skip Jump attack progress:  40%|████      | 101/250 [01:47<02:56,  1.19s/it]\u001b[A\u001b[A\u001b[A\u001b[A\u001b[A"
     ]
    },
    {
     "name": "stdout",
     "output_type": "stream",
     "text": [
      "initial sample started\n",
      "Found adv candidate example with different label, proceed to this direction.\n"
     ]
    },
    {
     "name": "stderr",
     "output_type": "stream",
     "text": [
      "\n",
      "\n",
      "\n",
      "\n",
      "\n",
      "Hop Skip Jump attack progress:  41%|████      | 102/250 [01:48<02:59,  1.21s/it]\u001b[A\u001b[A\u001b[A\u001b[A\u001b[A"
     ]
    },
    {
     "name": "stdout",
     "output_type": "stream",
     "text": [
      "initial sample started\n",
      "Found adv candidate example with different label, proceed to this direction.\n"
     ]
    },
    {
     "name": "stderr",
     "output_type": "stream",
     "text": [
      "\n",
      "\n",
      "\n",
      "\n",
      "\n",
      "Hop Skip Jump attack progress:  41%|████      | 103/250 [01:49<02:56,  1.20s/it]\u001b[A\u001b[A\u001b[A\u001b[A\u001b[A"
     ]
    },
    {
     "name": "stdout",
     "output_type": "stream",
     "text": [
      "initial sample started\n",
      "Found adv candidate example with different label, proceed to this direction.\n"
     ]
    },
    {
     "name": "stderr",
     "output_type": "stream",
     "text": [
      "\n",
      "\n",
      "\n",
      "\n",
      "\n",
      "Hop Skip Jump attack progress:  42%|████▏     | 104/250 [01:51<02:55,  1.20s/it]\u001b[A\u001b[A\u001b[A\u001b[A\u001b[A"
     ]
    },
    {
     "name": "stdout",
     "output_type": "stream",
     "text": [
      "initial sample started\n",
      "Found adv candidate example with different label, proceed to this direction.\n"
     ]
    },
    {
     "name": "stderr",
     "output_type": "stream",
     "text": [
      "\n",
      "\n",
      "\n",
      "\n",
      "\n",
      "Hop Skip Jump attack progress:  42%|████▏     | 105/250 [01:52<02:51,  1.18s/it]\u001b[A\u001b[A\u001b[A\u001b[A\u001b[A"
     ]
    },
    {
     "name": "stdout",
     "output_type": "stream",
     "text": [
      "initial sample started\n",
      "Found adv candidate example with different label, proceed to this direction.\n"
     ]
    },
    {
     "name": "stderr",
     "output_type": "stream",
     "text": [
      "\n",
      "\n",
      "\n",
      "\n",
      "\n",
      "Hop Skip Jump attack progress:  42%|████▏     | 106/250 [01:53<02:44,  1.14s/it]\u001b[A\u001b[A\u001b[A\u001b[A\u001b[A"
     ]
    },
    {
     "name": "stdout",
     "output_type": "stream",
     "text": [
      "initial sample started\n",
      "Found adv candidate example with different label, proceed to this direction.\n"
     ]
    },
    {
     "name": "stderr",
     "output_type": "stream",
     "text": [
      "\n",
      "\n",
      "\n",
      "\n",
      "\n",
      "Hop Skip Jump attack progress:  43%|████▎     | 107/250 [01:54<02:41,  1.13s/it]\u001b[A\u001b[A\u001b[A\u001b[A\u001b[A"
     ]
    },
    {
     "name": "stdout",
     "output_type": "stream",
     "text": [
      "initial sample started\n",
      "Found adv candidate example with different label, proceed to this direction.\n"
     ]
    },
    {
     "name": "stderr",
     "output_type": "stream",
     "text": [
      "\n",
      "\n",
      "\n",
      "\n",
      "\n",
      "Hop Skip Jump attack progress:  43%|████▎     | 108/250 [01:55<02:46,  1.17s/it]\u001b[A\u001b[A\u001b[A\u001b[A\u001b[A"
     ]
    },
    {
     "name": "stdout",
     "output_type": "stream",
     "text": [
      "initial sample started\n",
      "Found adv candidate example with different label, proceed to this direction.\n"
     ]
    },
    {
     "name": "stderr",
     "output_type": "stream",
     "text": [
      "\n",
      "\n",
      "\n",
      "\n",
      "\n",
      "Hop Skip Jump attack progress:  44%|████▎     | 109/250 [01:56<02:46,  1.18s/it]\u001b[A\u001b[A\u001b[A\u001b[A\u001b[A"
     ]
    },
    {
     "name": "stdout",
     "output_type": "stream",
     "text": [
      "initial sample started\n",
      "Found adv candidate example with different label, proceed to this direction.\n"
     ]
    },
    {
     "name": "stderr",
     "output_type": "stream",
     "text": [
      "\n",
      "\n",
      "\n",
      "\n",
      "\n",
      "Hop Skip Jump attack progress:  44%|████▍     | 110/250 [01:57<02:41,  1.15s/it]\u001b[A\u001b[A\u001b[A\u001b[A\u001b[A"
     ]
    },
    {
     "name": "stdout",
     "output_type": "stream",
     "text": [
      "initial sample started\n",
      "Found adv candidate example with different label, proceed to this direction.\n"
     ]
    },
    {
     "name": "stderr",
     "output_type": "stream",
     "text": [
      "\n",
      "\n",
      "\n",
      "\n",
      "\n",
      "Hop Skip Jump attack progress:  44%|████▍     | 111/250 [01:59<02:40,  1.15s/it]\u001b[A\u001b[A\u001b[A\u001b[A\u001b[A"
     ]
    },
    {
     "name": "stdout",
     "output_type": "stream",
     "text": [
      "initial sample started\n",
      "Found adv candidate example with different label, proceed to this direction.\n"
     ]
    },
    {
     "name": "stderr",
     "output_type": "stream",
     "text": [
      "\n",
      "\n",
      "\n",
      "\n",
      "\n",
      "Hop Skip Jump attack progress:  45%|████▍     | 112/250 [02:00<02:38,  1.15s/it]\u001b[A\u001b[A\u001b[A\u001b[A\u001b[A"
     ]
    },
    {
     "name": "stdout",
     "output_type": "stream",
     "text": [
      "initial sample started\n",
      "Found adv candidate example with different label, proceed to this direction.\n"
     ]
    },
    {
     "name": "stderr",
     "output_type": "stream",
     "text": [
      "\n",
      "\n",
      "\n",
      "\n",
      "\n",
      "Hop Skip Jump attack progress:  45%|████▌     | 113/250 [02:01<02:39,  1.17s/it]\u001b[A\u001b[A\u001b[A\u001b[A\u001b[A"
     ]
    },
    {
     "name": "stdout",
     "output_type": "stream",
     "text": [
      "initial sample started\n",
      "Found adv candidate example with different label, proceed to this direction.\n"
     ]
    },
    {
     "name": "stderr",
     "output_type": "stream",
     "text": [
      "\n",
      "\n",
      "\n",
      "\n",
      "\n",
      "Hop Skip Jump attack progress:  46%|████▌     | 114/250 [02:02<02:34,  1.14s/it]\u001b[A\u001b[A\u001b[A\u001b[A\u001b[A"
     ]
    },
    {
     "name": "stdout",
     "output_type": "stream",
     "text": [
      "initial sample started\n",
      "Found adv candidate example with different label, proceed to this direction.\n"
     ]
    },
    {
     "name": "stderr",
     "output_type": "stream",
     "text": [
      "\n",
      "\n",
      "\n",
      "\n",
      "\n",
      "Hop Skip Jump attack progress:  46%|████▌     | 115/250 [02:03<02:33,  1.14s/it]\u001b[A\u001b[A\u001b[A\u001b[A\u001b[A"
     ]
    },
    {
     "name": "stdout",
     "output_type": "stream",
     "text": [
      "initial sample started\n",
      "Found adv candidate example with different label, proceed to this direction.\n"
     ]
    },
    {
     "name": "stderr",
     "output_type": "stream",
     "text": [
      "\n",
      "\n",
      "\n",
      "\n",
      "\n",
      "Hop Skip Jump attack progress:  46%|████▋     | 116/250 [02:04<02:27,  1.10s/it]\u001b[A\u001b[A\u001b[A\u001b[A\u001b[A"
     ]
    },
    {
     "name": "stdout",
     "output_type": "stream",
     "text": [
      "initial sample started\n",
      "Found adv candidate example with different label, proceed to this direction.\n"
     ]
    },
    {
     "name": "stderr",
     "output_type": "stream",
     "text": [
      "\n",
      "\n",
      "\n",
      "\n",
      "\n",
      "Hop Skip Jump attack progress:  47%|████▋     | 117/250 [02:05<02:20,  1.06s/it]\u001b[A\u001b[A\u001b[A\u001b[A\u001b[A"
     ]
    },
    {
     "name": "stdout",
     "output_type": "stream",
     "text": [
      "initial sample started\n",
      "Found adv candidate example with different label, proceed to this direction.\n"
     ]
    },
    {
     "name": "stderr",
     "output_type": "stream",
     "text": [
      "\n",
      "\n",
      "\n",
      "\n",
      "\n",
      "Hop Skip Jump attack progress:  47%|████▋     | 118/250 [03:05<41:15, 18.75s/it]\u001b[A\u001b[A\u001b[A\u001b[A\u001b[A"
     ]
    },
    {
     "name": "stdout",
     "output_type": "stream",
     "text": [
      "Time out due to STREAM ioctl timeout\n",
      "initial sample started\n",
      "Found adv candidate example with different label, proceed to this direction.\n"
     ]
    },
    {
     "name": "stderr",
     "output_type": "stream",
     "text": [
      "\n",
      "\n",
      "\n",
      "\n",
      "\n",
      "Hop Skip Jump attack progress:  48%|████▊     | 119/250 [03:06<29:14, 13.39s/it]\u001b[A\u001b[A\u001b[A\u001b[A\u001b[A"
     ]
    },
    {
     "name": "stdout",
     "output_type": "stream",
     "text": [
      "initial sample started\n",
      "Found adv candidate example with different label, proceed to this direction.\n"
     ]
    },
    {
     "name": "stderr",
     "output_type": "stream",
     "text": [
      "\n",
      "\n",
      "\n",
      "\n",
      "\n",
      "Hop Skip Jump attack progress:  48%|████▊     | 120/250 [03:07<20:54,  9.65s/it]\u001b[A\u001b[A\u001b[A\u001b[A\u001b[A"
     ]
    },
    {
     "name": "stdout",
     "output_type": "stream",
     "text": [
      "initial sample started\n",
      "Found adv candidate example with different label, proceed to this direction.\n"
     ]
    },
    {
     "name": "stderr",
     "output_type": "stream",
     "text": [
      "\n",
      "\n",
      "\n",
      "\n",
      "\n",
      "Hop Skip Jump attack progress:  48%|████▊     | 121/250 [03:08<15:10,  7.06s/it]\u001b[A\u001b[A\u001b[A\u001b[A\u001b[A"
     ]
    },
    {
     "name": "stdout",
     "output_type": "stream",
     "text": [
      "initial sample started\n",
      "Found adv candidate example with different label, proceed to this direction.\n"
     ]
    },
    {
     "name": "stderr",
     "output_type": "stream",
     "text": [
      "\n",
      "\n",
      "\n",
      "\n",
      "\n",
      "Hop Skip Jump attack progress:  49%|████▉     | 122/250 [03:09<11:06,  5.21s/it]\u001b[A\u001b[A\u001b[A\u001b[A\u001b[A"
     ]
    },
    {
     "name": "stdout",
     "output_type": "stream",
     "text": [
      "initial sample started\n",
      "Found adv candidate example with different label, proceed to this direction.\n"
     ]
    },
    {
     "name": "stderr",
     "output_type": "stream",
     "text": [
      "\n",
      "\n",
      "\n",
      "\n",
      "\n",
      "Hop Skip Jump attack progress:  49%|████▉     | 123/250 [03:10<08:16,  3.91s/it]\u001b[A\u001b[A\u001b[A\u001b[A\u001b[A"
     ]
    },
    {
     "name": "stdout",
     "output_type": "stream",
     "text": [
      "initial sample started\n",
      "Found adv candidate example with different label, proceed to this direction.\n"
     ]
    },
    {
     "name": "stderr",
     "output_type": "stream",
     "text": [
      "\n",
      "\n",
      "\n",
      "\n",
      "\n",
      "Hop Skip Jump attack progress:  50%|████▉     | 124/250 [03:11<06:16,  2.99s/it]\u001b[A\u001b[A\u001b[A\u001b[A\u001b[A"
     ]
    },
    {
     "name": "stdout",
     "output_type": "stream",
     "text": [
      "initial sample started\n",
      "Found adv candidate example with different label, proceed to this direction.\n"
     ]
    },
    {
     "name": "stderr",
     "output_type": "stream",
     "text": [
      "\n",
      "\n",
      "\n",
      "\n",
      "\n",
      "Hop Skip Jump attack progress:  50%|█████     | 125/250 [03:11<04:54,  2.36s/it]\u001b[A\u001b[A\u001b[A\u001b[A\u001b[A"
     ]
    },
    {
     "name": "stdout",
     "output_type": "stream",
     "text": [
      "initial sample started\n",
      "Found adv candidate example with different label, proceed to this direction.\n"
     ]
    },
    {
     "name": "stderr",
     "output_type": "stream",
     "text": [
      "\n",
      "\n",
      "\n",
      "\n",
      "\n",
      "Hop Skip Jump attack progress:  50%|█████     | 126/250 [03:12<04:00,  1.94s/it]\u001b[A\u001b[A\u001b[A\u001b[A\u001b[A"
     ]
    },
    {
     "name": "stdout",
     "output_type": "stream",
     "text": [
      "initial sample started\n",
      "Found adv candidate example with different label, proceed to this direction.\n"
     ]
    },
    {
     "name": "stderr",
     "output_type": "stream",
     "text": [
      "\n",
      "\n",
      "\n",
      "\n",
      "\n",
      "Hop Skip Jump attack progress:  51%|█████     | 127/250 [03:13<03:24,  1.66s/it]\u001b[A\u001b[A\u001b[A\u001b[A\u001b[A"
     ]
    },
    {
     "name": "stdout",
     "output_type": "stream",
     "text": [
      "initial sample started\n",
      "Found adv candidate example with different label, proceed to this direction.\n"
     ]
    },
    {
     "name": "stderr",
     "output_type": "stream",
     "text": [
      "\n",
      "\n",
      "\n",
      "\n",
      "\n",
      "Hop Skip Jump attack progress:  51%|█████     | 128/250 [03:14<02:55,  1.44s/it]\u001b[A\u001b[A\u001b[A\u001b[A\u001b[A"
     ]
    },
    {
     "name": "stdout",
     "output_type": "stream",
     "text": [
      "initial sample started\n",
      "Found adv candidate example with different label, proceed to this direction.\n"
     ]
    },
    {
     "name": "stderr",
     "output_type": "stream",
     "text": [
      "\n",
      "\n",
      "\n",
      "\n",
      "\n",
      "Hop Skip Jump attack progress:  52%|█████▏    | 129/250 [03:15<02:36,  1.29s/it]\u001b[A\u001b[A\u001b[A\u001b[A\u001b[A"
     ]
    },
    {
     "name": "stdout",
     "output_type": "stream",
     "text": [
      "initial sample started\n",
      "Found adv candidate example with different label, proceed to this direction.\n"
     ]
    },
    {
     "name": "stderr",
     "output_type": "stream",
     "text": [
      "\n",
      "\n",
      "\n",
      "\n",
      "\n",
      "Hop Skip Jump attack progress:  52%|█████▏    | 130/250 [03:16<02:23,  1.20s/it]\u001b[A\u001b[A\u001b[A\u001b[A\u001b[A"
     ]
    },
    {
     "name": "stdout",
     "output_type": "stream",
     "text": [
      "initial sample started\n",
      "Found adv candidate example with different label, proceed to this direction.\n"
     ]
    },
    {
     "name": "stderr",
     "output_type": "stream",
     "text": [
      "\n",
      "\n",
      "\n",
      "\n",
      "\n",
      "Hop Skip Jump attack progress:  52%|█████▏    | 131/250 [03:17<02:17,  1.16s/it]\u001b[A\u001b[A\u001b[A\u001b[A\u001b[A"
     ]
    },
    {
     "name": "stdout",
     "output_type": "stream",
     "text": [
      "initial sample started\n",
      "Found adv candidate example with different label, proceed to this direction.\n"
     ]
    },
    {
     "name": "stderr",
     "output_type": "stream",
     "text": [
      "\n",
      "\n",
      "\n",
      "\n",
      "\n",
      "Hop Skip Jump attack progress:  53%|█████▎    | 132/250 [03:18<02:13,  1.13s/it]\u001b[A\u001b[A\u001b[A\u001b[A\u001b[A"
     ]
    },
    {
     "name": "stdout",
     "output_type": "stream",
     "text": [
      "initial sample started\n",
      "Found adv candidate example with different label, proceed to this direction.\n"
     ]
    },
    {
     "name": "stderr",
     "output_type": "stream",
     "text": [
      "\n",
      "\n",
      "\n",
      "\n",
      "\n",
      "Hop Skip Jump attack progress:  53%|█████▎    | 133/250 [03:19<02:09,  1.11s/it]\u001b[A\u001b[A\u001b[A\u001b[A\u001b[A"
     ]
    },
    {
     "name": "stdout",
     "output_type": "stream",
     "text": [
      "initial sample started\n",
      "Found adv candidate example with different label, proceed to this direction.\n"
     ]
    },
    {
     "name": "stderr",
     "output_type": "stream",
     "text": [
      "\n",
      "\n",
      "\n",
      "\n",
      "\n",
      "Hop Skip Jump attack progress:  54%|█████▎    | 134/250 [03:20<02:05,  1.08s/it]\u001b[A\u001b[A\u001b[A\u001b[A\u001b[A"
     ]
    },
    {
     "name": "stdout",
     "output_type": "stream",
     "text": [
      "initial sample started\n",
      "Found adv candidate example with different label, proceed to this direction.\n"
     ]
    },
    {
     "name": "stderr",
     "output_type": "stream",
     "text": [
      "\n",
      "\n",
      "\n",
      "\n",
      "\n",
      "Hop Skip Jump attack progress:  54%|█████▍    | 135/250 [03:22<02:07,  1.11s/it]\u001b[A\u001b[A\u001b[A\u001b[A\u001b[A"
     ]
    },
    {
     "name": "stdout",
     "output_type": "stream",
     "text": [
      "initial sample started\n",
      "Found adv candidate example with different label, proceed to this direction.\n"
     ]
    },
    {
     "name": "stderr",
     "output_type": "stream",
     "text": [
      "\n",
      "\n",
      "\n",
      "\n",
      "\n",
      "Hop Skip Jump attack progress:  54%|█████▍    | 136/250 [03:23<02:07,  1.12s/it]\u001b[A\u001b[A\u001b[A\u001b[A\u001b[A"
     ]
    },
    {
     "name": "stdout",
     "output_type": "stream",
     "text": [
      "initial sample started\n",
      "Found adv candidate example with different label, proceed to this direction.\n"
     ]
    },
    {
     "name": "stderr",
     "output_type": "stream",
     "text": [
      "\n",
      "\n",
      "\n",
      "\n",
      "\n",
      "Hop Skip Jump attack progress:  55%|█████▍    | 137/250 [03:24<02:06,  1.12s/it]\u001b[A\u001b[A\u001b[A\u001b[A\u001b[A"
     ]
    },
    {
     "name": "stdout",
     "output_type": "stream",
     "text": [
      "initial sample started\n",
      "Found adv candidate example with different label, proceed to this direction.\n"
     ]
    },
    {
     "name": "stderr",
     "output_type": "stream",
     "text": [
      "\n",
      "\n",
      "\n",
      "\n",
      "\n",
      "Hop Skip Jump attack progress:  55%|█████▌    | 138/250 [03:25<02:03,  1.10s/it]\u001b[A\u001b[A\u001b[A\u001b[A\u001b[A"
     ]
    },
    {
     "name": "stdout",
     "output_type": "stream",
     "text": [
      "initial sample started\n",
      "Found adv candidate example with different label, proceed to this direction.\n"
     ]
    },
    {
     "name": "stderr",
     "output_type": "stream",
     "text": [
      "\n",
      "\n",
      "\n",
      "\n",
      "\n",
      "Hop Skip Jump attack progress:  56%|█████▌    | 139/250 [03:26<02:00,  1.09s/it]\u001b[A\u001b[A\u001b[A\u001b[A\u001b[A"
     ]
    },
    {
     "name": "stdout",
     "output_type": "stream",
     "text": [
      "initial sample started\n",
      "Found adv candidate example with different label, proceed to this direction.\n"
     ]
    },
    {
     "name": "stderr",
     "output_type": "stream",
     "text": [
      "\n",
      "\n",
      "\n",
      "\n",
      "\n",
      "Hop Skip Jump attack progress:  56%|█████▌    | 140/250 [03:27<01:59,  1.09s/it]\u001b[A\u001b[A\u001b[A\u001b[A\u001b[A"
     ]
    },
    {
     "name": "stdout",
     "output_type": "stream",
     "text": [
      "initial sample started\n",
      "Found adv candidate example with different label, proceed to this direction.\n"
     ]
    },
    {
     "name": "stderr",
     "output_type": "stream",
     "text": [
      "\n",
      "\n",
      "\n",
      "\n",
      "\n",
      "Hop Skip Jump attack progress:  56%|█████▋    | 141/250 [03:28<01:55,  1.06s/it]\u001b[A\u001b[A\u001b[A\u001b[A\u001b[A"
     ]
    },
    {
     "name": "stdout",
     "output_type": "stream",
     "text": [
      "initial sample started\n",
      "Found adv candidate example with different label, proceed to this direction.\n"
     ]
    },
    {
     "name": "stderr",
     "output_type": "stream",
     "text": [
      "\n",
      "\n",
      "\n",
      "\n",
      "\n",
      "Hop Skip Jump attack progress:  57%|█████▋    | 142/250 [03:29<01:56,  1.08s/it]\u001b[A\u001b[A\u001b[A\u001b[A\u001b[A"
     ]
    },
    {
     "name": "stdout",
     "output_type": "stream",
     "text": [
      "initial sample started\n",
      "Found adv candidate example with different label, proceed to this direction.\n"
     ]
    },
    {
     "name": "stderr",
     "output_type": "stream",
     "text": [
      "\n",
      "\n",
      "\n",
      "\n",
      "\n",
      "Hop Skip Jump attack progress:  57%|█████▋    | 143/250 [03:30<01:54,  1.07s/it]\u001b[A\u001b[A\u001b[A\u001b[A\u001b[A"
     ]
    },
    {
     "name": "stdout",
     "output_type": "stream",
     "text": [
      "initial sample started\n",
      "Found adv candidate example with different label, proceed to this direction.\n"
     ]
    },
    {
     "name": "stderr",
     "output_type": "stream",
     "text": [
      "\n",
      "\n",
      "\n",
      "\n",
      "\n",
      "Hop Skip Jump attack progress:  58%|█████▊    | 144/250 [03:31<01:49,  1.03s/it]\u001b[A\u001b[A\u001b[A\u001b[A\u001b[A"
     ]
    },
    {
     "name": "stdout",
     "output_type": "stream",
     "text": [
      "initial sample started\n",
      "Found adv candidate example with different label, proceed to this direction.\n"
     ]
    },
    {
     "name": "stderr",
     "output_type": "stream",
     "text": [
      "\n",
      "\n",
      "\n",
      "\n",
      "\n",
      "Hop Skip Jump attack progress:  58%|█████▊    | 145/250 [03:32<01:45,  1.01s/it]\u001b[A\u001b[A\u001b[A\u001b[A\u001b[A"
     ]
    },
    {
     "name": "stdout",
     "output_type": "stream",
     "text": [
      "initial sample started\n",
      "Found adv candidate example with different label, proceed to this direction.\n"
     ]
    },
    {
     "name": "stderr",
     "output_type": "stream",
     "text": [
      "\n",
      "\n",
      "\n",
      "\n",
      "\n",
      "Hop Skip Jump attack progress:  58%|█████▊    | 146/250 [03:33<01:46,  1.02s/it]\u001b[A\u001b[A\u001b[A\u001b[A\u001b[A"
     ]
    },
    {
     "name": "stdout",
     "output_type": "stream",
     "text": [
      "initial sample started\n",
      "Found adv candidate example with different label, proceed to this direction.\n"
     ]
    },
    {
     "name": "stderr",
     "output_type": "stream",
     "text": [
      "\n",
      "\n",
      "\n",
      "\n",
      "\n",
      "Hop Skip Jump attack progress:  59%|█████▉    | 147/250 [03:34<01:46,  1.04s/it]\u001b[A\u001b[A\u001b[A\u001b[A\u001b[A"
     ]
    },
    {
     "name": "stdout",
     "output_type": "stream",
     "text": [
      "initial sample started\n",
      "Found adv candidate example with different label, proceed to this direction.\n"
     ]
    },
    {
     "name": "stderr",
     "output_type": "stream",
     "text": [
      "\n",
      "\n",
      "\n",
      "\n",
      "\n",
      "Hop Skip Jump attack progress:  59%|█████▉    | 148/250 [03:35<01:44,  1.02s/it]\u001b[A\u001b[A\u001b[A\u001b[A\u001b[A"
     ]
    },
    {
     "name": "stdout",
     "output_type": "stream",
     "text": [
      "initial sample started\n",
      "Found adv candidate example with different label, proceed to this direction.\n"
     ]
    },
    {
     "name": "stderr",
     "output_type": "stream",
     "text": [
      "\n",
      "\n",
      "\n",
      "\n",
      "\n",
      "Hop Skip Jump attack progress:  60%|█████▉    | 149/250 [03:36<01:41,  1.01s/it]\u001b[A\u001b[A\u001b[A\u001b[A\u001b[A"
     ]
    },
    {
     "name": "stdout",
     "output_type": "stream",
     "text": [
      "initial sample started\n",
      "Found adv candidate example with different label, proceed to this direction.\n"
     ]
    },
    {
     "name": "stderr",
     "output_type": "stream",
     "text": [
      "\n",
      "\n",
      "\n",
      "\n",
      "\n",
      "Hop Skip Jump attack progress:  60%|██████    | 150/250 [03:37<01:39,  1.01it/s]\u001b[A\u001b[A\u001b[A\u001b[A\u001b[A"
     ]
    },
    {
     "name": "stdout",
     "output_type": "stream",
     "text": [
      "initial sample started\n",
      "Found adv candidate example with different label, proceed to this direction.\n"
     ]
    },
    {
     "name": "stderr",
     "output_type": "stream",
     "text": [
      "\n",
      "\n",
      "\n",
      "\n",
      "\n",
      "Hop Skip Jump attack progress:  60%|██████    | 151/250 [03:38<01:36,  1.02it/s]\u001b[A\u001b[A\u001b[A\u001b[A\u001b[A"
     ]
    },
    {
     "name": "stdout",
     "output_type": "stream",
     "text": [
      "initial sample started\n",
      "Found adv candidate example with different label, proceed to this direction.\n"
     ]
    },
    {
     "name": "stderr",
     "output_type": "stream",
     "text": [
      "\n",
      "\n",
      "\n",
      "\n",
      "\n",
      "Hop Skip Jump attack progress:  61%|██████    | 152/250 [03:39<01:37,  1.00it/s]\u001b[A\u001b[A\u001b[A\u001b[A\u001b[A"
     ]
    },
    {
     "name": "stdout",
     "output_type": "stream",
     "text": [
      "initial sample started\n",
      "Found adv candidate example with different label, proceed to this direction.\n"
     ]
    },
    {
     "name": "stderr",
     "output_type": "stream",
     "text": [
      "\n",
      "\n",
      "\n",
      "\n",
      "\n",
      "Hop Skip Jump attack progress:  61%|██████    | 153/250 [03:40<01:37,  1.00s/it]\u001b[A\u001b[A\u001b[A\u001b[A\u001b[A"
     ]
    },
    {
     "name": "stdout",
     "output_type": "stream",
     "text": [
      "initial sample started\n",
      "Found adv candidate example with different label, proceed to this direction.\n"
     ]
    },
    {
     "name": "stderr",
     "output_type": "stream",
     "text": [
      "\n",
      "\n",
      "\n",
      "\n",
      "\n",
      "Hop Skip Jump attack progress:  62%|██████▏   | 154/250 [03:41<01:38,  1.02s/it]\u001b[A\u001b[A\u001b[A\u001b[A\u001b[A"
     ]
    },
    {
     "name": "stdout",
     "output_type": "stream",
     "text": [
      "initial sample started\n",
      "Found adv candidate example with different label, proceed to this direction.\n"
     ]
    },
    {
     "name": "stderr",
     "output_type": "stream",
     "text": [
      "\n",
      "\n",
      "\n",
      "\n",
      "\n",
      "Hop Skip Jump attack progress:  62%|██████▏   | 155/250 [03:42<01:37,  1.03s/it]\u001b[A\u001b[A\u001b[A\u001b[A\u001b[A"
     ]
    },
    {
     "name": "stdout",
     "output_type": "stream",
     "text": [
      "initial sample started\n",
      "Found adv candidate example with different label, proceed to this direction.\n"
     ]
    },
    {
     "name": "stderr",
     "output_type": "stream",
     "text": [
      "\n",
      "\n",
      "\n",
      "\n",
      "\n",
      "Hop Skip Jump attack progress:  62%|██████▏   | 156/250 [03:43<01:34,  1.01s/it]\u001b[A\u001b[A\u001b[A\u001b[A\u001b[A"
     ]
    },
    {
     "name": "stdout",
     "output_type": "stream",
     "text": [
      "initial sample started\n",
      "Found adv candidate example with different label, proceed to this direction.\n"
     ]
    },
    {
     "name": "stderr",
     "output_type": "stream",
     "text": [
      "\n",
      "\n",
      "\n",
      "\n",
      "\n",
      "Hop Skip Jump attack progress:  63%|██████▎   | 157/250 [03:44<01:32,  1.00it/s]\u001b[A\u001b[A\u001b[A\u001b[A\u001b[A"
     ]
    },
    {
     "name": "stdout",
     "output_type": "stream",
     "text": [
      "initial sample started\n",
      "Found adv candidate example with different label, proceed to this direction.\n"
     ]
    },
    {
     "name": "stderr",
     "output_type": "stream",
     "text": [
      "\n",
      "\n",
      "\n",
      "\n",
      "\n",
      "Hop Skip Jump attack progress:  63%|██████▎   | 158/250 [03:45<01:30,  1.02it/s]\u001b[A\u001b[A\u001b[A\u001b[A\u001b[A"
     ]
    },
    {
     "name": "stdout",
     "output_type": "stream",
     "text": [
      "initial sample started\n",
      "Found adv candidate example with different label, proceed to this direction.\n"
     ]
    },
    {
     "name": "stderr",
     "output_type": "stream",
     "text": [
      "\n",
      "\n",
      "\n",
      "\n",
      "\n",
      "Hop Skip Jump attack progress:  64%|██████▎   | 159/250 [03:46<01:27,  1.04it/s]\u001b[A\u001b[A\u001b[A\u001b[A\u001b[A"
     ]
    },
    {
     "name": "stdout",
     "output_type": "stream",
     "text": [
      "initial sample started\n",
      "Found adv candidate example with different label, proceed to this direction.\n"
     ]
    },
    {
     "name": "stderr",
     "output_type": "stream",
     "text": [
      "\n",
      "\n",
      "\n",
      "\n",
      "\n",
      "Hop Skip Jump attack progress:  64%|██████▍   | 160/250 [03:47<01:25,  1.05it/s]\u001b[A\u001b[A\u001b[A\u001b[A\u001b[A"
     ]
    },
    {
     "name": "stdout",
     "output_type": "stream",
     "text": [
      "initial sample started\n",
      "Found adv candidate example with different label, proceed to this direction.\n"
     ]
    },
    {
     "name": "stderr",
     "output_type": "stream",
     "text": [
      "\n",
      "\n",
      "\n",
      "\n",
      "\n",
      "Hop Skip Jump attack progress:  64%|██████▍   | 161/250 [03:48<01:24,  1.05it/s]\u001b[A\u001b[A\u001b[A\u001b[A\u001b[A"
     ]
    },
    {
     "name": "stdout",
     "output_type": "stream",
     "text": [
      "initial sample started\n",
      "Found adv candidate example with different label, proceed to this direction.\n"
     ]
    },
    {
     "name": "stderr",
     "output_type": "stream",
     "text": [
      "\n",
      "\n",
      "\n",
      "\n",
      "\n",
      "Hop Skip Jump attack progress:  65%|██████▍   | 162/250 [03:49<01:26,  1.01it/s]\u001b[A\u001b[A\u001b[A\u001b[A\u001b[A"
     ]
    },
    {
     "name": "stdout",
     "output_type": "stream",
     "text": [
      "initial sample started\n",
      "Found adv candidate example with different label, proceed to this direction.\n"
     ]
    },
    {
     "name": "stderr",
     "output_type": "stream",
     "text": [
      "\n",
      "\n",
      "\n",
      "\n",
      "\n",
      "Hop Skip Jump attack progress:  65%|██████▌   | 163/250 [03:50<01:30,  1.05s/it]\u001b[A\u001b[A\u001b[A\u001b[A\u001b[A"
     ]
    },
    {
     "name": "stdout",
     "output_type": "stream",
     "text": [
      "initial sample started\n",
      "Found adv candidate example with different label, proceed to this direction.\n"
     ]
    },
    {
     "name": "stderr",
     "output_type": "stream",
     "text": [
      "\n",
      "\n",
      "\n",
      "\n",
      "\n",
      "Hop Skip Jump attack progress:  66%|██████▌   | 164/250 [03:51<01:31,  1.06s/it]\u001b[A\u001b[A\u001b[A\u001b[A\u001b[A"
     ]
    },
    {
     "name": "stdout",
     "output_type": "stream",
     "text": [
      "initial sample started\n",
      "Found adv candidate example with different label, proceed to this direction.\n"
     ]
    },
    {
     "name": "stderr",
     "output_type": "stream",
     "text": [
      "\n",
      "\n",
      "\n",
      "\n",
      "\n",
      "Hop Skip Jump attack progress:  66%|██████▌   | 165/250 [03:52<01:27,  1.03s/it]\u001b[A\u001b[A\u001b[A\u001b[A\u001b[A"
     ]
    },
    {
     "name": "stdout",
     "output_type": "stream",
     "text": [
      "initial sample started\n",
      "Found adv candidate example with different label, proceed to this direction.\n"
     ]
    },
    {
     "name": "stderr",
     "output_type": "stream",
     "text": [
      "\n",
      "\n",
      "\n",
      "\n",
      "\n",
      "Hop Skip Jump attack progress:  66%|██████▋   | 166/250 [03:53<01:22,  1.01it/s]\u001b[A\u001b[A\u001b[A\u001b[A\u001b[A"
     ]
    },
    {
     "name": "stdout",
     "output_type": "stream",
     "text": [
      "initial sample started\n",
      "Found adv candidate example with different label, proceed to this direction.\n"
     ]
    },
    {
     "name": "stderr",
     "output_type": "stream",
     "text": [
      "\n",
      "\n",
      "\n",
      "\n",
      "\n",
      "Hop Skip Jump attack progress:  67%|██████▋   | 167/250 [03:54<01:18,  1.06it/s]\u001b[A\u001b[A\u001b[A\u001b[A\u001b[A"
     ]
    },
    {
     "name": "stdout",
     "output_type": "stream",
     "text": [
      "initial sample started\n",
      "Found adv candidate example with different label, proceed to this direction.\n"
     ]
    },
    {
     "name": "stderr",
     "output_type": "stream",
     "text": [
      "\n",
      "\n",
      "\n",
      "\n",
      "\n",
      "Hop Skip Jump attack progress:  67%|██████▋   | 168/250 [03:55<01:18,  1.04it/s]\u001b[A\u001b[A\u001b[A\u001b[A\u001b[A"
     ]
    },
    {
     "name": "stdout",
     "output_type": "stream",
     "text": [
      "initial sample started\n",
      "Found adv candidate example with different label, proceed to this direction.\n"
     ]
    },
    {
     "name": "stderr",
     "output_type": "stream",
     "text": [
      "\n",
      "\n",
      "\n",
      "\n",
      "\n",
      "Hop Skip Jump attack progress:  68%|██████▊   | 169/250 [03:56<01:18,  1.04it/s]\u001b[A\u001b[A\u001b[A\u001b[A\u001b[A"
     ]
    },
    {
     "name": "stdout",
     "output_type": "stream",
     "text": [
      "initial sample started\n",
      "Found adv candidate example with different label, proceed to this direction.\n"
     ]
    },
    {
     "name": "stderr",
     "output_type": "stream",
     "text": [
      "\n",
      "\n",
      "\n",
      "\n",
      "\n",
      "Hop Skip Jump attack progress:  68%|██████▊   | 170/250 [03:57<01:20,  1.00s/it]\u001b[A\u001b[A\u001b[A\u001b[A\u001b[A"
     ]
    },
    {
     "name": "stdout",
     "output_type": "stream",
     "text": [
      "initial sample started\n",
      "Found adv candidate example with different label, proceed to this direction.\n"
     ]
    },
    {
     "name": "stderr",
     "output_type": "stream",
     "text": [
      "\n",
      "\n",
      "\n",
      "\n",
      "\n",
      "Hop Skip Jump attack progress:  68%|██████▊   | 171/250 [03:58<01:19,  1.01s/it]\u001b[A\u001b[A\u001b[A\u001b[A\u001b[A"
     ]
    },
    {
     "name": "stdout",
     "output_type": "stream",
     "text": [
      "initial sample started\n",
      "Found adv candidate example with different label, proceed to this direction.\n"
     ]
    },
    {
     "name": "stderr",
     "output_type": "stream",
     "text": [
      "\n",
      "\n",
      "\n",
      "\n",
      "\n",
      "Hop Skip Jump attack progress:  69%|██████▉   | 172/250 [03:59<01:17,  1.01it/s]\u001b[A\u001b[A\u001b[A\u001b[A\u001b[A"
     ]
    },
    {
     "name": "stdout",
     "output_type": "stream",
     "text": [
      "initial sample started\n",
      "Found adv candidate example with different label, proceed to this direction.\n"
     ]
    },
    {
     "name": "stderr",
     "output_type": "stream",
     "text": [
      "\n",
      "\n",
      "\n",
      "\n",
      "\n",
      "Hop Skip Jump attack progress:  69%|██████▉   | 173/250 [04:00<01:15,  1.02it/s]\u001b[A\u001b[A\u001b[A\u001b[A\u001b[A"
     ]
    },
    {
     "name": "stdout",
     "output_type": "stream",
     "text": [
      "initial sample started\n",
      "Found adv candidate example with different label, proceed to this direction.\n"
     ]
    },
    {
     "name": "stderr",
     "output_type": "stream",
     "text": [
      "\n",
      "\n",
      "\n",
      "\n",
      "\n",
      "Hop Skip Jump attack progress:  70%|██████▉   | 174/250 [04:01<01:17,  1.01s/it]\u001b[A\u001b[A\u001b[A\u001b[A\u001b[A"
     ]
    },
    {
     "name": "stdout",
     "output_type": "stream",
     "text": [
      "initial sample started\n",
      "Found adv candidate example with different label, proceed to this direction.\n"
     ]
    },
    {
     "name": "stderr",
     "output_type": "stream",
     "text": [
      "\n",
      "\n",
      "\n",
      "\n",
      "\n",
      "Hop Skip Jump attack progress:  70%|███████   | 175/250 [04:02<01:18,  1.04s/it]\u001b[A\u001b[A\u001b[A\u001b[A\u001b[A"
     ]
    },
    {
     "name": "stdout",
     "output_type": "stream",
     "text": [
      "initial sample started\n",
      "Found adv candidate example with different label, proceed to this direction.\n"
     ]
    },
    {
     "name": "stderr",
     "output_type": "stream",
     "text": [
      "\n",
      "\n",
      "\n",
      "\n",
      "\n",
      "Hop Skip Jump attack progress:  70%|███████   | 176/250 [04:03<01:17,  1.05s/it]\u001b[A\u001b[A\u001b[A\u001b[A\u001b[A"
     ]
    },
    {
     "name": "stdout",
     "output_type": "stream",
     "text": [
      "initial sample started\n",
      "Found adv candidate example with different label, proceed to this direction.\n"
     ]
    },
    {
     "name": "stderr",
     "output_type": "stream",
     "text": [
      "\n",
      "\n",
      "\n",
      "\n",
      "\n",
      "Hop Skip Jump attack progress:  71%|███████   | 177/250 [04:04<01:16,  1.05s/it]\u001b[A\u001b[A\u001b[A\u001b[A\u001b[A"
     ]
    },
    {
     "name": "stdout",
     "output_type": "stream",
     "text": [
      "initial sample started\n",
      "Found adv candidate example with different label, proceed to this direction.\n"
     ]
    },
    {
     "name": "stderr",
     "output_type": "stream",
     "text": [
      "\n",
      "\n",
      "\n",
      "\n",
      "\n",
      "Hop Skip Jump attack progress:  71%|███████   | 178/250 [04:05<01:15,  1.04s/it]\u001b[A\u001b[A\u001b[A\u001b[A\u001b[A"
     ]
    },
    {
     "name": "stdout",
     "output_type": "stream",
     "text": [
      "initial sample started\n",
      "Found adv candidate example with different label, proceed to this direction.\n"
     ]
    },
    {
     "name": "stderr",
     "output_type": "stream",
     "text": [
      "\n",
      "\n",
      "\n",
      "\n",
      "\n",
      "Hop Skip Jump attack progress:  72%|███████▏  | 179/250 [04:06<01:13,  1.04s/it]\u001b[A\u001b[A\u001b[A\u001b[A\u001b[A"
     ]
    },
    {
     "name": "stdout",
     "output_type": "stream",
     "text": [
      "initial sample started\n",
      "Found adv candidate example with different label, proceed to this direction.\n"
     ]
    },
    {
     "name": "stderr",
     "output_type": "stream",
     "text": [
      "\n",
      "\n",
      "\n",
      "\n",
      "\n",
      "Hop Skip Jump attack progress:  72%|███████▏  | 180/250 [04:07<01:11,  1.02s/it]\u001b[A\u001b[A\u001b[A\u001b[A\u001b[A"
     ]
    },
    {
     "name": "stdout",
     "output_type": "stream",
     "text": [
      "initial sample started\n",
      "Found adv candidate example with different label, proceed to this direction.\n"
     ]
    },
    {
     "name": "stderr",
     "output_type": "stream",
     "text": [
      "\n",
      "\n",
      "\n",
      "\n",
      "\n",
      "Hop Skip Jump attack progress:  72%|███████▏  | 181/250 [04:08<01:08,  1.00it/s]\u001b[A\u001b[A\u001b[A\u001b[A\u001b[A"
     ]
    },
    {
     "name": "stdout",
     "output_type": "stream",
     "text": [
      "initial sample started\n",
      "Found adv candidate example with different label, proceed to this direction.\n"
     ]
    },
    {
     "name": "stderr",
     "output_type": "stream",
     "text": [
      "\n",
      "\n",
      "\n",
      "\n",
      "\n",
      "Hop Skip Jump attack progress:  73%|███████▎  | 182/250 [04:09<01:05,  1.03it/s]\u001b[A\u001b[A\u001b[A\u001b[A\u001b[A"
     ]
    },
    {
     "name": "stdout",
     "output_type": "stream",
     "text": [
      "initial sample started\n",
      "Found adv candidate example with different label, proceed to this direction.\n"
     ]
    },
    {
     "name": "stderr",
     "output_type": "stream",
     "text": [
      "\n",
      "\n",
      "\n",
      "\n",
      "\n",
      "Hop Skip Jump attack progress:  73%|███████▎  | 183/250 [04:10<01:05,  1.02it/s]\u001b[A\u001b[A\u001b[A\u001b[A\u001b[A"
     ]
    },
    {
     "name": "stdout",
     "output_type": "stream",
     "text": [
      "initial sample started\n",
      "Found adv candidate example with different label, proceed to this direction.\n"
     ]
    },
    {
     "name": "stderr",
     "output_type": "stream",
     "text": [
      "\n",
      "\n",
      "\n",
      "\n",
      "\n",
      "Hop Skip Jump attack progress:  74%|███████▎  | 184/250 [04:11<01:06,  1.01s/it]\u001b[A\u001b[A\u001b[A\u001b[A\u001b[A"
     ]
    },
    {
     "name": "stdout",
     "output_type": "stream",
     "text": [
      "initial sample started\n",
      "Found adv candidate example with different label, proceed to this direction.\n"
     ]
    },
    {
     "name": "stderr",
     "output_type": "stream",
     "text": [
      "\n",
      "\n",
      "\n",
      "\n",
      "\n",
      "Hop Skip Jump attack progress:  74%|███████▍  | 185/250 [04:12<01:06,  1.03s/it]\u001b[A\u001b[A\u001b[A\u001b[A\u001b[A"
     ]
    },
    {
     "name": "stdout",
     "output_type": "stream",
     "text": [
      "initial sample started\n",
      "Found adv candidate example with different label, proceed to this direction.\n"
     ]
    },
    {
     "name": "stderr",
     "output_type": "stream",
     "text": [
      "\n",
      "\n",
      "\n",
      "\n",
      "\n",
      "Hop Skip Jump attack progress:  74%|███████▍  | 186/250 [04:13<01:04,  1.01s/it]\u001b[A\u001b[A\u001b[A\u001b[A\u001b[A"
     ]
    },
    {
     "name": "stdout",
     "output_type": "stream",
     "text": [
      "initial sample started\n",
      "Found adv candidate example with different label, proceed to this direction.\n"
     ]
    },
    {
     "name": "stderr",
     "output_type": "stream",
     "text": [
      "\n",
      "\n",
      "\n",
      "\n",
      "\n",
      "Hop Skip Jump attack progress:  75%|███████▍  | 187/250 [04:14<01:03,  1.01s/it]\u001b[A\u001b[A\u001b[A\u001b[A\u001b[A"
     ]
    },
    {
     "name": "stdout",
     "output_type": "stream",
     "text": [
      "initial sample started\n",
      "Found adv candidate example with different label, proceed to this direction.\n"
     ]
    },
    {
     "name": "stderr",
     "output_type": "stream",
     "text": [
      "\n",
      "\n",
      "\n",
      "\n",
      "\n",
      "Hop Skip Jump attack progress:  75%|███████▌  | 188/250 [04:15<01:02,  1.01s/it]\u001b[A\u001b[A\u001b[A\u001b[A\u001b[A"
     ]
    },
    {
     "name": "stdout",
     "output_type": "stream",
     "text": [
      "initial sample started\n",
      "Found adv candidate example with different label, proceed to this direction.\n"
     ]
    },
    {
     "name": "stderr",
     "output_type": "stream",
     "text": [
      "\n",
      "\n",
      "\n",
      "\n",
      "\n",
      "Hop Skip Jump attack progress:  76%|███████▌  | 189/250 [04:16<01:03,  1.04s/it]\u001b[A\u001b[A\u001b[A\u001b[A\u001b[A"
     ]
    },
    {
     "name": "stdout",
     "output_type": "stream",
     "text": [
      "initial sample started\n",
      "Found adv candidate example with different label, proceed to this direction.\n"
     ]
    },
    {
     "name": "stderr",
     "output_type": "stream",
     "text": [
      "\n",
      "\n",
      "\n",
      "\n",
      "\n",
      "Hop Skip Jump attack progress:  76%|███████▌  | 190/250 [04:18<01:02,  1.04s/it]\u001b[A\u001b[A\u001b[A\u001b[A\u001b[A"
     ]
    },
    {
     "name": "stdout",
     "output_type": "stream",
     "text": [
      "initial sample started\n",
      "Found adv candidate example with different label, proceed to this direction.\n"
     ]
    },
    {
     "name": "stderr",
     "output_type": "stream",
     "text": [
      "\n",
      "\n",
      "\n",
      "\n",
      "\n",
      "Hop Skip Jump attack progress:  76%|███████▋  | 191/250 [04:19<01:00,  1.03s/it]\u001b[A\u001b[A\u001b[A\u001b[A\u001b[A"
     ]
    },
    {
     "name": "stdout",
     "output_type": "stream",
     "text": [
      "initial sample started\n",
      "Found adv candidate example with different label, proceed to this direction.\n"
     ]
    },
    {
     "name": "stderr",
     "output_type": "stream",
     "text": [
      "\n",
      "\n",
      "\n",
      "\n",
      "\n",
      "Hop Skip Jump attack progress:  77%|███████▋  | 192/250 [04:20<01:01,  1.05s/it]\u001b[A\u001b[A\u001b[A\u001b[A\u001b[A"
     ]
    },
    {
     "name": "stdout",
     "output_type": "stream",
     "text": [
      "initial sample started\n",
      "Found adv candidate example with different label, proceed to this direction.\n"
     ]
    },
    {
     "name": "stderr",
     "output_type": "stream",
     "text": [
      "\n",
      "\n",
      "\n",
      "\n",
      "\n",
      "Hop Skip Jump attack progress:  77%|███████▋  | 193/250 [04:21<01:00,  1.07s/it]\u001b[A\u001b[A\u001b[A\u001b[A\u001b[A"
     ]
    },
    {
     "name": "stdout",
     "output_type": "stream",
     "text": [
      "initial sample started\n",
      "Found adv candidate example with different label, proceed to this direction.\n"
     ]
    },
    {
     "name": "stderr",
     "output_type": "stream",
     "text": [
      "\n",
      "\n",
      "\n",
      "\n",
      "\n",
      "Hop Skip Jump attack progress:  78%|███████▊  | 194/250 [04:22<01:00,  1.08s/it]\u001b[A\u001b[A\u001b[A\u001b[A\u001b[A"
     ]
    },
    {
     "name": "stdout",
     "output_type": "stream",
     "text": [
      "initial sample started\n",
      "Found adv candidate example with different label, proceed to this direction.\n"
     ]
    },
    {
     "name": "stderr",
     "output_type": "stream",
     "text": [
      "\n",
      "\n",
      "\n",
      "\n",
      "\n",
      "Hop Skip Jump attack progress:  78%|███████▊  | 195/250 [04:23<00:58,  1.07s/it]\u001b[A\u001b[A\u001b[A\u001b[A\u001b[A"
     ]
    },
    {
     "name": "stdout",
     "output_type": "stream",
     "text": [
      "initial sample started\n",
      "Found adv candidate example with different label, proceed to this direction.\n"
     ]
    },
    {
     "name": "stderr",
     "output_type": "stream",
     "text": [
      "\n",
      "\n",
      "\n",
      "\n",
      "\n",
      "Hop Skip Jump attack progress:  78%|███████▊  | 196/250 [04:24<00:56,  1.05s/it]\u001b[A\u001b[A\u001b[A\u001b[A\u001b[A"
     ]
    },
    {
     "name": "stdout",
     "output_type": "stream",
     "text": [
      "initial sample started\n",
      "Found adv candidate example with different label, proceed to this direction.\n"
     ]
    },
    {
     "name": "stderr",
     "output_type": "stream",
     "text": [
      "\n",
      "\n",
      "\n",
      "\n",
      "\n",
      "Hop Skip Jump attack progress:  79%|███████▉  | 197/250 [04:25<00:55,  1.05s/it]\u001b[A\u001b[A\u001b[A\u001b[A\u001b[A"
     ]
    },
    {
     "name": "stdout",
     "output_type": "stream",
     "text": [
      "initial sample started\n",
      "Found adv candidate example with different label, proceed to this direction.\n"
     ]
    },
    {
     "name": "stderr",
     "output_type": "stream",
     "text": [
      "\n",
      "\n",
      "\n",
      "\n",
      "\n",
      "Hop Skip Jump attack progress:  79%|███████▉  | 198/250 [04:26<00:54,  1.05s/it]\u001b[A\u001b[A\u001b[A\u001b[A\u001b[A"
     ]
    },
    {
     "name": "stdout",
     "output_type": "stream",
     "text": [
      "initial sample started\n",
      "Found adv candidate example with different label, proceed to this direction.\n"
     ]
    },
    {
     "name": "stderr",
     "output_type": "stream",
     "text": [
      "\n",
      "\n",
      "\n",
      "\n",
      "\n",
      "Hop Skip Jump attack progress:  80%|███████▉  | 199/250 [04:27<00:52,  1.04s/it]\u001b[A\u001b[A\u001b[A\u001b[A\u001b[A"
     ]
    },
    {
     "name": "stdout",
     "output_type": "stream",
     "text": [
      "initial sample started\n",
      "Found adv candidate example with different label, proceed to this direction.\n"
     ]
    },
    {
     "name": "stderr",
     "output_type": "stream",
     "text": [
      "\n",
      "\n",
      "\n",
      "\n",
      "\n",
      "Hop Skip Jump attack progress:  80%|████████  | 200/250 [04:28<00:50,  1.01s/it]\u001b[A\u001b[A\u001b[A\u001b[A\u001b[A"
     ]
    },
    {
     "name": "stdout",
     "output_type": "stream",
     "text": [
      "initial sample started\n",
      "Found adv candidate example with different label, proceed to this direction.\n"
     ]
    },
    {
     "name": "stderr",
     "output_type": "stream",
     "text": [
      "\n",
      "\n",
      "\n",
      "\n",
      "\n",
      "Hop Skip Jump attack progress:  80%|████████  | 201/250 [04:29<00:49,  1.00s/it]\u001b[A\u001b[A\u001b[A\u001b[A\u001b[A"
     ]
    },
    {
     "name": "stdout",
     "output_type": "stream",
     "text": [
      "initial sample started\n",
      "Found adv candidate example with different label, proceed to this direction.\n"
     ]
    },
    {
     "name": "stderr",
     "output_type": "stream",
     "text": [
      "\n",
      "\n",
      "\n",
      "\n",
      "\n",
      "Hop Skip Jump attack progress:  81%|████████  | 202/250 [04:30<00:48,  1.01s/it]\u001b[A\u001b[A\u001b[A\u001b[A\u001b[A"
     ]
    },
    {
     "name": "stdout",
     "output_type": "stream",
     "text": [
      "initial sample started\n",
      "Found adv candidate example with different label, proceed to this direction.\n"
     ]
    },
    {
     "name": "stderr",
     "output_type": "stream",
     "text": [
      "\n",
      "\n",
      "\n",
      "\n",
      "\n",
      "Hop Skip Jump attack progress:  81%|████████  | 203/250 [04:31<00:47,  1.02s/it]\u001b[A\u001b[A\u001b[A\u001b[A\u001b[A"
     ]
    },
    {
     "name": "stdout",
     "output_type": "stream",
     "text": [
      "initial sample started\n",
      "Found adv candidate example with different label, proceed to this direction.\n"
     ]
    },
    {
     "name": "stderr",
     "output_type": "stream",
     "text": [
      "\n",
      "\n",
      "\n",
      "\n",
      "\n",
      "Hop Skip Jump attack progress:  82%|████████▏ | 204/250 [04:32<00:47,  1.04s/it]\u001b[A\u001b[A\u001b[A\u001b[A\u001b[A"
     ]
    },
    {
     "name": "stdout",
     "output_type": "stream",
     "text": [
      "initial sample started\n",
      "Found adv candidate example with different label, proceed to this direction.\n"
     ]
    },
    {
     "name": "stderr",
     "output_type": "stream",
     "text": [
      "\n",
      "\n",
      "\n",
      "\n",
      "\n",
      "Hop Skip Jump attack progress:  82%|████████▏ | 205/250 [04:33<00:45,  1.02s/it]\u001b[A\u001b[A\u001b[A\u001b[A\u001b[A"
     ]
    },
    {
     "name": "stdout",
     "output_type": "stream",
     "text": [
      "initial sample started\n",
      "Found adv candidate example with different label, proceed to this direction.\n"
     ]
    },
    {
     "name": "stderr",
     "output_type": "stream",
     "text": [
      "\n",
      "\n",
      "\n",
      "\n",
      "\n",
      "Hop Skip Jump attack progress:  82%|████████▏ | 206/250 [04:34<00:45,  1.03s/it]\u001b[A\u001b[A\u001b[A\u001b[A\u001b[A"
     ]
    },
    {
     "name": "stdout",
     "output_type": "stream",
     "text": [
      "initial sample started\n",
      "Found adv candidate example with different label, proceed to this direction.\n"
     ]
    },
    {
     "name": "stderr",
     "output_type": "stream",
     "text": [
      "\n",
      "\n",
      "\n",
      "\n",
      "\n",
      "Hop Skip Jump attack progress:  83%|████████▎ | 207/250 [04:35<00:45,  1.05s/it]\u001b[A\u001b[A\u001b[A\u001b[A\u001b[A"
     ]
    },
    {
     "name": "stdout",
     "output_type": "stream",
     "text": [
      "initial sample started\n",
      "Found adv candidate example with different label, proceed to this direction.\n"
     ]
    },
    {
     "name": "stderr",
     "output_type": "stream",
     "text": [
      "\n",
      "\n",
      "\n",
      "\n",
      "\n",
      "Hop Skip Jump attack progress:  83%|████████▎ | 208/250 [04:36<00:46,  1.10s/it]\u001b[A\u001b[A\u001b[A\u001b[A\u001b[A"
     ]
    },
    {
     "name": "stdout",
     "output_type": "stream",
     "text": [
      "initial sample started\n",
      "Found adv candidate example with different label, proceed to this direction.\n"
     ]
    },
    {
     "name": "stderr",
     "output_type": "stream",
     "text": [
      "\n",
      "\n",
      "\n",
      "\n",
      "\n",
      "Hop Skip Jump attack progress:  84%|████████▎ | 209/250 [04:38<00:45,  1.11s/it]\u001b[A\u001b[A\u001b[A\u001b[A\u001b[A"
     ]
    },
    {
     "name": "stdout",
     "output_type": "stream",
     "text": [
      "initial sample started\n",
      "Found adv candidate example with different label, proceed to this direction.\n"
     ]
    },
    {
     "name": "stderr",
     "output_type": "stream",
     "text": [
      "\n",
      "\n",
      "\n",
      "\n",
      "\n",
      "Hop Skip Jump attack progress:  84%|████████▍ | 210/250 [04:39<00:43,  1.09s/it]\u001b[A\u001b[A\u001b[A\u001b[A\u001b[A"
     ]
    },
    {
     "name": "stdout",
     "output_type": "stream",
     "text": [
      "initial sample started\n",
      "Found adv candidate example with different label, proceed to this direction.\n"
     ]
    },
    {
     "name": "stderr",
     "output_type": "stream",
     "text": [
      "\n",
      "\n",
      "\n",
      "\n",
      "\n",
      "Hop Skip Jump attack progress:  84%|████████▍ | 211/250 [04:40<00:41,  1.07s/it]\u001b[A\u001b[A\u001b[A\u001b[A\u001b[A"
     ]
    },
    {
     "name": "stdout",
     "output_type": "stream",
     "text": [
      "initial sample started\n",
      "Found adv candidate example with different label, proceed to this direction.\n"
     ]
    },
    {
     "name": "stderr",
     "output_type": "stream",
     "text": [
      "\n",
      "\n",
      "\n",
      "\n",
      "\n",
      "Hop Skip Jump attack progress:  85%|████████▍ | 212/250 [04:41<00:40,  1.06s/it]\u001b[A\u001b[A\u001b[A\u001b[A\u001b[A"
     ]
    },
    {
     "name": "stdout",
     "output_type": "stream",
     "text": [
      "initial sample started\n",
      "Found adv candidate example with different label, proceed to this direction.\n"
     ]
    },
    {
     "name": "stderr",
     "output_type": "stream",
     "text": [
      "\n",
      "\n",
      "\n",
      "\n",
      "\n",
      "Hop Skip Jump attack progress:  85%|████████▌ | 213/250 [04:42<00:38,  1.05s/it]\u001b[A\u001b[A\u001b[A\u001b[A\u001b[A"
     ]
    },
    {
     "name": "stdout",
     "output_type": "stream",
     "text": [
      "initial sample started\n",
      "Found adv candidate example with different label, proceed to this direction.\n"
     ]
    },
    {
     "name": "stderr",
     "output_type": "stream",
     "text": [
      "\n",
      "\n",
      "\n",
      "\n",
      "\n",
      "Hop Skip Jump attack progress:  86%|████████▌ | 214/250 [04:43<00:37,  1.04s/it]\u001b[A\u001b[A\u001b[A\u001b[A\u001b[A"
     ]
    },
    {
     "name": "stdout",
     "output_type": "stream",
     "text": [
      "initial sample started\n",
      "Found adv candidate example with different label, proceed to this direction.\n"
     ]
    },
    {
     "name": "stderr",
     "output_type": "stream",
     "text": [
      "\n",
      "\n",
      "\n",
      "\n",
      "\n",
      "Hop Skip Jump attack progress:  86%|████████▌ | 215/250 [04:44<00:36,  1.03s/it]\u001b[A\u001b[A\u001b[A\u001b[A\u001b[A"
     ]
    },
    {
     "name": "stdout",
     "output_type": "stream",
     "text": [
      "initial sample started\n",
      "Found adv candidate example with different label, proceed to this direction.\n"
     ]
    },
    {
     "name": "stderr",
     "output_type": "stream",
     "text": [
      "\n",
      "\n",
      "\n",
      "\n",
      "\n",
      "Hop Skip Jump attack progress:  86%|████████▋ | 216/250 [04:45<00:35,  1.04s/it]\u001b[A\u001b[A\u001b[A\u001b[A\u001b[A"
     ]
    },
    {
     "name": "stdout",
     "output_type": "stream",
     "text": [
      "initial sample started\n",
      "Found adv candidate example with different label, proceed to this direction.\n"
     ]
    },
    {
     "name": "stderr",
     "output_type": "stream",
     "text": [
      "\n",
      "\n",
      "\n",
      "\n",
      "\n",
      "Hop Skip Jump attack progress:  87%|████████▋ | 217/250 [04:46<00:34,  1.04s/it]\u001b[A\u001b[A\u001b[A\u001b[A\u001b[A"
     ]
    },
    {
     "name": "stdout",
     "output_type": "stream",
     "text": [
      "initial sample started\n",
      "Found adv candidate example with different label, proceed to this direction.\n"
     ]
    },
    {
     "name": "stderr",
     "output_type": "stream",
     "text": [
      "\n",
      "\n",
      "\n",
      "\n",
      "\n",
      "Hop Skip Jump attack progress:  87%|████████▋ | 218/250 [04:47<00:33,  1.05s/it]\u001b[A\u001b[A\u001b[A\u001b[A\u001b[A"
     ]
    },
    {
     "name": "stdout",
     "output_type": "stream",
     "text": [
      "initial sample started\n",
      "Found adv candidate example with different label, proceed to this direction.\n"
     ]
    },
    {
     "name": "stderr",
     "output_type": "stream",
     "text": [
      "\n",
      "\n",
      "\n",
      "\n",
      "\n",
      "Hop Skip Jump attack progress:  88%|████████▊ | 219/250 [04:48<00:32,  1.05s/it]\u001b[A\u001b[A\u001b[A\u001b[A\u001b[A"
     ]
    },
    {
     "name": "stdout",
     "output_type": "stream",
     "text": [
      "initial sample started\n",
      "Found adv candidate example with different label, proceed to this direction.\n"
     ]
    },
    {
     "name": "stderr",
     "output_type": "stream",
     "text": [
      "\n",
      "\n",
      "\n",
      "\n",
      "\n",
      "Hop Skip Jump attack progress:  88%|████████▊ | 220/250 [04:49<00:31,  1.06s/it]\u001b[A\u001b[A\u001b[A\u001b[A\u001b[A"
     ]
    },
    {
     "name": "stdout",
     "output_type": "stream",
     "text": [
      "initial sample started\n",
      "Found adv candidate example with different label, proceed to this direction.\n"
     ]
    },
    {
     "name": "stderr",
     "output_type": "stream",
     "text": [
      "\n",
      "\n",
      "\n",
      "\n",
      "\n",
      "Hop Skip Jump attack progress:  88%|████████▊ | 221/250 [04:50<00:31,  1.07s/it]\u001b[A\u001b[A\u001b[A\u001b[A\u001b[A"
     ]
    },
    {
     "name": "stdout",
     "output_type": "stream",
     "text": [
      "initial sample started\n",
      "Found adv candidate example with different label, proceed to this direction.\n"
     ]
    },
    {
     "name": "stderr",
     "output_type": "stream",
     "text": [
      "\n",
      "\n",
      "\n",
      "\n",
      "\n",
      "Hop Skip Jump attack progress:  89%|████████▉ | 222/250 [04:51<00:28,  1.03s/it]\u001b[A\u001b[A\u001b[A\u001b[A\u001b[A"
     ]
    },
    {
     "name": "stdout",
     "output_type": "stream",
     "text": [
      "initial sample started\n",
      "Found adv candidate example with different label, proceed to this direction.\n"
     ]
    },
    {
     "name": "stderr",
     "output_type": "stream",
     "text": [
      "\n",
      "\n",
      "\n",
      "\n",
      "\n",
      "Hop Skip Jump attack progress:  89%|████████▉ | 223/250 [04:52<00:27,  1.01s/it]\u001b[A\u001b[A\u001b[A\u001b[A\u001b[A"
     ]
    },
    {
     "name": "stdout",
     "output_type": "stream",
     "text": [
      "initial sample started\n",
      "Found adv candidate example with different label, proceed to this direction.\n"
     ]
    },
    {
     "name": "stderr",
     "output_type": "stream",
     "text": [
      "\n",
      "\n",
      "\n",
      "\n",
      "\n",
      "Hop Skip Jump attack progress:  90%|████████▉ | 224/250 [04:53<00:25,  1.03it/s]\u001b[A\u001b[A\u001b[A\u001b[A\u001b[A"
     ]
    },
    {
     "name": "stdout",
     "output_type": "stream",
     "text": [
      "initial sample started\n",
      "Found adv candidate example with different label, proceed to this direction.\n"
     ]
    },
    {
     "name": "stderr",
     "output_type": "stream",
     "text": [
      "\n",
      "\n",
      "\n",
      "\n",
      "\n",
      "Hop Skip Jump attack progress:  90%|█████████ | 225/250 [04:54<00:23,  1.05it/s]\u001b[A\u001b[A\u001b[A\u001b[A\u001b[A"
     ]
    },
    {
     "name": "stdout",
     "output_type": "stream",
     "text": [
      "initial sample started\n",
      "Found adv candidate example with different label, proceed to this direction.\n"
     ]
    },
    {
     "name": "stderr",
     "output_type": "stream",
     "text": [
      "\n",
      "\n",
      "\n",
      "\n",
      "\n",
      "Hop Skip Jump attack progress:  90%|█████████ | 226/250 [04:55<00:22,  1.06it/s]\u001b[A\u001b[A\u001b[A\u001b[A\u001b[A"
     ]
    },
    {
     "name": "stdout",
     "output_type": "stream",
     "text": [
      "initial sample started\n",
      "Found adv candidate example with different label, proceed to this direction.\n"
     ]
    },
    {
     "name": "stderr",
     "output_type": "stream",
     "text": [
      "\n",
      "\n",
      "\n",
      "\n",
      "\n",
      "Hop Skip Jump attack progress:  91%|█████████ | 227/250 [04:56<00:22,  1.02it/s]\u001b[A\u001b[A\u001b[A\u001b[A\u001b[A"
     ]
    },
    {
     "name": "stdout",
     "output_type": "stream",
     "text": [
      "initial sample started\n",
      "Found adv candidate example with different label, proceed to this direction.\n"
     ]
    },
    {
     "name": "stderr",
     "output_type": "stream",
     "text": [
      "\n",
      "\n",
      "\n",
      "\n",
      "\n",
      "Hop Skip Jump attack progress:  91%|█████████ | 228/250 [04:57<00:21,  1.00it/s]\u001b[A\u001b[A\u001b[A\u001b[A\u001b[A"
     ]
    },
    {
     "name": "stdout",
     "output_type": "stream",
     "text": [
      "initial sample started\n",
      "Found adv candidate example with different label, proceed to this direction.\n"
     ]
    },
    {
     "name": "stderr",
     "output_type": "stream",
     "text": [
      "\n",
      "\n",
      "\n",
      "\n",
      "\n",
      "Hop Skip Jump attack progress:  92%|█████████▏| 229/250 [04:58<00:21,  1.00s/it]\u001b[A\u001b[A\u001b[A\u001b[A\u001b[A"
     ]
    },
    {
     "name": "stdout",
     "output_type": "stream",
     "text": [
      "initial sample started\n",
      "Found adv candidate example with different label, proceed to this direction.\n"
     ]
    },
    {
     "name": "stderr",
     "output_type": "stream",
     "text": [
      "\n",
      "\n",
      "\n",
      "\n",
      "\n",
      "Hop Skip Jump attack progress:  92%|█████████▏| 230/250 [04:59<00:20,  1.02s/it]\u001b[A\u001b[A\u001b[A\u001b[A\u001b[A"
     ]
    },
    {
     "name": "stdout",
     "output_type": "stream",
     "text": [
      "initial sample started\n",
      "Found adv candidate example with different label, proceed to this direction.\n"
     ]
    },
    {
     "name": "stderr",
     "output_type": "stream",
     "text": [
      "\n",
      "\n",
      "\n",
      "\n",
      "\n",
      "Hop Skip Jump attack progress:  92%|█████████▏| 231/250 [05:00<00:19,  1.04s/it]\u001b[A\u001b[A\u001b[A\u001b[A\u001b[A"
     ]
    },
    {
     "name": "stdout",
     "output_type": "stream",
     "text": [
      "initial sample started\n",
      "Found adv candidate example with different label, proceed to this direction.\n"
     ]
    },
    {
     "name": "stderr",
     "output_type": "stream",
     "text": [
      "\n",
      "\n",
      "\n",
      "\n",
      "\n",
      "Hop Skip Jump attack progress:  93%|█████████▎| 232/250 [05:01<00:19,  1.08s/it]\u001b[A\u001b[A\u001b[A\u001b[A\u001b[A"
     ]
    },
    {
     "name": "stdout",
     "output_type": "stream",
     "text": [
      "initial sample started\n",
      "Found adv candidate example with different label, proceed to this direction.\n"
     ]
    },
    {
     "name": "stderr",
     "output_type": "stream",
     "text": [
      "\n",
      "\n",
      "\n",
      "\n",
      "\n",
      "Hop Skip Jump attack progress:  93%|█████████▎| 233/250 [05:02<00:18,  1.08s/it]\u001b[A\u001b[A\u001b[A\u001b[A\u001b[A"
     ]
    },
    {
     "name": "stdout",
     "output_type": "stream",
     "text": [
      "initial sample started\n",
      "Found adv candidate example with different label, proceed to this direction.\n"
     ]
    },
    {
     "name": "stderr",
     "output_type": "stream",
     "text": [
      "\n",
      "\n",
      "\n",
      "\n",
      "\n",
      "Hop Skip Jump attack progress:  94%|█████████▎| 234/250 [05:03<00:17,  1.09s/it]\u001b[A\u001b[A\u001b[A\u001b[A\u001b[A"
     ]
    },
    {
     "name": "stdout",
     "output_type": "stream",
     "text": [
      "initial sample started\n",
      "Found adv candidate example with different label, proceed to this direction.\n"
     ]
    },
    {
     "name": "stderr",
     "output_type": "stream",
     "text": [
      "\n",
      "\n",
      "\n",
      "\n",
      "\n",
      "Hop Skip Jump attack progress:  94%|█████████▍| 235/250 [05:04<00:15,  1.07s/it]\u001b[A\u001b[A\u001b[A\u001b[A\u001b[A"
     ]
    },
    {
     "name": "stdout",
     "output_type": "stream",
     "text": [
      "initial sample started\n",
      "Found adv candidate example with different label, proceed to this direction.\n"
     ]
    },
    {
     "name": "stderr",
     "output_type": "stream",
     "text": [
      "\n",
      "\n",
      "\n",
      "\n",
      "\n",
      "Hop Skip Jump attack progress:  94%|█████████▍| 236/250 [05:05<00:14,  1.06s/it]\u001b[A\u001b[A\u001b[A\u001b[A\u001b[A"
     ]
    },
    {
     "name": "stdout",
     "output_type": "stream",
     "text": [
      "initial sample started\n",
      "Found adv candidate example with different label, proceed to this direction.\n"
     ]
    },
    {
     "name": "stderr",
     "output_type": "stream",
     "text": [
      "\n",
      "\n",
      "\n",
      "\n",
      "\n",
      "Hop Skip Jump attack progress:  95%|█████████▍| 237/250 [05:06<00:13,  1.05s/it]\u001b[A\u001b[A\u001b[A\u001b[A\u001b[A"
     ]
    },
    {
     "name": "stdout",
     "output_type": "stream",
     "text": [
      "initial sample started\n",
      "Found adv candidate example with different label, proceed to this direction.\n"
     ]
    },
    {
     "name": "stderr",
     "output_type": "stream",
     "text": [
      "\n",
      "\n",
      "\n",
      "\n",
      "\n",
      "Hop Skip Jump attack progress:  95%|█████████▌| 238/250 [05:08<00:13,  1.09s/it]\u001b[A\u001b[A\u001b[A\u001b[A\u001b[A"
     ]
    },
    {
     "name": "stdout",
     "output_type": "stream",
     "text": [
      "initial sample started\n",
      "Found adv candidate example with different label, proceed to this direction.\n"
     ]
    },
    {
     "name": "stderr",
     "output_type": "stream",
     "text": [
      "\n",
      "\n",
      "\n",
      "\n",
      "\n",
      "Hop Skip Jump attack progress:  96%|█████████▌| 239/250 [05:09<00:12,  1.12s/it]\u001b[A\u001b[A\u001b[A\u001b[A\u001b[A"
     ]
    },
    {
     "name": "stdout",
     "output_type": "stream",
     "text": [
      "initial sample started\n",
      "Found adv candidate example with different label, proceed to this direction.\n"
     ]
    },
    {
     "name": "stderr",
     "output_type": "stream",
     "text": [
      "\n",
      "\n",
      "\n",
      "\n",
      "\n",
      "Hop Skip Jump attack progress:  96%|█████████▌| 240/250 [05:10<00:11,  1.11s/it]\u001b[A\u001b[A\u001b[A\u001b[A\u001b[A"
     ]
    },
    {
     "name": "stdout",
     "output_type": "stream",
     "text": [
      "initial sample started\n",
      "Found adv candidate example with different label, proceed to this direction.\n"
     ]
    },
    {
     "name": "stderr",
     "output_type": "stream",
     "text": [
      "\n",
      "\n",
      "\n",
      "\n",
      "\n",
      "Hop Skip Jump attack progress:  96%|█████████▋| 241/250 [05:11<00:09,  1.11s/it]\u001b[A\u001b[A\u001b[A\u001b[A\u001b[A"
     ]
    },
    {
     "name": "stdout",
     "output_type": "stream",
     "text": [
      "initial sample started\n",
      "Found adv candidate example with different label, proceed to this direction.\n"
     ]
    },
    {
     "name": "stderr",
     "output_type": "stream",
     "text": [
      "\n",
      "\n",
      "\n",
      "\n",
      "\n",
      "Hop Skip Jump attack progress:  97%|█████████▋| 242/250 [05:12<00:08,  1.10s/it]\u001b[A\u001b[A\u001b[A\u001b[A\u001b[A"
     ]
    },
    {
     "name": "stdout",
     "output_type": "stream",
     "text": [
      "initial sample started\n",
      "Found adv candidate example with different label, proceed to this direction.\n"
     ]
    },
    {
     "name": "stderr",
     "output_type": "stream",
     "text": [
      "\n",
      "\n",
      "\n",
      "\n",
      "\n",
      "Hop Skip Jump attack progress:  97%|█████████▋| 243/250 [05:13<00:07,  1.09s/it]\u001b[A\u001b[A\u001b[A\u001b[A\u001b[A"
     ]
    },
    {
     "name": "stdout",
     "output_type": "stream",
     "text": [
      "initial sample started\n",
      "Found adv candidate example with different label, proceed to this direction.\n"
     ]
    },
    {
     "name": "stderr",
     "output_type": "stream",
     "text": [
      "\n",
      "\n",
      "\n",
      "\n",
      "\n",
      "Hop Skip Jump attack progress:  98%|█████████▊| 244/250 [05:14<00:06,  1.09s/it]\u001b[A\u001b[A\u001b[A\u001b[A\u001b[A"
     ]
    },
    {
     "name": "stdout",
     "output_type": "stream",
     "text": [
      "initial sample started\n",
      "Found adv candidate example with different label, proceed to this direction.\n"
     ]
    },
    {
     "name": "stderr",
     "output_type": "stream",
     "text": [
      "\n",
      "\n",
      "\n",
      "\n",
      "\n",
      "Hop Skip Jump attack progress:  98%|█████████▊| 245/250 [05:16<00:05,  1.15s/it]\u001b[A\u001b[A\u001b[A\u001b[A\u001b[A"
     ]
    },
    {
     "name": "stdout",
     "output_type": "stream",
     "text": [
      "initial sample started\n",
      "Found adv candidate example with different label, proceed to this direction.\n"
     ]
    },
    {
     "name": "stderr",
     "output_type": "stream",
     "text": [
      "\n",
      "\n",
      "\n",
      "\n",
      "\n",
      "Hop Skip Jump attack progress:  98%|█████████▊| 246/250 [05:17<00:04,  1.13s/it]\u001b[A\u001b[A\u001b[A\u001b[A\u001b[A"
     ]
    },
    {
     "name": "stdout",
     "output_type": "stream",
     "text": [
      "initial sample started\n",
      "Found adv candidate example with different label, proceed to this direction.\n"
     ]
    },
    {
     "name": "stderr",
     "output_type": "stream",
     "text": [
      "\n",
      "\n",
      "\n",
      "\n",
      "\n",
      "Hop Skip Jump attack progress:  99%|█████████▉| 247/250 [05:18<00:03,  1.13s/it]\u001b[A\u001b[A\u001b[A\u001b[A\u001b[A"
     ]
    },
    {
     "name": "stdout",
     "output_type": "stream",
     "text": [
      "initial sample started\n",
      "Found adv candidate example with different label, proceed to this direction.\n"
     ]
    },
    {
     "name": "stderr",
     "output_type": "stream",
     "text": [
      "\n",
      "\n",
      "\n",
      "\n",
      "\n",
      "Hop Skip Jump attack progress:  99%|█████████▉| 248/250 [05:19<00:02,  1.10s/it]\u001b[A\u001b[A\u001b[A\u001b[A\u001b[A"
     ]
    },
    {
     "name": "stdout",
     "output_type": "stream",
     "text": [
      "initial sample started\n",
      "Found adv candidate example with different label, proceed to this direction.\n"
     ]
    },
    {
     "name": "stderr",
     "output_type": "stream",
     "text": [
      "\n",
      "\n",
      "\n",
      "\n",
      "\n",
      "Hop Skip Jump attack progress: 100%|█████████▉| 249/250 [05:20<00:01,  1.08s/it]\u001b[A\u001b[A\u001b[A\u001b[A\u001b[A"
     ]
    },
    {
     "name": "stdout",
     "output_type": "stream",
     "text": [
      "initial sample started\n",
      "Found adv candidate example with different label, proceed to this direction.\n"
     ]
    },
    {
     "name": "stderr",
     "output_type": "stream",
     "text": [
      "\n",
      "\n",
      "\n",
      "\n",
      "\n",
      "Hop Skip Jump attack progress: 100%|██████████| 250/250 [05:21<00:00,  1.29s/it]\u001b[A\u001b[A\u001b[A\u001b[A\u001b[A\n"
     ]
    }
   ],
   "source": [
    "# FGSM with extensions\n",
    "# attacker = FastGradientSignMethod(classifier, eps=0.3, batch_size = 32)\n",
    "# x_test_adv = attacker.generate(x_test[:adv_num]) # non-targeted\n",
    "# x_test_adv = attacker.generate_targeted(x_test[:adv_num], aimed_target = x_test[0]) #targeted\n",
    "# x_test_adv = attacker.generate_iterative(x_test[:adv_num], eps_step = 0.05) #iterative non-targeted\n",
    "# x_test_adv = attacker.generate_targeted_iterative(x_test[:adv_num], eps_step = 0.05, aimed_target =x_test[0]) #iterative targeted\n",
    "\n",
    "# # Hop Skip Jump: Paper uses max_iter=64, max_eval=10000, init_eval=100 but thats ultra-mega slow.\n",
    "attacker = HopSkipJump(classifier=classifier, targeted=False, norm=np.inf, max_iter=8, max_eval=100, init_eval=10)\n",
    "# attacker = HopSkipJump(classifier=classifier, targeted=False, norm=np.inf, max_iter=64, max_eval=1000, init_eval=100)\n",
    "x_test_adv = attacker.generate(x_test[:adv_num])\n",
    "\n",
    "\n",
    "# # DeepFool\n",
    "# attacker = DeepFool(classifier)\n",
    "# x_test_adv = attacker.generate(x_test[:adv_num])\n",
    "\n",
    "# # DeepFool extension\n",
    "# attacker = DynamicDeepFool(classifier)\n",
    "# x_test_adv = attacker.generate(x_test[:adv_num])"
   ]
  },
  {
   "cell_type": "code",
   "execution_count": 110,
   "metadata": {},
   "outputs": [
    {
     "name": "stdout",
     "output_type": "stream",
     "text": [
      "##############################\n",
      "Adversarial test data (first 250 images):\n",
      "Correctly classified: 1\n",
      "Incorrectly classified: 249\n",
      "Classified as targeted label: 15\n",
      "##############################\n"
     ]
    }
   ],
   "source": [
    "\n",
    "x_test_adv_pred = np.argmax(classifier.predict(x_test_adv), axis=1)\n",
    "nb_correct_adv_pred = np.sum(x_test_adv_pred == np.argmax(y_test[:adv_num], axis=1))\n",
    "\n",
    "print('#'*30)\n",
    "print(f\"Adversarial test data (first {adv_num} images):\")\n",
    "print(\"Correctly classified: {}\".format(nb_correct_adv_pred))\n",
    "print(\"Incorrectly classified: {}\".format(adv_num-nb_correct_adv_pred))\n",
    "nb_preb_as_tar = np.count_nonzero(x_test_adv_pred == np.argmax(y_test[:adv_num], axis=1)[0])\n",
    "print(f\"Classified as targeted label: {nb_preb_as_tar}\")\n",
    "print('#'*30)\n"
   ]
  },
  {
   "cell_type": "code",
   "execution_count": 111,
   "metadata": {},
   "outputs": [
    {
     "name": "stdout",
     "output_type": "stream",
     "text": [
      "test_num: 250;  adv_num: 250\n",
      "L_2:  1241.1830043481307\n",
      "L_inf:  1900.721824512187\n",
      "##############################\n",
      "##############################\n"
     ]
    }
   ],
   "source": [
    "\n",
    "def pertub_budget(org_list, adv_list, norm_dist):\n",
    "    norm_accum = 0\n",
    "    for org, adv in zip(org_list, adv_list):\n",
    "        for layer in range(org.shape[-1]):\n",
    "            norm_accum += np.linalg.norm(adv[:, :, layer] - org[:, :, layer], ord = norm_dist)\n",
    "\n",
    "    return norm_accum\n",
    "\n",
    "print(f'test_num: {test_num};  adv_num: {adv_num}')\n",
    "print('L_2: ', pertub_budget(x_test[:test_num], x_test_adv, norm_dist = 2))\n",
    "print('L_inf: ', pertub_budget(x_test[:test_num], x_test_adv, norm_dist = np.inf))\n",
    "# print('Runtime: ', stop - start)\n",
    "print('#'*30)\n",
    "print('#'*30)"
   ]
  },
  {
   "cell_type": "code",
   "execution_count": 112,
   "metadata": {
    "scrolled": true
   },
   "outputs": [
    {
     "name": "stderr",
     "output_type": "stream",
     "text": [
      "\n",
      "\n",
      "\n",
      "\n",
      "\n",
      "Hop Skip Jump attack progress:   0%|          | 0/250 [00:00<?, ?it/s]\u001b[A\u001b[A\u001b[A\u001b[A\u001b[A"
     ]
    },
    {
     "name": "stdout",
     "output_type": "stream",
     "text": [
      "initial sample started\n",
      "Found adv candidate example with different label, proceed to this direction.\n"
     ]
    },
    {
     "name": "stderr",
     "output_type": "stream",
     "text": [
      "\n",
      "\n",
      "\n",
      "\n",
      "\n",
      "Hop Skip Jump attack progress:   0%|          | 1/250 [00:01<04:11,  1.01s/it]\u001b[A\u001b[A\u001b[A\u001b[A\u001b[A"
     ]
    },
    {
     "name": "stdout",
     "output_type": "stream",
     "text": [
      "initial sample started\n",
      "Found adv candidate example with different label, proceed to this direction.\n"
     ]
    },
    {
     "name": "stderr",
     "output_type": "stream",
     "text": [
      "\n",
      "\n",
      "\n",
      "\n",
      "\n",
      "Hop Skip Jump attack progress:   1%|          | 2/250 [00:02<04:29,  1.09s/it]\u001b[A\u001b[A\u001b[A\u001b[A\u001b[A"
     ]
    },
    {
     "name": "stdout",
     "output_type": "stream",
     "text": [
      "initial sample started\n",
      "Found adv candidate example with different label, proceed to this direction.\n"
     ]
    },
    {
     "name": "stderr",
     "output_type": "stream",
     "text": [
      "\n",
      "\n",
      "\n",
      "\n",
      "\n",
      "Hop Skip Jump attack progress:   1%|          | 3/250 [00:03<04:30,  1.09s/it]\u001b[A\u001b[A\u001b[A\u001b[A\u001b[A"
     ]
    },
    {
     "name": "stdout",
     "output_type": "stream",
     "text": [
      "initial sample started\n",
      "Found adv candidate example with different label, proceed to this direction.\n"
     ]
    },
    {
     "name": "stderr",
     "output_type": "stream",
     "text": [
      "\n",
      "\n",
      "\n",
      "\n",
      "\n",
      "Hop Skip Jump attack progress:   2%|▏         | 4/250 [00:04<04:25,  1.08s/it]\u001b[A\u001b[A\u001b[A\u001b[A\u001b[A"
     ]
    },
    {
     "name": "stdout",
     "output_type": "stream",
     "text": [
      "initial sample started\n",
      "Found adv candidate example with different label, proceed to this direction.\n"
     ]
    },
    {
     "name": "stderr",
     "output_type": "stream",
     "text": [
      "\n",
      "\n",
      "\n",
      "\n",
      "\n",
      "Hop Skip Jump attack progress:   2%|▏         | 5/250 [00:05<04:29,  1.10s/it]\u001b[A\u001b[A\u001b[A\u001b[A\u001b[A"
     ]
    },
    {
     "name": "stdout",
     "output_type": "stream",
     "text": [
      "initial sample started\n",
      "Found adv candidate example with different label, proceed to this direction.\n"
     ]
    },
    {
     "name": "stderr",
     "output_type": "stream",
     "text": [
      "\n",
      "\n",
      "\n",
      "\n",
      "\n",
      "Hop Skip Jump attack progress:   2%|▏         | 6/250 [00:06<04:29,  1.10s/it]\u001b[A\u001b[A\u001b[A\u001b[A\u001b[A"
     ]
    },
    {
     "name": "stdout",
     "output_type": "stream",
     "text": [
      "initial sample started\n",
      "Found adv candidate example with different label, proceed to this direction.\n"
     ]
    },
    {
     "name": "stderr",
     "output_type": "stream",
     "text": [
      "\n",
      "\n",
      "\n",
      "\n",
      "\n",
      "Hop Skip Jump attack progress:   3%|▎         | 7/250 [00:07<04:23,  1.09s/it]\u001b[A\u001b[A\u001b[A\u001b[A\u001b[A"
     ]
    },
    {
     "name": "stdout",
     "output_type": "stream",
     "text": [
      "initial sample started\n",
      "Found adv candidate example with different label, proceed to this direction.\n"
     ]
    },
    {
     "name": "stderr",
     "output_type": "stream",
     "text": [
      "\n",
      "\n",
      "\n",
      "\n",
      "\n",
      "Hop Skip Jump attack progress:   3%|▎         | 8/250 [00:08<04:29,  1.12s/it]\u001b[A\u001b[A\u001b[A\u001b[A\u001b[A"
     ]
    },
    {
     "name": "stdout",
     "output_type": "stream",
     "text": [
      "initial sample started\n",
      "Found adv candidate example with different label, proceed to this direction.\n"
     ]
    },
    {
     "name": "stderr",
     "output_type": "stream",
     "text": [
      "\n",
      "\n",
      "\n",
      "\n",
      "\n",
      "Hop Skip Jump attack progress:   4%|▎         | 9/250 [00:10<04:27,  1.11s/it]\u001b[A\u001b[A\u001b[A\u001b[A\u001b[A"
     ]
    },
    {
     "name": "stdout",
     "output_type": "stream",
     "text": [
      "initial sample started\n",
      "Found adv candidate example with different label, proceed to this direction.\n"
     ]
    },
    {
     "name": "stderr",
     "output_type": "stream",
     "text": [
      "\n",
      "\n",
      "\n",
      "\n",
      "\n",
      "Hop Skip Jump attack progress:   4%|▍         | 10/250 [00:11<04:21,  1.09s/it]\u001b[A\u001b[A\u001b[A\u001b[A\u001b[A"
     ]
    },
    {
     "name": "stdout",
     "output_type": "stream",
     "text": [
      "initial sample started\n",
      "Found adv candidate example with different label, proceed to this direction.\n"
     ]
    },
    {
     "name": "stderr",
     "output_type": "stream",
     "text": [
      "\n",
      "\n",
      "\n",
      "\n",
      "\n",
      "Hop Skip Jump attack progress:   4%|▍         | 11/250 [00:12<04:22,  1.10s/it]\u001b[A\u001b[A\u001b[A\u001b[A\u001b[A"
     ]
    },
    {
     "name": "stdout",
     "output_type": "stream",
     "text": [
      "initial sample started\n",
      "Found adv candidate example with different label, proceed to this direction.\n"
     ]
    },
    {
     "name": "stderr",
     "output_type": "stream",
     "text": [
      "\n",
      "\n",
      "\n",
      "\n",
      "\n",
      "Hop Skip Jump attack progress:   5%|▍         | 12/250 [00:13<04:13,  1.06s/it]\u001b[A\u001b[A\u001b[A\u001b[A\u001b[A"
     ]
    },
    {
     "name": "stdout",
     "output_type": "stream",
     "text": [
      "initial sample started\n",
      "Found adv candidate example with different label, proceed to this direction.\n"
     ]
    },
    {
     "name": "stderr",
     "output_type": "stream",
     "text": [
      "\n",
      "\n",
      "\n",
      "\n",
      "\n",
      "Hop Skip Jump attack progress:   5%|▌         | 13/250 [00:14<03:59,  1.01s/it]\u001b[A\u001b[A\u001b[A\u001b[A\u001b[A"
     ]
    },
    {
     "name": "stdout",
     "output_type": "stream",
     "text": [
      "initial sample started\n",
      "Found adv candidate example with different label, proceed to this direction.\n"
     ]
    },
    {
     "name": "stderr",
     "output_type": "stream",
     "text": [
      "\n",
      "\n",
      "\n",
      "\n",
      "\n",
      "Hop Skip Jump attack progress:   6%|▌         | 14/250 [00:15<03:57,  1.01s/it]\u001b[A\u001b[A\u001b[A\u001b[A\u001b[A"
     ]
    },
    {
     "name": "stdout",
     "output_type": "stream",
     "text": [
      "initial sample started\n",
      "Found adv candidate example with different label, proceed to this direction.\n"
     ]
    },
    {
     "name": "stderr",
     "output_type": "stream",
     "text": [
      "\n",
      "\n",
      "\n",
      "\n",
      "\n",
      "Hop Skip Jump attack progress:   6%|▌         | 15/250 [00:16<03:55,  1.00s/it]\u001b[A\u001b[A\u001b[A\u001b[A\u001b[A"
     ]
    },
    {
     "name": "stdout",
     "output_type": "stream",
     "text": [
      "initial sample started\n",
      "Found adv candidate example with different label, proceed to this direction.\n"
     ]
    },
    {
     "name": "stderr",
     "output_type": "stream",
     "text": [
      "\n",
      "\n",
      "\n",
      "\n",
      "\n",
      "Hop Skip Jump attack progress:   6%|▋         | 16/250 [00:17<03:54,  1.00s/it]\u001b[A\u001b[A\u001b[A\u001b[A\u001b[A"
     ]
    },
    {
     "name": "stdout",
     "output_type": "stream",
     "text": [
      "initial sample started\n",
      "Found adv candidate example with different label, proceed to this direction.\n"
     ]
    },
    {
     "name": "stderr",
     "output_type": "stream",
     "text": [
      "\n",
      "\n",
      "\n",
      "\n",
      "\n",
      "Hop Skip Jump attack progress:   7%|▋         | 17/250 [00:18<03:59,  1.03s/it]\u001b[A\u001b[A\u001b[A\u001b[A\u001b[A"
     ]
    },
    {
     "name": "stdout",
     "output_type": "stream",
     "text": [
      "initial sample started\n",
      "Found adv candidate example with different label, proceed to this direction.\n"
     ]
    },
    {
     "name": "stderr",
     "output_type": "stream",
     "text": [
      "\n",
      "\n",
      "\n",
      "\n",
      "\n",
      "Hop Skip Jump attack progress:   7%|▋         | 18/250 [00:19<04:04,  1.06s/it]\u001b[A\u001b[A\u001b[A\u001b[A\u001b[A"
     ]
    },
    {
     "name": "stdout",
     "output_type": "stream",
     "text": [
      "initial sample started\n",
      "Found adv candidate example with different label, proceed to this direction.\n"
     ]
    },
    {
     "name": "stderr",
     "output_type": "stream",
     "text": [
      "\n",
      "\n",
      "\n",
      "\n",
      "\n",
      "Hop Skip Jump attack progress:   8%|▊         | 19/250 [00:20<04:01,  1.05s/it]\u001b[A\u001b[A\u001b[A\u001b[A\u001b[A"
     ]
    },
    {
     "name": "stdout",
     "output_type": "stream",
     "text": [
      "initial sample started\n",
      "Found adv candidate example with different label, proceed to this direction.\n"
     ]
    },
    {
     "name": "stderr",
     "output_type": "stream",
     "text": [
      "\n",
      "\n",
      "\n",
      "\n",
      "\n",
      "Hop Skip Jump attack progress:   8%|▊         | 20/250 [00:21<03:59,  1.04s/it]\u001b[A\u001b[A\u001b[A\u001b[A\u001b[A"
     ]
    },
    {
     "name": "stdout",
     "output_type": "stream",
     "text": [
      "initial sample started\n",
      "Found adv candidate example with different label, proceed to this direction.\n"
     ]
    },
    {
     "name": "stderr",
     "output_type": "stream",
     "text": [
      "\n",
      "\n",
      "\n",
      "\n",
      "\n",
      "Hop Skip Jump attack progress:   8%|▊         | 21/250 [00:22<04:01,  1.05s/it]\u001b[A\u001b[A\u001b[A\u001b[A\u001b[A"
     ]
    },
    {
     "name": "stdout",
     "output_type": "stream",
     "text": [
      "initial sample started\n",
      "Found adv candidate example with different label, proceed to this direction.\n"
     ]
    },
    {
     "name": "stderr",
     "output_type": "stream",
     "text": [
      "\n",
      "\n",
      "\n",
      "\n",
      "\n",
      "Hop Skip Jump attack progress:   9%|▉         | 22/250 [00:23<03:58,  1.05s/it]\u001b[A\u001b[A\u001b[A\u001b[A\u001b[A"
     ]
    },
    {
     "name": "stdout",
     "output_type": "stream",
     "text": [
      "initial sample started\n",
      "Found adv candidate example with different label, proceed to this direction.\n"
     ]
    },
    {
     "name": "stderr",
     "output_type": "stream",
     "text": [
      "\n",
      "\n",
      "\n",
      "\n",
      "\n",
      "Hop Skip Jump attack progress:   9%|▉         | 23/250 [00:24<03:49,  1.01s/it]\u001b[A\u001b[A\u001b[A\u001b[A\u001b[A"
     ]
    },
    {
     "name": "stdout",
     "output_type": "stream",
     "text": [
      "initial sample started\n",
      "Found adv candidate example with different label, proceed to this direction.\n"
     ]
    },
    {
     "name": "stderr",
     "output_type": "stream",
     "text": [
      "\n",
      "\n",
      "\n",
      "\n",
      "\n",
      "Hop Skip Jump attack progress:  10%|▉         | 24/250 [00:25<03:44,  1.01it/s]\u001b[A\u001b[A\u001b[A\u001b[A\u001b[A"
     ]
    },
    {
     "name": "stdout",
     "output_type": "stream",
     "text": [
      "initial sample started\n",
      "Found adv candidate example with different label, proceed to this direction.\n"
     ]
    },
    {
     "name": "stderr",
     "output_type": "stream",
     "text": [
      "\n",
      "\n",
      "\n",
      "\n",
      "\n",
      "Hop Skip Jump attack progress:  10%|█         | 25/250 [00:26<03:44,  1.00it/s]\u001b[A\u001b[A\u001b[A\u001b[A\u001b[A"
     ]
    },
    {
     "name": "stdout",
     "output_type": "stream",
     "text": [
      "initial sample started\n",
      "Found adv candidate example with different label, proceed to this direction.\n"
     ]
    },
    {
     "name": "stderr",
     "output_type": "stream",
     "text": [
      "\n",
      "\n",
      "\n",
      "\n",
      "\n",
      "Hop Skip Jump attack progress:  10%|█         | 26/250 [00:27<03:36,  1.04it/s]\u001b[A\u001b[A\u001b[A\u001b[A\u001b[A"
     ]
    },
    {
     "name": "stdout",
     "output_type": "stream",
     "text": [
      "initial sample started\n",
      "Found adv candidate example with different label, proceed to this direction.\n"
     ]
    },
    {
     "name": "stderr",
     "output_type": "stream",
     "text": [
      "\n",
      "\n",
      "\n",
      "\n",
      "\n",
      "Hop Skip Jump attack progress:  11%|█         | 27/250 [00:28<03:30,  1.06it/s]\u001b[A\u001b[A\u001b[A\u001b[A\u001b[A"
     ]
    },
    {
     "name": "stdout",
     "output_type": "stream",
     "text": [
      "initial sample started\n",
      "Found adv candidate example with different label, proceed to this direction.\n"
     ]
    },
    {
     "name": "stderr",
     "output_type": "stream",
     "text": [
      "\n",
      "\n",
      "\n",
      "\n",
      "\n",
      "Hop Skip Jump attack progress:  11%|█         | 28/250 [00:28<03:26,  1.07it/s]\u001b[A\u001b[A\u001b[A\u001b[A\u001b[A"
     ]
    },
    {
     "name": "stdout",
     "output_type": "stream",
     "text": [
      "initial sample started\n",
      "Found adv candidate example with different label, proceed to this direction.\n"
     ]
    },
    {
     "name": "stderr",
     "output_type": "stream",
     "text": [
      "\n",
      "\n",
      "\n",
      "\n",
      "\n",
      "Hop Skip Jump attack progress:  12%|█▏        | 29/250 [00:29<03:29,  1.05it/s]\u001b[A\u001b[A\u001b[A\u001b[A\u001b[A"
     ]
    },
    {
     "name": "stdout",
     "output_type": "stream",
     "text": [
      "initial sample started\n",
      "Found adv candidate example with different label, proceed to this direction.\n"
     ]
    },
    {
     "name": "stderr",
     "output_type": "stream",
     "text": [
      "\n",
      "\n",
      "\n",
      "\n",
      "\n",
      "Hop Skip Jump attack progress:  12%|█▏        | 30/250 [00:30<03:33,  1.03it/s]\u001b[A\u001b[A\u001b[A\u001b[A\u001b[A"
     ]
    },
    {
     "name": "stdout",
     "output_type": "stream",
     "text": [
      "initial sample started\n",
      "Found adv candidate example with different label, proceed to this direction.\n"
     ]
    },
    {
     "name": "stderr",
     "output_type": "stream",
     "text": [
      "\n",
      "\n",
      "\n",
      "\n",
      "\n",
      "Hop Skip Jump attack progress:  12%|█▏        | 31/250 [00:31<03:31,  1.04it/s]\u001b[A\u001b[A\u001b[A\u001b[A\u001b[A"
     ]
    },
    {
     "name": "stdout",
     "output_type": "stream",
     "text": [
      "initial sample started\n",
      "Found adv candidate example with different label, proceed to this direction.\n"
     ]
    },
    {
     "name": "stderr",
     "output_type": "stream",
     "text": [
      "\n",
      "\n",
      "\n",
      "\n",
      "\n",
      "Hop Skip Jump attack progress:  13%|█▎        | 32/250 [00:33<03:37,  1.00it/s]\u001b[A\u001b[A\u001b[A\u001b[A\u001b[A"
     ]
    },
    {
     "name": "stdout",
     "output_type": "stream",
     "text": [
      "initial sample started\n",
      "Found adv candidate example with different label, proceed to this direction.\n"
     ]
    },
    {
     "name": "stderr",
     "output_type": "stream",
     "text": [
      "\n",
      "\n",
      "\n",
      "\n",
      "\n",
      "Hop Skip Jump attack progress:  13%|█▎        | 33/250 [00:34<03:40,  1.02s/it]\u001b[A\u001b[A\u001b[A\u001b[A\u001b[A"
     ]
    },
    {
     "name": "stdout",
     "output_type": "stream",
     "text": [
      "initial sample started\n",
      "Found adv candidate example with different label, proceed to this direction.\n"
     ]
    },
    {
     "name": "stderr",
     "output_type": "stream",
     "text": [
      "\n",
      "\n",
      "\n",
      "\n",
      "\n",
      "Hop Skip Jump attack progress:  14%|█▎        | 34/250 [00:35<03:43,  1.03s/it]\u001b[A\u001b[A\u001b[A\u001b[A\u001b[A"
     ]
    },
    {
     "name": "stdout",
     "output_type": "stream",
     "text": [
      "initial sample started\n",
      "Found adv candidate example with different label, proceed to this direction.\n"
     ]
    },
    {
     "name": "stderr",
     "output_type": "stream",
     "text": [
      "\n",
      "\n",
      "\n",
      "\n",
      "\n",
      "Hop Skip Jump attack progress:  14%|█▍        | 35/250 [00:36<03:41,  1.03s/it]\u001b[A\u001b[A\u001b[A\u001b[A\u001b[A"
     ]
    },
    {
     "name": "stdout",
     "output_type": "stream",
     "text": [
      "initial sample started\n",
      "Found adv candidate example with different label, proceed to this direction.\n"
     ]
    },
    {
     "name": "stderr",
     "output_type": "stream",
     "text": [
      "\n",
      "\n",
      "\n",
      "\n",
      "\n",
      "Hop Skip Jump attack progress:  14%|█▍        | 36/250 [00:37<03:43,  1.05s/it]\u001b[A\u001b[A\u001b[A\u001b[A\u001b[A"
     ]
    },
    {
     "name": "stdout",
     "output_type": "stream",
     "text": [
      "initial sample started\n",
      "Found adv candidate example with different label, proceed to this direction.\n"
     ]
    },
    {
     "name": "stderr",
     "output_type": "stream",
     "text": [
      "\n",
      "\n",
      "\n",
      "\n",
      "\n",
      "Hop Skip Jump attack progress:  15%|█▍        | 37/250 [00:38<03:41,  1.04s/it]\u001b[A\u001b[A\u001b[A\u001b[A\u001b[A"
     ]
    },
    {
     "name": "stdout",
     "output_type": "stream",
     "text": [
      "initial sample started\n",
      "Found adv candidate example with different label, proceed to this direction.\n"
     ]
    },
    {
     "name": "stderr",
     "output_type": "stream",
     "text": [
      "\n",
      "\n",
      "\n",
      "\n",
      "\n",
      "Hop Skip Jump attack progress:  15%|█▌        | 38/250 [00:39<03:41,  1.04s/it]\u001b[A\u001b[A\u001b[A\u001b[A\u001b[A"
     ]
    },
    {
     "name": "stdout",
     "output_type": "stream",
     "text": [
      "initial sample started\n",
      "Found adv candidate example with different label, proceed to this direction.\n"
     ]
    },
    {
     "name": "stderr",
     "output_type": "stream",
     "text": [
      "\n",
      "\n",
      "\n",
      "\n",
      "\n",
      "Hop Skip Jump attack progress:  16%|█▌        | 39/250 [00:40<03:43,  1.06s/it]\u001b[A\u001b[A\u001b[A\u001b[A\u001b[A"
     ]
    },
    {
     "name": "stdout",
     "output_type": "stream",
     "text": [
      "initial sample started\n",
      "Found adv candidate example with different label, proceed to this direction.\n"
     ]
    },
    {
     "name": "stderr",
     "output_type": "stream",
     "text": [
      "\n",
      "\n",
      "\n",
      "\n",
      "\n",
      "Hop Skip Jump attack progress:  16%|█▌        | 40/250 [00:41<03:38,  1.04s/it]\u001b[A\u001b[A\u001b[A\u001b[A\u001b[A"
     ]
    },
    {
     "name": "stdout",
     "output_type": "stream",
     "text": [
      "initial sample started\n",
      "Found adv candidate example with different label, proceed to this direction.\n"
     ]
    },
    {
     "name": "stderr",
     "output_type": "stream",
     "text": [
      "\n",
      "\n",
      "\n",
      "\n",
      "\n",
      "Hop Skip Jump attack progress:  16%|█▋        | 41/250 [00:42<03:31,  1.01s/it]\u001b[A\u001b[A\u001b[A\u001b[A\u001b[A"
     ]
    },
    {
     "name": "stdout",
     "output_type": "stream",
     "text": [
      "initial sample started\n",
      "Found adv candidate example with different label, proceed to this direction.\n"
     ]
    },
    {
     "name": "stderr",
     "output_type": "stream",
     "text": [
      "\n",
      "\n",
      "\n",
      "\n",
      "\n",
      "Hop Skip Jump attack progress:  17%|█▋        | 42/250 [00:43<03:33,  1.03s/it]\u001b[A\u001b[A\u001b[A\u001b[A\u001b[A"
     ]
    },
    {
     "name": "stdout",
     "output_type": "stream",
     "text": [
      "initial sample started\n",
      "Found adv candidate example with different label, proceed to this direction.\n"
     ]
    },
    {
     "name": "stderr",
     "output_type": "stream",
     "text": [
      "\n",
      "\n",
      "\n",
      "\n",
      "\n",
      "Hop Skip Jump attack progress:  17%|█▋        | 43/250 [00:44<03:32,  1.03s/it]\u001b[A\u001b[A\u001b[A\u001b[A\u001b[A"
     ]
    },
    {
     "name": "stdout",
     "output_type": "stream",
     "text": [
      "initial sample started\n",
      "Found adv candidate example with different label, proceed to this direction.\n"
     ]
    },
    {
     "name": "stderr",
     "output_type": "stream",
     "text": [
      "\n",
      "\n",
      "\n",
      "\n",
      "\n",
      "Hop Skip Jump attack progress:  18%|█▊        | 44/250 [00:45<03:39,  1.06s/it]\u001b[A\u001b[A\u001b[A\u001b[A\u001b[A"
     ]
    },
    {
     "name": "stdout",
     "output_type": "stream",
     "text": [
      "initial sample started\n",
      "Found adv candidate example with different label, proceed to this direction.\n"
     ]
    },
    {
     "name": "stderr",
     "output_type": "stream",
     "text": [
      "\n",
      "\n",
      "\n",
      "\n",
      "\n",
      "Hop Skip Jump attack progress:  18%|█▊        | 45/250 [00:46<03:42,  1.09s/it]\u001b[A\u001b[A\u001b[A\u001b[A\u001b[A"
     ]
    },
    {
     "name": "stdout",
     "output_type": "stream",
     "text": [
      "initial sample started\n",
      "Found adv candidate example with different label, proceed to this direction.\n"
     ]
    },
    {
     "name": "stderr",
     "output_type": "stream",
     "text": [
      "\n",
      "\n",
      "\n",
      "\n",
      "\n",
      "Hop Skip Jump attack progress:  18%|█▊        | 46/250 [00:47<03:46,  1.11s/it]\u001b[A\u001b[A\u001b[A\u001b[A\u001b[A"
     ]
    },
    {
     "name": "stdout",
     "output_type": "stream",
     "text": [
      "initial sample started\n",
      "Found adv candidate example with different label, proceed to this direction.\n"
     ]
    },
    {
     "name": "stderr",
     "output_type": "stream",
     "text": [
      "\n",
      "\n",
      "\n",
      "\n",
      "\n",
      "Hop Skip Jump attack progress:  19%|█▉        | 47/250 [00:48<03:41,  1.09s/it]\u001b[A\u001b[A\u001b[A\u001b[A\u001b[A"
     ]
    },
    {
     "name": "stdout",
     "output_type": "stream",
     "text": [
      "initial sample started\n",
      "Found adv candidate example with different label, proceed to this direction.\n"
     ]
    },
    {
     "name": "stderr",
     "output_type": "stream",
     "text": [
      "\n",
      "\n",
      "\n",
      "\n",
      "\n",
      "Hop Skip Jump attack progress:  19%|█▉        | 48/250 [00:50<03:37,  1.08s/it]\u001b[A\u001b[A\u001b[A\u001b[A\u001b[A"
     ]
    },
    {
     "name": "stdout",
     "output_type": "stream",
     "text": [
      "initial sample started\n",
      "Found adv candidate example with different label, proceed to this direction.\n"
     ]
    },
    {
     "name": "stderr",
     "output_type": "stream",
     "text": [
      "\n",
      "\n",
      "\n",
      "\n",
      "\n",
      "Hop Skip Jump attack progress:  20%|█▉        | 49/250 [00:51<03:34,  1.07s/it]\u001b[A\u001b[A\u001b[A\u001b[A\u001b[A"
     ]
    },
    {
     "name": "stdout",
     "output_type": "stream",
     "text": [
      "initial sample started\n",
      "Found adv candidate example with different label, proceed to this direction.\n"
     ]
    },
    {
     "name": "stderr",
     "output_type": "stream",
     "text": [
      "\n",
      "\n",
      "\n",
      "\n",
      "\n",
      "Hop Skip Jump attack progress:  20%|██        | 50/250 [00:52<03:35,  1.08s/it]\u001b[A\u001b[A\u001b[A\u001b[A\u001b[A"
     ]
    },
    {
     "name": "stdout",
     "output_type": "stream",
     "text": [
      "initial sample started\n",
      "Found adv candidate example with different label, proceed to this direction.\n"
     ]
    },
    {
     "name": "stderr",
     "output_type": "stream",
     "text": [
      "\n",
      "\n",
      "\n",
      "\n",
      "\n",
      "Hop Skip Jump attack progress:  20%|██        | 51/250 [00:53<03:30,  1.06s/it]\u001b[A\u001b[A\u001b[A\u001b[A\u001b[A"
     ]
    },
    {
     "name": "stdout",
     "output_type": "stream",
     "text": [
      "initial sample started\n",
      "Found adv candidate example with different label, proceed to this direction.\n"
     ]
    },
    {
     "name": "stderr",
     "output_type": "stream",
     "text": [
      "\n",
      "\n",
      "\n",
      "\n",
      "\n",
      "Hop Skip Jump attack progress:  21%|██        | 52/250 [00:54<03:27,  1.05s/it]\u001b[A\u001b[A\u001b[A\u001b[A\u001b[A"
     ]
    },
    {
     "name": "stdout",
     "output_type": "stream",
     "text": [
      "initial sample started\n",
      "Found adv candidate example with different label, proceed to this direction.\n"
     ]
    },
    {
     "name": "stderr",
     "output_type": "stream",
     "text": [
      "\n",
      "\n",
      "\n",
      "\n",
      "\n",
      "Hop Skip Jump attack progress:  21%|██        | 53/250 [00:55<03:25,  1.04s/it]\u001b[A\u001b[A\u001b[A\u001b[A\u001b[A"
     ]
    },
    {
     "name": "stdout",
     "output_type": "stream",
     "text": [
      "initial sample started\n",
      "Found adv candidate example with different label, proceed to this direction.\n"
     ]
    },
    {
     "name": "stderr",
     "output_type": "stream",
     "text": [
      "\n",
      "\n",
      "\n",
      "\n",
      "\n",
      "Hop Skip Jump attack progress:  22%|██▏       | 54/250 [00:56<03:27,  1.06s/it]\u001b[A\u001b[A\u001b[A\u001b[A\u001b[A"
     ]
    },
    {
     "name": "stdout",
     "output_type": "stream",
     "text": [
      "initial sample started\n",
      "Found adv candidate example with different label, proceed to this direction.\n"
     ]
    },
    {
     "name": "stderr",
     "output_type": "stream",
     "text": [
      "\n",
      "\n",
      "\n",
      "\n",
      "\n",
      "Hop Skip Jump attack progress:  22%|██▏       | 55/250 [00:57<03:14,  1.00it/s]\u001b[A\u001b[A\u001b[A\u001b[A\u001b[A"
     ]
    },
    {
     "name": "stdout",
     "output_type": "stream",
     "text": [
      "initial sample started\n",
      "Found adv candidate example with different label, proceed to this direction.\n"
     ]
    },
    {
     "name": "stderr",
     "output_type": "stream",
     "text": [
      "\n",
      "\n",
      "\n",
      "\n",
      "\n",
      "Hop Skip Jump attack progress:  22%|██▏       | 56/250 [00:58<03:10,  1.02it/s]\u001b[A\u001b[A\u001b[A\u001b[A\u001b[A"
     ]
    },
    {
     "name": "stdout",
     "output_type": "stream",
     "text": [
      "initial sample started\n",
      "Found adv candidate example with different label, proceed to this direction.\n"
     ]
    },
    {
     "name": "stderr",
     "output_type": "stream",
     "text": [
      "\n",
      "\n",
      "\n",
      "\n",
      "\n",
      "Hop Skip Jump attack progress:  23%|██▎       | 57/250 [00:59<03:07,  1.03it/s]\u001b[A\u001b[A\u001b[A\u001b[A\u001b[A"
     ]
    },
    {
     "name": "stdout",
     "output_type": "stream",
     "text": [
      "initial sample started\n",
      "Found adv candidate example with different label, proceed to this direction.\n"
     ]
    },
    {
     "name": "stderr",
     "output_type": "stream",
     "text": [
      "\n",
      "\n",
      "\n",
      "\n",
      "\n",
      "Hop Skip Jump attack progress:  23%|██▎       | 58/250 [01:00<03:05,  1.03it/s]\u001b[A\u001b[A\u001b[A\u001b[A\u001b[A"
     ]
    },
    {
     "name": "stdout",
     "output_type": "stream",
     "text": [
      "initial sample started\n",
      "Found adv candidate example with different label, proceed to this direction.\n"
     ]
    },
    {
     "name": "stderr",
     "output_type": "stream",
     "text": [
      "\n",
      "\n",
      "\n",
      "\n",
      "\n",
      "Hop Skip Jump attack progress:  24%|██▎       | 59/250 [01:01<03:10,  1.00it/s]\u001b[A\u001b[A\u001b[A\u001b[A\u001b[A"
     ]
    },
    {
     "name": "stdout",
     "output_type": "stream",
     "text": [
      "initial sample started\n",
      "Found adv candidate example with different label, proceed to this direction.\n"
     ]
    },
    {
     "name": "stderr",
     "output_type": "stream",
     "text": [
      "\n",
      "\n",
      "\n",
      "\n",
      "\n",
      "Hop Skip Jump attack progress:  24%|██▍       | 60/250 [01:02<03:10,  1.00s/it]\u001b[A\u001b[A\u001b[A\u001b[A\u001b[A"
     ]
    },
    {
     "name": "stdout",
     "output_type": "stream",
     "text": [
      "initial sample started\n",
      "Found adv candidate example with different label, proceed to this direction.\n"
     ]
    },
    {
     "name": "stderr",
     "output_type": "stream",
     "text": [
      "\n",
      "\n",
      "\n",
      "\n",
      "\n",
      "Hop Skip Jump attack progress:  24%|██▍       | 61/250 [01:03<03:09,  1.00s/it]\u001b[A\u001b[A\u001b[A\u001b[A\u001b[A"
     ]
    },
    {
     "name": "stdout",
     "output_type": "stream",
     "text": [
      "initial sample started\n",
      "Found adv candidate example with different label, proceed to this direction.\n"
     ]
    },
    {
     "name": "stderr",
     "output_type": "stream",
     "text": [
      "\n",
      "\n",
      "\n",
      "\n",
      "\n",
      "Hop Skip Jump attack progress:  25%|██▍       | 62/250 [01:04<03:12,  1.03s/it]\u001b[A\u001b[A\u001b[A\u001b[A\u001b[A"
     ]
    },
    {
     "name": "stdout",
     "output_type": "stream",
     "text": [
      "initial sample started\n",
      "Found adv candidate example with different label, proceed to this direction.\n"
     ]
    },
    {
     "name": "stderr",
     "output_type": "stream",
     "text": [
      "\n",
      "\n",
      "\n",
      "\n",
      "\n",
      "Hop Skip Jump attack progress:  25%|██▌       | 63/250 [01:05<03:21,  1.08s/it]\u001b[A\u001b[A\u001b[A\u001b[A\u001b[A"
     ]
    },
    {
     "name": "stdout",
     "output_type": "stream",
     "text": [
      "initial sample started\n",
      "Found adv candidate example with different label, proceed to this direction.\n"
     ]
    },
    {
     "name": "stderr",
     "output_type": "stream",
     "text": [
      "\n",
      "\n",
      "\n",
      "\n",
      "\n",
      "Hop Skip Jump attack progress:  26%|██▌       | 64/250 [01:06<03:24,  1.10s/it]\u001b[A\u001b[A\u001b[A\u001b[A\u001b[A"
     ]
    },
    {
     "name": "stdout",
     "output_type": "stream",
     "text": [
      "initial sample started\n",
      "Found adv candidate example with different label, proceed to this direction.\n"
     ]
    },
    {
     "name": "stderr",
     "output_type": "stream",
     "text": [
      "\n",
      "\n",
      "\n",
      "\n",
      "\n",
      "Hop Skip Jump attack progress:  26%|██▌       | 65/250 [01:07<03:30,  1.14s/it]\u001b[A\u001b[A\u001b[A\u001b[A\u001b[A"
     ]
    },
    {
     "name": "stdout",
     "output_type": "stream",
     "text": [
      "initial sample started\n",
      "Found adv candidate example with different label, proceed to this direction.\n"
     ]
    },
    {
     "name": "stderr",
     "output_type": "stream",
     "text": [
      "\n",
      "\n",
      "\n",
      "\n",
      "\n",
      "Hop Skip Jump attack progress:  26%|██▋       | 66/250 [01:08<03:31,  1.15s/it]\u001b[A\u001b[A\u001b[A\u001b[A\u001b[A"
     ]
    },
    {
     "name": "stdout",
     "output_type": "stream",
     "text": [
      "initial sample started\n",
      "Found adv candidate example with different label, proceed to this direction.\n"
     ]
    },
    {
     "name": "stderr",
     "output_type": "stream",
     "text": [
      "\n",
      "\n",
      "\n",
      "\n",
      "\n",
      "Hop Skip Jump attack progress:  27%|██▋       | 67/250 [01:10<03:28,  1.14s/it]\u001b[A\u001b[A\u001b[A\u001b[A\u001b[A"
     ]
    },
    {
     "name": "stdout",
     "output_type": "stream",
     "text": [
      "initial sample started\n",
      "Found adv candidate example with different label, proceed to this direction.\n"
     ]
    },
    {
     "name": "stderr",
     "output_type": "stream",
     "text": [
      "\n",
      "\n",
      "\n",
      "\n",
      "\n",
      "Hop Skip Jump attack progress:  27%|██▋       | 68/250 [01:11<03:34,  1.18s/it]\u001b[A\u001b[A\u001b[A\u001b[A\u001b[A"
     ]
    },
    {
     "name": "stdout",
     "output_type": "stream",
     "text": [
      "initial sample started\n",
      "Found adv candidate example with different label, proceed to this direction.\n"
     ]
    },
    {
     "name": "stderr",
     "output_type": "stream",
     "text": [
      "\n",
      "\n",
      "\n",
      "\n",
      "\n",
      "Hop Skip Jump attack progress:  28%|██▊       | 69/250 [01:12<03:30,  1.16s/it]\u001b[A\u001b[A\u001b[A\u001b[A\u001b[A"
     ]
    },
    {
     "name": "stdout",
     "output_type": "stream",
     "text": [
      "initial sample started\n",
      "Found adv candidate example with different label, proceed to this direction.\n"
     ]
    },
    {
     "name": "stderr",
     "output_type": "stream",
     "text": [
      "\n",
      "\n",
      "\n",
      "\n",
      "\n",
      "Hop Skip Jump attack progress:  28%|██▊       | 70/250 [01:13<03:18,  1.10s/it]\u001b[A\u001b[A\u001b[A\u001b[A\u001b[A"
     ]
    },
    {
     "name": "stdout",
     "output_type": "stream",
     "text": [
      "initial sample started\n",
      "Found adv candidate example with different label, proceed to this direction.\n"
     ]
    },
    {
     "name": "stderr",
     "output_type": "stream",
     "text": [
      "\n",
      "\n",
      "\n",
      "\n",
      "\n",
      "Hop Skip Jump attack progress:  28%|██▊       | 71/250 [01:14<03:16,  1.10s/it]\u001b[A\u001b[A\u001b[A\u001b[A\u001b[A"
     ]
    },
    {
     "name": "stdout",
     "output_type": "stream",
     "text": [
      "initial sample started\n",
      "Found adv candidate example with different label, proceed to this direction.\n"
     ]
    },
    {
     "name": "stderr",
     "output_type": "stream",
     "text": [
      "\n",
      "\n",
      "\n",
      "\n",
      "\n",
      "Hop Skip Jump attack progress:  29%|██▉       | 72/250 [01:15<03:13,  1.09s/it]\u001b[A\u001b[A\u001b[A\u001b[A\u001b[A"
     ]
    },
    {
     "name": "stdout",
     "output_type": "stream",
     "text": [
      "initial sample started\n",
      "Found adv candidate example with different label, proceed to this direction.\n"
     ]
    },
    {
     "name": "stderr",
     "output_type": "stream",
     "text": [
      "\n",
      "\n",
      "\n",
      "\n",
      "\n",
      "Hop Skip Jump attack progress:  29%|██▉       | 73/250 [01:16<03:11,  1.08s/it]\u001b[A\u001b[A\u001b[A\u001b[A\u001b[A"
     ]
    },
    {
     "name": "stdout",
     "output_type": "stream",
     "text": [
      "initial sample started\n",
      "Found adv candidate example with different label, proceed to this direction.\n"
     ]
    },
    {
     "name": "stderr",
     "output_type": "stream",
     "text": [
      "\n",
      "\n",
      "\n",
      "\n",
      "\n",
      "Hop Skip Jump attack progress:  30%|██▉       | 74/250 [01:17<03:08,  1.07s/it]\u001b[A\u001b[A\u001b[A\u001b[A\u001b[A"
     ]
    },
    {
     "name": "stdout",
     "output_type": "stream",
     "text": [
      "initial sample started\n",
      "Found adv candidate example with different label, proceed to this direction.\n"
     ]
    },
    {
     "name": "stderr",
     "output_type": "stream",
     "text": [
      "\n",
      "\n",
      "\n",
      "\n",
      "\n",
      "Hop Skip Jump attack progress:  30%|███       | 75/250 [01:18<03:07,  1.07s/it]\u001b[A\u001b[A\u001b[A\u001b[A\u001b[A"
     ]
    },
    {
     "name": "stdout",
     "output_type": "stream",
     "text": [
      "initial sample started\n",
      "Found adv candidate example with different label, proceed to this direction.\n"
     ]
    },
    {
     "name": "stderr",
     "output_type": "stream",
     "text": [
      "\n",
      "\n",
      "\n",
      "\n",
      "\n",
      "Hop Skip Jump attack progress:  30%|███       | 76/250 [01:19<03:02,  1.05s/it]\u001b[A\u001b[A\u001b[A\u001b[A\u001b[A"
     ]
    },
    {
     "name": "stdout",
     "output_type": "stream",
     "text": [
      "initial sample started\n",
      "Found adv candidate example with different label, proceed to this direction.\n"
     ]
    },
    {
     "name": "stderr",
     "output_type": "stream",
     "text": [
      "\n",
      "\n",
      "\n",
      "\n",
      "\n",
      "Hop Skip Jump attack progress:  31%|███       | 77/250 [01:20<02:59,  1.04s/it]\u001b[A\u001b[A\u001b[A\u001b[A\u001b[A"
     ]
    },
    {
     "name": "stdout",
     "output_type": "stream",
     "text": [
      "initial sample started\n",
      "Found adv candidate example with different label, proceed to this direction.\n"
     ]
    },
    {
     "name": "stderr",
     "output_type": "stream",
     "text": [
      "\n",
      "\n",
      "\n",
      "\n",
      "\n",
      "Hop Skip Jump attack progress:  31%|███       | 78/250 [01:21<03:02,  1.06s/it]\u001b[A\u001b[A\u001b[A\u001b[A\u001b[A"
     ]
    },
    {
     "name": "stdout",
     "output_type": "stream",
     "text": [
      "initial sample started\n",
      "Found adv candidate example with different label, proceed to this direction.\n"
     ]
    },
    {
     "name": "stderr",
     "output_type": "stream",
     "text": [
      "\n",
      "\n",
      "\n",
      "\n",
      "\n",
      "Hop Skip Jump attack progress:  32%|███▏      | 79/250 [01:22<02:57,  1.04s/it]\u001b[A\u001b[A\u001b[A\u001b[A\u001b[A"
     ]
    },
    {
     "name": "stdout",
     "output_type": "stream",
     "text": [
      "initial sample started\n",
      "Found adv candidate example with different label, proceed to this direction.\n"
     ]
    },
    {
     "name": "stderr",
     "output_type": "stream",
     "text": [
      "\n",
      "\n",
      "\n",
      "\n",
      "\n",
      "Hop Skip Jump attack progress:  32%|███▏      | 80/250 [01:23<02:53,  1.02s/it]\u001b[A\u001b[A\u001b[A\u001b[A\u001b[A"
     ]
    },
    {
     "name": "stdout",
     "output_type": "stream",
     "text": [
      "initial sample started\n",
      "Found adv candidate example with different label, proceed to this direction.\n"
     ]
    },
    {
     "name": "stderr",
     "output_type": "stream",
     "text": [
      "\n",
      "\n",
      "\n",
      "\n",
      "\n",
      "Hop Skip Jump attack progress:  32%|███▏      | 81/250 [01:24<02:50,  1.01s/it]\u001b[A\u001b[A\u001b[A\u001b[A\u001b[A"
     ]
    },
    {
     "name": "stdout",
     "output_type": "stream",
     "text": [
      "initial sample started\n",
      "Found adv candidate example with different label, proceed to this direction.\n"
     ]
    },
    {
     "name": "stderr",
     "output_type": "stream",
     "text": [
      "\n",
      "\n",
      "\n",
      "\n",
      "\n",
      "Hop Skip Jump attack progress:  33%|███▎      | 82/250 [01:25<02:48,  1.00s/it]\u001b[A\u001b[A\u001b[A\u001b[A\u001b[A"
     ]
    },
    {
     "name": "stdout",
     "output_type": "stream",
     "text": [
      "initial sample started\n",
      "Found adv candidate example with different label, proceed to this direction.\n"
     ]
    },
    {
     "name": "stderr",
     "output_type": "stream",
     "text": [
      "\n",
      "\n",
      "\n",
      "\n",
      "\n",
      "Hop Skip Jump attack progress:  33%|███▎      | 83/250 [01:26<02:43,  1.02it/s]\u001b[A\u001b[A\u001b[A\u001b[A\u001b[A"
     ]
    },
    {
     "name": "stdout",
     "output_type": "stream",
     "text": [
      "initial sample started\n",
      "Found adv candidate example with different label, proceed to this direction.\n"
     ]
    },
    {
     "name": "stderr",
     "output_type": "stream",
     "text": [
      "\n",
      "\n",
      "\n",
      "\n",
      "\n",
      "Hop Skip Jump attack progress:  34%|███▎      | 84/250 [01:27<02:38,  1.05it/s]\u001b[A\u001b[A\u001b[A\u001b[A\u001b[A"
     ]
    },
    {
     "name": "stdout",
     "output_type": "stream",
     "text": [
      "initial sample started\n",
      "Found adv candidate example with different label, proceed to this direction.\n"
     ]
    },
    {
     "name": "stderr",
     "output_type": "stream",
     "text": [
      "\n",
      "\n",
      "\n",
      "\n",
      "\n",
      "Hop Skip Jump attack progress:  34%|███▍      | 85/250 [01:28<02:43,  1.01it/s]\u001b[A\u001b[A\u001b[A\u001b[A\u001b[A"
     ]
    },
    {
     "name": "stdout",
     "output_type": "stream",
     "text": [
      "initial sample started\n",
      "Found adv candidate example with different label, proceed to this direction.\n"
     ]
    },
    {
     "name": "stderr",
     "output_type": "stream",
     "text": [
      "\n",
      "\n",
      "\n",
      "\n",
      "\n",
      "Hop Skip Jump attack progress:  34%|███▍      | 86/250 [01:29<02:47,  1.02s/it]\u001b[A\u001b[A\u001b[A\u001b[A\u001b[A"
     ]
    },
    {
     "name": "stdout",
     "output_type": "stream",
     "text": [
      "initial sample started\n",
      "Found adv candidate example with different label, proceed to this direction.\n"
     ]
    },
    {
     "name": "stderr",
     "output_type": "stream",
     "text": [
      "\n",
      "\n",
      "\n",
      "\n",
      "\n",
      "Hop Skip Jump attack progress:  35%|███▍      | 87/250 [01:30<02:47,  1.03s/it]\u001b[A\u001b[A\u001b[A\u001b[A\u001b[A"
     ]
    },
    {
     "name": "stdout",
     "output_type": "stream",
     "text": [
      "initial sample started\n",
      "Found adv candidate example with different label, proceed to this direction.\n"
     ]
    },
    {
     "name": "stderr",
     "output_type": "stream",
     "text": [
      "\n",
      "\n",
      "\n",
      "\n",
      "\n",
      "Hop Skip Jump attack progress:  35%|███▌      | 88/250 [01:31<02:48,  1.04s/it]\u001b[A\u001b[A\u001b[A\u001b[A\u001b[A"
     ]
    },
    {
     "name": "stdout",
     "output_type": "stream",
     "text": [
      "initial sample started\n",
      "Found adv candidate example with different label, proceed to this direction.\n"
     ]
    },
    {
     "name": "stderr",
     "output_type": "stream",
     "text": [
      "\n",
      "\n",
      "\n",
      "\n",
      "\n",
      "Hop Skip Jump attack progress:  36%|███▌      | 89/250 [01:32<02:48,  1.05s/it]\u001b[A\u001b[A\u001b[A\u001b[A\u001b[A"
     ]
    },
    {
     "name": "stdout",
     "output_type": "stream",
     "text": [
      "initial sample started\n",
      "Found adv candidate example with different label, proceed to this direction.\n"
     ]
    },
    {
     "name": "stderr",
     "output_type": "stream",
     "text": [
      "\n",
      "\n",
      "\n",
      "\n",
      "\n",
      "Hop Skip Jump attack progress:  36%|███▌      | 90/250 [01:34<02:46,  1.04s/it]\u001b[A\u001b[A\u001b[A\u001b[A\u001b[A"
     ]
    },
    {
     "name": "stdout",
     "output_type": "stream",
     "text": [
      "initial sample started\n",
      "Found adv candidate example with different label, proceed to this direction.\n"
     ]
    },
    {
     "name": "stderr",
     "output_type": "stream",
     "text": [
      "\n",
      "\n",
      "\n",
      "\n",
      "\n",
      "Hop Skip Jump attack progress:  36%|███▋      | 91/250 [01:35<02:47,  1.05s/it]\u001b[A\u001b[A\u001b[A\u001b[A\u001b[A"
     ]
    },
    {
     "name": "stdout",
     "output_type": "stream",
     "text": [
      "initial sample started\n",
      "Found adv candidate example with different label, proceed to this direction.\n"
     ]
    },
    {
     "name": "stderr",
     "output_type": "stream",
     "text": [
      "\n",
      "\n",
      "\n",
      "\n",
      "\n",
      "Hop Skip Jump attack progress:  37%|███▋      | 92/250 [01:36<02:42,  1.03s/it]\u001b[A\u001b[A\u001b[A\u001b[A\u001b[A"
     ]
    },
    {
     "name": "stdout",
     "output_type": "stream",
     "text": [
      "initial sample started\n",
      "Found adv candidate example with different label, proceed to this direction.\n"
     ]
    },
    {
     "name": "stderr",
     "output_type": "stream",
     "text": [
      "\n",
      "\n",
      "\n",
      "\n",
      "\n",
      "Hop Skip Jump attack progress:  37%|███▋      | 93/250 [01:37<02:41,  1.03s/it]\u001b[A\u001b[A\u001b[A\u001b[A\u001b[A"
     ]
    },
    {
     "name": "stdout",
     "output_type": "stream",
     "text": [
      "initial sample started\n",
      "Found adv candidate example with different label, proceed to this direction.\n"
     ]
    },
    {
     "name": "stderr",
     "output_type": "stream",
     "text": [
      "\n",
      "\n",
      "\n",
      "\n",
      "\n",
      "Hop Skip Jump attack progress:  38%|███▊      | 94/250 [01:38<02:42,  1.04s/it]\u001b[A\u001b[A\u001b[A\u001b[A\u001b[A"
     ]
    },
    {
     "name": "stdout",
     "output_type": "stream",
     "text": [
      "initial sample started\n",
      "Found adv candidate example with different label, proceed to this direction.\n"
     ]
    },
    {
     "name": "stderr",
     "output_type": "stream",
     "text": [
      "\n",
      "\n",
      "\n",
      "\n",
      "\n",
      "Hop Skip Jump attack progress:  38%|███▊      | 95/250 [01:39<02:36,  1.01s/it]\u001b[A\u001b[A\u001b[A\u001b[A\u001b[A"
     ]
    },
    {
     "name": "stdout",
     "output_type": "stream",
     "text": [
      "initial sample started\n",
      "Found adv candidate example with different label, proceed to this direction.\n"
     ]
    },
    {
     "name": "stderr",
     "output_type": "stream",
     "text": [
      "\n",
      "\n",
      "\n",
      "\n",
      "\n",
      "Hop Skip Jump attack progress:  38%|███▊      | 96/250 [01:39<02:25,  1.06it/s]\u001b[A\u001b[A\u001b[A\u001b[A\u001b[A"
     ]
    },
    {
     "name": "stdout",
     "output_type": "stream",
     "text": [
      "initial sample started\n",
      "Found adv candidate example with different label, proceed to this direction.\n"
     ]
    },
    {
     "name": "stderr",
     "output_type": "stream",
     "text": [
      "\n",
      "\n",
      "\n",
      "\n",
      "\n",
      "Hop Skip Jump attack progress:  39%|███▉      | 97/250 [01:40<02:19,  1.09it/s]\u001b[A\u001b[A\u001b[A\u001b[A\u001b[A"
     ]
    },
    {
     "name": "stdout",
     "output_type": "stream",
     "text": [
      "initial sample started\n",
      "Found adv candidate example with different label, proceed to this direction.\n"
     ]
    },
    {
     "name": "stderr",
     "output_type": "stream",
     "text": [
      "\n",
      "\n",
      "\n",
      "\n",
      "\n",
      "Hop Skip Jump attack progress:  39%|███▉      | 98/250 [01:41<02:26,  1.04it/s]\u001b[A\u001b[A\u001b[A\u001b[A\u001b[A"
     ]
    },
    {
     "name": "stdout",
     "output_type": "stream",
     "text": [
      "initial sample started\n",
      "Found adv candidate example with different label, proceed to this direction.\n"
     ]
    },
    {
     "name": "stderr",
     "output_type": "stream",
     "text": [
      "\n",
      "\n",
      "\n",
      "\n",
      "\n",
      "Hop Skip Jump attack progress:  40%|███▉      | 99/250 [01:42<02:30,  1.00it/s]\u001b[A\u001b[A\u001b[A\u001b[A\u001b[A"
     ]
    },
    {
     "name": "stdout",
     "output_type": "stream",
     "text": [
      "initial sample started\n",
      "Found adv candidate example with different label, proceed to this direction.\n"
     ]
    },
    {
     "name": "stderr",
     "output_type": "stream",
     "text": [
      "\n",
      "\n",
      "\n",
      "\n",
      "\n",
      "Hop Skip Jump attack progress:  40%|████      | 100/250 [01:43<02:33,  1.02s/it]\u001b[A\u001b[A\u001b[A\u001b[A\u001b[A"
     ]
    },
    {
     "name": "stdout",
     "output_type": "stream",
     "text": [
      "initial sample started\n",
      "Found adv candidate example with different label, proceed to this direction.\n"
     ]
    },
    {
     "name": "stderr",
     "output_type": "stream",
     "text": [
      "\n",
      "\n",
      "\n",
      "\n",
      "\n",
      "Hop Skip Jump attack progress:  40%|████      | 101/250 [01:45<02:33,  1.03s/it]\u001b[A\u001b[A\u001b[A\u001b[A\u001b[A"
     ]
    },
    {
     "name": "stdout",
     "output_type": "stream",
     "text": [
      "initial sample started\n",
      "Found adv candidate example with different label, proceed to this direction.\n"
     ]
    },
    {
     "name": "stderr",
     "output_type": "stream",
     "text": [
      "\n",
      "\n",
      "\n",
      "\n",
      "\n",
      "Hop Skip Jump attack progress:  41%|████      | 102/250 [01:46<02:31,  1.02s/it]\u001b[A\u001b[A\u001b[A\u001b[A\u001b[A"
     ]
    },
    {
     "name": "stdout",
     "output_type": "stream",
     "text": [
      "initial sample started\n",
      "Found adv candidate example with different label, proceed to this direction.\n"
     ]
    },
    {
     "name": "stderr",
     "output_type": "stream",
     "text": [
      "\n",
      "\n",
      "\n",
      "\n",
      "\n",
      "Hop Skip Jump attack progress:  41%|████      | 103/250 [01:47<02:32,  1.04s/it]\u001b[A\u001b[A\u001b[A\u001b[A\u001b[A"
     ]
    },
    {
     "name": "stdout",
     "output_type": "stream",
     "text": [
      "initial sample started\n",
      "Found adv candidate example with different label, proceed to this direction.\n"
     ]
    },
    {
     "name": "stderr",
     "output_type": "stream",
     "text": [
      "\n",
      "\n",
      "\n",
      "\n",
      "\n",
      "Hop Skip Jump attack progress:  42%|████▏     | 104/250 [01:48<02:31,  1.04s/it]\u001b[A\u001b[A\u001b[A\u001b[A\u001b[A"
     ]
    },
    {
     "name": "stdout",
     "output_type": "stream",
     "text": [
      "initial sample started\n",
      "Found adv candidate example with different label, proceed to this direction.\n"
     ]
    },
    {
     "name": "stderr",
     "output_type": "stream",
     "text": [
      "\n",
      "\n",
      "\n",
      "\n",
      "\n",
      "Hop Skip Jump attack progress:  42%|████▏     | 105/250 [01:49<02:31,  1.04s/it]\u001b[A\u001b[A\u001b[A\u001b[A\u001b[A"
     ]
    },
    {
     "name": "stdout",
     "output_type": "stream",
     "text": [
      "initial sample started\n",
      "Found adv candidate example with different label, proceed to this direction.\n"
     ]
    },
    {
     "name": "stderr",
     "output_type": "stream",
     "text": [
      "\n",
      "\n",
      "\n",
      "\n",
      "\n",
      "Hop Skip Jump attack progress:  42%|████▏     | 106/250 [01:50<02:30,  1.05s/it]\u001b[A\u001b[A\u001b[A\u001b[A\u001b[A"
     ]
    },
    {
     "name": "stdout",
     "output_type": "stream",
     "text": [
      "initial sample started\n",
      "Found adv candidate example with different label, proceed to this direction.\n"
     ]
    },
    {
     "name": "stderr",
     "output_type": "stream",
     "text": [
      "\n",
      "\n",
      "\n",
      "\n",
      "\n",
      "Hop Skip Jump attack progress:  43%|████▎     | 107/250 [01:51<02:29,  1.04s/it]\u001b[A\u001b[A\u001b[A\u001b[A\u001b[A"
     ]
    },
    {
     "name": "stdout",
     "output_type": "stream",
     "text": [
      "initial sample started\n",
      "Found adv candidate example with different label, proceed to this direction.\n"
     ]
    },
    {
     "name": "stderr",
     "output_type": "stream",
     "text": [
      "\n",
      "\n",
      "\n",
      "\n",
      "\n",
      "Hop Skip Jump attack progress:  43%|████▎     | 108/250 [01:52<02:28,  1.05s/it]\u001b[A\u001b[A\u001b[A\u001b[A\u001b[A"
     ]
    },
    {
     "name": "stdout",
     "output_type": "stream",
     "text": [
      "initial sample started\n",
      "Found adv candidate example with different label, proceed to this direction.\n"
     ]
    },
    {
     "name": "stderr",
     "output_type": "stream",
     "text": [
      "\n",
      "\n",
      "\n",
      "\n",
      "\n",
      "Hop Skip Jump attack progress:  44%|████▎     | 109/250 [01:53<02:27,  1.05s/it]\u001b[A\u001b[A\u001b[A\u001b[A\u001b[A"
     ]
    },
    {
     "name": "stdout",
     "output_type": "stream",
     "text": [
      "initial sample started\n",
      "Found adv candidate example with different label, proceed to this direction.\n"
     ]
    },
    {
     "name": "stderr",
     "output_type": "stream",
     "text": [
      "\n",
      "\n",
      "\n",
      "\n",
      "\n",
      "Hop Skip Jump attack progress:  44%|████▍     | 110/250 [01:54<02:25,  1.04s/it]\u001b[A\u001b[A\u001b[A\u001b[A\u001b[A"
     ]
    },
    {
     "name": "stdout",
     "output_type": "stream",
     "text": [
      "initial sample started\n",
      "Found adv candidate example with different label, proceed to this direction.\n"
     ]
    },
    {
     "name": "stderr",
     "output_type": "stream",
     "text": [
      "\n",
      "\n",
      "\n",
      "\n",
      "\n",
      "Hop Skip Jump attack progress:  44%|████▍     | 111/250 [01:55<02:21,  1.02s/it]\u001b[A\u001b[A\u001b[A\u001b[A\u001b[A"
     ]
    },
    {
     "name": "stdout",
     "output_type": "stream",
     "text": [
      "initial sample started\n",
      "Found adv candidate example with different label, proceed to this direction.\n"
     ]
    },
    {
     "name": "stderr",
     "output_type": "stream",
     "text": [
      "\n",
      "\n",
      "\n",
      "\n",
      "\n",
      "Hop Skip Jump attack progress:  45%|████▍     | 112/250 [01:56<02:19,  1.01s/it]\u001b[A\u001b[A\u001b[A\u001b[A\u001b[A"
     ]
    },
    {
     "name": "stdout",
     "output_type": "stream",
     "text": [
      "initial sample started\n",
      "Found adv candidate example with different label, proceed to this direction.\n"
     ]
    },
    {
     "name": "stderr",
     "output_type": "stream",
     "text": [
      "\n",
      "\n",
      "\n",
      "\n",
      "\n",
      "Hop Skip Jump attack progress:  45%|████▌     | 113/250 [01:57<02:20,  1.02s/it]\u001b[A\u001b[A\u001b[A\u001b[A\u001b[A"
     ]
    },
    {
     "name": "stdout",
     "output_type": "stream",
     "text": [
      "initial sample started\n",
      "Found adv candidate example with different label, proceed to this direction.\n"
     ]
    },
    {
     "name": "stderr",
     "output_type": "stream",
     "text": [
      "\n",
      "\n",
      "\n",
      "\n",
      "\n",
      "Hop Skip Jump attack progress:  46%|████▌     | 114/250 [01:58<02:20,  1.04s/it]\u001b[A\u001b[A\u001b[A\u001b[A\u001b[A"
     ]
    },
    {
     "name": "stdout",
     "output_type": "stream",
     "text": [
      "initial sample started\n",
      "Found adv candidate example with different label, proceed to this direction.\n"
     ]
    },
    {
     "name": "stderr",
     "output_type": "stream",
     "text": [
      "\n",
      "\n",
      "\n",
      "\n",
      "\n",
      "Hop Skip Jump attack progress:  46%|████▌     | 115/250 [01:59<02:20,  1.04s/it]\u001b[A\u001b[A\u001b[A\u001b[A\u001b[A"
     ]
    },
    {
     "name": "stdout",
     "output_type": "stream",
     "text": [
      "initial sample started\n",
      "Found adv candidate example with different label, proceed to this direction.\n"
     ]
    },
    {
     "name": "stderr",
     "output_type": "stream",
     "text": [
      "\n",
      "\n",
      "\n",
      "\n",
      "\n",
      "Hop Skip Jump attack progress:  46%|████▋     | 116/250 [02:00<02:20,  1.05s/it]\u001b[A\u001b[A\u001b[A\u001b[A\u001b[A"
     ]
    },
    {
     "name": "stdout",
     "output_type": "stream",
     "text": [
      "initial sample started\n",
      "Found adv candidate example with different label, proceed to this direction.\n"
     ]
    },
    {
     "name": "stderr",
     "output_type": "stream",
     "text": [
      "\n",
      "\n",
      "\n",
      "\n",
      "\n",
      "Hop Skip Jump attack progress:  47%|████▋     | 117/250 [02:01<02:21,  1.06s/it]\u001b[A\u001b[A\u001b[A\u001b[A\u001b[A"
     ]
    },
    {
     "name": "stdout",
     "output_type": "stream",
     "text": [
      "initial sample started\n",
      "Found adv candidate example with different label, proceed to this direction.\n"
     ]
    },
    {
     "name": "stderr",
     "output_type": "stream",
     "text": [
      "\n",
      "\n",
      "\n",
      "\n",
      "\n",
      "Hop Skip Jump attack progress:  47%|████▋     | 118/250 [02:02<02:20,  1.06s/it]\u001b[A\u001b[A\u001b[A\u001b[A\u001b[A"
     ]
    },
    {
     "name": "stdout",
     "output_type": "stream",
     "text": [
      "initial sample started\n",
      "Found adv candidate example with different label, proceed to this direction.\n"
     ]
    },
    {
     "name": "stderr",
     "output_type": "stream",
     "text": [
      "\n",
      "\n",
      "\n",
      "\n",
      "\n",
      "Hop Skip Jump attack progress:  48%|████▊     | 119/250 [02:03<02:18,  1.05s/it]\u001b[A\u001b[A\u001b[A\u001b[A\u001b[A"
     ]
    },
    {
     "name": "stdout",
     "output_type": "stream",
     "text": [
      "initial sample started\n",
      "Found adv candidate example with different label, proceed to this direction.\n"
     ]
    },
    {
     "name": "stderr",
     "output_type": "stream",
     "text": [
      "\n",
      "\n",
      "\n",
      "\n",
      "\n",
      "Hop Skip Jump attack progress:  48%|████▊     | 120/250 [02:04<02:17,  1.06s/it]\u001b[A\u001b[A\u001b[A\u001b[A\u001b[A"
     ]
    },
    {
     "name": "stdout",
     "output_type": "stream",
     "text": [
      "initial sample started\n",
      "Found adv candidate example with different label, proceed to this direction.\n"
     ]
    },
    {
     "name": "stderr",
     "output_type": "stream",
     "text": [
      "\n",
      "\n",
      "\n",
      "\n",
      "\n",
      "Hop Skip Jump attack progress:  48%|████▊     | 121/250 [02:05<02:17,  1.07s/it]\u001b[A\u001b[A\u001b[A\u001b[A\u001b[A"
     ]
    },
    {
     "name": "stdout",
     "output_type": "stream",
     "text": [
      "initial sample started\n",
      "Found adv candidate example with different label, proceed to this direction.\n"
     ]
    },
    {
     "name": "stderr",
     "output_type": "stream",
     "text": [
      "\n",
      "\n",
      "\n",
      "\n",
      "\n",
      "Hop Skip Jump attack progress:  49%|████▉     | 122/250 [02:07<02:16,  1.06s/it]\u001b[A\u001b[A\u001b[A\u001b[A\u001b[A"
     ]
    },
    {
     "name": "stdout",
     "output_type": "stream",
     "text": [
      "initial sample started\n",
      "Found adv candidate example with different label, proceed to this direction.\n"
     ]
    },
    {
     "name": "stderr",
     "output_type": "stream",
     "text": [
      "\n",
      "\n",
      "\n",
      "\n",
      "\n",
      "Hop Skip Jump attack progress:  49%|████▉     | 123/250 [02:08<02:15,  1.06s/it]\u001b[A\u001b[A\u001b[A\u001b[A\u001b[A"
     ]
    },
    {
     "name": "stdout",
     "output_type": "stream",
     "text": [
      "initial sample started\n",
      "Found adv candidate example with different label, proceed to this direction.\n"
     ]
    },
    {
     "name": "stderr",
     "output_type": "stream",
     "text": [
      "\n",
      "\n",
      "\n",
      "\n",
      "\n",
      "Hop Skip Jump attack progress:  50%|████▉     | 124/250 [02:09<02:12,  1.05s/it]\u001b[A\u001b[A\u001b[A\u001b[A\u001b[A"
     ]
    },
    {
     "name": "stdout",
     "output_type": "stream",
     "text": [
      "initial sample started\n",
      "Found adv candidate example with different label, proceed to this direction.\n"
     ]
    },
    {
     "name": "stderr",
     "output_type": "stream",
     "text": [
      "\n",
      "\n",
      "\n",
      "\n",
      "\n",
      "Hop Skip Jump attack progress:  50%|█████     | 125/250 [02:10<02:11,  1.06s/it]\u001b[A\u001b[A\u001b[A\u001b[A\u001b[A"
     ]
    },
    {
     "name": "stdout",
     "output_type": "stream",
     "text": [
      "initial sample started\n",
      "Found adv candidate example with different label, proceed to this direction.\n"
     ]
    },
    {
     "name": "stderr",
     "output_type": "stream",
     "text": [
      "\n",
      "\n",
      "\n",
      "\n",
      "\n",
      "Hop Skip Jump attack progress:  50%|█████     | 126/250 [02:11<02:06,  1.02s/it]\u001b[A\u001b[A\u001b[A\u001b[A\u001b[A"
     ]
    },
    {
     "name": "stdout",
     "output_type": "stream",
     "text": [
      "initial sample started\n",
      "Found adv candidate example with different label, proceed to this direction.\n"
     ]
    },
    {
     "name": "stderr",
     "output_type": "stream",
     "text": [
      "\n",
      "\n",
      "\n",
      "\n",
      "\n",
      "Hop Skip Jump attack progress:  51%|█████     | 127/250 [02:12<02:02,  1.01it/s]\u001b[A\u001b[A\u001b[A\u001b[A\u001b[A"
     ]
    },
    {
     "name": "stdout",
     "output_type": "stream",
     "text": [
      "initial sample started\n",
      "Found adv candidate example with different label, proceed to this direction.\n"
     ]
    },
    {
     "name": "stderr",
     "output_type": "stream",
     "text": [
      "\n",
      "\n",
      "\n",
      "\n",
      "\n",
      "Hop Skip Jump attack progress:  51%|█████     | 128/250 [02:13<02:01,  1.00it/s]\u001b[A\u001b[A\u001b[A\u001b[A\u001b[A"
     ]
    },
    {
     "name": "stdout",
     "output_type": "stream",
     "text": [
      "initial sample started\n",
      "Found adv candidate example with different label, proceed to this direction.\n"
     ]
    },
    {
     "name": "stderr",
     "output_type": "stream",
     "text": [
      "\n",
      "\n",
      "\n",
      "\n",
      "\n",
      "Hop Skip Jump attack progress:  52%|█████▏    | 129/250 [02:14<02:01,  1.00s/it]\u001b[A\u001b[A\u001b[A\u001b[A\u001b[A"
     ]
    },
    {
     "name": "stdout",
     "output_type": "stream",
     "text": [
      "initial sample started\n",
      "Found adv candidate example with different label, proceed to this direction.\n"
     ]
    },
    {
     "name": "stderr",
     "output_type": "stream",
     "text": [
      "\n",
      "\n",
      "\n",
      "\n",
      "\n",
      "Hop Skip Jump attack progress:  52%|█████▏    | 130/250 [02:15<02:08,  1.07s/it]\u001b[A\u001b[A\u001b[A\u001b[A\u001b[A"
     ]
    },
    {
     "name": "stdout",
     "output_type": "stream",
     "text": [
      "initial sample started\n",
      "Found adv candidate example with different label, proceed to this direction.\n"
     ]
    },
    {
     "name": "stderr",
     "output_type": "stream",
     "text": [
      "\n",
      "\n",
      "\n",
      "\n",
      "\n",
      "Hop Skip Jump attack progress:  52%|█████▏    | 131/250 [02:16<02:08,  1.08s/it]\u001b[A\u001b[A\u001b[A\u001b[A\u001b[A"
     ]
    },
    {
     "name": "stdout",
     "output_type": "stream",
     "text": [
      "initial sample started\n",
      "Found adv candidate example with different label, proceed to this direction.\n"
     ]
    },
    {
     "name": "stderr",
     "output_type": "stream",
     "text": [
      "\n",
      "\n",
      "\n",
      "\n",
      "\n",
      "Hop Skip Jump attack progress:  53%|█████▎    | 132/250 [02:17<02:07,  1.08s/it]\u001b[A\u001b[A\u001b[A\u001b[A\u001b[A"
     ]
    },
    {
     "name": "stdout",
     "output_type": "stream",
     "text": [
      "initial sample started\n",
      "Found adv candidate example with different label, proceed to this direction.\n"
     ]
    },
    {
     "name": "stderr",
     "output_type": "stream",
     "text": [
      "\n",
      "\n",
      "\n",
      "\n",
      "\n",
      "Hop Skip Jump attack progress:  53%|█████▎    | 133/250 [02:18<02:04,  1.06s/it]\u001b[A\u001b[A\u001b[A\u001b[A\u001b[A"
     ]
    },
    {
     "name": "stdout",
     "output_type": "stream",
     "text": [
      "initial sample started\n",
      "Found adv candidate example with different label, proceed to this direction.\n"
     ]
    },
    {
     "name": "stderr",
     "output_type": "stream",
     "text": [
      "\n",
      "\n",
      "\n",
      "\n",
      "\n",
      "Hop Skip Jump attack progress:  54%|█████▎    | 134/250 [02:19<02:01,  1.05s/it]\u001b[A\u001b[A\u001b[A\u001b[A\u001b[A"
     ]
    },
    {
     "name": "stdout",
     "output_type": "stream",
     "text": [
      "initial sample started\n",
      "Found adv candidate example with different label, proceed to this direction.\n"
     ]
    },
    {
     "name": "stderr",
     "output_type": "stream",
     "text": [
      "\n",
      "\n",
      "\n",
      "\n",
      "\n",
      "Hop Skip Jump attack progress:  54%|█████▍    | 135/250 [02:20<01:57,  1.02s/it]\u001b[A\u001b[A\u001b[A\u001b[A\u001b[A"
     ]
    },
    {
     "name": "stdout",
     "output_type": "stream",
     "text": [
      "initial sample started\n",
      "Found adv candidate example with different label, proceed to this direction.\n"
     ]
    },
    {
     "name": "stderr",
     "output_type": "stream",
     "text": [
      "\n",
      "\n",
      "\n",
      "\n",
      "\n",
      "Hop Skip Jump attack progress:  54%|█████▍    | 136/250 [02:21<01:57,  1.03s/it]\u001b[A\u001b[A\u001b[A\u001b[A\u001b[A"
     ]
    },
    {
     "name": "stdout",
     "output_type": "stream",
     "text": [
      "initial sample started\n",
      "Found adv candidate example with different label, proceed to this direction.\n"
     ]
    },
    {
     "name": "stderr",
     "output_type": "stream",
     "text": [
      "\n",
      "\n",
      "\n",
      "\n",
      "\n",
      "Hop Skip Jump attack progress:  55%|█████▍    | 137/250 [02:22<01:58,  1.05s/it]\u001b[A\u001b[A\u001b[A\u001b[A\u001b[A"
     ]
    },
    {
     "name": "stdout",
     "output_type": "stream",
     "text": [
      "initial sample started\n",
      "Found adv candidate example with different label, proceed to this direction.\n"
     ]
    },
    {
     "name": "stderr",
     "output_type": "stream",
     "text": [
      "\n",
      "\n",
      "\n",
      "\n",
      "\n",
      "Hop Skip Jump attack progress:  55%|█████▌    | 138/250 [02:23<01:54,  1.02s/it]\u001b[A\u001b[A\u001b[A\u001b[A\u001b[A"
     ]
    },
    {
     "name": "stdout",
     "output_type": "stream",
     "text": [
      "initial sample started\n",
      "Found adv candidate example with different label, proceed to this direction.\n"
     ]
    },
    {
     "name": "stderr",
     "output_type": "stream",
     "text": [
      "\n",
      "\n",
      "\n",
      "\n",
      "\n",
      "Hop Skip Jump attack progress:  56%|█████▌    | 139/250 [02:24<01:53,  1.02s/it]\u001b[A\u001b[A\u001b[A\u001b[A\u001b[A"
     ]
    },
    {
     "name": "stdout",
     "output_type": "stream",
     "text": [
      "initial sample started\n",
      "Found adv candidate example with different label, proceed to this direction.\n"
     ]
    },
    {
     "name": "stderr",
     "output_type": "stream",
     "text": [
      "\n",
      "\n",
      "\n",
      "\n",
      "\n",
      "Hop Skip Jump attack progress:  56%|█████▌    | 140/250 [02:25<01:53,  1.03s/it]\u001b[A\u001b[A\u001b[A\u001b[A\u001b[A"
     ]
    },
    {
     "name": "stdout",
     "output_type": "stream",
     "text": [
      "initial sample started\n",
      "Found adv candidate example with different label, proceed to this direction.\n"
     ]
    },
    {
     "name": "stderr",
     "output_type": "stream",
     "text": [
      "\n",
      "\n",
      "\n",
      "\n",
      "\n",
      "Hop Skip Jump attack progress:  56%|█████▋    | 141/250 [02:26<01:53,  1.04s/it]\u001b[A\u001b[A\u001b[A\u001b[A\u001b[A"
     ]
    },
    {
     "name": "stdout",
     "output_type": "stream",
     "text": [
      "initial sample started\n",
      "Found adv candidate example with different label, proceed to this direction.\n"
     ]
    },
    {
     "name": "stderr",
     "output_type": "stream",
     "text": [
      "\n",
      "\n",
      "\n",
      "\n",
      "\n",
      "Hop Skip Jump attack progress:  57%|█████▋    | 142/250 [02:27<01:50,  1.02s/it]\u001b[A\u001b[A\u001b[A\u001b[A\u001b[A"
     ]
    },
    {
     "name": "stdout",
     "output_type": "stream",
     "text": [
      "initial sample started\n",
      "Found adv candidate example with different label, proceed to this direction.\n"
     ]
    },
    {
     "name": "stderr",
     "output_type": "stream",
     "text": [
      "\n",
      "\n",
      "\n",
      "\n",
      "\n",
      "Hop Skip Jump attack progress:  57%|█████▋    | 143/250 [02:28<01:51,  1.04s/it]\u001b[A\u001b[A\u001b[A\u001b[A\u001b[A"
     ]
    },
    {
     "name": "stdout",
     "output_type": "stream",
     "text": [
      "initial sample started\n",
      "Found adv candidate example with different label, proceed to this direction.\n"
     ]
    },
    {
     "name": "stderr",
     "output_type": "stream",
     "text": [
      "\n",
      "\n",
      "\n",
      "\n",
      "\n",
      "Hop Skip Jump attack progress:  58%|█████▊    | 144/250 [02:29<01:52,  1.06s/it]\u001b[A\u001b[A\u001b[A\u001b[A\u001b[A"
     ]
    },
    {
     "name": "stdout",
     "output_type": "stream",
     "text": [
      "initial sample started\n",
      "Found adv candidate example with different label, proceed to this direction.\n"
     ]
    },
    {
     "name": "stderr",
     "output_type": "stream",
     "text": [
      "\n",
      "\n",
      "\n",
      "\n",
      "\n",
      "Hop Skip Jump attack progress:  58%|█████▊    | 145/250 [02:30<01:48,  1.04s/it]\u001b[A\u001b[A\u001b[A\u001b[A\u001b[A"
     ]
    },
    {
     "name": "stdout",
     "output_type": "stream",
     "text": [
      "initial sample started\n",
      "Found adv candidate example with different label, proceed to this direction.\n"
     ]
    },
    {
     "name": "stderr",
     "output_type": "stream",
     "text": [
      "\n",
      "\n",
      "\n",
      "\n",
      "\n",
      "Hop Skip Jump attack progress:  58%|█████▊    | 146/250 [02:31<01:49,  1.06s/it]\u001b[A\u001b[A\u001b[A\u001b[A\u001b[A"
     ]
    },
    {
     "name": "stdout",
     "output_type": "stream",
     "text": [
      "initial sample started\n",
      "Found adv candidate example with different label, proceed to this direction.\n"
     ]
    },
    {
     "name": "stderr",
     "output_type": "stream",
     "text": [
      "\n",
      "\n",
      "\n",
      "\n",
      "\n",
      "Hop Skip Jump attack progress:  59%|█████▉    | 147/250 [02:32<01:48,  1.06s/it]\u001b[A\u001b[A\u001b[A\u001b[A\u001b[A"
     ]
    },
    {
     "name": "stdout",
     "output_type": "stream",
     "text": [
      "initial sample started\n",
      "Found adv candidate example with different label, proceed to this direction.\n"
     ]
    },
    {
     "name": "stderr",
     "output_type": "stream",
     "text": [
      "\n",
      "\n",
      "\n",
      "\n",
      "\n",
      "Hop Skip Jump attack progress:  59%|█████▉    | 148/250 [02:33<01:41,  1.00it/s]\u001b[A\u001b[A\u001b[A\u001b[A\u001b[A"
     ]
    },
    {
     "name": "stdout",
     "output_type": "stream",
     "text": [
      "initial sample started\n",
      "Found adv candidate example with different label, proceed to this direction.\n"
     ]
    },
    {
     "name": "stderr",
     "output_type": "stream",
     "text": [
      "\n",
      "\n",
      "\n",
      "\n",
      "\n",
      "Hop Skip Jump attack progress:  60%|█████▉    | 149/250 [02:34<01:38,  1.02it/s]\u001b[A\u001b[A\u001b[A\u001b[A\u001b[A"
     ]
    },
    {
     "name": "stdout",
     "output_type": "stream",
     "text": [
      "initial sample started\n",
      "Found adv candidate example with different label, proceed to this direction.\n"
     ]
    },
    {
     "name": "stderr",
     "output_type": "stream",
     "text": [
      "\n",
      "\n",
      "\n",
      "\n",
      "\n",
      "Hop Skip Jump attack progress:  60%|██████    | 150/250 [02:35<01:36,  1.03it/s]\u001b[A\u001b[A\u001b[A\u001b[A\u001b[A"
     ]
    },
    {
     "name": "stdout",
     "output_type": "stream",
     "text": [
      "initial sample started\n",
      "Found adv candidate example with different label, proceed to this direction.\n"
     ]
    },
    {
     "name": "stderr",
     "output_type": "stream",
     "text": [
      "\n",
      "\n",
      "\n",
      "\n",
      "\n",
      "Hop Skip Jump attack progress:  60%|██████    | 151/250 [02:36<01:35,  1.04it/s]\u001b[A\u001b[A\u001b[A\u001b[A\u001b[A"
     ]
    },
    {
     "name": "stdout",
     "output_type": "stream",
     "text": [
      "initial sample started\n",
      "Found adv candidate example with different label, proceed to this direction.\n"
     ]
    },
    {
     "name": "stderr",
     "output_type": "stream",
     "text": [
      "\n",
      "\n",
      "\n",
      "\n",
      "\n",
      "Hop Skip Jump attack progress:  61%|██████    | 152/250 [02:37<01:40,  1.03s/it]\u001b[A\u001b[A\u001b[A\u001b[A\u001b[A"
     ]
    },
    {
     "name": "stdout",
     "output_type": "stream",
     "text": [
      "initial sample started\n",
      "Found adv candidate example with different label, proceed to this direction.\n"
     ]
    },
    {
     "name": "stderr",
     "output_type": "stream",
     "text": [
      "\n",
      "\n",
      "\n",
      "\n",
      "\n",
      "Hop Skip Jump attack progress:  61%|██████    | 153/250 [02:39<01:44,  1.07s/it]\u001b[A\u001b[A\u001b[A\u001b[A\u001b[A"
     ]
    },
    {
     "name": "stdout",
     "output_type": "stream",
     "text": [
      "initial sample started\n",
      "Found adv candidate example with different label, proceed to this direction.\n"
     ]
    },
    {
     "name": "stderr",
     "output_type": "stream",
     "text": [
      "\n",
      "\n",
      "\n",
      "\n",
      "\n",
      "Hop Skip Jump attack progress:  62%|██████▏   | 154/250 [02:40<01:42,  1.07s/it]\u001b[A\u001b[A\u001b[A\u001b[A\u001b[A"
     ]
    },
    {
     "name": "stdout",
     "output_type": "stream",
     "text": [
      "initial sample started\n",
      "Found adv candidate example with different label, proceed to this direction.\n"
     ]
    },
    {
     "name": "stderr",
     "output_type": "stream",
     "text": [
      "\n",
      "\n",
      "\n",
      "\n",
      "\n",
      "Hop Skip Jump attack progress:  62%|██████▏   | 155/250 [02:41<01:45,  1.11s/it]\u001b[A\u001b[A\u001b[A\u001b[A\u001b[A"
     ]
    },
    {
     "name": "stdout",
     "output_type": "stream",
     "text": [
      "initial sample started\n",
      "Found adv candidate example with different label, proceed to this direction.\n"
     ]
    },
    {
     "name": "stderr",
     "output_type": "stream",
     "text": [
      "\n",
      "\n",
      "\n",
      "\n",
      "\n",
      "Hop Skip Jump attack progress:  62%|██████▏   | 156/250 [02:42<01:40,  1.07s/it]\u001b[A\u001b[A\u001b[A\u001b[A\u001b[A"
     ]
    },
    {
     "name": "stdout",
     "output_type": "stream",
     "text": [
      "initial sample started\n",
      "Found adv candidate example with different label, proceed to this direction.\n"
     ]
    },
    {
     "name": "stderr",
     "output_type": "stream",
     "text": [
      "\n",
      "\n",
      "\n",
      "\n",
      "\n",
      "Hop Skip Jump attack progress:  63%|██████▎   | 157/250 [02:43<01:37,  1.05s/it]\u001b[A\u001b[A\u001b[A\u001b[A\u001b[A"
     ]
    },
    {
     "name": "stdout",
     "output_type": "stream",
     "text": [
      "initial sample started\n",
      "Found adv candidate example with different label, proceed to this direction.\n"
     ]
    },
    {
     "name": "stderr",
     "output_type": "stream",
     "text": [
      "\n",
      "\n",
      "\n",
      "\n",
      "\n",
      "Hop Skip Jump attack progress:  63%|██████▎   | 158/250 [02:44<01:29,  1.02it/s]\u001b[A\u001b[A\u001b[A\u001b[A\u001b[A"
     ]
    },
    {
     "name": "stdout",
     "output_type": "stream",
     "text": [
      "initial sample started\n",
      "Found adv candidate example with different label, proceed to this direction.\n"
     ]
    },
    {
     "name": "stderr",
     "output_type": "stream",
     "text": [
      "\n",
      "\n",
      "\n",
      "\n",
      "\n",
      "Hop Skip Jump attack progress:  64%|██████▎   | 159/250 [02:44<01:25,  1.06it/s]\u001b[A\u001b[A\u001b[A\u001b[A\u001b[A"
     ]
    },
    {
     "name": "stdout",
     "output_type": "stream",
     "text": [
      "initial sample started\n",
      "Found adv candidate example with different label, proceed to this direction.\n"
     ]
    },
    {
     "name": "stderr",
     "output_type": "stream",
     "text": [
      "\n",
      "\n",
      "\n",
      "\n",
      "\n",
      "Hop Skip Jump attack progress:  64%|██████▍   | 160/250 [02:45<01:21,  1.10it/s]\u001b[A\u001b[A\u001b[A\u001b[A\u001b[A"
     ]
    },
    {
     "name": "stdout",
     "output_type": "stream",
     "text": [
      "initial sample started\n",
      "Found adv candidate example with different label, proceed to this direction.\n"
     ]
    },
    {
     "name": "stderr",
     "output_type": "stream",
     "text": [
      "\n",
      "\n",
      "\n",
      "\n",
      "\n",
      "Hop Skip Jump attack progress:  64%|██████▍   | 161/250 [02:46<01:21,  1.10it/s]\u001b[A\u001b[A\u001b[A\u001b[A\u001b[A"
     ]
    },
    {
     "name": "stdout",
     "output_type": "stream",
     "text": [
      "initial sample started\n",
      "Found adv candidate example with different label, proceed to this direction.\n"
     ]
    },
    {
     "name": "stderr",
     "output_type": "stream",
     "text": [
      "\n",
      "\n",
      "\n",
      "\n",
      "\n",
      "Hop Skip Jump attack progress:  65%|██████▍   | 162/250 [02:47<01:18,  1.12it/s]\u001b[A\u001b[A\u001b[A\u001b[A\u001b[A"
     ]
    },
    {
     "name": "stdout",
     "output_type": "stream",
     "text": [
      "initial sample started\n",
      "Found adv candidate example with different label, proceed to this direction.\n"
     ]
    },
    {
     "name": "stderr",
     "output_type": "stream",
     "text": [
      "\n",
      "\n",
      "\n",
      "\n",
      "\n",
      "Hop Skip Jump attack progress:  65%|██████▌   | 163/250 [02:48<01:16,  1.13it/s]\u001b[A\u001b[A\u001b[A\u001b[A\u001b[A"
     ]
    },
    {
     "name": "stdout",
     "output_type": "stream",
     "text": [
      "initial sample started\n",
      "Found adv candidate example with different label, proceed to this direction.\n"
     ]
    },
    {
     "name": "stderr",
     "output_type": "stream",
     "text": [
      "\n",
      "\n",
      "\n",
      "\n",
      "\n",
      "Hop Skip Jump attack progress:  66%|██████▌   | 164/250 [02:49<01:15,  1.14it/s]\u001b[A\u001b[A\u001b[A\u001b[A\u001b[A"
     ]
    },
    {
     "name": "stdout",
     "output_type": "stream",
     "text": [
      "initial sample started\n",
      "Found adv candidate example with different label, proceed to this direction.\n"
     ]
    },
    {
     "name": "stderr",
     "output_type": "stream",
     "text": [
      "\n",
      "\n",
      "\n",
      "\n",
      "\n",
      "Hop Skip Jump attack progress:  66%|██████▌   | 165/250 [02:50<01:14,  1.14it/s]\u001b[A\u001b[A\u001b[A\u001b[A\u001b[A"
     ]
    },
    {
     "name": "stdout",
     "output_type": "stream",
     "text": [
      "initial sample started\n",
      "Found adv candidate example with different label, proceed to this direction.\n"
     ]
    },
    {
     "name": "stderr",
     "output_type": "stream",
     "text": [
      "\n",
      "\n",
      "\n",
      "\n",
      "\n",
      "Hop Skip Jump attack progress:  66%|██████▋   | 166/250 [02:51<01:15,  1.12it/s]\u001b[A\u001b[A\u001b[A\u001b[A\u001b[A"
     ]
    },
    {
     "name": "stdout",
     "output_type": "stream",
     "text": [
      "initial sample started\n",
      "Found adv candidate example with different label, proceed to this direction.\n"
     ]
    },
    {
     "name": "stderr",
     "output_type": "stream",
     "text": [
      "\n",
      "\n",
      "\n",
      "\n",
      "\n",
      "Hop Skip Jump attack progress:  67%|██████▋   | 167/250 [02:51<01:13,  1.12it/s]\u001b[A\u001b[A\u001b[A\u001b[A\u001b[A"
     ]
    },
    {
     "name": "stdout",
     "output_type": "stream",
     "text": [
      "initial sample started\n",
      "Found adv candidate example with different label, proceed to this direction.\n"
     ]
    },
    {
     "name": "stderr",
     "output_type": "stream",
     "text": [
      "\n",
      "\n",
      "\n",
      "\n",
      "\n",
      "Hop Skip Jump attack progress:  67%|██████▋   | 168/250 [02:52<01:10,  1.16it/s]\u001b[A\u001b[A\u001b[A\u001b[A\u001b[A"
     ]
    },
    {
     "name": "stdout",
     "output_type": "stream",
     "text": [
      "initial sample started\n",
      "Found adv candidate example with different label, proceed to this direction.\n"
     ]
    },
    {
     "name": "stderr",
     "output_type": "stream",
     "text": [
      "\n",
      "\n",
      "\n",
      "\n",
      "\n",
      "Hop Skip Jump attack progress:  68%|██████▊   | 169/250 [02:53<01:14,  1.09it/s]\u001b[A\u001b[A\u001b[A\u001b[A\u001b[A"
     ]
    },
    {
     "name": "stdout",
     "output_type": "stream",
     "text": [
      "initial sample started\n",
      "Found adv candidate example with different label, proceed to this direction.\n"
     ]
    },
    {
     "name": "stderr",
     "output_type": "stream",
     "text": [
      "\n",
      "\n",
      "\n",
      "\n",
      "\n",
      "Hop Skip Jump attack progress:  68%|██████▊   | 170/250 [02:54<01:17,  1.03it/s]\u001b[A\u001b[A\u001b[A\u001b[A\u001b[A"
     ]
    },
    {
     "name": "stdout",
     "output_type": "stream",
     "text": [
      "initial sample started\n",
      "Found adv candidate example with different label, proceed to this direction.\n"
     ]
    },
    {
     "name": "stderr",
     "output_type": "stream",
     "text": [
      "\n",
      "\n",
      "\n",
      "\n",
      "\n",
      "Hop Skip Jump attack progress:  68%|██████▊   | 171/250 [02:55<01:14,  1.06it/s]\u001b[A\u001b[A\u001b[A\u001b[A\u001b[A"
     ]
    },
    {
     "name": "stdout",
     "output_type": "stream",
     "text": [
      "initial sample started\n",
      "Found adv candidate example with different label, proceed to this direction.\n"
     ]
    },
    {
     "name": "stderr",
     "output_type": "stream",
     "text": [
      "\n",
      "\n",
      "\n",
      "\n",
      "\n",
      "Hop Skip Jump attack progress:  69%|██████▉   | 172/250 [02:56<01:16,  1.02it/s]\u001b[A\u001b[A\u001b[A\u001b[A\u001b[A"
     ]
    },
    {
     "name": "stdout",
     "output_type": "stream",
     "text": [
      "initial sample started\n",
      "Found adv candidate example with different label, proceed to this direction.\n"
     ]
    },
    {
     "name": "stderr",
     "output_type": "stream",
     "text": [
      "\n",
      "\n",
      "\n",
      "\n",
      "\n",
      "Hop Skip Jump attack progress:  69%|██████▉   | 173/250 [02:57<01:16,  1.00it/s]\u001b[A\u001b[A\u001b[A\u001b[A\u001b[A"
     ]
    },
    {
     "name": "stdout",
     "output_type": "stream",
     "text": [
      "initial sample started\n",
      "Found adv candidate example with different label, proceed to this direction.\n"
     ]
    },
    {
     "name": "stderr",
     "output_type": "stream",
     "text": [
      "\n",
      "\n",
      "\n",
      "\n",
      "\n",
      "Hop Skip Jump attack progress:  70%|██████▉   | 174/250 [02:58<01:13,  1.03it/s]\u001b[A\u001b[A\u001b[A\u001b[A\u001b[A"
     ]
    },
    {
     "name": "stdout",
     "output_type": "stream",
     "text": [
      "initial sample started\n",
      "Found adv candidate example with different label, proceed to this direction.\n"
     ]
    },
    {
     "name": "stderr",
     "output_type": "stream",
     "text": [
      "\n",
      "\n",
      "\n",
      "\n",
      "\n",
      "Hop Skip Jump attack progress:  70%|███████   | 175/250 [02:59<01:14,  1.01it/s]\u001b[A\u001b[A\u001b[A\u001b[A\u001b[A"
     ]
    },
    {
     "name": "stdout",
     "output_type": "stream",
     "text": [
      "initial sample started\n",
      "Found adv candidate example with different label, proceed to this direction.\n"
     ]
    },
    {
     "name": "stderr",
     "output_type": "stream",
     "text": [
      "\n",
      "\n",
      "\n",
      "\n",
      "\n",
      "Hop Skip Jump attack progress:  70%|███████   | 176/250 [03:00<01:15,  1.02s/it]\u001b[A\u001b[A\u001b[A\u001b[A\u001b[A"
     ]
    },
    {
     "name": "stdout",
     "output_type": "stream",
     "text": [
      "initial sample started\n",
      "Found adv candidate example with different label, proceed to this direction.\n"
     ]
    },
    {
     "name": "stderr",
     "output_type": "stream",
     "text": [
      "\n",
      "\n",
      "\n",
      "\n",
      "\n",
      "Hop Skip Jump attack progress:  71%|███████   | 177/250 [03:01<01:15,  1.03s/it]\u001b[A\u001b[A\u001b[A\u001b[A\u001b[A"
     ]
    },
    {
     "name": "stdout",
     "output_type": "stream",
     "text": [
      "initial sample started\n",
      "Found adv candidate example with different label, proceed to this direction.\n"
     ]
    },
    {
     "name": "stderr",
     "output_type": "stream",
     "text": [
      "\n",
      "\n",
      "\n",
      "\n",
      "\n",
      "Hop Skip Jump attack progress:  71%|███████   | 178/250 [03:03<01:13,  1.03s/it]\u001b[A\u001b[A\u001b[A\u001b[A\u001b[A"
     ]
    },
    {
     "name": "stdout",
     "output_type": "stream",
     "text": [
      "initial sample started\n",
      "Found adv candidate example with different label, proceed to this direction.\n"
     ]
    },
    {
     "name": "stderr",
     "output_type": "stream",
     "text": [
      "\n",
      "\n",
      "\n",
      "\n",
      "\n",
      "Hop Skip Jump attack progress:  72%|███████▏  | 179/250 [03:04<01:12,  1.02s/it]\u001b[A\u001b[A\u001b[A\u001b[A\u001b[A"
     ]
    },
    {
     "name": "stdout",
     "output_type": "stream",
     "text": [
      "initial sample started\n",
      "Found adv candidate example with different label, proceed to this direction.\n"
     ]
    },
    {
     "name": "stderr",
     "output_type": "stream",
     "text": [
      "\n",
      "\n",
      "\n",
      "\n",
      "\n",
      "Hop Skip Jump attack progress:  72%|███████▏  | 180/250 [03:05<01:13,  1.06s/it]\u001b[A\u001b[A\u001b[A\u001b[A\u001b[A"
     ]
    },
    {
     "name": "stdout",
     "output_type": "stream",
     "text": [
      "initial sample started\n",
      "Found adv candidate example with different label, proceed to this direction.\n"
     ]
    },
    {
     "name": "stderr",
     "output_type": "stream",
     "text": [
      "\n",
      "\n",
      "\n",
      "\n",
      "\n",
      "Hop Skip Jump attack progress:  72%|███████▏  | 181/250 [03:06<01:12,  1.05s/it]\u001b[A\u001b[A\u001b[A\u001b[A\u001b[A"
     ]
    },
    {
     "name": "stdout",
     "output_type": "stream",
     "text": [
      "initial sample started\n",
      "Found adv candidate example with different label, proceed to this direction.\n"
     ]
    },
    {
     "name": "stderr",
     "output_type": "stream",
     "text": [
      "\n",
      "\n",
      "\n",
      "\n",
      "\n",
      "Hop Skip Jump attack progress:  73%|███████▎  | 182/250 [03:07<01:12,  1.07s/it]\u001b[A\u001b[A\u001b[A\u001b[A\u001b[A"
     ]
    },
    {
     "name": "stdout",
     "output_type": "stream",
     "text": [
      "initial sample started\n",
      "Found adv candidate example with different label, proceed to this direction.\n"
     ]
    },
    {
     "name": "stderr",
     "output_type": "stream",
     "text": [
      "\n",
      "\n",
      "\n",
      "\n",
      "\n",
      "Hop Skip Jump attack progress:  73%|███████▎  | 183/250 [03:08<01:13,  1.09s/it]\u001b[A\u001b[A\u001b[A\u001b[A\u001b[A"
     ]
    },
    {
     "name": "stdout",
     "output_type": "stream",
     "text": [
      "initial sample started\n",
      "Found adv candidate example with different label, proceed to this direction.\n"
     ]
    },
    {
     "name": "stderr",
     "output_type": "stream",
     "text": [
      "\n",
      "\n",
      "\n",
      "\n",
      "\n",
      "Hop Skip Jump attack progress:  74%|███████▎  | 184/250 [03:09<01:10,  1.06s/it]\u001b[A\u001b[A\u001b[A\u001b[A\u001b[A"
     ]
    },
    {
     "name": "stdout",
     "output_type": "stream",
     "text": [
      "initial sample started\n",
      "Found adv candidate example with different label, proceed to this direction.\n"
     ]
    },
    {
     "name": "stderr",
     "output_type": "stream",
     "text": [
      "\n",
      "\n",
      "\n",
      "\n",
      "\n",
      "Hop Skip Jump attack progress:  74%|███████▍  | 185/250 [03:10<01:08,  1.06s/it]\u001b[A\u001b[A\u001b[A\u001b[A\u001b[A"
     ]
    },
    {
     "name": "stdout",
     "output_type": "stream",
     "text": [
      "initial sample started\n",
      "Found adv candidate example with different label, proceed to this direction.\n"
     ]
    },
    {
     "name": "stderr",
     "output_type": "stream",
     "text": [
      "\n",
      "\n",
      "\n",
      "\n",
      "\n",
      "Hop Skip Jump attack progress:  74%|███████▍  | 186/250 [03:11<01:09,  1.09s/it]\u001b[A\u001b[A\u001b[A\u001b[A\u001b[A"
     ]
    },
    {
     "name": "stdout",
     "output_type": "stream",
     "text": [
      "initial sample started\n",
      "Found adv candidate example with different label, proceed to this direction.\n"
     ]
    },
    {
     "name": "stderr",
     "output_type": "stream",
     "text": [
      "\n",
      "\n",
      "\n",
      "\n",
      "\n",
      "Hop Skip Jump attack progress:  75%|███████▍  | 187/250 [03:12<01:09,  1.11s/it]\u001b[A\u001b[A\u001b[A\u001b[A\u001b[A"
     ]
    },
    {
     "name": "stdout",
     "output_type": "stream",
     "text": [
      "initial sample started\n",
      "Found adv candidate example with different label, proceed to this direction.\n"
     ]
    },
    {
     "name": "stderr",
     "output_type": "stream",
     "text": [
      "\n",
      "\n",
      "\n",
      "\n",
      "\n",
      "Hop Skip Jump attack progress:  75%|███████▌  | 188/250 [03:13<01:07,  1.09s/it]\u001b[A\u001b[A\u001b[A\u001b[A\u001b[A"
     ]
    },
    {
     "name": "stdout",
     "output_type": "stream",
     "text": [
      "initial sample started\n",
      "Found adv candidate example with different label, proceed to this direction.\n"
     ]
    },
    {
     "name": "stderr",
     "output_type": "stream",
     "text": [
      "\n",
      "\n",
      "\n",
      "\n",
      "\n",
      "Hop Skip Jump attack progress:  76%|███████▌  | 189/250 [03:15<01:08,  1.13s/it]\u001b[A\u001b[A\u001b[A\u001b[A\u001b[A"
     ]
    },
    {
     "name": "stdout",
     "output_type": "stream",
     "text": [
      "initial sample started\n",
      "Found adv candidate example with different label, proceed to this direction.\n"
     ]
    },
    {
     "name": "stderr",
     "output_type": "stream",
     "text": [
      "\n",
      "\n",
      "\n",
      "\n",
      "\n",
      "Hop Skip Jump attack progress:  76%|███████▌  | 190/250 [03:16<01:05,  1.10s/it]\u001b[A\u001b[A\u001b[A\u001b[A\u001b[A"
     ]
    },
    {
     "name": "stdout",
     "output_type": "stream",
     "text": [
      "initial sample started\n",
      "Found adv candidate example with different label, proceed to this direction.\n"
     ]
    },
    {
     "name": "stderr",
     "output_type": "stream",
     "text": [
      "\n",
      "\n",
      "\n",
      "\n",
      "\n",
      "Hop Skip Jump attack progress:  76%|███████▋  | 191/250 [03:17<01:05,  1.11s/it]\u001b[A\u001b[A\u001b[A\u001b[A\u001b[A"
     ]
    },
    {
     "name": "stdout",
     "output_type": "stream",
     "text": [
      "initial sample started\n",
      "Found adv candidate example with different label, proceed to this direction.\n"
     ]
    },
    {
     "name": "stderr",
     "output_type": "stream",
     "text": [
      "\n",
      "\n",
      "\n",
      "\n",
      "\n",
      "Hop Skip Jump attack progress:  77%|███████▋  | 192/250 [03:18<01:02,  1.08s/it]\u001b[A\u001b[A\u001b[A\u001b[A\u001b[A"
     ]
    },
    {
     "name": "stdout",
     "output_type": "stream",
     "text": [
      "initial sample started\n",
      "Found adv candidate example with different label, proceed to this direction.\n"
     ]
    },
    {
     "name": "stderr",
     "output_type": "stream",
     "text": [
      "\n",
      "\n",
      "\n",
      "\n",
      "\n",
      "Hop Skip Jump attack progress:  77%|███████▋  | 193/250 [03:19<00:58,  1.03s/it]\u001b[A\u001b[A\u001b[A\u001b[A\u001b[A"
     ]
    },
    {
     "name": "stdout",
     "output_type": "stream",
     "text": [
      "initial sample started\n",
      "Found adv candidate example with different label, proceed to this direction.\n"
     ]
    },
    {
     "name": "stderr",
     "output_type": "stream",
     "text": [
      "\n",
      "\n",
      "\n",
      "\n",
      "\n",
      "Hop Skip Jump attack progress:  78%|███████▊  | 194/250 [03:20<00:58,  1.04s/it]\u001b[A\u001b[A\u001b[A\u001b[A\u001b[A"
     ]
    },
    {
     "name": "stdout",
     "output_type": "stream",
     "text": [
      "initial sample started\n",
      "Found adv candidate example with different label, proceed to this direction.\n"
     ]
    },
    {
     "name": "stderr",
     "output_type": "stream",
     "text": [
      "\n",
      "\n",
      "\n",
      "\n",
      "\n",
      "Hop Skip Jump attack progress:  78%|███████▊  | 195/250 [03:21<00:54,  1.00it/s]\u001b[A\u001b[A\u001b[A\u001b[A\u001b[A"
     ]
    },
    {
     "name": "stdout",
     "output_type": "stream",
     "text": [
      "initial sample started\n",
      "Found adv candidate example with different label, proceed to this direction.\n"
     ]
    },
    {
     "name": "stderr",
     "output_type": "stream",
     "text": [
      "\n",
      "\n",
      "\n",
      "\n",
      "\n",
      "Hop Skip Jump attack progress:  78%|███████▊  | 196/250 [03:21<00:51,  1.05it/s]\u001b[A\u001b[A\u001b[A\u001b[A\u001b[A"
     ]
    },
    {
     "name": "stdout",
     "output_type": "stream",
     "text": [
      "initial sample started\n",
      "Found adv candidate example with different label, proceed to this direction.\n"
     ]
    },
    {
     "name": "stderr",
     "output_type": "stream",
     "text": [
      "\n",
      "\n",
      "\n",
      "\n",
      "\n",
      "Hop Skip Jump attack progress:  79%|███████▉  | 197/250 [03:22<00:48,  1.08it/s]\u001b[A\u001b[A\u001b[A\u001b[A\u001b[A"
     ]
    },
    {
     "name": "stdout",
     "output_type": "stream",
     "text": [
      "initial sample started\n",
      "Found adv candidate example with different label, proceed to this direction.\n"
     ]
    },
    {
     "name": "stderr",
     "output_type": "stream",
     "text": [
      "\n",
      "\n",
      "\n",
      "\n",
      "\n",
      "Hop Skip Jump attack progress:  79%|███████▉  | 198/250 [03:23<00:46,  1.12it/s]\u001b[A\u001b[A\u001b[A\u001b[A\u001b[A"
     ]
    },
    {
     "name": "stdout",
     "output_type": "stream",
     "text": [
      "initial sample started\n",
      "Found adv candidate example with different label, proceed to this direction.\n"
     ]
    },
    {
     "name": "stderr",
     "output_type": "stream",
     "text": [
      "\n",
      "\n",
      "\n",
      "\n",
      "\n",
      "Hop Skip Jump attack progress:  80%|███████▉  | 199/250 [03:24<00:44,  1.14it/s]\u001b[A\u001b[A\u001b[A\u001b[A\u001b[A"
     ]
    },
    {
     "name": "stdout",
     "output_type": "stream",
     "text": [
      "initial sample started\n",
      "Found adv candidate example with different label, proceed to this direction.\n"
     ]
    },
    {
     "name": "stderr",
     "output_type": "stream",
     "text": [
      "\n",
      "\n",
      "\n",
      "\n",
      "\n",
      "Hop Skip Jump attack progress:  80%|████████  | 200/250 [03:25<00:43,  1.14it/s]\u001b[A\u001b[A\u001b[A\u001b[A\u001b[A"
     ]
    },
    {
     "name": "stdout",
     "output_type": "stream",
     "text": [
      "initial sample started\n",
      "Found adv candidate example with different label, proceed to this direction.\n"
     ]
    },
    {
     "name": "stderr",
     "output_type": "stream",
     "text": [
      "\n",
      "\n",
      "\n",
      "\n",
      "\n",
      "Hop Skip Jump attack progress:  80%|████████  | 201/250 [03:26<00:41,  1.18it/s]\u001b[A\u001b[A\u001b[A\u001b[A\u001b[A"
     ]
    },
    {
     "name": "stdout",
     "output_type": "stream",
     "text": [
      "initial sample started\n",
      "Found adv candidate example with different label, proceed to this direction.\n"
     ]
    },
    {
     "name": "stderr",
     "output_type": "stream",
     "text": [
      "\n",
      "\n",
      "\n",
      "\n",
      "\n",
      "Hop Skip Jump attack progress:  81%|████████  | 202/250 [03:26<00:40,  1.19it/s]\u001b[A\u001b[A\u001b[A\u001b[A\u001b[A"
     ]
    },
    {
     "name": "stdout",
     "output_type": "stream",
     "text": [
      "initial sample started\n",
      "Found adv candidate example with different label, proceed to this direction.\n"
     ]
    },
    {
     "name": "stderr",
     "output_type": "stream",
     "text": [
      "\n",
      "\n",
      "\n",
      "\n",
      "\n",
      "Hop Skip Jump attack progress:  81%|████████  | 203/250 [03:27<00:41,  1.15it/s]\u001b[A\u001b[A\u001b[A\u001b[A\u001b[A"
     ]
    },
    {
     "name": "stdout",
     "output_type": "stream",
     "text": [
      "initial sample started\n",
      "Found adv candidate example with different label, proceed to this direction.\n"
     ]
    },
    {
     "name": "stderr",
     "output_type": "stream",
     "text": [
      "\n",
      "\n",
      "\n",
      "\n",
      "\n",
      "Hop Skip Jump attack progress:  82%|████████▏ | 204/250 [03:28<00:42,  1.07it/s]\u001b[A\u001b[A\u001b[A\u001b[A\u001b[A"
     ]
    },
    {
     "name": "stdout",
     "output_type": "stream",
     "text": [
      "initial sample started\n",
      "Found adv candidate example with different label, proceed to this direction.\n"
     ]
    },
    {
     "name": "stderr",
     "output_type": "stream",
     "text": [
      "\n",
      "\n",
      "\n",
      "\n",
      "\n",
      "Hop Skip Jump attack progress:  82%|████████▏ | 205/250 [03:29<00:42,  1.05it/s]\u001b[A\u001b[A\u001b[A\u001b[A\u001b[A"
     ]
    },
    {
     "name": "stdout",
     "output_type": "stream",
     "text": [
      "initial sample started\n",
      "Found adv candidate example with different label, proceed to this direction.\n"
     ]
    },
    {
     "name": "stderr",
     "output_type": "stream",
     "text": [
      "\n",
      "\n",
      "\n",
      "\n",
      "\n",
      "Hop Skip Jump attack progress:  82%|████████▏ | 206/250 [03:30<00:41,  1.06it/s]\u001b[A\u001b[A\u001b[A\u001b[A\u001b[A"
     ]
    },
    {
     "name": "stdout",
     "output_type": "stream",
     "text": [
      "initial sample started\n",
      "Found adv candidate example with different label, proceed to this direction.\n"
     ]
    },
    {
     "name": "stderr",
     "output_type": "stream",
     "text": [
      "\n",
      "\n",
      "\n",
      "\n",
      "\n",
      "Hop Skip Jump attack progress:  83%|████████▎ | 207/250 [03:31<00:40,  1.07it/s]\u001b[A\u001b[A\u001b[A\u001b[A\u001b[A"
     ]
    },
    {
     "name": "stdout",
     "output_type": "stream",
     "text": [
      "initial sample started\n",
      "Found adv candidate example with different label, proceed to this direction.\n"
     ]
    },
    {
     "name": "stderr",
     "output_type": "stream",
     "text": [
      "\n",
      "\n",
      "\n",
      "\n",
      "\n",
      "Hop Skip Jump attack progress:  83%|████████▎ | 208/250 [03:32<00:39,  1.06it/s]\u001b[A\u001b[A\u001b[A\u001b[A\u001b[A"
     ]
    },
    {
     "name": "stdout",
     "output_type": "stream",
     "text": [
      "initial sample started\n",
      "Found adv candidate example with different label, proceed to this direction.\n"
     ]
    },
    {
     "name": "stderr",
     "output_type": "stream",
     "text": [
      "\n",
      "\n",
      "\n",
      "\n",
      "\n",
      "Hop Skip Jump attack progress:  84%|████████▎ | 209/250 [03:33<00:39,  1.03it/s]\u001b[A\u001b[A\u001b[A\u001b[A\u001b[A"
     ]
    },
    {
     "name": "stdout",
     "output_type": "stream",
     "text": [
      "initial sample started\n",
      "Found adv candidate example with different label, proceed to this direction.\n"
     ]
    },
    {
     "name": "stderr",
     "output_type": "stream",
     "text": [
      "\n",
      "\n",
      "\n",
      "\n",
      "\n",
      "Hop Skip Jump attack progress:  84%|████████▍ | 210/250 [03:34<00:41,  1.03s/it]\u001b[A\u001b[A\u001b[A\u001b[A\u001b[A"
     ]
    },
    {
     "name": "stdout",
     "output_type": "stream",
     "text": [
      "initial sample started\n",
      "Found adv candidate example with different label, proceed to this direction.\n"
     ]
    },
    {
     "name": "stderr",
     "output_type": "stream",
     "text": [
      "\n",
      "\n",
      "\n",
      "\n",
      "\n",
      "Hop Skip Jump attack progress:  84%|████████▍ | 211/250 [03:36<00:41,  1.06s/it]\u001b[A\u001b[A\u001b[A\u001b[A\u001b[A"
     ]
    },
    {
     "name": "stdout",
     "output_type": "stream",
     "text": [
      "initial sample started\n",
      "Found adv candidate example with different label, proceed to this direction.\n"
     ]
    },
    {
     "name": "stderr",
     "output_type": "stream",
     "text": [
      "\n",
      "\n",
      "\n",
      "\n",
      "\n",
      "Hop Skip Jump attack progress:  85%|████████▍ | 212/250 [03:37<00:39,  1.03s/it]\u001b[A\u001b[A\u001b[A\u001b[A\u001b[A"
     ]
    },
    {
     "name": "stdout",
     "output_type": "stream",
     "text": [
      "initial sample started\n",
      "Found adv candidate example with different label, proceed to this direction.\n"
     ]
    },
    {
     "name": "stderr",
     "output_type": "stream",
     "text": [
      "\n",
      "\n",
      "\n",
      "\n",
      "\n",
      "Hop Skip Jump attack progress:  85%|████████▌ | 213/250 [03:38<00:37,  1.00s/it]\u001b[A\u001b[A\u001b[A\u001b[A\u001b[A"
     ]
    },
    {
     "name": "stdout",
     "output_type": "stream",
     "text": [
      "initial sample started\n",
      "Found adv candidate example with different label, proceed to this direction.\n"
     ]
    },
    {
     "name": "stderr",
     "output_type": "stream",
     "text": [
      "\n",
      "\n",
      "\n",
      "\n",
      "\n",
      "Hop Skip Jump attack progress:  86%|████████▌ | 214/250 [03:38<00:35,  1.01it/s]\u001b[A\u001b[A\u001b[A\u001b[A\u001b[A"
     ]
    },
    {
     "name": "stdout",
     "output_type": "stream",
     "text": [
      "initial sample started\n",
      "Found adv candidate example with different label, proceed to this direction.\n"
     ]
    },
    {
     "name": "stderr",
     "output_type": "stream",
     "text": [
      "\n",
      "\n",
      "\n",
      "\n",
      "\n",
      "Hop Skip Jump attack progress:  86%|████████▌ | 215/250 [03:39<00:33,  1.04it/s]\u001b[A\u001b[A\u001b[A\u001b[A\u001b[A"
     ]
    },
    {
     "name": "stdout",
     "output_type": "stream",
     "text": [
      "initial sample started\n",
      "Found adv candidate example with different label, proceed to this direction.\n"
     ]
    },
    {
     "name": "stderr",
     "output_type": "stream",
     "text": [
      "\n",
      "\n",
      "\n",
      "\n",
      "\n",
      "Hop Skip Jump attack progress:  86%|████████▋ | 216/250 [03:40<00:32,  1.03it/s]\u001b[A\u001b[A\u001b[A\u001b[A\u001b[A"
     ]
    },
    {
     "name": "stdout",
     "output_type": "stream",
     "text": [
      "initial sample started\n",
      "Found adv candidate example with different label, proceed to this direction.\n"
     ]
    },
    {
     "name": "stderr",
     "output_type": "stream",
     "text": [
      "\n",
      "\n",
      "\n",
      "\n",
      "\n",
      "Hop Skip Jump attack progress:  87%|████████▋ | 217/250 [03:42<00:33,  1.03s/it]\u001b[A\u001b[A\u001b[A\u001b[A\u001b[A"
     ]
    },
    {
     "name": "stdout",
     "output_type": "stream",
     "text": [
      "initial sample started\n",
      "Found adv candidate example with different label, proceed to this direction.\n"
     ]
    },
    {
     "name": "stderr",
     "output_type": "stream",
     "text": [
      "\n",
      "\n",
      "\n",
      "\n",
      "\n",
      "Hop Skip Jump attack progress:  87%|████████▋ | 218/250 [03:43<00:33,  1.06s/it]\u001b[A\u001b[A\u001b[A\u001b[A\u001b[A"
     ]
    },
    {
     "name": "stdout",
     "output_type": "stream",
     "text": [
      "initial sample started\n",
      "Found adv candidate example with different label, proceed to this direction.\n"
     ]
    },
    {
     "name": "stderr",
     "output_type": "stream",
     "text": [
      "\n",
      "\n",
      "\n",
      "\n",
      "\n",
      "Hop Skip Jump attack progress:  88%|████████▊ | 219/250 [03:44<00:32,  1.04s/it]\u001b[A\u001b[A\u001b[A\u001b[A\u001b[A"
     ]
    },
    {
     "name": "stdout",
     "output_type": "stream",
     "text": [
      "initial sample started\n",
      "Found adv candidate example with different label, proceed to this direction.\n"
     ]
    },
    {
     "name": "stderr",
     "output_type": "stream",
     "text": [
      "\n",
      "\n",
      "\n",
      "\n",
      "\n",
      "Hop Skip Jump attack progress:  88%|████████▊ | 220/250 [03:45<00:31,  1.03s/it]\u001b[A\u001b[A\u001b[A\u001b[A\u001b[A"
     ]
    },
    {
     "name": "stdout",
     "output_type": "stream",
     "text": [
      "initial sample started\n",
      "Found adv candidate example with different label, proceed to this direction.\n"
     ]
    },
    {
     "name": "stderr",
     "output_type": "stream",
     "text": [
      "\n",
      "\n",
      "\n",
      "\n",
      "\n",
      "Hop Skip Jump attack progress:  88%|████████▊ | 221/250 [03:46<00:29,  1.03s/it]\u001b[A\u001b[A\u001b[A\u001b[A\u001b[A"
     ]
    },
    {
     "name": "stdout",
     "output_type": "stream",
     "text": [
      "initial sample started\n",
      "Found adv candidate example with different label, proceed to this direction.\n"
     ]
    },
    {
     "name": "stderr",
     "output_type": "stream",
     "text": [
      "\n",
      "\n",
      "\n",
      "\n",
      "\n",
      "Hop Skip Jump attack progress:  89%|████████▉ | 222/250 [03:47<00:27,  1.00it/s]\u001b[A\u001b[A\u001b[A\u001b[A\u001b[A"
     ]
    },
    {
     "name": "stdout",
     "output_type": "stream",
     "text": [
      "initial sample started\n",
      "Found adv candidate example with different label, proceed to this direction.\n"
     ]
    },
    {
     "name": "stderr",
     "output_type": "stream",
     "text": [
      "\n",
      "\n",
      "\n",
      "\n",
      "\n",
      "Hop Skip Jump attack progress:  89%|████████▉ | 223/250 [03:48<00:28,  1.06s/it]\u001b[A\u001b[A\u001b[A\u001b[A\u001b[A"
     ]
    },
    {
     "name": "stdout",
     "output_type": "stream",
     "text": [
      "initial sample started\n",
      "Found adv candidate example with different label, proceed to this direction.\n"
     ]
    },
    {
     "name": "stderr",
     "output_type": "stream",
     "text": [
      "\n",
      "\n",
      "\n",
      "\n",
      "\n",
      "Hop Skip Jump attack progress:  90%|████████▉ | 224/250 [03:49<00:28,  1.08s/it]\u001b[A\u001b[A\u001b[A\u001b[A\u001b[A"
     ]
    },
    {
     "name": "stdout",
     "output_type": "stream",
     "text": [
      "initial sample started\n",
      "Found adv candidate example with different label, proceed to this direction.\n"
     ]
    },
    {
     "name": "stderr",
     "output_type": "stream",
     "text": [
      "\n",
      "\n",
      "\n",
      "\n",
      "\n",
      "Hop Skip Jump attack progress:  90%|█████████ | 225/250 [03:50<00:26,  1.07s/it]\u001b[A\u001b[A\u001b[A\u001b[A\u001b[A"
     ]
    },
    {
     "name": "stdout",
     "output_type": "stream",
     "text": [
      "initial sample started\n",
      "Found adv candidate example with different label, proceed to this direction.\n"
     ]
    },
    {
     "name": "stderr",
     "output_type": "stream",
     "text": [
      "\n",
      "\n",
      "\n",
      "\n",
      "\n",
      "Hop Skip Jump attack progress:  90%|█████████ | 226/250 [03:51<00:26,  1.12s/it]\u001b[A\u001b[A\u001b[A\u001b[A\u001b[A"
     ]
    },
    {
     "name": "stdout",
     "output_type": "stream",
     "text": [
      "initial sample started\n",
      "Found adv candidate example with different label, proceed to this direction.\n"
     ]
    },
    {
     "name": "stderr",
     "output_type": "stream",
     "text": [
      "\n",
      "\n",
      "\n",
      "\n",
      "\n",
      "Hop Skip Jump attack progress:  91%|█████████ | 227/250 [03:53<00:26,  1.17s/it]\u001b[A\u001b[A\u001b[A\u001b[A\u001b[A"
     ]
    },
    {
     "name": "stdout",
     "output_type": "stream",
     "text": [
      "initial sample started\n",
      "Found adv candidate example with different label, proceed to this direction.\n"
     ]
    },
    {
     "name": "stderr",
     "output_type": "stream",
     "text": [
      "\n",
      "\n",
      "\n",
      "\n",
      "\n",
      "Hop Skip Jump attack progress:  91%|█████████ | 228/250 [03:54<00:25,  1.14s/it]\u001b[A\u001b[A\u001b[A\u001b[A\u001b[A"
     ]
    },
    {
     "name": "stdout",
     "output_type": "stream",
     "text": [
      "initial sample started\n",
      "Found adv candidate example with different label, proceed to this direction.\n"
     ]
    },
    {
     "name": "stderr",
     "output_type": "stream",
     "text": [
      "\n",
      "\n",
      "\n",
      "\n",
      "\n",
      "Hop Skip Jump attack progress:  92%|█████████▏| 229/250 [03:55<00:23,  1.13s/it]\u001b[A\u001b[A\u001b[A\u001b[A\u001b[A"
     ]
    },
    {
     "name": "stdout",
     "output_type": "stream",
     "text": [
      "initial sample started\n",
      "Found adv candidate example with different label, proceed to this direction.\n"
     ]
    },
    {
     "name": "stderr",
     "output_type": "stream",
     "text": [
      "\n",
      "\n",
      "\n",
      "\n",
      "\n",
      "Hop Skip Jump attack progress:  92%|█████████▏| 230/250 [03:56<00:22,  1.13s/it]\u001b[A\u001b[A\u001b[A\u001b[A\u001b[A"
     ]
    },
    {
     "name": "stdout",
     "output_type": "stream",
     "text": [
      "initial sample started\n",
      "Found adv candidate example with different label, proceed to this direction.\n"
     ]
    },
    {
     "name": "stderr",
     "output_type": "stream",
     "text": [
      "\n",
      "\n",
      "\n",
      "\n",
      "\n",
      "Hop Skip Jump attack progress:  92%|█████████▏| 231/250 [03:57<00:21,  1.14s/it]\u001b[A\u001b[A\u001b[A\u001b[A\u001b[A"
     ]
    },
    {
     "name": "stdout",
     "output_type": "stream",
     "text": [
      "initial sample started\n",
      "Found adv candidate example with different label, proceed to this direction.\n"
     ]
    },
    {
     "name": "stderr",
     "output_type": "stream",
     "text": [
      "\n",
      "\n",
      "\n",
      "\n",
      "\n",
      "Hop Skip Jump attack progress:  93%|█████████▎| 232/250 [03:58<00:20,  1.12s/it]\u001b[A\u001b[A\u001b[A\u001b[A\u001b[A"
     ]
    },
    {
     "name": "stdout",
     "output_type": "stream",
     "text": [
      "initial sample started\n",
      "Found adv candidate example with different label, proceed to this direction.\n"
     ]
    },
    {
     "name": "stderr",
     "output_type": "stream",
     "text": [
      "\n",
      "\n",
      "\n",
      "\n",
      "\n",
      "Hop Skip Jump attack progress:  93%|█████████▎| 233/250 [03:59<00:18,  1.11s/it]\u001b[A\u001b[A\u001b[A\u001b[A\u001b[A"
     ]
    },
    {
     "name": "stdout",
     "output_type": "stream",
     "text": [
      "initial sample started\n",
      "Found adv candidate example with different label, proceed to this direction.\n"
     ]
    },
    {
     "name": "stderr",
     "output_type": "stream",
     "text": [
      "\n",
      "\n",
      "\n",
      "\n",
      "\n",
      "Hop Skip Jump attack progress:  94%|█████████▎| 234/250 [04:00<00:18,  1.13s/it]\u001b[A\u001b[A\u001b[A\u001b[A\u001b[A"
     ]
    },
    {
     "name": "stdout",
     "output_type": "stream",
     "text": [
      "initial sample started\n",
      "Found adv candidate example with different label, proceed to this direction.\n"
     ]
    },
    {
     "name": "stderr",
     "output_type": "stream",
     "text": [
      "\n",
      "\n",
      "\n",
      "\n",
      "\n",
      "Hop Skip Jump attack progress:  94%|█████████▍| 235/250 [04:01<00:17,  1.14s/it]\u001b[A\u001b[A\u001b[A\u001b[A\u001b[A"
     ]
    },
    {
     "name": "stdout",
     "output_type": "stream",
     "text": [
      "initial sample started\n",
      "Found adv candidate example with different label, proceed to this direction.\n"
     ]
    },
    {
     "name": "stderr",
     "output_type": "stream",
     "text": [
      "\n",
      "\n",
      "\n",
      "\n",
      "\n",
      "Hop Skip Jump attack progress:  94%|█████████▍| 236/250 [04:02<00:15,  1.09s/it]\u001b[A\u001b[A\u001b[A\u001b[A\u001b[A"
     ]
    },
    {
     "name": "stdout",
     "output_type": "stream",
     "text": [
      "initial sample started\n",
      "Found adv candidate example with different label, proceed to this direction.\n"
     ]
    },
    {
     "name": "stderr",
     "output_type": "stream",
     "text": [
      "\n",
      "\n",
      "\n",
      "\n",
      "\n",
      "Hop Skip Jump attack progress:  95%|█████████▍| 237/250 [04:03<00:13,  1.02s/it]\u001b[A\u001b[A\u001b[A\u001b[A\u001b[A"
     ]
    },
    {
     "name": "stdout",
     "output_type": "stream",
     "text": [
      "initial sample started\n",
      "Found adv candidate example with different label, proceed to this direction.\n"
     ]
    },
    {
     "name": "stderr",
     "output_type": "stream",
     "text": [
      "\n",
      "\n",
      "\n",
      "\n",
      "\n",
      "Hop Skip Jump attack progress:  95%|█████████▌| 238/250 [04:04<00:11,  1.03it/s]\u001b[A\u001b[A\u001b[A\u001b[A\u001b[A"
     ]
    },
    {
     "name": "stdout",
     "output_type": "stream",
     "text": [
      "initial sample started\n",
      "Found adv candidate example with different label, proceed to this direction.\n"
     ]
    },
    {
     "name": "stderr",
     "output_type": "stream",
     "text": [
      "\n",
      "\n",
      "\n",
      "\n",
      "\n",
      "Hop Skip Jump attack progress:  96%|█████████▌| 239/250 [04:05<00:10,  1.00it/s]\u001b[A\u001b[A\u001b[A\u001b[A\u001b[A"
     ]
    },
    {
     "name": "stdout",
     "output_type": "stream",
     "text": [
      "initial sample started\n",
      "Found adv candidate example with different label, proceed to this direction.\n"
     ]
    },
    {
     "name": "stderr",
     "output_type": "stream",
     "text": [
      "\n",
      "\n",
      "\n",
      "\n",
      "\n",
      "Hop Skip Jump attack progress:  96%|█████████▌| 240/250 [04:06<00:10,  1.06s/it]\u001b[A\u001b[A\u001b[A\u001b[A\u001b[A"
     ]
    },
    {
     "name": "stdout",
     "output_type": "stream",
     "text": [
      "initial sample started\n",
      "Found adv candidate example with different label, proceed to this direction.\n"
     ]
    },
    {
     "name": "stderr",
     "output_type": "stream",
     "text": [
      "\n",
      "\n",
      "\n",
      "\n",
      "\n",
      "Hop Skip Jump attack progress:  96%|█████████▋| 241/250 [04:07<00:09,  1.04s/it]\u001b[A\u001b[A\u001b[A\u001b[A\u001b[A"
     ]
    },
    {
     "name": "stdout",
     "output_type": "stream",
     "text": [
      "initial sample started\n",
      "Found adv candidate example with different label, proceed to this direction.\n"
     ]
    },
    {
     "name": "stderr",
     "output_type": "stream",
     "text": [
      "\n",
      "\n",
      "\n",
      "\n",
      "\n",
      "Hop Skip Jump attack progress:  97%|█████████▋| 242/250 [04:09<00:08,  1.06s/it]\u001b[A\u001b[A\u001b[A\u001b[A\u001b[A"
     ]
    },
    {
     "name": "stdout",
     "output_type": "stream",
     "text": [
      "initial sample started\n",
      "Found adv candidate example with different label, proceed to this direction.\n"
     ]
    },
    {
     "name": "stderr",
     "output_type": "stream",
     "text": [
      "\n",
      "\n",
      "\n",
      "\n",
      "\n",
      "Hop Skip Jump attack progress:  97%|█████████▋| 243/250 [04:10<00:07,  1.09s/it]\u001b[A\u001b[A\u001b[A\u001b[A\u001b[A"
     ]
    },
    {
     "name": "stdout",
     "output_type": "stream",
     "text": [
      "initial sample started\n",
      "Found adv candidate example with different label, proceed to this direction.\n"
     ]
    },
    {
     "name": "stderr",
     "output_type": "stream",
     "text": [
      "\n",
      "\n",
      "\n",
      "\n",
      "\n",
      "Hop Skip Jump attack progress:  98%|█████████▊| 244/250 [04:11<00:06,  1.14s/it]\u001b[A\u001b[A\u001b[A\u001b[A\u001b[A"
     ]
    },
    {
     "name": "stdout",
     "output_type": "stream",
     "text": [
      "initial sample started\n",
      "Found adv candidate example with different label, proceed to this direction.\n"
     ]
    },
    {
     "name": "stderr",
     "output_type": "stream",
     "text": [
      "\n",
      "\n",
      "\n",
      "\n",
      "\n",
      "Hop Skip Jump attack progress:  98%|█████████▊| 245/250 [04:12<00:05,  1.12s/it]\u001b[A\u001b[A\u001b[A\u001b[A\u001b[A"
     ]
    },
    {
     "name": "stdout",
     "output_type": "stream",
     "text": [
      "initial sample started\n",
      "Found adv candidate example with different label, proceed to this direction.\n"
     ]
    },
    {
     "name": "stderr",
     "output_type": "stream",
     "text": [
      "\n",
      "\n",
      "\n",
      "\n",
      "\n",
      "Hop Skip Jump attack progress:  98%|█████████▊| 246/250 [04:13<00:04,  1.10s/it]\u001b[A\u001b[A\u001b[A\u001b[A\u001b[A"
     ]
    },
    {
     "name": "stdout",
     "output_type": "stream",
     "text": [
      "initial sample started\n",
      "Found adv candidate example with different label, proceed to this direction.\n"
     ]
    },
    {
     "name": "stderr",
     "output_type": "stream",
     "text": [
      "\n",
      "\n",
      "\n",
      "\n",
      "\n",
      "Hop Skip Jump attack progress:  99%|█████████▉| 247/250 [04:14<00:03,  1.09s/it]\u001b[A\u001b[A\u001b[A\u001b[A\u001b[A"
     ]
    },
    {
     "name": "stdout",
     "output_type": "stream",
     "text": [
      "initial sample started\n",
      "Found adv candidate example with different label, proceed to this direction.\n"
     ]
    },
    {
     "name": "stderr",
     "output_type": "stream",
     "text": [
      "\n",
      "\n",
      "\n",
      "\n",
      "\n",
      "Hop Skip Jump attack progress:  99%|█████████▉| 248/250 [04:15<00:02,  1.06s/it]\u001b[A\u001b[A\u001b[A\u001b[A\u001b[A"
     ]
    },
    {
     "name": "stdout",
     "output_type": "stream",
     "text": [
      "initial sample started\n",
      "Found adv candidate example with different label, proceed to this direction.\n"
     ]
    },
    {
     "name": "stderr",
     "output_type": "stream",
     "text": [
      "\n",
      "\n",
      "\n",
      "\n",
      "\n",
      "Hop Skip Jump attack progress: 100%|█████████▉| 249/250 [04:16<00:01,  1.06s/it]\u001b[A\u001b[A\u001b[A\u001b[A\u001b[A"
     ]
    },
    {
     "name": "stdout",
     "output_type": "stream",
     "text": [
      "initial sample started\n",
      "Found adv candidate example with different label, proceed to this direction.\n"
     ]
    },
    {
     "name": "stderr",
     "output_type": "stream",
     "text": [
      "\n",
      "\n",
      "\n",
      "\n",
      "\n",
      "Hop Skip Jump attack progress: 100%|██████████| 250/250 [04:17<00:00,  1.03s/it]\u001b[A\u001b[A\u001b[A\u001b[A\u001b[A\n"
     ]
    },
    {
     "name": "stdout",
     "output_type": "stream",
     "text": [
      "Epoch 1/20\n",
      "500/500 [==============================] - 3s 5ms/step - loss: 6.6267 - accuracy: 0.1160\n",
      "Epoch 2/20\n",
      "500/500 [==============================] - 0s 472us/step - loss: 5.9462 - accuracy: 0.0890\n",
      "Epoch 3/20\n",
      "500/500 [==============================] - 0s 496us/step - loss: 5.6031 - accuracy: 0.0820\n",
      "Epoch 4/20\n",
      "500/500 [==============================] - 0s 517us/step - loss: 4.9543 - accuracy: 0.0760\n",
      "Epoch 5/20\n",
      "500/500 [==============================] - 0s 523us/step - loss: 4.6059 - accuracy: 0.0640\n",
      "Epoch 6/20\n",
      "500/500 [==============================] - 0s 568us/step - loss: 4.2999 - accuracy: 0.0580\n",
      "Epoch 7/20\n",
      "500/500 [==============================] - 0s 567us/step - loss: 3.9623 - accuracy: 0.0620\n",
      "Epoch 8/20\n",
      "500/500 [==============================] - 0s 558us/step - loss: 3.7695 - accuracy: 0.0640\n",
      "Epoch 9/20\n",
      "500/500 [==============================] - 0s 542us/step - loss: 3.5047 - accuracy: 0.0590\n",
      "Epoch 10/20\n",
      "500/500 [==============================] - 0s 521us/step - loss: 3.2069 - accuracy: 0.0670\n",
      "Epoch 11/20\n",
      "500/500 [==============================] - 0s 554us/step - loss: 3.0295 - accuracy: 0.0610\n",
      "Epoch 12/20\n",
      "500/500 [==============================] - 0s 554us/step - loss: 2.8327 - accuracy: 0.0550\n",
      "Epoch 13/20\n",
      "500/500 [==============================] - 0s 572us/step - loss: 2.7929 - accuracy: 0.0670\n",
      "Epoch 14/20\n",
      "500/500 [==============================] - 0s 572us/step - loss: 2.7303 - accuracy: 0.0700\n",
      "Epoch 15/20\n",
      "500/500 [==============================] - 0s 489us/step - loss: 2.5036 - accuracy: 0.0770\n",
      "Epoch 16/20\n",
      "500/500 [==============================] - 0s 502us/step - loss: 2.3162 - accuracy: 0.0770\n",
      "Epoch 17/20\n",
      "500/500 [==============================] - 0s 568us/step - loss: 2.1942 - accuracy: 0.0750\n",
      "Epoch 18/20\n",
      "500/500 [==============================] - 0s 565us/step - loss: 2.1177 - accuracy: 0.0610\n",
      "Epoch 19/20\n",
      "500/500 [==============================] - 0s 475us/step - loss: 2.1078 - accuracy: 0.0500\n",
      "Epoch 20/20\n",
      "500/500 [==============================] - 0s 455us/step - loss: 2.1072 - accuracy: 0.0510\n",
      "Adversarial test data (first 250 images):\n",
      "Flagged: 228\n",
      "Not flagged: 22\n",
      "Original test data (first 250 images):\n",
      "Flagged: 70\n",
      "Not flagged: 180\n"
     ]
    },
    {
     "data": {
      "text/plain": [
       "0"
      ]
     },
     "execution_count": 112,
     "metadata": {},
     "output_type": "execute_result"
    }
   ],
   "source": [
    "# DEFENCE\n",
    "\n",
    "# Detector\n",
    "import defence.detector as detector\n",
    "# x_train_adv = attacker.generate(x_train[:test_num]) # non-targeted\n",
    "# x_train_adv = attacker.generate_iterative(x_train[:test_num], eps_step = 0.05) #iterative non-targeted\n",
    "x_train_adv = attacker.generate(x_train[:adv_num])\n",
    "\n",
    "\n",
    "dmodel = detector.build_detector(classifier_model)\n",
    "detector.train(dmodel, x_train[:test_num], x_train_adv)\n",
    "detector.result(dmodel, x_test[:test_num], x_test_adv, total_size = test_num)\n",
    "\n",
    "\n",
    "# # Spatial Smoothing\n",
    "# x_test = x_test[:test_num]\n",
    "# x_test_adv = x_test_adv[:test_num]\n",
    "# from defence.SSmoothing import SpatialS\n",
    "# img = []\n",
    "\n",
    "# # plt.figure(figsize=(8,8)); plt.imshow(x_test_adv[0]); plt.axis('off'); plt.show()\n",
    "\n",
    "# for i in range(len(x_test_adv)):\n",
    "#     x_dev_def = SpatialS(np.moveaxis(x_test_adv[i], 2, 0), window_size=3, way=\"mean\")\n",
    "#     img.append(np.moveaxis(x_dev_def, 0, 2))\n",
    "    \n",
    "# x_dev_def = np.array(img)\n",
    "\n",
    "# # plt.figure(figsize=(8,8)); plt.imshow(x_dev_def[0]); plt.axis('off'); plt.show()\n",
    "\n",
    "# x_test_adv_pred = np.argmax(classifier.predict(x_dev_def), axis=1)\n",
    "# nb_correct_adv_pred = np.sum(x_test_adv_pred == np.argmax(y_test[:adv_num], axis=1))\n",
    "\n",
    "# print(f\"Adversarial test data (first {adv_num} images):\")\n",
    "# print(\"Correctly classified: {}\".format(nb_correct_adv_pred))\n",
    "# print(\"Incorrectly classified: {}\".format(adv_num-nb_correct_adv_pred))"
   ]
  },
  {
   "cell_type": "code",
   "execution_count": null,
   "metadata": {},
   "outputs": [],
   "source": []
  }
 ],
 "metadata": {
  "kernelspec": {
   "display_name": "Python 3",
   "language": "python",
   "name": "python3"
  },
  "language_info": {
   "codemirror_mode": {
    "name": "ipython",
    "version": 3
   },
   "file_extension": ".py",
   "mimetype": "text/x-python",
   "name": "python",
   "nbconvert_exporter": "python",
   "pygments_lexer": "ipython3",
   "version": "3.7.6"
  }
 },
 "nbformat": 4,
 "nbformat_minor": 4
}
