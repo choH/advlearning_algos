{
 "cells": [
  {
   "cell_type": "markdown",
   "metadata": {},
   "source": [
    "## MNIST"
   ]
  },
  {
   "cell_type": "code",
   "execution_count": 2,
   "metadata": {},
   "outputs": [],
   "source": [
    "from __future__ import absolute_import, division, print_function, unicode_literals\n",
    "\n",
    "import sys\n",
    "sys.path.append(\"..\")\n",
    "\n",
    "%matplotlib inline\n",
    "\n",
    "import numpy as np\n",
    "\n",
    "from sklearn.metrics import classification_report\n",
    "\n",
    "import keras\n",
    "from keras import metrics\n",
    "from keras.preprocessing import image\n",
    "from keras.applications.resnet50 import ResNet50, preprocess_input\n",
    "from keras.layers import Dense, Flatten\n",
    "from keras.models import Model, load_model\n",
    "import keras.backend as k\n",
    "from matplotlib import pyplot as plt\n",
    "from IPython.display import clear_output\n",
    "\n",
    "from art.config import ART_DATA_PATH\n",
    "from art.estimators.classification import KerasClassifier\n",
    "from art.utils import to_categorical, load_dataset, get_file\n",
    "\n",
    "import warnings\n",
    "warnings.filterwarnings('ignore')\n",
    "import tensorflow as tf\n",
    "tf.compat.v1.disable_eager_execution()\n",
    "tf.compat.v1.logging.set_verbosity(tf.compat.v1.logging.ERROR)\n",
    "\n",
    "from deepfool import DeepFool"
   ]
  },
  {
   "cell_type": "code",
   "execution_count": 4,
   "metadata": {},
   "outputs": [
    {
     "name": "stdout",
     "output_type": "stream",
     "text": [
      "Epoch 1/1\n",
      "468/468 [==============================] - 15s 32ms/step - loss: 4.7499e-04 - tp: 59898.0000 - fp: 6.0000 - tn: 539130.0000 - fn: 6.0000 - categorical_accuracy: 0.9999 - precision: 0.9999 - recall: 0.9999 - auc: 1.0000\n"
     ]
    }
   ],
   "source": [
    "(x_train, y_train), (x_test, y_test), min_, max_ = load_dataset('mnist')\n",
    "\n",
    "path = get_file('mnist_cnn_original.h5', extract=False, path=ART_DATA_PATH,\n",
    "                url='https://www.dropbox.com/s/p2nyzne9chcerid/mnist_cnn_original.h5?dl=1')\n",
    "\n",
    "METRICS = [\n",
    "      keras.metrics.TruePositives(name='tp'),\n",
    "      keras.metrics.FalsePositives(name='fp'),\n",
    "      keras.metrics.TrueNegatives(name='tn'),\n",
    "      keras.metrics.FalseNegatives(name='fn'), \n",
    "      keras.metrics.CategoricalAccuracy(name='categorical_accuracy'),\n",
    "      keras.metrics.Precision(name='precision'),\n",
    "      keras.metrics.Recall(name='recall'),\n",
    "      keras.metrics.AUC(name='auc'),\n",
    "]\n",
    "\n",
    "classifier_model = load_model(path)\n",
    "classifier = KerasClassifier(clip_values=(min_, max_), model=classifier_model, use_logits=True)\n",
    "classifier_model.compile(loss='categorical_crossentropy', optimizer='adam', metrics=METRICS)\n",
    "history = classifier.fit(x_train, y_train, nb_epochs=1, batch_size=128, verbose=1)"
   ]
  },
  {
   "cell_type": "code",
   "execution_count": 5,
   "metadata": {},
   "outputs": [
    {
     "name": "stdout",
     "output_type": "stream",
     "text": [
      "Model: \"sequential_2\"\n",
      "_________________________________________________________________\n",
      "Layer (type)                 Output Shape              Param #   \n",
      "=================================================================\n",
      "conv2d_1 (Conv2D)            (None, 26, 26, 32)        320       \n",
      "_________________________________________________________________\n",
      "max_pooling2d_1 (MaxPooling2 (None, 13, 13, 32)        0         \n",
      "_________________________________________________________________\n",
      "conv2d_2 (Conv2D)            (None, 11, 11, 64)        18496     \n",
      "_________________________________________________________________\n",
      "max_pooling2d_2 (MaxPooling2 (None, 5, 5, 64)          0         \n",
      "_________________________________________________________________\n",
      "flatten_1 (Flatten)          (None, 1600)              0         \n",
      "_________________________________________________________________\n",
      "dense_1 (Dense)              (None, 128)               204928    \n",
      "_________________________________________________________________\n",
      "dense_2 (Dense)              (None, 10)                1290      \n",
      "=================================================================\n",
      "Total params: 225,034\n",
      "Trainable params: 225,034\n",
      "Non-trainable params: 0\n",
      "_________________________________________________________________\n"
     ]
    }
   ],
   "source": [
    "classifier_model.summary()\n",
    "pred = classifier.predict(x_test)\n",
    "x_test_pred = np.argmax(pred, axis=1)\n",
    "nb_correct_pred = np.sum(x_test_pred == np.argmax(y_test, axis=1))\n",
    "accuracy = np.mean(np.argmax(pred, axis=1) == np.argmax(y_test, axis=1))"
   ]
  },
  {
   "cell_type": "code",
   "execution_count": 6,
   "metadata": {},
   "outputs": [
    {
     "name": "stdout",
     "output_type": "stream",
     "text": [
      "---Original test images---:\n",
      "Correctly classified: 9917\n",
      "Accuracy on test samples: 0.991700\n"
     ]
    }
   ],
   "source": [
    "print(f\"---Original test images---:\")\n",
    "print(\"Correctly classified: {}\".format(nb_correct_pred))\n",
    "print(\"Accuracy on test samples: %f\" % accuracy)"
   ]
  },
  {
   "cell_type": "code",
   "execution_count": null,
   "metadata": {},
   "outputs": [
    {
     "name": "stderr",
     "output_type": "stream",
     "text": [
      "WARNING: Logging before flag parsing goes to stderr.\n",
      "W1203 01:30:55.698018 4465061312 deepfool.py:80] Targeted model should output logits, not probabilities for predictions.\n",
      "DeepFool:  67%|██████▋   | 6720/10000 [39:30<17:33,  3.11it/s]  "
     ]
    }
   ],
   "source": [
    "attacker = DeepFool(classifier)\n",
    "x_test_adv = attacker.generate(x_test)"
   ]
  },
  {
   "cell_type": "code",
   "execution_count": null,
   "metadata": {},
   "outputs": [],
   "source": [
    "preds = np.argmax(classifier.predict(x_test_adv), axis=1)\n",
    "acc = np.sum(preds == np.argmax(y_test, axis=1)) / y_test.shape[0]\n",
    "\n",
    "print(np.sum(preds == np.argmax(y_test, axis=1)))"
   ]
  },
  {
   "cell_type": "markdown",
   "metadata": {},
   "source": [
    "## CFAIR-10"
   ]
  },
  {
   "cell_type": "code",
   "execution_count": 2,
   "metadata": {},
   "outputs": [],
   "source": [
    "import logging\n",
    "\n",
    "from keras.models import Sequential\n",
    "from keras.layers import Dense, Flatten, Conv2D, MaxPooling2D, Activation, Dropout"
   ]
  },
  {
   "cell_type": "code",
   "execution_count": 3,
   "metadata": {},
   "outputs": [],
   "source": [
    "logger = logging.getLogger()\n",
    "logger.setLevel(logging.INFO)\n",
    "handler = logging.StreamHandler()\n",
    "formatter = logging.Formatter(\"[%(levelname)s] %(message)s\")\n",
    "handler.setFormatter(formatter)\n",
    "logger.addHandler(handler)"
   ]
  },
  {
   "cell_type": "code",
   "execution_count": 4,
   "metadata": {},
   "outputs": [],
   "source": [
    "(x_train, y_train), (x_test, y_test), min_, max_ = load_dataset(str(\"cifar10\"))\n",
    "x_train, y_train = x_train[:5000], y_train[:5000]\n",
    "x_test, y_test = x_test[:500], y_test[:500]"
   ]
  },
  {
   "cell_type": "code",
   "execution_count": 5,
   "metadata": {},
   "outputs": [],
   "source": [
    "METRICS = [\n",
    "      keras.metrics.TruePositives(name='tp'),\n",
    "      keras.metrics.FalsePositives(name='fp'),\n",
    "      keras.metrics.TrueNegatives(name='tn'),\n",
    "      keras.metrics.FalseNegatives(name='fn'), \n",
    "      keras.metrics.CategoricalAccuracy(name='categorical_accuracy'),\n",
    "      keras.metrics.Precision(name='precision'),\n",
    "      keras.metrics.Recall(name='recall'),\n",
    "      keras.metrics.AUC(name='auc'),\n",
    "]\n",
    "\n",
    "model = Sequential()\n",
    "model.add(Conv2D(32, (3, 3), padding=\"same\", input_shape=x_train.shape[1:]))\n",
    "model.add(Activation(\"relu\"))\n",
    "model.add(Conv2D(32, (3, 3)))\n",
    "model.add(Activation(\"relu\"))\n",
    "model.add(MaxPooling2D(pool_size=(2, 2)))\n",
    "model.add(Dropout(0.25))\n",
    "\n",
    "model.add(Conv2D(64, (3, 3), padding=\"same\"))\n",
    "model.add(Activation(\"relu\"))\n",
    "model.add(Conv2D(64, (3, 3)))\n",
    "model.add(Activation(\"relu\"))\n",
    "model.add(MaxPooling2D(pool_size=(2, 2)))\n",
    "model.add(Dropout(0.25))\n",
    "\n",
    "model.add(Flatten())\n",
    "model.add(Dense(512))\n",
    "model.add(Activation(\"relu\"))\n",
    "model.add(Dropout(0.5))\n",
    "model.add(Dense(10))\n",
    "model.add(Activation(\"softmax\"))\n",
    "\n",
    "model.compile(loss=\"categorical_crossentropy\", optimizer=\"adam\", metrics=METRICS)"
   ]
  },
  {
   "cell_type": "code",
   "execution_count": 6,
   "metadata": {},
   "outputs": [
    {
     "name": "stderr",
     "output_type": "stream",
     "text": [
      "[INFO] Inferred 17 hidden layers on Keras classifier.\n"
     ]
    },
    {
     "name": "stdout",
     "output_type": "stream",
     "text": [
      "Epoch 1/10\n",
      "39/39 [==============================] - 6s 158ms/step - batch: 19.0000 - size: 128.0000 - loss: 2.1712 - tp: 30.0000 - fp: 46.0000 - tn: 44882.0000 - fn: 4962.0000 - categorical_accuracy: 0.1871 - precision: 0.3947 - recall: 0.0060 - auc: 0.6478\n",
      "Epoch 2/10\n",
      "39/39 [==============================] - 6s 157ms/step - batch: 19.0000 - size: 128.0000 - loss: 1.8452 - tp: 310.0000 - fp: 248.0000 - tn: 44680.0000 - fn: 4682.0000 - categorical_accuracy: 0.3277 - precision: 0.5556 - recall: 0.0621 - auc: 0.7903\n",
      "Epoch 3/10\n",
      "39/39 [==============================] - 6s 157ms/step - batch: 19.0000 - size: 128.0000 - loss: 1.6738 - tp: 649.0000 - fp: 425.0000 - tn: 44503.0000 - fn: 4343.0000 - categorical_accuracy: 0.3888 - precision: 0.6043 - recall: 0.1300 - auc: 0.8335\n",
      "Epoch 4/10\n",
      "39/39 [==============================] - 6s 157ms/step - batch: 19.0000 - size: 128.0000 - loss: 1.5496 - tp: 913.0000 - fp: 501.0000 - tn: 44427.0000 - fn: 4079.0000 - categorical_accuracy: 0.4365 - precision: 0.6457 - recall: 0.1829 - auc: 0.8607\n",
      "Epoch 5/10\n",
      "39/39 [==============================] - 6s 157ms/step - batch: 19.0000 - size: 128.0000 - loss: 1.4700 - tp: 1081.0000 - fp: 611.0000 - tn: 44317.0000 - fn: 3911.0000 - categorical_accuracy: 0.4661 - precision: 0.6389 - recall: 0.2165 - auc: 0.8759\n",
      "Epoch 6/10\n",
      "39/39 [==============================] - 6s 157ms/step - batch: 19.0000 - size: 128.0000 - loss: 1.4081 - tp: 1292.0000 - fp: 727.0000 - tn: 44201.0000 - fn: 3700.0000 - categorical_accuracy: 0.4832 - precision: 0.6399 - recall: 0.2588 - auc: 0.8872\n",
      "Epoch 7/10\n",
      "39/39 [==============================] - 6s 157ms/step - batch: 19.0000 - size: 128.0000 - loss: 1.2829 - tp: 1613.0000 - fp: 723.0000 - tn: 44205.0000 - fn: 3379.0000 - categorical_accuracy: 0.5333 - precision: 0.6905 - recall: 0.3231 - auc: 0.9073\n",
      "Epoch 8/10\n",
      "39/39 [==============================] - 6s 156ms/step - batch: 19.0000 - size: 128.0000 - loss: 1.2615 - tp: 1735.0000 - fp: 682.0000 - tn: 44246.0000 - fn: 3257.0000 - categorical_accuracy: 0.5487 - precision: 0.7178 - recall: 0.3476 - auc: 0.9097\n",
      "Epoch 9/10\n",
      "39/39 [==============================] - 6s 157ms/step - batch: 19.0000 - size: 128.0000 - loss: 1.1499 - tp: 2041.0000 - fp: 742.0000 - tn: 44186.0000 - fn: 2951.0000 - categorical_accuracy: 0.5863 - precision: 0.7334 - recall: 0.4089 - auc: 0.9258\n",
      "Epoch 10/10\n",
      "39/39 [==============================] - 6s 157ms/step - batch: 19.0000 - size: 128.0000 - loss: 1.0816 - tp: 2293.0000 - fp: 792.0000 - tn: 44136.0000 - fn: 2699.0000 - categorical_accuracy: 0.6178 - precision: 0.7433 - recall: 0.4593 - auc: 0.9342\n"
     ]
    }
   ],
   "source": [
    "classifier = KerasClassifier(model=model, clip_values=(min_, max_))\n",
    "classifier.fit(x_train, y_train, nb_epochs=10, batch_size=128, verbose=1)"
   ]
  },
  {
   "cell_type": "code",
   "execution_count": 7,
   "metadata": {},
   "outputs": [
    {
     "name": "stderr",
     "output_type": "stream",
     "text": [
      "[INFO] Create DeepFool attack\n",
      "[INFO] Craft attack test examples\n",
      "[WARNING] Targeted model should output logits, not probabilities for predictions.\n",
      "DeepFool: 100%|██████████| 500/500 [01:11<00:00,  6.99it/s]\n",
      "[INFO] DeepFool attack success rate: 88.60%\n"
     ]
    }
   ],
   "source": [
    "logger.info(\"Create DeepFool attack\")\n",
    "adv_crafter = DeepFool(classifier)\n",
    "#logger.info(\"Craft attack on training examples\")\n",
    "#x_train_adv = adv_crafter.generate(x_train)\n",
    "logger.info(\"Craft attack test examples\")\n",
    "x_test_adv = adv_crafter.generate(x_test)"
   ]
  },
  {
   "cell_type": "code",
   "execution_count": 8,
   "metadata": {},
   "outputs": [
    {
     "name": "stderr",
     "output_type": "stream",
     "text": [
      "[INFO] Classifier before adversarial training\n",
      "[INFO] Accuracy on adversarial samples: 22.40%\n"
     ]
    },
    {
     "data": {
      "text/plain": [
       "[1.7357193355560303,\n",
       " 16.0,\n",
       " 74.0,\n",
       " 4426.0,\n",
       " 484.0,\n",
       " 0.224,\n",
       " 0.17777778,\n",
       " 0.032,\n",
       " 0.84140915]"
      ]
     },
     "execution_count": 8,
     "metadata": {},
     "output_type": "execute_result"
    }
   ],
   "source": [
    "preds = np.argmax(classifier.predict(x_test_adv), axis=1)\n",
    "acc = np.sum(preds == np.argmax(y_test, axis=1)) / y_test.shape[0]\n",
    "logger.info(\"Classifier before adversarial training\")\n",
    "logger.info(\"Accuracy on adversarial samples: %.2f%%\", (acc * 100))\n",
    "classifier.model.evaluate(x_test_adv, y_test, verbose=1)"
   ]
  },
  {
   "cell_type": "markdown",
   "metadata": {},
   "source": [
    "## Extension"
   ]
  },
  {
   "cell_type": "code",
   "execution_count": 7,
   "metadata": {},
   "outputs": [],
   "source": [
    "from algorithms.fast_deepfool import FastDeepFool"
   ]
  },
  {
   "cell_type": "code",
   "execution_count": 8,
   "metadata": {},
   "outputs": [
    {
     "name": "stderr",
     "output_type": "stream",
     "text": [
      "[INFO] Create DeepFool attack\n",
      "[INFO] Craft attack on test examples\n",
      "[WARNING] Targeted model should output logits, not probabilities for predictions.\n",
      "DeepFool: 100%|██████████| 500/500 [01:33<00:00,  5.34it/s]\n",
      "[INFO] DeepFool attack success rate: 99.80%\n"
     ]
    }
   ],
   "source": [
    "logger.info(\"Create DeepFool attack\")\n",
    "adv_crafter = FastDeepFool(classifier)\n",
    "logger.info(\"Craft attack on test examples\")\n",
    "x_test_adv = adv_crafter.generate(x_test)"
   ]
  },
  {
   "cell_type": "code",
   "execution_count": null,
   "metadata": {},
   "outputs": [],
   "source": []
  }
 ],
 "metadata": {
  "kernelspec": {
   "display_name": "Python 3",
   "language": "python",
   "name": "python3"
  },
  "language_info": {
   "codemirror_mode": {
    "name": "ipython",
    "version": 3
   },
   "file_extension": ".py",
   "mimetype": "text/x-python",
   "name": "python",
   "nbconvert_exporter": "python",
   "pygments_lexer": "ipython3",
   "version": "3.7.6"
  }
 },
 "nbformat": 4,
 "nbformat_minor": 4
}
