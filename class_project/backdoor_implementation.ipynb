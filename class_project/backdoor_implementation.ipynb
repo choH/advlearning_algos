{
 "cells": [
  {
   "cell_type": "code",
   "execution_count": 1,
   "metadata": {},
   "outputs": [
    {
     "name": "stdout",
     "output_type": "stream",
     "text": [
      "importing Jupyter notebook from backdoor_attack_class.ipynb\n",
      "importing Jupyter notebook from backdoor_attack_setup.ipynb\n",
      "WARNING:tensorflow:From C:\\Users\\Xin\\AppData\\Local\\Programs\\Python\\Python37\\lib\\site-packages\\tensorflow\\python\\compat\\v2_compat.py:96: disable_resource_variables (from tensorflow.python.ops.variable_scope) is deprecated and will be removed in a future version.\n",
      "Instructions for updating:\n",
      "non-resource variables are not supported in the long term\n"
     ]
    }
   ],
   "source": [
    "from __future__ import absolute_import, division, print_function, unicode_literals\n",
    "\n",
    "import os, sys\n",
    "from os.path import abspath\n",
    "\n",
    "module_path = os.path.abspath(os.path.join('..'))\n",
    "if module_path not in sys.path:\n",
    "    sys.path.append(module_path)\n",
    "\n",
    "import warnings\n",
    "warnings.filterwarnings('ignore')\n",
    "import tensorflow.keras.backend as k\n",
    "from tensorflow.keras.models import Sequential\n",
    "from tensorflow.keras.layers import Dense, Flatten, Conv2D, MaxPooling2D, Activation, Dropout\n",
    "import numpy as np\n",
    "import matplotlib.pyplot as plt\n",
    "%matplotlib inline\n",
    "from mpl_toolkits import mplot3d\n",
    "\n",
    "from art.estimators.classification import KerasClassifier\n",
    "from art.attacks.poisoning.perturbations import add_pattern_bd, add_single_bd, insert_image\n",
    "from art.utils import load_mnist, preprocess, to_categorical\n",
    "from art.defences.trainer import AdversarialTrainerMadryPGD\n",
    "\n",
    "import import_ipynb\n",
    "from backdoor_attack_class import BackdoorAttack, PoisoningAttackCleanLabelBackdoor\n",
    "\n",
    "import tensorflow.compat.v1 as tf\n",
    "tf.disable_v2_behavior()"
   ]
  },
  {
   "cell_type": "code",
   "execution_count": 2,
   "metadata": {},
   "outputs": [],
   "source": [
    "(x_raw, y_raw), (x_raw_test, y_raw_test), min_, max_ = load_mnist(raw=True)\n",
    "\n",
    "# Random Selection:\n",
    "n_train = np.shape(x_raw)[0]\n",
    "num_selection = 7500\n",
    "random_selection_indices = np.random.choice(n_train, num_selection)\n",
    "x_raw = x_raw[random_selection_indices]\n",
    "y_raw = y_raw[random_selection_indices]\n",
    "\n",
    "BACKDOOR_TYPE = \"pattern\" # one of ['pattern', 'pixel', 'image']"
   ]
  },
  {
   "cell_type": "code",
   "execution_count": 3,
   "metadata": {},
   "outputs": [],
   "source": [
    "max_val = np.max(x_raw)\n",
    "def add_modification(x):\n",
    "        if BACKDOOR_TYPE == 'pattern':\n",
    "            return add_pattern_bd(x, pixel_value=max_val)\n",
    "        elif BACKDOOR_TYPE == 'pixel':\n",
    "            return add_single_bd(x, pixel_value=max_val) \n",
    "        elif BACKDOOR_TYPE == 'image':\n",
    "            return insert_image(x, backdoor_path='../utils/data/backdoors/alert.png', size=(10,10))\n",
    "        else:\n",
    "            raise(\"Unknown backdoor type\")"
   ]
  },
  {
   "cell_type": "code",
   "execution_count": 4,
   "metadata": {},
   "outputs": [],
   "source": [
    "def attack_dataset(dataset_clean, labels_clean, percent_poison, poison_func):\n",
    "    dataset_attacked = np.copy(dataset_clean)\n",
    "    labels_attacked = np.copy(labels_clean)\n",
    "    is_poison = np.zeros(np.shape(labels_attacked))\n",
    "    \n",
    "    sources = np.array([0])\n",
    "    targets = np.array([1])\n",
    "    for i, (src, tgt) in enumerate(zip(sources, targets)):\n",
    "        n_points_in_tgt = np.size(np.where(labels_clean == tgt))\n",
    "        num_poison = round((percent_poison * n_points_in_tgt) / (1 - percent_poison))\n",
    "        src_imgs = dataset_clean[labels_clean == src]\n",
    "\n",
    "        n_points_in_src = np.shape(src_imgs)[0]\n",
    "        indices_to_be_poisoned = np.random.choice(n_points_in_src, num_poison)\n",
    "\n",
    "        imgs_to_be_poisoned = np.copy(src_imgs[indices_to_be_poisoned])\n",
    "        backdoor_attack = BackdoorAttack(poison_func)\n",
    "        imgs_to_be_poisoned, poison_labels = backdoor_attack.poison(imgs_to_be_poisoned, attack_target_labels=np.ones(num_poison) * tgt)\n",
    "        dataset_attacked = np.append(dataset_attacked, imgs_to_be_poisoned, axis=0)\n",
    "        labels_attacked = np.append(labels_attacked, poison_labels, axis=0)\n",
    "        is_poison = np.append(is_poison, np.ones(num_poison))\n",
    "\n",
    "    is_poison = is_poison != 0\n",
    "\n",
    "    return is_poison, dataset_attacked, labels_attacked"
   ]
  },
  {
   "cell_type": "code",
   "execution_count": 5,
   "metadata": {},
   "outputs": [],
   "source": [
    "# Poison training data\n",
    "percent_poison = .33\n",
    "(is_poison_train, x_poisoned_raw, y_poisoned_raw) = attack_dataset(x_raw, y_raw, percent_poison, add_modification)\n",
    "x_train, y_train = preprocess(x_poisoned_raw, y_poisoned_raw)\n",
    "# Add channel axis:\n",
    "x_train = np.expand_dims(x_train, axis=3)\n",
    "\n",
    "# Poison test data\n",
    "(is_poison_test, x_poisoned_raw_test, y_poisoned_raw_test) = attack_dataset(x_raw_test, y_raw_test, percent_poison, add_modification)\n",
    "x_test, y_test = preprocess(x_poisoned_raw_test, y_poisoned_raw_test)\n",
    "# Add channel axis:\n",
    "x_test = np.expand_dims(x_test, axis=3)\n",
    "\n",
    "# Shuffle training data\n",
    "n_train = np.shape(y_train)[0]\n",
    "shuffled_indices = np.arange(n_train)\n",
    "np.random.shuffle(shuffled_indices)\n",
    "x_train = x_train[shuffled_indices]\n",
    "y_train = y_train[shuffled_indices]"
   ]
  },
  {
   "cell_type": "code",
   "execution_count": 6,
   "metadata": {},
   "outputs": [],
   "source": [
    "# Create Keras convolutional neural network - basic architecture from Keras examples\n",
    "# Source here: https://github.com/keras-team/keras/blob/master/examples/mnist_cnn.py\n",
    "\n",
    "model = Sequential()\n",
    "model.add(Conv2D(32, kernel_size=(3, 3), activation='relu', input_shape=x_train.shape[1:]))\n",
    "model.add(Conv2D(64, (3, 3), activation='relu'))\n",
    "model.add(MaxPooling2D(pool_size=(2, 2)))\n",
    "model.add(Dropout(0.25))\n",
    "model.add(Flatten())\n",
    "model.add(Dense(128, activation='relu'))\n",
    "model.add(Dropout(0.5))\n",
    "model.add(Dense(10, activation='softmax'))\n",
    "\n",
    "model.compile(loss='categorical_crossentropy', optimizer='adam', metrics=['accuracy'])"
   ]
  },
  {
   "cell_type": "code",
   "execution_count": 7,
   "metadata": {},
   "outputs": [
    {
     "name": "stdout",
     "output_type": "stream",
     "text": [
      "WARNING:tensorflow:From C:\\Users\\Xin\\AppData\\Roaming\\Python\\Python37\\site-packages\\art\\estimators\\classification\\keras.py:508: Model.fit_generator (from tensorflow.python.keras.engine.training_v1) is deprecated and will be removed in a future version.\n",
      "Instructions for updating:\n",
      "Please use Model.fit, which supports generators.\n",
      "Epoch 1/3\n",
      "61/61 [==============================] - 1s 14ms/step - batch: 30.0000 - size: 128.0000 - loss: 0.7572 - acc: 0.7617\n",
      "Epoch 2/3\n",
      "61/61 [==============================] - 1s 15ms/step - batch: 30.0000 - size: 128.0000 - loss: 0.2473 - acc: 0.9288\n",
      "Epoch 3/3\n",
      "61/61 [==============================] - 1s 14ms/step - batch: 30.0000 - size: 128.0000 - loss: 0.1573 - acc: 0.9540\n"
     ]
    }
   ],
   "source": [
    "classifier = KerasClassifier(model=model, clip_values=(min_, max_))\n",
    "classifier.fit(x_train, y_train, nb_epochs=3, batch_size=128)"
   ]
  },
  {
   "cell_type": "code",
   "execution_count": 8,
   "metadata": {},
   "outputs": [
    {
     "name": "stdout",
     "output_type": "stream",
     "text": [
      "WARNING:tensorflow:From C:\\Users\\Xin\\AppData\\Local\\Programs\\Python\\Python37\\lib\\site-packages\\tensorflow\\python\\keras\\engine\\training_v1.py:2070: Model.state_updates (from tensorflow.python.keras.engine.training) is deprecated and will be removed in a future version.\n",
      "Instructions for updating:\n",
      "This property should not be used in TensorFlow 2.0, as updates are applied automatically.\n",
      "\n",
      "Clean test set accuracy: 96.69%\n"
     ]
    },
    {
     "data": {
      "image/png": "[encoded data removed]",
      "text/plain": [
       "<Figure size 432x288 with 1 Axes>"
      ]
     },
     "metadata": {
      "needs_background": "light"
     },
     "output_type": "display_data"
    },
    {
     "name": "stdout",
     "output_type": "stream",
     "text": [
      "Prediction: 0\n"
     ]
    }
   ],
   "source": [
    "clean_x_test = x_test[is_poison_test == 0]\n",
    "clean_y_test = y_test[is_poison_test == 0]\n",
    "\n",
    "clean_preds = np.argmax(classifier.predict(clean_x_test), axis=1)\n",
    "clean_correct = np.sum(clean_preds == np.argmax(clean_y_test, axis=1))\n",
    "clean_total = clean_y_test.shape[0]\n",
    "\n",
    "clean_acc = clean_correct / clean_total\n",
    "print(\"\\nClean test set accuracy: %.2f%%\" % (clean_acc * 100))\n",
    "\n",
    "# Display image, label, and prediction for a clean sample to show how the poisoned model classifies a clean sample\n",
    "\n",
    "c = 0 # class to display\n",
    "i = 0 # image of the class to display\n",
    "\n",
    "c_idx = np.where(np.argmax(clean_y_test,1) == c)[0][i] # index of the image in clean arrays\n",
    "\n",
    "plt.imshow(clean_x_test[c_idx].squeeze())\n",
    "plt.show()\n",
    "clean_label = c\n",
    "print(\"Prediction: \" + str(clean_preds[c_idx]))"
   ]
  },
  {
   "cell_type": "code",
   "execution_count": 9,
   "metadata": {},
   "outputs": [
    {
     "data": {
      "image/png": "[encoded data removed]",
      "text/plain": [
       "<Figure size 432x288 with 1 Axes>"
      ]
     },
     "metadata": {
      "needs_background": "light"
     },
     "output_type": "display_data"
    },
    {
     "name": "stdout",
     "output_type": "stream",
     "text": [
      "Prediction: 1\n",
      "\n",
      " Effectiveness of poison: 100.00%\n"
     ]
    }
   ],
   "source": [
    "poison_x_test = x_test[is_poison_test]\n",
    "poison_y_test = y_test[is_poison_test]\n",
    "\n",
    "poison_preds = np.argmax(classifier.predict(poison_x_test), axis=1)\n",
    "poison_correct = np.sum(poison_preds == np.argmax(poison_y_test, axis=1))\n",
    "poison_total = poison_y_test.shape[0]\n",
    "\n",
    "# Display image, label, and prediction for a poisoned image to see the backdoor working\n",
    "\n",
    "c = 1 # class to display\n",
    "i = 0 # image of the class to display\n",
    "\n",
    "c_idx = np.where(np.argmax(poison_y_test,1) == c)[0][i] # index of the image in poison arrays\n",
    "\n",
    "plt.imshow(poison_x_test[c_idx].squeeze())\n",
    "plt.show()\n",
    "poison_label = c\n",
    "print(\"Prediction: \" + str(poison_preds[c_idx]))\n",
    "\n",
    "poison_acc = poison_correct / poison_total\n",
    "print(\"\\n Effectiveness of poison: %.2f%%\" % (poison_acc * 100))"
   ]
  },
  {
   "cell_type": "code",
   "execution_count": 10,
   "metadata": {},
   "outputs": [
    {
     "name": "stdout",
     "output_type": "stream",
     "text": [
      "\n",
      " Overall test set accuracy: 96.87%\n"
     ]
    }
   ],
   "source": [
    "total_correct = clean_correct + poison_correct\n",
    "total = clean_total + poison_total\n",
    "\n",
    "total_acc = total_correct / total\n",
    "print(\"\\n Overall test set accuracy: %.2f%%\" % (total_acc * 100))"
   ]
  },
  {
   "cell_type": "code",
   "execution_count": 11,
   "metadata": {},
   "outputs": [],
   "source": [
    "#Extension\n",
    "\n",
    "x_train, y_train = preprocess(x_raw, y_raw)\n",
    "x_train = np.expand_dims(x_train, axis=3)\n",
    "\n",
    "x_test, y_test = preprocess(x_raw_test, y_raw_test)\n",
    "x_test = np.expand_dims(x_test, axis=3)\n",
    "\n",
    "# Shuffle training data\n",
    "n_train = np.shape(y_train)[0]\n",
    "shuffled_indices = np.arange(n_train)\n",
    "np.random.shuffle(shuffled_indices)\n",
    "x_train = x_train[shuffled_indices]\n",
    "y_train = y_train[shuffled_indices]"
   ]
  },
  {
   "cell_type": "code",
   "execution_count": 12,
   "metadata": {},
   "outputs": [],
   "source": [
    "# Create Keras convolutional neural network - basic architecture from Keras examples\n",
    "# Source here: https://github.com/keras-team/keras/blob/master/examples/mnist_cnn.py\n",
    "def create_model():    \n",
    "    model = Sequential()\n",
    "    model.add(Conv2D(32, kernel_size=(3, 3), activation='relu', input_shape=x_train.shape[1:]))\n",
    "    model.add(Conv2D(64, (3, 3), activation='relu'))\n",
    "    model.add(MaxPooling2D(pool_size=(2, 2)))\n",
    "    model.add(Dropout(0.25))\n",
    "    model.add(Flatten())\n",
    "    model.add(Dense(128, activation='relu'))\n",
    "    model.add(Dropout(0.5))\n",
    "    model.add(Dense(10, activation='softmax'))\n",
    "\n",
    "    model.compile(loss='categorical_crossentropy', optimizer='adam', metrics=['accuracy'])\n",
    "    return model"
   ]
  },
  {
   "cell_type": "code",
   "execution_count": 13,
   "metadata": {},
   "outputs": [
    {
     "data": {
      "text/plain": [
       "<matplotlib.image.AxesImage at 0x2420b5a6c08>"
      ]
     },
     "execution_count": 13,
     "metadata": {},
     "output_type": "execute_result"
    },
    {
     "data": {
      "image/png": "[encoded data removed]",
      "text/plain": [
       "<Figure size 432x288 with 1 Axes>"
      ]
     },
     "metadata": {
      "needs_background": "light"
     },
     "output_type": "display_data"
    }
   ],
   "source": [
    "backdoor = BackdoorAttack(add_pattern_bd)\n",
    "example_target = np.array([0, 0, 0, 0, 0, 0, 0, 0, 0, 1])\n",
    "pdata, plabels = backdoor.poison(x_test, y=example_target)\n",
    "\n",
    "plt.imshow(pdata[0].squeeze())"
   ]
  },
  {
   "cell_type": "code",
   "execution_count": 14,
   "metadata": {},
   "outputs": [],
   "source": [
    "# Poison some percentage of all non-nines to nines\n",
    "targets = to_categorical([9], 10)[0]"
   ]
  },
  {
   "cell_type": "code",
   "execution_count": 15,
   "metadata": {},
   "outputs": [
    {
     "name": "stderr",
     "output_type": "stream",
     "text": [
      "Precompute adv samples: 100%|██████████| 1/1 [00:00<?, ?it/s]\n",
      "Adversarial training epochs: 100%|██████████| 10/10 [01:41<00:00, 10.18s/it]\n"
     ]
    }
   ],
   "source": [
    "model = create_model()\n",
    "model = KerasClassifier(model)\n",
    "proxy = AdversarialTrainerMadryPGD(KerasClassifier(create_model()), nb_epochs=10, eps=0.15, eps_step=0.001)\n",
    "proxy.fit(x_train, y_train)"
   ]
  },
  {
   "cell_type": "code",
   "execution_count": 16,
   "metadata": {},
   "outputs": [
    {
     "name": "stderr",
     "output_type": "stream",
     "text": [
      "PGD - Random Initializations:   0%|          | 0/1 [00:00<?, ?it/s]\n",
      "PGD - Iterations:   0%|          | 0/200 [00:00<?, ?it/s]\u001b[A\n",
      "PGD - Iterations:   1%|          | 2/200 [00:00<00:11, 16.81it/s]\u001b[A\n",
      "PGD - Iterations:   2%|▎         | 5/200 [00:00<00:10, 19.03it/s]\u001b[A\n",
      "PGD - Iterations:   4%|▍         | 8/200 [00:00<00:09, 20.76it/s]\u001b[A\n",
      "PGD - Iterations:   6%|▌         | 11/200 [00:00<00:08, 22.26it/s]\u001b[A\n",
      "PGD - Iterations:   7%|▋         | 14/200 [00:00<00:07, 23.39it/s]\u001b[A\n",
      "PGD - Iterations:   8%|▊         | 17/200 [00:00<00:07, 24.50it/s]\u001b[A\n",
      "PGD - Iterations:  10%|█         | 20/200 [00:00<00:07, 25.33it/s]\u001b[A\n",
      "PGD - Iterations:  12%|█▏        | 23/200 [00:00<00:06, 25.88it/s]\u001b[A\n",
      "PGD - Iterations:  13%|█▎        | 26/200 [00:01<00:06, 26.36it/s]\u001b[A\n",
      "PGD - Iterations:  14%|█▍        | 29/200 [00:01<00:06, 26.62it/s]\u001b[A\n",
      "PGD - Iterations:  16%|█▌        | 32/200 [00:01<00:06, 26.89it/s]\u001b[A\n",
      "PGD - Iterations:  18%|█▊        | 35/200 [00:01<00:06, 26.64it/s]\u001b[A\n",
      "PGD - Iterations:  19%|█▉        | 38/200 [00:01<00:06, 26.83it/s]\u001b[A\n",
      "PGD - Iterations:  20%|██        | 41/200 [00:01<00:05, 27.03it/s]\u001b[A\n",
      "PGD - Iterations:  22%|██▏       | 44/200 [00:01<00:05, 27.18it/s]\u001b[A\n",
      "PGD - Iterations:  24%|██▎       | 47/200 [00:01<00:05, 27.06it/s]\u001b[A\n",
      "PGD - Iterations:  25%|██▌       | 50/200 [00:01<00:05, 27.12it/s]\u001b[A\n",
      "PGD - Iterations:  26%|██▋       | 53/200 [00:01<00:05, 27.17it/s]\u001b[A\n",
      "PGD - Iterations:  28%|██▊       | 56/200 [00:02<00:05, 27.27it/s]\u001b[A\n",
      "PGD - Iterations:  30%|██▉       | 59/200 [00:02<00:05, 27.27it/s]\u001b[A\n",
      "PGD - Iterations:  31%|███       | 62/200 [00:02<00:05, 27.35it/s]\u001b[A\n",
      "PGD - Iterations:  32%|███▎      | 65/200 [00:02<00:04, 27.40it/s]\u001b[A\n",
      "PGD - Iterations:  34%|███▍      | 68/200 [00:02<00:04, 27.21it/s]\u001b[A\n",
      "PGD - Iterations:  36%|███▌      | 71/200 [00:02<00:04, 27.08it/s]\u001b[A\n",
      "PGD - Iterations:  37%|███▋      | 74/200 [00:02<00:04, 27.21it/s]\u001b[A\n",
      "PGD - Iterations:  38%|███▊      | 77/200 [00:02<00:04, 27.23it/s]\u001b[A\n",
      "PGD - Iterations:  40%|████      | 80/200 [00:02<00:04, 27.32it/s]\u001b[A\n",
      "PGD - Iterations:  42%|████▏     | 83/200 [00:03<00:04, 27.23it/s]\u001b[A\n",
      "PGD - Iterations:  43%|████▎     | 86/200 [00:03<00:04, 27.24it/s]\u001b[A\n",
      "PGD - Iterations:  44%|████▍     | 89/200 [00:03<00:04, 27.33it/s]\u001b[A\n",
      "PGD - Iterations:  46%|████▌     | 92/200 [00:03<00:03, 27.46it/s]\u001b[A\n",
      "PGD - Iterations:  48%|████▊     | 95/200 [00:03<00:03, 27.86it/s]\u001b[A\n",
      "PGD - Iterations:  49%|████▉     | 98/200 [00:03<00:03, 27.76it/s]\u001b[A\n",
      "PGD - Iterations:  50%|█████     | 101/200 [00:03<00:03, 27.61it/s]\u001b[A\n",
      "PGD - Iterations:  52%|█████▏    | 104/200 [00:03<00:03, 27.43it/s]\u001b[A\n",
      "PGD - Iterations:  54%|█████▎    | 107/200 [00:03<00:03, 27.46it/s]\u001b[A\n",
      "PGD - Iterations:  55%|█████▌    | 110/200 [00:04<00:03, 27.40it/s]\u001b[A\n",
      "PGD - Iterations:  56%|█████▋    | 113/200 [00:04<00:03, 27.36it/s]\u001b[A\n",
      "PGD - Iterations:  58%|█████▊    | 116/200 [00:04<00:03, 27.41it/s]\u001b[A\n",
      "PGD - Iterations:  60%|█████▉    | 119/200 [00:04<00:02, 27.37it/s]\u001b[A\n",
      "PGD - Iterations:  61%|██████    | 122/200 [00:04<00:02, 27.42it/s]\u001b[A\n",
      "PGD - Iterations:  62%|██████▎   | 125/200 [00:04<00:02, 27.37it/s]\u001b[A\n",
      "PGD - Iterations:  64%|██████▍   | 128/200 [00:04<00:02, 27.19it/s]\u001b[A\n",
      "PGD - Iterations:  66%|██████▌   | 131/200 [00:04<00:02, 27.07it/s]\u001b[A\n",
      "PGD - Iterations:  67%|██████▋   | 134/200 [00:04<00:02, 27.20it/s]\u001b[A\n",
      "PGD - Iterations:  68%|██████▊   | 137/200 [00:05<00:02, 27.22it/s]\u001b[A\n",
      "PGD - Iterations:  70%|███████   | 140/200 [00:05<00:02, 27.24it/s]\u001b[A\n",
      "PGD - Iterations:  72%|███████▏  | 143/200 [00:05<00:02, 27.32it/s]\u001b[A\n",
      "PGD - Iterations:  73%|███████▎  | 146/200 [00:05<00:01, 27.31it/s]\u001b[A\n",
      "PGD - Iterations:  74%|███████▍  | 149/200 [00:05<00:01, 27.37it/s]\u001b[A\n",
      "PGD - Iterations:  76%|███████▌  | 152/200 [00:05<00:01, 27.19it/s]\u001b[A\n",
      "PGD - Iterations:  78%|███████▊  | 155/200 [00:05<00:01, 27.22it/s]\u001b[A\n",
      "PGD - Iterations:  79%|███████▉  | 158/200 [00:05<00:01, 27.23it/s]\u001b[A\n",
      "PGD - Iterations:  80%|████████  | 161/200 [00:05<00:01, 27.17it/s]\u001b[A\n",
      "PGD - Iterations:  82%|████████▏ | 164/200 [00:06<00:01, 27.43it/s]\u001b[A\n",
      "PGD - Iterations:  84%|████████▎ | 167/200 [00:06<00:01, 27.61it/s]\u001b[A\n",
      "PGD - Iterations:  85%|████████▌ | 170/200 [00:06<00:01, 27.43it/s]\u001b[A\n",
      "PGD - Iterations:  86%|████████▋ | 173/200 [00:06<00:00, 27.38it/s]\u001b[A\n",
      "PGD - Iterations:  88%|████████▊ | 176/200 [00:06<00:00, 27.42it/s]\u001b[A\n",
      "PGD - Iterations:  90%|████████▉ | 179/200 [00:06<00:00, 27.23it/s]\u001b[A\n",
      "PGD - Iterations:  91%|█████████ | 182/200 [00:06<00:00, 27.10it/s]\u001b[A\n",
      "PGD - Iterations:  92%|█████████▎| 185/200 [00:06<00:00, 27.22it/s]\u001b[A\n",
      "PGD - Iterations:  94%|█████████▍| 188/200 [00:06<00:00, 27.54it/s]\u001b[A\n",
      "PGD - Iterations:  96%|█████████▌| 191/200 [00:07<00:00, 27.38it/s]\u001b[A\n",
      "PGD - Iterations:  97%|█████████▋| 194/200 [00:07<00:00, 27.35it/s]\u001b[A\n",
      "PGD - Iterations:  98%|█████████▊| 197/200 [00:07<00:00, 27.18it/s]\u001b[A\n",
      "PGD - Iterations: 100%|██████████| 200/200 [00:07<00:00, 27.35it/s]\u001b[A\n",
      "PGD - Random Initializations: 100%|██████████| 1/1 [00:07<00:00,  7.38s/it]\n"
     ]
    }
   ],
   "source": [
    "attack = PoisoningAttackCleanLabelBackdoor(backdoor=backdoor, proxy_classifier=proxy.get_classifier(),\n",
    "                                           target=targets, pp_poison=percent_poison, norm=2, eps=5,\n",
    "                                           eps_step=0.1, max_iter=200)\n",
    "pdata, plabels = attack.poison(x_train, y_train)"
   ]
  },
  {
   "cell_type": "code",
   "execution_count": 17,
   "metadata": {},
   "outputs": [
    {
     "name": "stdout",
     "output_type": "stream",
     "text": [
      "744\n",
      "Label: 9\n"
     ]
    },
    {
     "data": {
      "image/png": "[encoded data removed]",
      "text/plain": [
       "<Figure size 432x288 with 1 Axes>"
      ]
     },
     "metadata": {
      "needs_background": "light"
     },
     "output_type": "display_data"
    }
   ],
   "source": [
    "poisoned = pdata[np.all(plabels == targets, axis=1)]\n",
    "poisoned_labels = plabels[np.all(plabels == targets, axis=1)]\n",
    "print(len(poisoned))\n",
    "idx = 0\n",
    "plt.imshow(poisoned[idx].squeeze())\n",
    "print(f\"Label: {np.argmax(poisoned_labels[idx])}\")"
   ]
  },
  {
   "cell_type": "code",
   "execution_count": 18,
   "metadata": {},
   "outputs": [
    {
     "name": "stdout",
     "output_type": "stream",
     "text": [
      "Epoch 1/10\n",
      "58/58 [==============================] - 1s 14ms/step - batch: 28.5000 - size: 128.0000 - loss: 0.7793 - acc: 0.7539\n",
      "Epoch 2/10\n",
      "58/58 [==============================] - 1s 14ms/step - batch: 28.5000 - size: 128.0000 - loss: 0.2634 - acc: 0.9188\n",
      "Epoch 3/10\n",
      "58/58 [==============================] - 1s 14ms/step - batch: 28.5000 - size: 128.0000 - loss: 0.1607 - acc: 0.9525\n",
      "Epoch 4/10\n",
      "58/58 [==============================] - 1s 14ms/step - batch: 28.5000 - size: 128.0000 - loss: 0.1094 - acc: 0.9667\n",
      "Epoch 5/10\n",
      "58/58 [==============================] - 1s 14ms/step - batch: 28.5000 - size: 128.0000 - loss: 0.0896 - acc: 0.9731\n",
      "Epoch 6/10\n",
      "58/58 [==============================] - 1s 14ms/step - batch: 28.5000 - size: 128.0000 - loss: 0.0749 - acc: 0.9784\n",
      "Epoch 7/10\n",
      "58/58 [==============================] - 1s 14ms/step - batch: 28.5000 - size: 128.0000 - loss: 0.0634 - acc: 0.9794\n",
      "Epoch 8/10\n",
      "58/58 [==============================] - 1s 14ms/step - batch: 28.5000 - size: 128.0000 - loss: 0.0507 - acc: 0.9829\n",
      "Epoch 9/10\n",
      "58/58 [==============================] - 1s 14ms/step - batch: 28.5000 - size: 128.0000 - loss: 0.0431 - acc: 0.9856\n",
      "Epoch 10/10\n",
      "58/58 [==============================] - 1s 14ms/step - batch: 28.5000 - size: 128.0000 - loss: 0.0379 - acc: 0.9877\n"
     ]
    }
   ],
   "source": [
    "model.fit(pdata, plabels, nb_epochs=10)"
   ]
  },
  {
   "cell_type": "code",
   "execution_count": 19,
   "metadata": {},
   "outputs": [
    {
     "name": "stdout",
     "output_type": "stream",
     "text": [
      "\n",
      "Clean test set accuracy: 97.95%\n"
     ]
    },
    {
     "data": {
      "image/png": "[encoded data removed]",
      "text/plain": [
       "<Figure size 432x288 with 1 Axes>"
      ]
     },
     "metadata": {
      "needs_background": "light"
     },
     "output_type": "display_data"
    },
    {
     "name": "stdout",
     "output_type": "stream",
     "text": [
      "Prediction: 0\n"
     ]
    }
   ],
   "source": [
    "clean_preds = np.argmax(model.predict(x_test), axis=1)\n",
    "clean_correct = np.sum(clean_preds == np.argmax(y_test, axis=1))\n",
    "clean_total = y_test.shape[0]\n",
    "\n",
    "clean_acc = clean_correct / clean_total\n",
    "print(\"\\nClean test set accuracy: %.2f%%\" % (clean_acc * 100))\n",
    "\n",
    "# Display image, label, and prediction for a clean sample to show how the poisoned model classifies a clean sample\n",
    "\n",
    "c = 0 # class to display\n",
    "i = 0 # image of the class to display\n",
    "\n",
    "c_idx = np.where(np.argmax(y_test, 1) == c)[0][i] # index of the image in clean arrays\n",
    "\n",
    "plt.imshow(x_test[c_idx].squeeze())\n",
    "plt.show()\n",
    "clean_label = c\n",
    "print(\"Prediction: \" + str(clean_preds[c_idx]))"
   ]
  },
  {
   "cell_type": "code",
   "execution_count": 20,
   "metadata": {
    "scrolled": true
   },
   "outputs": [
    {
     "name": "stdout",
     "output_type": "stream",
     "text": [
      "\n",
      "Poison test set accuracy: 10.50%\n"
     ]
    },
    {
     "data": {
      "image/png": "[encoded data removed]",
      "text/plain": [
       "<Figure size 432x288 with 1 Axes>"
      ]
     },
     "metadata": {
      "needs_background": "light"
     },
     "output_type": "display_data"
    },
    {
     "name": "stdout",
     "output_type": "stream",
     "text": [
      "Prediction: 9\n"
     ]
    }
   ],
   "source": [
    "not_target = np.logical_not(np.all(y_test == targets, axis=1))\n",
    "px_test, py_test = backdoor.poison(x_test[not_target], y_test[not_target])\n",
    "\n",
    "poison_preds = np.argmax(model.predict(px_test), axis=1)\n",
    "#poison_correct = np.sum(poison_preds == np.argmax(py_test, axis=1))\n",
    "#poison_total = py_test.shape[0]`155\n",
    "\n",
    "clean_correct = np.sum(poison_preds == np.argmax(y_test[not_target], axis=1))\n",
    "clean_total = y_test.shape[0]\n",
    "\n",
    "clean_acc = clean_correct / clean_total\n",
    "print(\"\\nPoison test set accuracy: %.2f%%\" % (clean_acc * 100))\n",
    "\n",
    "c = 0 # index to display\n",
    "plt.imshow(px_test[c].squeeze())\n",
    "plt.show()\n",
    "clean_label = c\n",
    "print(\"Prediction: \" + str(poison_preds[c]))"
   ]
  },
  {
   "cell_type": "code",
   "execution_count": 21,
   "metadata": {
    "scrolled": true
   },
   "outputs": [
    {
     "name": "stderr",
     "output_type": "stream",
     "text": [
      "Generating backdoor for class 0: 100%|██████████| 10/10 [00:13<00:00,  1.39s/it]\n",
      "Generating backdoor for class 1: 100%|██████████| 10/10 [00:13<00:00,  1.38s/it]\n",
      "Generating backdoor for class 2: 100%|██████████| 10/10 [00:13<00:00,  1.37s/it]\n",
      "Generating backdoor for class 3: 100%|██████████| 10/10 [00:13<00:00,  1.37s/it]\n",
      "Generating backdoor for class 4: 100%|██████████| 10/10 [00:13<00:00,  1.37s/it]\n",
      "Generating backdoor for class 5: 100%|██████████| 10/10 [00:13<00:00,  1.38s/it]\n",
      "Generating backdoor for class 6: 100%|██████████| 10/10 [00:13<00:00,  1.37s/it]\n",
      "Generating backdoor for class 7: 100%|██████████| 10/10 [00:13<00:00,  1.37s/it]\n",
      "Generating backdoor for class 8: 100%|██████████| 10/10 [00:13<00:00,  1.37s/it]\n",
      "Generating backdoor for class 9: 100%|██████████| 10/10 [00:13<00:00,  1.37s/it]\n"
     ]
    },
    {
     "name": "stdout",
     "output_type": "stream",
     "text": [
      "4157\n",
      "4157/4157 [==============================] - 16s 4ms/step - batch: 2078.0000 - size: 1.0000 - loss: 0.0314 - acc: 0.9942\n",
      "\n",
      " Effectiveness of poison after unlearning: 48.94%\n",
      "\n",
      " Clean test set accuracy: 48.02%\n"
     ]
    }
   ],
   "source": [
    "import defence.retraining as retrain\n",
    "# print(len(clean_x_test))\n",
    "backdoor_data, backdoor_labels = retrain.ganSample(classifier, clean_x_test, clean_y_test)\n",
    "print(len(backdoor_data))\n",
    "retrain.retrain(model, backdoor_data, backdoor_labels)\n",
    "retrain.result(model, clean_x_test, clean_y_test, px_test, py_test)"
   ]
  },
  {
   "cell_type": "code",
   "execution_count": null,
   "metadata": {},
   "outputs": [],
   "source": []
  }
 ],
 "metadata": {
  "kernelspec": {
   "display_name": "Python 3",
   "language": "python",
   "name": "python3"
  },
  "language_info": {
   "codemirror_mode": {
    "name": "ipython",
    "version": 3
   },
   "file_extension": ".py",
   "mimetype": "text/x-python",
   "name": "python",
   "nbconvert_exporter": "python",
   "pygments_lexer": "ipython3",
   "version": "3.7.5"
  }
 },
 "nbformat": 4,
 "nbformat_minor": 2
}
