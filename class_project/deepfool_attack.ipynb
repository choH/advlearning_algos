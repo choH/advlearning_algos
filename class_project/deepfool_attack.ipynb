{
 "cells": [
  {
   "cell_type": "markdown",
   "metadata": {},
   "source": [
    "## MNIST"
   ]
  },
  {
   "cell_type": "code",
   "execution_count": 1,
   "metadata": {},
   "outputs": [],
   "source": [
    "from __future__ import absolute_import, division, print_function, unicode_literals\n",
    "\n",
    "import sys\n",
    "sys.path.append(\"..\")\n",
    "\n",
    "%matplotlib inline\n",
    "\n",
    "import numpy as np\n",
    "\n",
    "from sklearn.metrics import classification_report\n",
    "\n",
    "import keras\n",
    "from keras import metrics\n",
    "from keras.preprocessing import image\n",
    "from keras.applications.resnet50 import ResNet50, preprocess_input\n",
    "from keras.layers import Dense, Flatten\n",
    "from keras.models import Model, load_model\n",
    "import keras.backend as k\n",
    "from matplotlib import pyplot as plt\n",
    "from IPython.display import clear_output\n",
    "\n",
    "from art.config import ART_DATA_PATH\n",
    "from art.estimators.classification import KerasClassifier\n",
    "from art.utils import to_categorical, load_dataset, get_file\n",
    "\n",
    "import warnings\n",
    "warnings.filterwarnings('ignore')\n",
    "import tensorflow as tf\n",
    "tf.compat.v1.disable_eager_execution()\n",
    "tf.compat.v1.logging.set_verbosity(tf.compat.v1.logging.ERROR)\n",
    "\n",
    "from deepfool import DeepFool"
   ]
  },
  {
   "cell_type": "markdown",
   "metadata": {},
   "source": [
    "## MNIST"
   ]
  },
  {
   "cell_type": "code",
   "execution_count": 3,
   "metadata": {},
   "outputs": [
    {
     "name": "stdout",
     "output_type": "stream",
     "text": [
      "468/468 [==============================] - 4s 8ms/step - batch: 233.5000 - size: 128.0000 - loss: 6.1557e-04 - tp: 59899.0000 - fp: 5.0000 - tn: 539131.0000 - fn: 5.0000 - categorical_accuracy: 0.9999 - precision: 0.9999 - recall: 0.9999 - auc: 1.0000\n"
     ]
    }
   ],
   "source": [
    "(x_train, y_train), (x_test, y_test), min_, max_ = load_dataset('mnist')\n",
    "\n",
    "path = get_file('mnist_cnn_original.h5', extract=False, path=ART_DATA_PATH,\n",
    "                url='https://www.dropbox.com/s/p2nyzne9chcerid/mnist_cnn_original.h5?dl=1')\n",
    "\n",
    "METRICS = [\n",
    "      keras.metrics.TruePositives(name='tp'),\n",
    "      keras.metrics.FalsePositives(name='fp'),\n",
    "      keras.metrics.TrueNegatives(name='tn'),\n",
    "      keras.metrics.FalseNegatives(name='fn'), \n",
    "      keras.metrics.CategoricalAccuracy(name='categorical_accuracy'),\n",
    "      keras.metrics.Precision(name='precision'),\n",
    "      keras.metrics.Recall(name='recall'),\n",
    "      keras.metrics.AUC(name='auc'),\n",
    "]\n",
    "\n",
    "classifier_model = load_model(path)\n",
    "classifier = KerasClassifier(clip_values=(min_, max_), model=classifier_model, use_logits=True)\n",
    "classifier_model.compile(loss='categorical_crossentropy', optimizer='adam', metrics=METRICS)\n",
    "history = classifier.fit(x_train, y_train, nb_epochs=1, batch_size=128, verbose=1)"
   ]
  },
  {
   "cell_type": "code",
   "execution_count": 4,
   "metadata": {},
   "outputs": [
    {
     "name": "stdout",
     "output_type": "stream",
     "text": [
      "Model: \"sequential_1\"\n",
      "_________________________________________________________________\n",
      "Layer (type)                 Output Shape              Param #   \n",
      "=================================================================\n",
      "conv2d_1 (Conv2D)            (None, 26, 26, 32)        320       \n",
      "_________________________________________________________________\n",
      "max_pooling2d_1 (MaxPooling2 (None, 13, 13, 32)        0         \n",
      "_________________________________________________________________\n",
      "conv2d_2 (Conv2D)            (None, 11, 11, 64)        18496     \n",
      "_________________________________________________________________\n",
      "max_pooling2d_2 (MaxPooling2 (None, 5, 5, 64)          0         \n",
      "_________________________________________________________________\n",
      "flatten_1 (Flatten)          (None, 1600)              0         \n",
      "_________________________________________________________________\n",
      "dense_1 (Dense)              (None, 128)               204928    \n",
      "_________________________________________________________________\n",
      "dense_2 (Dense)              (None, 10)                1290      \n",
      "=================================================================\n",
      "Total params: 225,034\n",
      "Trainable params: 225,034\n",
      "Non-trainable params: 0\n",
      "_________________________________________________________________\n"
     ]
    }
   ],
   "source": [
    "classifier_model.summary()\n",
    "pred = classifier.predict(x_test)\n",
    "x_test_pred = np.argmax(pred, axis=1)\n",
    "nb_correct_pred = np.sum(x_test_pred == np.argmax(y_test, axis=1))\n",
    "accuracy = np.mean(np.argmax(pred, axis=1) == np.argmax(y_test, axis=1))"
   ]
  },
  {
   "cell_type": "code",
   "execution_count": 5,
   "metadata": {},
   "outputs": [
    {
     "name": "stdout",
     "output_type": "stream",
     "text": [
      "---Original test images---:\n",
      "Correctly classified: 9918\n",
      "Accuracy on test samples: 0.991800\n"
     ]
    }
   ],
   "source": [
    "print(f\"---Original test images---:\")\n",
    "print(\"Correctly classified: {}\".format(nb_correct_pred))\n",
    "print(\"Accuracy on test samples: %f\" % accuracy)"
   ]
  },
  {
   "cell_type": "code",
   "execution_count": 7,
   "metadata": {},
   "outputs": [
    {
     "name": "stderr",
     "output_type": "stream",
     "text": [
      "Targeted model should output logits, not probabilities for predictions.\n",
      "DeepFool: 100%|██████████| 100/100 [00:47<00:00,  2.11it/s]\n"
     ]
    }
   ],
   "source": [
    "num = 100\n",
    "attacker = DeepFool(classifier)\n",
    "x_test_adv = attacker.generate(x_test[:num])"
   ]
  },
  {
   "cell_type": "code",
   "execution_count": 8,
   "metadata": {},
   "outputs": [
    {
     "name": "stdout",
     "output_type": "stream",
     "text": [
      "0.9199999999999999\n"
     ]
    }
   ],
   "source": [
    "preds = np.argmax(classifier.predict(x_test_adv), axis=1)\n",
    "acc = np.sum(preds == np.argmax(y_test[:num], axis=1)) / y_test.shape[0]\n",
    "print(acc*100)"
   ]
  },
  {
   "cell_type": "code",
   "execution_count": 17,
   "metadata": {},
   "outputs": [
    {
     "name": "stdout",
     "output_type": "stream",
     "text": [
      "Original test data (first 100 images):\n",
      "Correctly classified: 92\n",
      "Incorrectly classified: 8\n"
     ]
    },
    {
     "data": {
      "image/png": "[encoded data removed]",
      "text/plain": [
       "<Figure size 576x576 with 1 Axes>"
      ]
     },
     "metadata": {
      "needs_background": "light"
     },
     "output_type": "display_data"
    },
    {
     "data": {
      "image/png": "[encoded data removed]",
      "text/plain": [
       "<Figure size 576x576 with 1 Axes>"
      ]
     },
     "metadata": {
      "needs_background": "light"
     },
     "output_type": "display_data"
    },
    {
     "name": "stdout",
     "output_type": "stream",
     "text": [
      "Adversarial test data (first 100 images):\n",
      "Correctly classified: 94\n",
      "Incorrectly classified: 6\n",
      "Classified as targeted label: 15\n",
      "\n",
      "\n"
     ]
    }
   ],
   "source": [
    "x_test_pred = np.argmax(classifier.predict(x_test_adv[:num]), axis=1)\n",
    "nb_correct_pred = np.sum(x_test_pred == np.argmax(y_test[:num], axis=1))\n",
    "print(f\"Original test data (first {num} images):\")\n",
    "print(\"Correctly classified: {}\".format(nb_correct_pred))\n",
    "print(\"Incorrectly classified: {}\".format(num-nb_correct_pred))\n",
    "\n",
    "from defence.SSmoothing import SpatialS\n",
    "img = []\n",
    "\n",
    "plt.figure(figsize=(8,8)); plt.imshow(x_test_adv[0]); plt.axis('off'); plt.show()\n",
    "\n",
    "for i in range(len(x_test_adv)):\n",
    "    x_dev_def = SpatialS(np.moveaxis(x_test_adv[i], 2, 0), window_size=3, way=\"mean\")\n",
    "    img.append(np.moveaxis(x_dev_def, 0, 2))\n",
    "    \n",
    "x_dev_def = np.array(img)\n",
    "\n",
    "plt.figure(figsize=(8,8)); plt.imshow(x_dev_def[0]); plt.axis('off'); plt.show()\n",
    "\n",
    "x_test_adv_pred = np.argmax(classifier.predict(x_dev_def), axis=1)\n",
    "nb_correct_adv_pred = np.sum(x_test_adv_pred == np.argmax(y_test[:num], axis=1))\n",
    "print(f\"Adversarial test data (first {num} images):\")\n",
    "print(\"Correctly classified: {}\".format(nb_correct_adv_pred))\n",
    "print(\"Incorrectly classified: {}\".format(num-nb_correct_adv_pred))\n",
    "nb_preb_as_tar = np.count_nonzero(x_test_adv_pred == np.argmax(y_test[:num], axis=1)[0])\n",
    "print(f\"Classified as targeted label: {nb_preb_as_tar}\\n\\n\")"
   ]
  },
  {
   "cell_type": "code",
   "execution_count": 18,
   "metadata": {},
   "outputs": [
    {
     "name": "stderr",
     "output_type": "stream",
     "text": [
      "Targeted model should output logits, not probabilities for predictions.\n",
      "DeepFool: 100%|██████████| 100/100 [00:49<00:00,  2.03it/s]\n"
     ]
    },
    {
     "name": "stdout",
     "output_type": "stream",
     "text": [
      "Train on 200 samples\n",
      "Epoch 1/20\n",
      "200/200 [==============================] - 0s 5us/sample - loss: 7.3619 - accuracy: 0.4950\n",
      "Epoch 2/20\n",
      "200/200 [==============================] - 0s 5us/sample - loss: 7.4908 - accuracy: 0.4925\n",
      "Epoch 3/20\n",
      "200/200 [==============================] - 0s 5us/sample - loss: 7.4952 - accuracy: 0.5000\n",
      "Epoch 4/20\n",
      "200/200 [==============================] - 0s 5us/sample - loss: 7.5569 - accuracy: 0.5025\n",
      "Epoch 5/20\n",
      "200/200 [==============================] - 0s 5us/sample - loss: 7.4537 - accuracy: 0.5025\n",
      "Epoch 6/20\n",
      "200/200 [==============================] - 0s 0s/sample - loss: 7.4767 - accuracy: 0.5050\n",
      "Epoch 7/20\n",
      "200/200 [==============================] - 0s 5us/sample - loss: 7.4805 - accuracy: 0.5050\n",
      "Epoch 8/20\n",
      "200/200 [==============================] - 0s 5us/sample - loss: 7.5120 - accuracy: 0.5050\n",
      "Epoch 9/20\n",
      "200/200 [==============================] - 0s 5us/sample - loss: 7.5105 - accuracy: 0.5050\n",
      "Epoch 10/20\n",
      "200/200 [==============================] - 0s 5us/sample - loss: 7.4776 - accuracy: 0.5050\n",
      "Epoch 11/20\n",
      "200/200 [==============================] - 0s 5us/sample - loss: 7.5450 - accuracy: 0.5050\n",
      "Epoch 12/20\n",
      "200/200 [==============================] - 0s 5us/sample - loss: 7.5221 - accuracy: 0.5050\n",
      "Epoch 13/20\n",
      "200/200 [==============================] - 0s 5us/sample - loss: 7.5836 - accuracy: 0.5025\n",
      "Epoch 14/20\n",
      "200/200 [==============================] - 0s 5us/sample - loss: 7.6147 - accuracy: 0.5050\n",
      "Epoch 15/20\n",
      "200/200 [==============================] - 0s 5us/sample - loss: 7.6147 - accuracy: 0.5050\n",
      "Epoch 16/20\n",
      "200/200 [==============================] - 0s 5us/sample - loss: 7.6147 - accuracy: 0.5050\n",
      "Epoch 17/20\n",
      "200/200 [==============================] - 0s 5us/sample - loss: 7.6147 - accuracy: 0.5050\n",
      "Epoch 18/20\n",
      "200/200 [==============================] - 0s 5us/sample - loss: 7.6147 - accuracy: 0.5050\n",
      "Epoch 19/20\n",
      "200/200 [==============================] - 0s 0s/sample - loss: 7.6147 - accuracy: 0.5050\n",
      "Epoch 20/20\n",
      "200/200 [==============================] - 0s 5us/sample - loss: 7.6147 - accuracy: 0.5050\n",
      "Adversarial test data (first 100 images):\n",
      "Flagged: 44\n",
      "Not flagged: 56\n",
      "Original test data (first 100 images):\n",
      "Flagged: 41\n",
      "Not flagged: 59\n"
     ]
    },
    {
     "data": {
      "text/plain": [
       "0"
      ]
     },
     "execution_count": 18,
     "metadata": {},
     "output_type": "execute_result"
    }
   ],
   "source": [
    "import defence.detector as detector\n",
    "x_train_adv = attacker.generate(x_train[:100]) \n",
    "dmodel = detector.build_detector(classifier_model)\n",
    "detector.train(dmodel, x_train[:100], x_train_adv)\n",
    "detector.result(dmodel, x_test, x_test_adv)"
   ]
  },
  {
   "cell_type": "markdown",
   "metadata": {},
   "source": [
    "## CFAIR-10"
   ]
  },
  {
   "cell_type": "code",
   "execution_count": 19,
   "metadata": {},
   "outputs": [],
   "source": [
    "import logging\n",
    "\n",
    "from keras.models import Sequential\n",
    "from keras.layers import Dense, Flatten, Conv2D, MaxPooling2D, Activation, Dropout"
   ]
  },
  {
   "cell_type": "code",
   "execution_count": 20,
   "metadata": {},
   "outputs": [],
   "source": [
    "logger = logging.getLogger()\n",
    "logger.setLevel(logging.INFO)\n",
    "handler = logging.StreamHandler()\n",
    "formatter = logging.Formatter(\"[%(levelname)s] %(message)s\")\n",
    "handler.setFormatter(formatter)\n",
    "logger.addHandler(handler)"
   ]
  },
  {
   "cell_type": "code",
   "execution_count": 21,
   "metadata": {},
   "outputs": [],
   "source": [
    "(x_train, y_train), (x_test, y_test), min_, max_ = load_dataset(str(\"cifar10\"))\n",
    "x_train, y_train = x_train[:5000], y_train[:5000]\n",
    "x_test, y_test = x_test[:500], y_test[:500]"
   ]
  },
  {
   "cell_type": "code",
   "execution_count": 22,
   "metadata": {},
   "outputs": [],
   "source": [
    "METRICS = [\n",
    "      keras.metrics.TruePositives(name='tp'),\n",
    "      keras.metrics.FalsePositives(name='fp'),\n",
    "      keras.metrics.TrueNegatives(name='tn'),\n",
    "      keras.metrics.FalseNegatives(name='fn'), \n",
    "      keras.metrics.CategoricalAccuracy(name='categorical_accuracy'),\n",
    "      keras.metrics.Precision(name='precision'),\n",
    "      keras.metrics.Recall(name='recall'),\n",
    "      keras.metrics.AUC(name='auc'),\n",
    "]\n",
    "\n",
    "model = Sequential()\n",
    "model.add(Conv2D(32, (3, 3), padding=\"same\", input_shape=x_train.shape[1:]))\n",
    "model.add(Activation(\"relu\"))\n",
    "model.add(Conv2D(32, (3, 3)))\n",
    "model.add(Activation(\"relu\"))\n",
    "model.add(MaxPooling2D(pool_size=(2, 2)))\n",
    "model.add(Dropout(0.25))\n",
    "\n",
    "model.add(Conv2D(64, (3, 3), padding=\"same\"))\n",
    "model.add(Activation(\"relu\"))\n",
    "model.add(Conv2D(64, (3, 3)))\n",
    "model.add(Activation(\"relu\"))\n",
    "model.add(MaxPooling2D(pool_size=(2, 2)))\n",
    "model.add(Dropout(0.25))\n",
    "\n",
    "model.add(Flatten())\n",
    "model.add(Dense(512))\n",
    "model.add(Activation(\"relu\"))\n",
    "model.add(Dropout(0.5))\n",
    "model.add(Dense(10))\n",
    "model.add(Activation(\"softmax\"))\n",
    "\n",
    "model.compile(loss=\"categorical_crossentropy\", optimizer=\"adam\", metrics=METRICS)"
   ]
  },
  {
   "cell_type": "code",
   "execution_count": 23,
   "metadata": {},
   "outputs": [
    {
     "name": "stderr",
     "output_type": "stream",
     "text": [
      "[INFO] Inferred 17 hidden layers on Keras classifier.\n"
     ]
    },
    {
     "name": "stdout",
     "output_type": "stream",
     "text": [
      "Epoch 1/10\n",
      "39/39 [==============================] - 1s 24ms/step - batch: 19.0000 - size: 128.0000 - loss: 2.1693 - tp: 41.0000 - fp: 47.0000 - tn: 44881.0000 - fn: 4951.0000 - categorical_accuracy: 0.1831 - precision: 0.4659 - recall: 0.0082 - auc: 0.6510- ETA: 0s - batch: 16.0000 - size: 128.0000 - loss: 2.1923 - tp: 29.0000 - fp: 41.0000 - tn: 37975.0000 - fn: 4195.0000 - categorical_accuracy: 0.1742 - precision: 0.4143 - recall: 0.0069 - auc: \n",
      "Epoch 2/10\n",
      "39/39 [==============================] - 1s 24ms/step - batch: 19.0000 - size: 128.0000 - loss: 1.8778 - tp: 203.0000 - fp: 192.0000 - tn: 44736.0000 - fn: 4789.0000 - categorical_accuracy: 0.3101 - precision: 0.5139 - recall: 0.0407 - auc: 0.7826\n",
      "Epoch 3/10\n",
      "39/39 [==============================] - 1s 24ms/step - batch: 19.0000 - size: 128.0000 - loss: 1.6996 - tp: 509.0000 - fp: 384.0000 - tn: 44544.0000 - fn: 4483.0000 - categorical_accuracy: 0.3744 - precision: 0.5700 - recall: 0.1020 - auc: 0.8286\n",
      "Epoch 4/10\n",
      "39/39 [==============================] - 1s 24ms/step - batch: 19.0000 - size: 128.0000 - loss: 1.6124 - tp: 733.0000 - fp: 448.0000 - tn: 44480.0000 - fn: 4259.0000 - categorical_accuracy: 0.4171 - precision: 0.6207 - recall: 0.1468 - auc: 0.8472\n",
      "Epoch 5/10\n",
      "39/39 [==============================] - 1s 24ms/step - batch: 19.0000 - size: 128.0000 - loss: 1.5310 - tp: 916.0000 - fp: 522.0000 - tn: 44406.0000 - fn: 4076.0000 - categorical_accuracy: 0.4413 - precision: 0.6370 - recall: 0.1835 - auc: 0.8643\n",
      "Epoch 6/10\n",
      "39/39 [==============================] - 1s 24ms/step - batch: 19.0000 - size: 128.0000 - loss: 1.4157 - tp: 1299.0000 - fp: 664.0000 - tn: 44264.0000 - fn: 3693.0000 - categorical_accuracy: 0.4898 - precision: 0.6617 - recall: 0.2602 - auc: 0.8852\n",
      "Epoch 7/10\n",
      "39/39 [==============================] - 1s 25ms/step - batch: 19.0000 - size: 128.0000 - loss: 1.3472 - tp: 1439.0000 - fp: 652.0000 - tn: 44276.0000 - fn: 3553.0000 - categorical_accuracy: 0.5026 - precision: 0.6882 - recall: 0.2883 - auc: 0.8972\n",
      "Epoch 8/10\n",
      "39/39 [==============================] - 1s 24ms/step - batch: 19.0000 - size: 128.0000 - loss: 1.3241 - tp: 1598.0000 - fp: 671.0000 - tn: 44257.0000 - fn: 3394.0000 - categorical_accuracy: 0.5228 - precision: 0.7043 - recall: 0.3201 - auc: 0.9003\n",
      "Epoch 9/10\n",
      "39/39 [==============================] - 1s 24ms/step - batch: 19.0000 - size: 128.0000 - loss: 1.2404 - tp: 1817.0000 - fp: 762.0000 - tn: 44166.0000 - fn: 3175.0000 - categorical_accuracy: 0.5493 - precision: 0.7045 - recall: 0.3640 - auc: 0.9132\n",
      "Epoch 10/10\n",
      "39/39 [==============================] - 1s 24ms/step - batch: 19.0000 - size: 128.0000 - loss: 1.2010 - tp: 1904.0000 - fp: 721.0000 - tn: 44207.0000 - fn: 3088.0000 - categorical_accuracy: 0.5795 - precision: 0.7253 - recall: 0.3814 - auc: 0.9186\n"
     ]
    }
   ],
   "source": [
    "classifier = KerasClassifier(model=model, clip_values=(min_, max_))\n",
    "classifier.fit(x_train, y_train, nb_epochs=10, batch_size=128, verbose=1)"
   ]
  },
  {
   "cell_type": "code",
   "execution_count": 24,
   "metadata": {},
   "outputs": [
    {
     "name": "stderr",
     "output_type": "stream",
     "text": [
      "[INFO] Create DeepFool attack\n",
      "[INFO] Craft attack test examples\n",
      "[WARNING] Targeted model should output logits, not probabilities for predictions.\n",
      "DeepFool: 100%|██████████| 500/500 [01:32<00:00,  5.38it/s]\n",
      "[INFO] DeepFool attack success rate: 87.20%\n"
     ]
    }
   ],
   "source": [
    "logger.info(\"Create DeepFool attack\")\n",
    "adv_crafter = DeepFool(classifier)\n",
    "#logger.info(\"Craft attack on training examples\")\n",
    "#x_train_adv = adv_crafter.generate(x_train)\n",
    "logger.info(\"Craft attack test examples\")\n",
    "x_test_adv = adv_crafter.generate(x_test)"
   ]
  },
  {
   "cell_type": "code",
   "execution_count": 25,
   "metadata": {
    "scrolled": true
   },
   "outputs": [
    {
     "name": "stderr",
     "output_type": "stream",
     "text": [
      "[INFO] Classifier before adversarial training\n",
      "[INFO] Accuracy on adversarial samples: 22.80%\n"
     ]
    },
    {
     "data": {
      "text/plain": [
       "[1.650936632156372,\n",
       " 6.0,\n",
       " 66.0,\n",
       " 4434.0,\n",
       " 494.0,\n",
       " 0.228,\n",
       " 0.083333336,\n",
       " 0.012,\n",
       " 0.84594625]"
      ]
     },
     "execution_count": 25,
     "metadata": {},
     "output_type": "execute_result"
    }
   ],
   "source": [
    "preds = np.argmax(classifier.predict(x_test_adv), axis=1)\n",
    "acc = np.sum(preds == np.argmax(y_test, axis=1)) / y_test.shape[0]\n",
    "logger.info(\"Classifier before adversarial training\")\n",
    "logger.info(\"Accuracy on adversarial samples: %.2f%%\", (acc * 100))\n",
    "classifier.model.evaluate(x_test_adv, y_test, verbose=1)"
   ]
  },
  {
   "cell_type": "code",
   "execution_count": 30,
   "metadata": {},
   "outputs": [
    {
     "name": "stdout",
     "output_type": "stream",
     "text": [
      "Original test data (first 500 images):\n",
      "Correctly classified: 114\n",
      "Incorrectly classified: 386\n"
     ]
    },
    {
     "data": {
      "image/png": "[encoded data removed]",
      "text/plain": [
       "<Figure size 576x576 with 1 Axes>"
      ]
     },
     "metadata": {
      "needs_background": "light"
     },
     "output_type": "display_data"
    },
    {
     "data": {
      "image/png": "[encoded data removed]",
      "text/plain": [
       "<Figure size 576x576 with 1 Axes>"
      ]
     },
     "metadata": {
      "needs_background": "light"
     },
     "output_type": "display_data"
    },
    {
     "name": "stdout",
     "output_type": "stream",
     "text": [
      "Adversarial test data (first 500 images):\n",
      "Correctly classified: 167\n",
      "Incorrectly classified: 333\n"
     ]
    }
   ],
   "source": [
    "num = 500\n",
    "x_test_pred = np.argmax(classifier.predict(x_test_adv[:num]), axis=1)\n",
    "nb_correct_pred = np.sum(x_test_pred == np.argmax(y_test[:num], axis=1))\n",
    "print(f\"Original test data (first {num} images):\")\n",
    "print(\"Correctly classified: {}\".format(nb_correct_pred))\n",
    "print(\"Incorrectly classified: {}\".format(num-nb_correct_pred))\n",
    "\n",
    "from defence.SSmoothing import SpatialS\n",
    "img = []\n",
    "\n",
    "plt.figure(figsize=(8,8)); plt.imshow(x_test_adv[0]); plt.axis('off'); plt.show()\n",
    "\n",
    "for i in range(len(x_test_adv)):\n",
    "    x_dev_def = SpatialS(np.moveaxis(x_test_adv[i], 2, 0), window_size=3, way=\"0.5mean\")\n",
    "    img.append(np.moveaxis(x_dev_def, 0, 2))\n",
    "    \n",
    "x_dev_def = np.array(img)\n",
    "\n",
    "plt.figure(figsize=(8,8)); plt.imshow(x_dev_def[0]); plt.axis('off'); plt.show()\n",
    "\n",
    "x_test_adv_pred = np.argmax(classifier.predict(x_dev_def), axis=1)\n",
    "nb_correct_adv_pred = np.sum(x_test_adv_pred == np.argmax(y_test[:num], axis=1))\n",
    "print(f\"Adversarial test data (first {num} images):\")\n",
    "print(\"Correctly classified: {}\".format(nb_correct_adv_pred))\n",
    "print(\"Incorrectly classified: {}\".format(num-nb_correct_adv_pred))"
   ]
  },
  {
   "cell_type": "code",
   "execution_count": 33,
   "metadata": {},
   "outputs": [
    {
     "name": "stderr",
     "output_type": "stream",
     "text": [
      "[WARNING] Targeted model should output logits, not probabilities for predictions.\n",
      "DeepFool: 100%|██████████| 500/500 [00:22<00:00, 22.07it/s]\n",
      "[INFO] DeepFool attack success rate: 91.20%\n"
     ]
    },
    {
     "name": "stdout",
     "output_type": "stream",
     "text": [
      "Train on 1000 samples\n",
      "Epoch 1/20\n",
      "1000/1000 [==============================] - 0s 162us/sample - loss: 7.7223 - accuracy: 0.4975\n",
      "Epoch 2/20\n",
      "1000/1000 [==============================] - 0s 157us/sample - loss: 7.6895 - accuracy: 0.5000\n",
      "Epoch 3/20\n",
      "1000/1000 [==============================] - 0s 153us/sample - loss: 7.6895 - accuracy: 0.5000\n",
      "Epoch 4/20\n",
      "1000/1000 [==============================] - 0s 152us/sample - loss: 7.6818 - accuracy: 0.5005\n",
      "Epoch 5/20\n",
      "1000/1000 [==============================] - 0s 152us/sample - loss: 7.6904 - accuracy: 0.4995\n",
      "Epoch 6/20\n",
      "1000/1000 [==============================] - 0s 153us/sample - loss: 7.6895 - accuracy: 0.5000\n",
      "Epoch 7/20\n",
      "1000/1000 [==============================] - 0s 153us/sample - loss: 7.6902 - accuracy: 0.4995\n",
      "Epoch 8/20\n",
      "1000/1000 [==============================] - 0s 151us/sample - loss: 7.6895 - accuracy: 0.5000\n",
      "Epoch 9/20\n",
      "1000/1000 [==============================] - 0s 152us/sample - loss: 7.6895 - accuracy: 0.5000\n",
      "Epoch 10/20\n",
      "1000/1000 [==============================] - 0s 151us/sample - loss: 7.6895 - accuracy: 0.5000\n",
      "Epoch 11/20\n",
      "1000/1000 [==============================] - 0s 152us/sample - loss: 7.6895 - accuracy: 0.5000\n",
      "Epoch 12/20\n",
      "1000/1000 [==============================] - 0s 154us/sample - loss: 7.6895 - accuracy: 0.5000\n",
      "Epoch 13/20\n",
      "1000/1000 [==============================] - 0s 154us/sample - loss: 7.6895 - accuracy: 0.5000\n",
      "Epoch 14/20\n",
      "1000/1000 [==============================] - 0s 152us/sample - loss: 7.6895 - accuracy: 0.5000\n",
      "Epoch 15/20\n",
      "1000/1000 [==============================] - 0s 155us/sample - loss: 7.6895 - accuracy: 0.5000\n",
      "Epoch 16/20\n",
      "1000/1000 [==============================] - 0s 153us/sample - loss: 7.6895 - accuracy: 0.5000\n",
      "Epoch 17/20\n",
      "1000/1000 [==============================] - 0s 153us/sample - loss: 7.6895 - accuracy: 0.5000\n",
      "Epoch 18/20\n",
      "1000/1000 [==============================] - 0s 151us/sample - loss: 7.6895 - accuracy: 0.5000\n",
      "Epoch 19/20\n",
      "1000/1000 [==============================] - 0s 152us/sample - loss: 7.6895 - accuracy: 0.5000\n",
      "Epoch 20/20\n",
      "1000/1000 [==============================] - 0s 152us/sample - loss: 7.6895 - accuracy: 0.5000\n",
      "Adversarial test data (first 100 images):\n",
      "Flagged: 0\n",
      "Not flagged: 100\n",
      "Original test data (first 100 images):\n",
      "Flagged: 0\n",
      "Not flagged: 100\n"
     ]
    },
    {
     "data": {
      "text/plain": [
       "0"
      ]
     },
     "execution_count": 33,
     "metadata": {},
     "output_type": "execute_result"
    }
   ],
   "source": [
    "import defence.detector as detector\n",
    "x_train_adv = adv_crafter.generate(x_train[:500]) \n",
    "dmodel = detector.build_detector(model)\n",
    "detector.train(dmodel, x_train[:500], x_train_adv)\n",
    "detector.result(dmodel, x_test, x_test_adv)"
   ]
  },
  {
   "cell_type": "code",
   "execution_count": null,
   "metadata": {},
   "outputs": [],
   "source": []
  },
  {
   "cell_type": "markdown",
   "metadata": {},
   "source": [
    "## Extension"
   ]
  },
  {
   "cell_type": "code",
   "execution_count": 7,
   "metadata": {},
   "outputs": [],
   "source": [
    "from dynamic_deepfool import DynamicDeepFool"
   ]
  },
  {
   "cell_type": "code",
   "execution_count": 8,
   "metadata": {},
   "outputs": [
    {
     "name": "stderr",
     "output_type": "stream",
     "text": [
      "[INFO] Create DeepFool attack\n",
      "[INFO] Craft attack on test examples\n",
      "[WARNING] Targeted model should output logits, not probabilities for predictions.\n",
      "DeepFool: 100%|██████████| 500/500 [01:33<00:00,  5.34it/s]\n",
      "[INFO] DeepFool attack success rate: 99.80%\n"
     ]
    }
   ],
   "source": [
    "logger.info(\"Create DynamicDeepFool attack\")\n",
    "attacker = DynamicDeepFool(classifier)\n",
    "logger.info(\"Craft attack on test examples\")\n",
    "x_test_adv = attacker.generate(x_test[:adv_num])\n",
    "\n",
    "\n",
    "x_test_adv_pred = np.argmax(classifier.predict(x_test_adv), axis=1)\n",
    "nb_correct_adv_pred = np.sum(x_test_adv_pred == np.argmax(y_test[:adv_num], axis=1))\n",
    "\n",
    "print(f\"Adversarial test data (first {adv_num} images):\")\n",
    "print(\"Correctly classified: {}\".format(nb_correct_adv_pred))\n",
    "print(\"Incorrectly classified: {}\".format(adv_num-nb_correct_adv_pred))\n",
    "# nb_preb_as_tar = np.count_nonzero(x_test_adv_pred == np.argmax(y_test[:adv_num], axis=1)[0])\n",
    "# print(f\"Classified as targeted label: {nb_preb_as_tar}\\n\\n\")\n",
    "\n",
    "print('Predicted label:', x_test_adv_pred)\n",
    "print('True label:', np.argmax(y_test[:adv_num], axis=1))"
   ]
  },
  {
   "cell_type": "code",
   "execution_count": null,
   "metadata": {},
   "outputs": [],
   "source": []
  }
 ],
 "metadata": {
  "kernelspec": {
   "display_name": "Python 3",
   "language": "python",
   "name": "python3"
  },
  "language_info": {
   "codemirror_mode": {
    "name": "ipython",
    "version": 3
   },
   "file_extension": ".py",
   "mimetype": "text/x-python",
   "name": "python",
   "nbconvert_exporter": "python",
   "pygments_lexer": "ipython3",
   "version": "3.7.5"
  }
 },
 "nbformat": 4,
 "nbformat_minor": 4
}
